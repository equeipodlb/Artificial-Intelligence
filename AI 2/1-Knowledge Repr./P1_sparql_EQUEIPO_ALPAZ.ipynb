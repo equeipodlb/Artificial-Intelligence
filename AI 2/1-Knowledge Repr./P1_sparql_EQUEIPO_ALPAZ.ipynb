{
 "cells": [
  {
   "cell_type": "markdown",
   "metadata": {
    "id": "71I5krFqJpcc"
   },
   "source": [
    "# Práctica 3: Representación del conocimiento\n",
    "\n",
    "__Fecha de entrega: 23 de febrero de 2023__\n",
    "\n",
    "El objetivo de esta práctica es aplicar los conceptos teóricos vistos en clase en el módulo de Representación de conocimiento. La práctica consta de un único notebook que se entregará en la tarea de entrega habilitada en el Campus  Virtual.\n",
    "\n",
    "Cada consulta debe contener breves comentarios que expliquen cada tripleta. __No se valorarán consultas sin explicaciones__."
   ]
  },
  {
   "cell_type": "markdown",
   "metadata": {
    "id": "cRisD8zH640r"
   },
   "source": [
    "__Número de grupo: XX__\n",
    "\n",
    "__Nombres de los estudiantes: ALEJANDRO PAZ OLALLA y ENRIQUE QUEIPO DE LLANO__"
   ]
  },
  {
   "cell_type": "markdown",
   "metadata": {
    "id": "cdP69_AXJpcg"
   },
   "source": [
    "## Consultas SPARQL sobre Wikidata.\n",
    "\n",
    "En esta práctica vamos a usar el [punto de acceso SPARQL](https://query.wikidata.org/) de Wikidata para contestar las preguntas que se formulan a continuación. Cada pregunta debe ser respondida realizando una única consulta SPARQL. Para cada una de las entidades recuperadas se mostrará __tanto su identificador como su etiqueta__ (nombre de la entidad en lenguaje natural). \n",
    "\n",
    "Para cada una de las preguntas debes mostrar tanto la consulta como la respuesta obtenida. Si lo consideras necesario, puedes añadir celdas adicionales en formato _Markdown_ para explicar decisiones que hayas tomado al crear la consulta o cualquier otro dato que consideres interesante.\n",
    " \n",
    "Para resolver estas consultas puedes usar __dos recursos que te recomendamos consultar__ son:\n",
    "\n",
    "- [Este tutorial de SPARQL](https://www.wikidata.org/wiki/Wikidata:SPARQL_tutorial).\n",
    "- [Esta recopilación de ejemplos](https://www.wikidata.org/wiki/Wikidata:SPARQL_query_service/queries/examples)"
   ]
  },
  {
   "cell_type": "code",
   "execution_count": 1,
   "metadata": {
    "colab": {
     "base_uri": "https://localhost:8080/"
    },
    "executionInfo": {
     "elapsed": 9672,
     "status": "ok",
     "timestamp": 1675267954122,
     "user": {
      "displayName": "Ruben Fuentes-Fernandez",
      "userId": "00594856101550945388"
     },
     "user_tz": -60
    },
    "id": "2d-o4QLKiBpq",
    "outputId": "4f50f8b3-b1a9-48de-dced-6d7530965457"
   },
   "outputs": [
    {
     "name": "stdout",
     "output_type": "stream",
     "text": [
      "Defaulting to user installation because normal site-packages is not writeable\n",
      "Collecting wdsparql\n",
      "  Downloading wdsparql-0.0.3-py3-none-any.whl (5.0 kB)\n",
      "Requirement already satisfied: requests>=2.20 in c:\\software\\programacion\\python\\anaconda3\\lib\\site-packages (from wdsparql) (2.28.1)\n",
      "Requirement already satisfied: ipython>=7.0.0 in c:\\software\\programacion\\python\\anaconda3\\lib\\site-packages (from wdsparql) (8.2.0)\n",
      "Requirement already satisfied: pandas>=1.1 in c:\\software\\programacion\\python\\anaconda3\\lib\\site-packages (from wdsparql) (1.4.3)\n",
      "Requirement already satisfied: prompt-toolkit!=3.0.0,!=3.0.1,<3.1.0,>=2.0.0 in c:\\software\\programacion\\python\\anaconda3\\lib\\site-packages (from ipython>=7.0.0->wdsparql) (3.0.20)\n",
      "Requirement already satisfied: backcall in c:\\software\\programacion\\python\\anaconda3\\lib\\site-packages (from ipython>=7.0.0->wdsparql) (0.2.0)\n",
      "Requirement already satisfied: pickleshare in c:\\software\\programacion\\python\\anaconda3\\lib\\site-packages (from ipython>=7.0.0->wdsparql) (0.7.5)\n",
      "Requirement already satisfied: stack-data in c:\\software\\programacion\\python\\anaconda3\\lib\\site-packages (from ipython>=7.0.0->wdsparql) (0.2.0)\n",
      "Requirement already satisfied: setuptools>=18.5 in c:\\software\\programacion\\python\\anaconda3\\lib\\site-packages (from ipython>=7.0.0->wdsparql) (61.2.0)\n",
      "Requirement already satisfied: jedi>=0.16 in c:\\software\\programacion\\python\\anaconda3\\lib\\site-packages (from ipython>=7.0.0->wdsparql) (0.18.1)\n",
      "Requirement already satisfied: matplotlib-inline in c:\\software\\programacion\\python\\anaconda3\\lib\\site-packages (from ipython>=7.0.0->wdsparql) (0.1.2)\n",
      "Requirement already satisfied: colorama in c:\\software\\programacion\\python\\anaconda3\\lib\\site-packages (from ipython>=7.0.0->wdsparql) (0.4.4)\n",
      "Requirement already satisfied: traitlets>=5 in c:\\software\\programacion\\python\\anaconda3\\lib\\site-packages (from ipython>=7.0.0->wdsparql) (5.1.1)\n",
      "Requirement already satisfied: pygments>=2.4.0 in c:\\software\\programacion\\python\\anaconda3\\lib\\site-packages (from ipython>=7.0.0->wdsparql) (2.11.2)\n",
      "Requirement already satisfied: decorator in c:\\software\\programacion\\python\\anaconda3\\lib\\site-packages (from ipython>=7.0.0->wdsparql) (5.1.1)\n",
      "Requirement already satisfied: parso<0.9.0,>=0.8.0 in c:\\software\\programacion\\python\\anaconda3\\lib\\site-packages (from jedi>=0.16->ipython>=7.0.0->wdsparql) (0.8.3)\n",
      "Requirement already satisfied: pytz>=2020.1 in c:\\software\\programacion\\python\\anaconda3\\lib\\site-packages (from pandas>=1.1->wdsparql) (2021.3)\n",
      "Requirement already satisfied: python-dateutil>=2.8.1 in c:\\software\\programacion\\python\\anaconda3\\lib\\site-packages (from pandas>=1.1->wdsparql) (2.8.2)\n",
      "Requirement already satisfied: numpy>=1.18.5 in c:\\software\\programacion\\python\\anaconda3\\lib\\site-packages (from pandas>=1.1->wdsparql) (1.22.4)\n",
      "Requirement already satisfied: wcwidth in c:\\software\\programacion\\python\\anaconda3\\lib\\site-packages (from prompt-toolkit!=3.0.0,!=3.0.1,<3.1.0,>=2.0.0->ipython>=7.0.0->wdsparql) (0.2.5)\n",
      "Requirement already satisfied: six>=1.5 in c:\\software\\programacion\\python\\anaconda3\\lib\\site-packages (from python-dateutil>=2.8.1->pandas>=1.1->wdsparql) (1.16.0)\n",
      "Requirement already satisfied: charset-normalizer<3,>=2 in c:\\software\\programacion\\python\\anaconda3\\lib\\site-packages (from requests>=2.20->wdsparql) (2.0.4)\n",
      "Requirement already satisfied: certifi>=2017.4.17 in c:\\software\\programacion\\python\\anaconda3\\lib\\site-packages (from requests>=2.20->wdsparql) (2021.10.8)\n",
      "Requirement already satisfied: urllib3<1.27,>=1.21.1 in c:\\software\\programacion\\python\\anaconda3\\lib\\site-packages (from requests>=2.20->wdsparql) (1.26.10)\n",
      "Requirement already satisfied: idna<4,>=2.5 in c:\\software\\programacion\\python\\anaconda3\\lib\\site-packages (from requests>=2.20->wdsparql) (3.3)\n",
      "Requirement already satisfied: executing in c:\\software\\programacion\\python\\anaconda3\\lib\\site-packages (from stack-data->ipython>=7.0.0->wdsparql) (0.8.3)\n",
      "Requirement already satisfied: pure-eval in c:\\software\\programacion\\python\\anaconda3\\lib\\site-packages (from stack-data->ipython>=7.0.0->wdsparql) (0.2.2)\n",
      "Requirement already satisfied: asttokens in c:\\software\\programacion\\python\\anaconda3\\lib\\site-packages (from stack-data->ipython>=7.0.0->wdsparql) (2.0.5)\n",
      "Installing collected packages: wdsparql\n",
      "Successfully installed wdsparql-0.0.3\n"
     ]
    }
   ],
   "source": [
    "## Lo primero sería instalar en tu entorno de Python wdsparql\n",
    "## Si no lo tienes instalado, puedes hacerlo desde el notebook\n",
    "import sys\n",
    "\n",
    "!{sys.executable} -m pip install wdsparql\n",
    "\n",
    "# Asumismos instalado wdsparql\n",
    "%load_ext autoreload\n",
    "%load_ext wdsparql\n",
    "%autoreload 2"
   ]
  },
  {
   "cell_type": "markdown",
   "metadata": {
    "id": "-BaEde9j6405"
   },
   "source": [
    "### Ejemplo\n",
    "\n",
    "Recuperar todas las instancias directas de la clase [Cabra (Q2934)](https://www.wikidata.org/wiki/Q2934) que aparecen en la base de conocimiento."
   ]
  },
  {
   "cell_type": "code",
   "execution_count": 2,
   "metadata": {
    "colab": {
     "base_uri": "https://localhost:8080/",
     "height": 300
    },
    "executionInfo": {
     "elapsed": 259,
     "status": "ok",
     "timestamp": 1675267956554,
     "user": {
      "displayName": "Ruben Fuentes-Fernandez",
      "userId": "00594856101550945388"
     },
     "user_tz": -60
    },
    "id": "Oo7OLo3I6409",
    "outputId": "c2ce7de9-7935-4bf3-cca2-04ed301316c6"
   },
   "outputs": [
    {
     "data": {
      "text/html": [
       "<div>\n",
       "<style scoped>\n",
       "    .dataframe tbody tr th:only-of-type {\n",
       "        vertical-align: middle;\n",
       "    }\n",
       "\n",
       "    .dataframe tbody tr th {\n",
       "        vertical-align: top;\n",
       "    }\n",
       "\n",
       "    .dataframe thead th {\n",
       "        text-align: right;\n",
       "    }\n",
       "</style>\n",
       "<table border=\"1\" class=\"dataframe\">\n",
       "  <thead>\n",
       "    <tr style=\"text-align: right;\">\n",
       "      <th></th>\n",
       "      <th>item</th>\n",
       "      <th>itemLabel</th>\n",
       "    </tr>\n",
       "  </thead>\n",
       "  <tbody>\n",
       "    <tr>\n",
       "      <th>0</th>\n",
       "      <td><a href=\"http://www.wikidata.org/entity/Q151345\" target=\"_blank\">http://www.wikidata.org/entity/Q151345</a></td>\n",
       "      <td>Billygoat Hennes</td>\n",
       "    </tr>\n",
       "    <tr>\n",
       "      <th>1</th>\n",
       "      <td><a href=\"http://www.wikidata.org/entity/Q3569037\" target=\"_blank\">http://www.wikidata.org/entity/Q3569037</a></td>\n",
       "      <td>William Windsor</td>\n",
       "    </tr>\n",
       "    <tr>\n",
       "      <th>2</th>\n",
       "      <td><a href=\"http://www.wikidata.org/entity/Q13050139\" target=\"_blank\">http://www.wikidata.org/entity/Q13050139</a></td>\n",
       "      <td>Q13050139</td>\n",
       "    </tr>\n",
       "    <tr>\n",
       "      <th>3</th>\n",
       "      <td><a href=\"http://www.wikidata.org/entity/Q23003932\" target=\"_blank\">http://www.wikidata.org/entity/Q23003932</a></td>\n",
       "      <td>His Whiskers</td>\n",
       "    </tr>\n",
       "    <tr>\n",
       "      <th>4</th>\n",
       "      <td><a href=\"http://www.wikidata.org/entity/Q24287064\" target=\"_blank\">http://www.wikidata.org/entity/Q24287064</a></td>\n",
       "      <td>Taffy</td>\n",
       "    </tr>\n",
       "    <tr>\n",
       "      <th>5</th>\n",
       "      <td><a href=\"http://www.wikidata.org/entity/Q41239734\" target=\"_blank\">http://www.wikidata.org/entity/Q41239734</a></td>\n",
       "      <td>Lance Corporal Shenkin III</td>\n",
       "    </tr>\n",
       "    <tr>\n",
       "      <th>6</th>\n",
       "      <td><a href=\"http://www.wikidata.org/entity/Q41240892\" target=\"_blank\">http://www.wikidata.org/entity/Q41240892</a></td>\n",
       "      <td>Lance Corporal Shenkin II</td>\n",
       "    </tr>\n",
       "    <tr>\n",
       "      <th>7</th>\n",
       "      <td><a href=\"http://www.wikidata.org/entity/Q41241416\" target=\"_blank\">http://www.wikidata.org/entity/Q41241416</a></td>\n",
       "      <td>Lance Corporal Shenkin I</td>\n",
       "    </tr>\n",
       "  </tbody>\n",
       "</table>\n",
       "</div>"
      ],
      "text/plain": [
       "<IPython.core.display.HTML object>"
      ]
     },
     "execution_count": 2,
     "metadata": {},
     "output_type": "execute_result"
    }
   ],
   "source": [
    "%%wdsparql\n",
    "SELECT ?item ?itemLabel \n",
    "WHERE \n",
    "{\n",
    "  ?item wdt:P31 wd:Q2934.  # instancias directas de la clase Cabra\n",
    "  SERVICE wikibase:label { bd:serviceParam wikibase:language \"en\". }\n",
    "}"
   ]
  },
  {
   "cell_type": "markdown",
   "metadata": {
    "id": "RUIC5ukV641D"
   },
   "source": [
    "### Consulta 1\n",
    "\n",
    "[U2 (Q396)](https://www.wikidata.org/wiki/Q396) es una banda de rock con una larga trayectoria y numerosos éxitos. \n",
    "\n",
    "Vamos a comenzar por averiguar su fecha y lugar de formación (localidad y país)."
   ]
  },
  {
   "cell_type": "code",
   "execution_count": 24,
   "metadata": {
    "id": "ZzK-3l-5641G"
   },
   "outputs": [
    {
     "data": {
      "text/html": [
       "<div>\n",
       "<style scoped>\n",
       "    .dataframe tbody tr th:only-of-type {\n",
       "        vertical-align: middle;\n",
       "    }\n",
       "\n",
       "    .dataframe tbody tr th {\n",
       "        vertical-align: top;\n",
       "    }\n",
       "\n",
       "    .dataframe thead th {\n",
       "        text-align: right;\n",
       "    }\n",
       "</style>\n",
       "<table border=\"1\" class=\"dataframe\">\n",
       "  <thead>\n",
       "    <tr style=\"text-align: right;\">\n",
       "      <th></th>\n",
       "      <th>country</th>\n",
       "      <th>countryLabel</th>\n",
       "      <th>date</th>\n",
       "      <th>location</th>\n",
       "      <th>locationLabel</th>\n",
       "    </tr>\n",
       "  </thead>\n",
       "  <tbody>\n",
       "    <tr>\n",
       "      <th>0</th>\n",
       "      <td><a href=\"http://www.wikidata.org/entity/Q27\" target=\"_blank\">http://www.wikidata.org/entity/Q27</a></td>\n",
       "      <td>Republic of Ireland</td>\n",
       "      <td>1976-01-01T00:00:00Z</td>\n",
       "      <td><a href=\"http://www.wikidata.org/entity/Q1761\" target=\"_blank\">http://www.wikidata.org/entity/Q1761</a></td>\n",
       "      <td>Dublin</td>\n",
       "    </tr>\n",
       "  </tbody>\n",
       "</table>\n",
       "</div>"
      ],
      "text/plain": [
       "<IPython.core.display.HTML object>"
      ]
     },
     "execution_count": 24,
     "metadata": {},
     "output_type": "execute_result"
    }
   ],
   "source": [
    "%%wdsparql\n",
    "SELECT ?country ?countryLabel ?date ?location ?locationLabel\n",
    "WHERE \n",
    "{\n",
    "  wd:Q396 wdt:P17 ?country. \n",
    "  wd:Q396 wdt:P571 ?date.\n",
    "  wd:Q396 wdt:P740 ?location.\n",
    "  SERVICE wikibase:label { bd:serviceParam wikibase:language \"en\". }\n",
    "}"
   ]
  },
  {
   "cell_type": "markdown",
   "metadata": {
    "id": "ABNbLcIn641N"
   },
   "source": [
    "### Consulta 2\n",
    "\n",
    "A continuación vamos a averiguar todos los miembros que se le conocen en la base de conocimiento. Queremos obtener los resultados ordenados alfabéticamente por su apellido e incluir su nombre completo y el artístico.\n",
    "\n",
    "Puede que la siguiente información sobre el uso de [OPTIONAL](https://www.wikidata.org/wiki/Wikidata:SPARQL_tutorial#OPTIONAL) te resulte útil."
   ]
  },
  {
   "cell_type": "code",
   "execution_count": 35,
   "metadata": {
    "id": "LQpYTbyC641R"
   },
   "outputs": [
    {
     "data": {
      "text/html": [
       "<div>\n",
       "<style scoped>\n",
       "    .dataframe tbody tr th:only-of-type {\n",
       "        vertical-align: middle;\n",
       "    }\n",
       "\n",
       "    .dataframe tbody tr th {\n",
       "        vertical-align: top;\n",
       "    }\n",
       "\n",
       "    .dataframe thead th {\n",
       "        text-align: right;\n",
       "    }\n",
       "</style>\n",
       "<table border=\"1\" class=\"dataframe\">\n",
       "  <thead>\n",
       "    <tr style=\"text-align: right;\">\n",
       "      <th></th>\n",
       "      <th>member</th>\n",
       "      <th>memberLabel</th>\n",
       "      <th>full_name</th>\n",
       "      <th>artistic</th>\n",
       "      <th>surnameLabel</th>\n",
       "    </tr>\n",
       "  </thead>\n",
       "  <tbody>\n",
       "    <tr>\n",
       "      <th>0</th>\n",
       "      <td><a href=\"http://www.wikidata.org/entity/Q175907\" target=\"_blank\">http://www.wikidata.org/entity/Q175907</a></td>\n",
       "      <td>Adam Clayton</td>\n",
       "      <td>Adam Charles Clayton</td>\n",
       "      <td>None</td>\n",
       "      <td>Clayton</td>\n",
       "    </tr>\n",
       "    <tr>\n",
       "      <th>1</th>\n",
       "      <td><a href=\"http://www.wikidata.org/entity/Q714845\" target=\"_blank\">http://www.wikidata.org/entity/Q714845</a></td>\n",
       "      <td>The Edge</td>\n",
       "      <td>David Howell Evans</td>\n",
       "      <td>The Edge</td>\n",
       "      <td>Evans</td>\n",
       "    </tr>\n",
       "    <tr>\n",
       "      <th>2</th>\n",
       "      <td><a href=\"http://www.wikidata.org/entity/Q2136220\" target=\"_blank\">http://www.wikidata.org/entity/Q2136220</a></td>\n",
       "      <td>Dik Evans</td>\n",
       "      <td>None</td>\n",
       "      <td>None</td>\n",
       "      <td>Evans</td>\n",
       "    </tr>\n",
       "    <tr>\n",
       "      <th>3</th>\n",
       "      <td><a href=\"http://www.wikidata.org/entity/Q834621\" target=\"_blank\">http://www.wikidata.org/entity/Q834621</a></td>\n",
       "      <td>Bono</td>\n",
       "      <td>Paul David Hewson</td>\n",
       "      <td>Bono</td>\n",
       "      <td>Hewson</td>\n",
       "    </tr>\n",
       "    <tr>\n",
       "      <th>4</th>\n",
       "      <td><a href=\"http://www.wikidata.org/entity/Q814065\" target=\"_blank\">http://www.wikidata.org/entity/Q814065</a></td>\n",
       "      <td>Larry Mullen Jr.</td>\n",
       "      <td>Larry Mullen Jr</td>\n",
       "      <td>None</td>\n",
       "      <td>Mullen</td>\n",
       "    </tr>\n",
       "  </tbody>\n",
       "</table>\n",
       "</div>"
      ],
      "text/plain": [
       "<IPython.core.display.HTML object>"
      ]
     },
     "execution_count": 35,
     "metadata": {},
     "output_type": "execute_result"
    }
   ],
   "source": [
    "%%wdsparql\n",
    "SELECT ?member ?memberLabel ?full_name ?artistic ?surnameLabel\n",
    "WHERE \n",
    "{\n",
    "  wd:Q396 wdt:P527 ?member.\n",
    "  OPTIONAL {?member wdt:P1477 ?full_name}\n",
    "  ?member wdt:P734 ?surname\n",
    "  OPTIONAL {?member wdt:P742 ?artistic}\n",
    "  SERVICE wikibase:label { bd:serviceParam wikibase:language \"en\". }\n",
    "}\n",
    "ORDER BY ASC(?surnameLabel)"
   ]
  },
  {
   "cell_type": "markdown",
   "metadata": {
    "id": "t7N7FGPs641n"
   },
   "source": [
    "Es importante usar dos OPTIONAL distintos para que se muestren todos los miembros, tengan o no pseudónimo y nombre completo asociados."
   ]
  },
  {
   "cell_type": "markdown",
   "metadata": {
    "id": "2aXlt0c0641U"
   },
   "source": [
    "### Consulta 3\n",
    "\n",
    "[Bono (Q834621)](http://www.wikidata.org/entity/Q834621) es el cantante de la banda. Además de cantante, ha tenido muchas otras ocupaciones. ¿Cuáles de ellas están relacionadas directamente con el mundo del [arte (Q483501](https://www.wikidata.org/wiki/Q483501)? Ten en cuenta que la jerarquía de ocupaciones puede ser muy sofisticada.\n",
    "\n",
    "Puede que [esto](https://www.wikidata.org/wiki/Wikidata:SPARQL_tutorial#Property_paths) te resulte útil."
   ]
  },
  {
   "cell_type": "code",
   "execution_count": 38,
   "metadata": {
    "id": "YmkL2A97641X"
   },
   "outputs": [
    {
     "data": {
      "text/html": [
       "<div>\n",
       "<style scoped>\n",
       "    .dataframe tbody tr th:only-of-type {\n",
       "        vertical-align: middle;\n",
       "    }\n",
       "\n",
       "    .dataframe tbody tr th {\n",
       "        vertical-align: top;\n",
       "    }\n",
       "\n",
       "    .dataframe thead th {\n",
       "        text-align: right;\n",
       "    }\n",
       "</style>\n",
       "<table border=\"1\" class=\"dataframe\">\n",
       "  <thead>\n",
       "    <tr style=\"text-align: right;\">\n",
       "      <th></th>\n",
       "      <th>ocupation</th>\n",
       "      <th>ocupationLabel</th>\n",
       "    </tr>\n",
       "  </thead>\n",
       "  <tbody>\n",
       "    <tr>\n",
       "      <th>0</th>\n",
       "      <td><a href=\"http://www.wikidata.org/entity/Q28389\" target=\"_blank\">http://www.wikidata.org/entity/Q28389</a></td>\n",
       "      <td>screenwriter</td>\n",
       "    </tr>\n",
       "    <tr>\n",
       "      <th>1</th>\n",
       "      <td><a href=\"http://www.wikidata.org/entity/Q33999\" target=\"_blank\">http://www.wikidata.org/entity/Q33999</a></td>\n",
       "      <td>actor</td>\n",
       "    </tr>\n",
       "    <tr>\n",
       "      <th>2</th>\n",
       "      <td><a href=\"http://www.wikidata.org/entity/Q488205\" target=\"_blank\">http://www.wikidata.org/entity/Q488205</a></td>\n",
       "      <td>singer-songwriter</td>\n",
       "    </tr>\n",
       "    <tr>\n",
       "      <th>3</th>\n",
       "      <td><a href=\"http://www.wikidata.org/entity/Q855091\" target=\"_blank\">http://www.wikidata.org/entity/Q855091</a></td>\n",
       "      <td>guitarist</td>\n",
       "    </tr>\n",
       "  </tbody>\n",
       "</table>\n",
       "</div>"
      ],
      "text/plain": [
       "<IPython.core.display.HTML object>"
      ]
     },
     "execution_count": 38,
     "metadata": {},
     "output_type": "execute_result"
    }
   ],
   "source": [
    "%%wdsparql\n",
    "SELECT ?ocupation ?ocupationLabel\n",
    "WHERE\n",
    "{\n",
    "  wd:Q834621 wdt:P106 ?ocupation.\n",
    "  ?ocupation wdt:P279+ wd:Q483501\n",
    "  SERVICE wikibase:label { bd:serviceParam wikibase:language \"en\". }\n",
    "}"
   ]
  },
  {
   "cell_type": "markdown",
   "metadata": {
    "id": "SwZlh2ht641a"
   },
   "source": [
    "Si no añadimos el `+` a la relación `wdt:P279` muchas de las profesiones no se recuperan."
   ]
  },
  {
   "cell_type": "markdown",
   "metadata": {
    "id": "9ncKC-pD641d"
   },
   "source": [
    "### Consulta 4\n",
    "\n",
    "Bono se ha casado una vez, con Ali Hewson, con la que tiene varios hijos. Queremos conocer los nombres de esos hijos y sus fechas de nacimiento. Los resultados deben aparecer ordenados cronológicamente."
   ]
  },
  {
   "cell_type": "code",
   "execution_count": 44,
   "metadata": {
    "id": "-plinTNQ641f"
   },
   "outputs": [
    {
     "data": {
      "text/html": [
       "<div>\n",
       "<style scoped>\n",
       "    .dataframe tbody tr th:only-of-type {\n",
       "        vertical-align: middle;\n",
       "    }\n",
       "\n",
       "    .dataframe tbody tr th {\n",
       "        vertical-align: top;\n",
       "    }\n",
       "\n",
       "    .dataframe thead th {\n",
       "        text-align: right;\n",
       "    }\n",
       "</style>\n",
       "<table border=\"1\" class=\"dataframe\">\n",
       "  <thead>\n",
       "    <tr style=\"text-align: right;\">\n",
       "      <th></th>\n",
       "      <th>child</th>\n",
       "      <th>childLabel</th>\n",
       "      <th>birthDate</th>\n",
       "    </tr>\n",
       "  </thead>\n",
       "  <tbody>\n",
       "    <tr>\n",
       "      <th>0</th>\n",
       "      <td><a href=\"http://www.wikidata.org/entity/Q3735288\" target=\"_blank\">http://www.wikidata.org/entity/Q3735288</a></td>\n",
       "      <td>Eve Hewson</td>\n",
       "      <td>1991-07-07T00:00:00Z</td>\n",
       "    </tr>\n",
       "    <tr>\n",
       "      <th>1</th>\n",
       "      <td><a href=\"http://www.wikidata.org/entity/Q82782709\" target=\"_blank\">http://www.wikidata.org/entity/Q82782709</a></td>\n",
       "      <td>Elijah Hewson</td>\n",
       "      <td>1999-08-18T00:00:00Z</td>\n",
       "    </tr>\n",
       "  </tbody>\n",
       "</table>\n",
       "</div>"
      ],
      "text/plain": [
       "<IPython.core.display.HTML object>"
      ]
     },
     "execution_count": 44,
     "metadata": {},
     "output_type": "execute_result"
    }
   ],
   "source": [
    "%%wdsparql\n",
    "SELECT ?child ?childLabel ?birthDate\n",
    "WHERE\n",
    "{\n",
    "  ?child wdt:P22 wd:Q834621.\n",
    "  ?child wdt:P25 wd:Q777287.\n",
    "  ?child wdt:P569 ?birthDate\n",
    "  SERVICE wikibase:label { bd:serviceParam wikibase:language \"en\". }\n",
    "}\n",
    "ORDER BY ?birthDate"
   ]
  },
  {
   "cell_type": "markdown",
   "metadata": {
    "id": "H4hEfr0q641j"
   },
   "source": [
    "### Consulta 5\n",
    "\n",
    "Bono ha recibido muchos premios a lo largo de su carrera. Queremos obtener la lista de premios y, para cada uno de ellos, la fecha en la que fue premiado (si está disponible). Los resultados se deben mostrar ordenado por fecha.\n",
    "\n",
    "Para resolver esta consulta necesitarás acceder a los cualificadores de nodos sentencia y necesitarás entender los prefijos que usa Wikidata. Puede que [esto](https://www.wikidata.org/wiki/Wikidata:SPARQL_tutorial#Qualifiers) te resulte útil."
   ]
  },
  {
   "cell_type": "code",
   "execution_count": 45,
   "metadata": {
    "id": "E1dLYOhw641k"
   },
   "outputs": [
    {
     "data": {
      "text/html": [
       "<div>\n",
       "<style scoped>\n",
       "    .dataframe tbody tr th:only-of-type {\n",
       "        vertical-align: middle;\n",
       "    }\n",
       "\n",
       "    .dataframe tbody tr th {\n",
       "        vertical-align: top;\n",
       "    }\n",
       "\n",
       "    .dataframe thead th {\n",
       "        text-align: right;\n",
       "    }\n",
       "</style>\n",
       "<table border=\"1\" class=\"dataframe\">\n",
       "  <thead>\n",
       "    <tr style=\"text-align: right;\">\n",
       "      <th></th>\n",
       "      <th>award</th>\n",
       "      <th>awardLabel</th>\n",
       "      <th>awardedDate</th>\n",
       "    </tr>\n",
       "  </thead>\n",
       "  <tbody>\n",
       "    <tr>\n",
       "      <th>0</th>\n",
       "      <td><a href=\"http://www.wikidata.org/entity/Q41254\" target=\"_blank\">http://www.wikidata.org/entity/Q41254</a></td>\n",
       "      <td>Grammy Awards</td>\n",
       "      <td>None</td>\n",
       "    </tr>\n",
       "    <tr>\n",
       "      <th>1</th>\n",
       "      <td><a href=\"http://www.wikidata.org/entity/Q52382875\" target=\"_blank\">http://www.wikidata.org/entity/Q52382875</a></td>\n",
       "      <td>Fellow of the American Academy of Arts and Sci...</td>\n",
       "      <td>None</td>\n",
       "    </tr>\n",
       "    <tr>\n",
       "      <th>2</th>\n",
       "      <td><a href=\"http://www.wikidata.org/entity/Q326482\" target=\"_blank\">http://www.wikidata.org/entity/Q326482</a></td>\n",
       "      <td>MusiCares Person of the Year</td>\n",
       "      <td>2003-01-01T00:00:00Z</td>\n",
       "    </tr>\n",
       "    <tr>\n",
       "      <th>3</th>\n",
       "      <td><a href=\"http://www.wikidata.org/entity/Q10855271\" target=\"_blank\">http://www.wikidata.org/entity/Q10855271</a></td>\n",
       "      <td>Knight of the Legion of Honour</td>\n",
       "      <td>2003-01-01T00:00:00Z</td>\n",
       "    </tr>\n",
       "    <tr>\n",
       "      <th>4</th>\n",
       "      <td><a href=\"http://www.wikidata.org/entity/Q23014208\" target=\"_blank\">http://www.wikidata.org/entity/Q23014208</a></td>\n",
       "      <td>TED Prize</td>\n",
       "      <td>2005-01-01T00:00:00Z</td>\n",
       "    </tr>\n",
       "    <tr>\n",
       "      <th>5</th>\n",
       "      <td><a href=\"http://www.wikidata.org/entity/Q179191\" target=\"_blank\">http://www.wikidata.org/entity/Q179191</a></td>\n",
       "      <td>Rock and Roll Hall of Fame</td>\n",
       "      <td>2005-01-01T00:00:00Z</td>\n",
       "    </tr>\n",
       "    <tr>\n",
       "      <th>6</th>\n",
       "      <td><a href=\"http://www.wikidata.org/entity/Q67155276\" target=\"_blank\">http://www.wikidata.org/entity/Q67155276</a></td>\n",
       "      <td>Officer of the Order of Liberty</td>\n",
       "      <td>2005-04-21T00:00:00Z</td>\n",
       "    </tr>\n",
       "    <tr>\n",
       "      <th>7</th>\n",
       "      <td><a href=\"http://www.wikidata.org/entity/Q207826\" target=\"_blank\">http://www.wikidata.org/entity/Q207826</a></td>\n",
       "      <td>Time Person of the Year</td>\n",
       "      <td>2005-12-19T00:00:00Z</td>\n",
       "    </tr>\n",
       "    <tr>\n",
       "      <th>8</th>\n",
       "      <td><a href=\"http://www.wikidata.org/entity/Q7182737\" target=\"_blank\">http://www.wikidata.org/entity/Q7182737</a></td>\n",
       "      <td>Philadelphia Liberty Medal</td>\n",
       "      <td>2007-01-01T00:00:00Z</td>\n",
       "    </tr>\n",
       "    <tr>\n",
       "      <th>9</th>\n",
       "      <td><a href=\"http://www.wikidata.org/entity/Q17011862\" target=\"_blank\">http://www.wikidata.org/entity/Q17011862</a></td>\n",
       "      <td>NAACP Image Award – Chairman's Award</td>\n",
       "      <td>2007-01-01T00:00:00Z</td>\n",
       "    </tr>\n",
       "    <tr>\n",
       "      <th>10</th>\n",
       "      <td><a href=\"http://www.wikidata.org/entity/Q104783495\" target=\"_blank\">http://www.wikidata.org/entity/Q104783495</a></td>\n",
       "      <td>Honorary Knight Commander of the Order of the ...</td>\n",
       "      <td>2007-01-01T00:00:00Z</td>\n",
       "    </tr>\n",
       "    <tr>\n",
       "      <th>11</th>\n",
       "      <td><a href=\"http://www.wikidata.org/entity/Q60658956\" target=\"_blank\">http://www.wikidata.org/entity/Q60658956</a></td>\n",
       "      <td>doctor honoris causa of Keiō University</td>\n",
       "      <td>2008-05-27T00:00:00Z</td>\n",
       "    </tr>\n",
       "    <tr>\n",
       "      <th>12</th>\n",
       "      <td><a href=\"http://www.wikidata.org/entity/Q6746404\" target=\"_blank\">http://www.wikidata.org/entity/Q6746404</a></td>\n",
       "      <td>Man of Peace</td>\n",
       "      <td>2008-12-13T00:00:00Z</td>\n",
       "    </tr>\n",
       "    <tr>\n",
       "      <th>13</th>\n",
       "      <td><a href=\"http://www.wikidata.org/entity/Q13452531\" target=\"_blank\">http://www.wikidata.org/entity/Q13452531</a></td>\n",
       "      <td>Commandeur des Arts et des Lettres</td>\n",
       "      <td>2013-07-16T00:00:00Z</td>\n",
       "    </tr>\n",
       "    <tr>\n",
       "      <th>14</th>\n",
       "      <td><a href=\"http://www.wikidata.org/entity/Q29017281\" target=\"_blank\">http://www.wikidata.org/entity/Q29017281</a></td>\n",
       "      <td>Order of Merit (Ukraine), 3rd class</td>\n",
       "      <td>2022-08-23T00:00:00Z</td>\n",
       "    </tr>\n",
       "  </tbody>\n",
       "</table>\n",
       "</div>"
      ],
      "text/plain": [
       "<IPython.core.display.HTML object>"
      ]
     },
     "execution_count": 45,
     "metadata": {},
     "output_type": "execute_result"
    }
   ],
   "source": [
    "%%wdsparql\n",
    "SELECT ?award ?awardLabel ?awardedDate\n",
    "WHERE\n",
    "{\n",
    "  wd:Q834621 p:P166 ?awardAndDate.\n",
    "  ?awardAndDate ps:P166 ?award. \n",
    "  OPTIONAL {?awardAndDate pq:P585 ?awardedDate}\n",
    "  SERVICE wikibase:label { bd:serviceParam wikibase:language \"en\". }\n",
    "}\n",
    "ORDER BY ?awardedDate"
   ]
  },
  {
   "cell_type": "markdown",
   "metadata": {
    "id": "L-dCbyzs641o"
   },
   "source": [
    "### Consulta 6\n",
    "\n",
    "Ahora queremos conocer todos los discos de U2 del tipo [albunes en directo (Q209939)](https://www.wikidata.org/wiki/Q209939) y cualquiera de sus subgéneros. Los resultados se deben mostrar ordenados por nombre e incluir el año de publicación."
   ]
  },
  {
   "cell_type": "code",
   "execution_count": null,
   "metadata": {
    "id": "yqPvbQkm641p"
   },
   "outputs": [],
   "source": []
  },
  {
   "cell_type": "markdown",
   "metadata": {
    "id": "fGRoLkcY641q"
   },
   "source": [
    "### Consulta 7\n",
    "\n",
    "Queremos saber si hay obras de U2 publicadas varias veces (en diferentes años). Para ello vamos a recuperar las obras de tipo [lanzamiento de un grupo (group release)](https://www.wikidata.org/wiki/Q108346082) pero mostrando también la fecha de publicación más antigua de cada una y el número de apariciones. Los resultados deben aparecer en orden cronológico.\n",
    "\n",
    "Para calcular la fecha correcta tendrás que agrupar las respuestas por album y aplicar una función de agregación sobre las fechas de lanzamiento. Puede que [esto](https://www.wikidata.org/wiki/Wikidata:SPARQL_tutorial#Grouping) te resulte útil."
   ]
  },
  {
   "cell_type": "code",
   "execution_count": null,
   "metadata": {
    "id": "HdgBwld4641r"
   },
   "outputs": [],
   "source": []
  },
  {
   "cell_type": "markdown",
   "metadata": {
    "id": "Ns1O-tVx641t"
   },
   "source": [
    "### Consulta 8\n",
    "\n",
    "U2 es sin duda un grupo con una larga trayectoria. ¿Cuántas discos ha lanzado? Vamos a considerar sólo instancias directas de [album de estudio (Q208569)](https://www.wikidata.org/wiki/Q208569)."
   ]
  },
  {
   "cell_type": "code",
   "execution_count": null,
   "metadata": {
    "id": "JAVzAARL641t"
   },
   "outputs": [],
   "source": []
  },
  {
   "cell_type": "markdown",
   "metadata": {
    "id": "1vZp0M0p641v"
   },
   "source": [
    "### Consulta 9\n",
    "\n",
    "Entre todos sus discos de estudio, queremos recuperar los títulos, fechas de lanzamiento y discográfica de los discos de la década de los 1990. Si alguna obra tiene varias fechas de publicación, se mostrará si alguna de ellas está dentro de ese periodo.\n",
    "\n",
    "Puede que [esto](https://www.wikidata.org/wiki/Wikidata:SPARQL_tutorial#FILTER) te resulte útil."
   ]
  },
  {
   "cell_type": "code",
   "execution_count": null,
   "metadata": {
    "id": "DMIMfyFE641w"
   },
   "outputs": [],
   "source": []
  },
  {
   "cell_type": "markdown",
   "metadata": {
    "id": "OEmfnG85641y"
   },
   "source": [
    "### Consulta 10\n",
    "\n",
    "¿Qué otros personajes famosos nacieron el mismo año que Bono y tiene su misma nacionalidad? Para cada uno de ellos muestra su nombre y ocupación. Muestra los resultados ordenados por nombre y fecha de nacimiento."
   ]
  },
  {
   "cell_type": "code",
   "execution_count": null,
   "metadata": {
    "id": "C4YG19AO641z"
   },
   "outputs": [],
   "source": []
  },
  {
   "cell_type": "markdown",
   "metadata": {
    "id": "cN4i-x3p6411"
   },
   "source": [
    "### Consulta 11\n",
    "\n",
    "¿Cuántos asertos hay sobre U2 en Wikidata? Ten en cuenta que puede aparece tanto como sujeto como objeto de cada tripleta."
   ]
  },
  {
   "cell_type": "code",
   "execution_count": null,
   "metadata": {
    "id": "h-I_P3DZ6411"
   },
   "outputs": [],
   "source": []
  },
  {
   "cell_type": "markdown",
   "metadata": {
    "id": "Z9rexjoF6414"
   },
   "source": [
    "__Fecha de las consultas: 21 de abril de 2022__"
   ]
  }
 ],
 "metadata": {
  "colab": {
   "provenance": []
  },
  "kernelspec": {
   "display_name": "Python 3 (ipykernel)",
   "language": "python",
   "name": "python3"
  },
  "language_info": {
   "codemirror_mode": {
    "name": "ipython",
    "version": 3
   },
   "file_extension": ".py",
   "mimetype": "text/x-python",
   "name": "python",
   "nbconvert_exporter": "python",
   "pygments_lexer": "ipython3",
   "version": "3.9.12"
  }
 },
 "nbformat": 4,
 "nbformat_minor": 1
}

{
  "cells": [
    {
      "cell_type": "markdown",
      "metadata": {
        "id": "tWxKyWD0Pjtx"
      },
      "source": [
        "Este notebook muestra cómo hacer procesamiento de lenguaje natural representando los textos mediante bolsas de palabras (es decir, vectores de términos) y usando técnicas cuantitativas. \n",
        "\n",
        "En él veremos cómo clasificar textos con algoritmos clásicos de aprendizaje automático. \n",
        "\n",
        "\n",
        "*Este notebook reutiliza y modifica el siguiente notebook [NLP Town](http://www.nlp.town) [disponible en github](https://github.com/nlptown/nlp-notebooks/blob/master/Traditional%20text%20classification%20with%20Scikit-learn.ipynb) y utiliza como referencia la siguiente web [Traditional Methods for Text Data](https://towardsdatascience.com/understanding-feature-engineering-part-3-traditional-methods-for-text-data-f6f7d70acd41)"
      ]
    },
    {
      "cell_type": "code",
      "execution_count": null,
      "metadata": {
        "id": "RN276m4HFZRv"
      },
      "outputs": [],
      "source": [
        "import pandas as pd\n",
        "import numpy as np\n",
        "import re\n",
        "import nltk\n",
        "import matplotlib.pyplot as plt\n",
        "\n",
        "%matplotlib inline"
      ]
    },
    {
      "cell_type": "markdown",
      "metadata": {
        "id": "0kH-0pwBFZRw"
      },
      "source": [
        "# Ejemplo de corpus de documentos\n"
      ]
    },
    {
      "cell_type": "code",
      "execution_count": null,
      "metadata": {
        "colab": {
          "base_uri": "https://localhost:8080/",
          "height": 300
        },
        "outputId": "b9d0e3e7-5375-4675-b559-bdcca70cfdf9",
        "id": "aHa_xeB9FZRw"
      },
      "outputs": [
        {
          "output_type": "execute_result",
          "data": {
            "text/plain": [
              "                                            Document Category\n",
              "0                     The sky is blue and beautiful.  weather\n",
              "1                  Love this blue and beautiful sky!  weather\n",
              "2       The quick brown fox jumps over the lazy dog.  animals\n",
              "3  A king's breakfast has sausages, ham, bacon, e...     food\n",
              "4        I love green eggs, ham, sausages and bacon!     food\n",
              "5   The brown fox is quick and the blue dog is lazy!  animals\n",
              "6  The sky is very blue and the sky is very beaut...  weather\n",
              "7        The dog is lazy but the brown fox is quick!  animals"
            ],
            "text/html": [
              "\n",
              "  <div id=\"df-d6104cee-5723-47f5-93c5-c5dcefcf9071\">\n",
              "    <div class=\"colab-df-container\">\n",
              "      <div>\n",
              "<style scoped>\n",
              "    .dataframe tbody tr th:only-of-type {\n",
              "        vertical-align: middle;\n",
              "    }\n",
              "\n",
              "    .dataframe tbody tr th {\n",
              "        vertical-align: top;\n",
              "    }\n",
              "\n",
              "    .dataframe thead th {\n",
              "        text-align: right;\n",
              "    }\n",
              "</style>\n",
              "<table border=\"1\" class=\"dataframe\">\n",
              "  <thead>\n",
              "    <tr style=\"text-align: right;\">\n",
              "      <th></th>\n",
              "      <th>Document</th>\n",
              "      <th>Category</th>\n",
              "    </tr>\n",
              "  </thead>\n",
              "  <tbody>\n",
              "    <tr>\n",
              "      <th>0</th>\n",
              "      <td>The sky is blue and beautiful.</td>\n",
              "      <td>weather</td>\n",
              "    </tr>\n",
              "    <tr>\n",
              "      <th>1</th>\n",
              "      <td>Love this blue and beautiful sky!</td>\n",
              "      <td>weather</td>\n",
              "    </tr>\n",
              "    <tr>\n",
              "      <th>2</th>\n",
              "      <td>The quick brown fox jumps over the lazy dog.</td>\n",
              "      <td>animals</td>\n",
              "    </tr>\n",
              "    <tr>\n",
              "      <th>3</th>\n",
              "      <td>A king's breakfast has sausages, ham, bacon, e...</td>\n",
              "      <td>food</td>\n",
              "    </tr>\n",
              "    <tr>\n",
              "      <th>4</th>\n",
              "      <td>I love green eggs, ham, sausages and bacon!</td>\n",
              "      <td>food</td>\n",
              "    </tr>\n",
              "    <tr>\n",
              "      <th>5</th>\n",
              "      <td>The brown fox is quick and the blue dog is lazy!</td>\n",
              "      <td>animals</td>\n",
              "    </tr>\n",
              "    <tr>\n",
              "      <th>6</th>\n",
              "      <td>The sky is very blue and the sky is very beaut...</td>\n",
              "      <td>weather</td>\n",
              "    </tr>\n",
              "    <tr>\n",
              "      <th>7</th>\n",
              "      <td>The dog is lazy but the brown fox is quick!</td>\n",
              "      <td>animals</td>\n",
              "    </tr>\n",
              "  </tbody>\n",
              "</table>\n",
              "</div>\n",
              "      <button class=\"colab-df-convert\" onclick=\"convertToInteractive('df-d6104cee-5723-47f5-93c5-c5dcefcf9071')\"\n",
              "              title=\"Convert this dataframe to an interactive table.\"\n",
              "              style=\"display:none;\">\n",
              "        \n",
              "  <svg xmlns=\"http://www.w3.org/2000/svg\" height=\"24px\"viewBox=\"0 0 24 24\"\n",
              "       width=\"24px\">\n",
              "    <path d=\"M0 0h24v24H0V0z\" fill=\"none\"/>\n",
              "    <path d=\"M18.56 5.44l.94 2.06.94-2.06 2.06-.94-2.06-.94-.94-2.06-.94 2.06-2.06.94zm-11 1L8.5 8.5l.94-2.06 2.06-.94-2.06-.94L8.5 2.5l-.94 2.06-2.06.94zm10 10l.94 2.06.94-2.06 2.06-.94-2.06-.94-.94-2.06-.94 2.06-2.06.94z\"/><path d=\"M17.41 7.96l-1.37-1.37c-.4-.4-.92-.59-1.43-.59-.52 0-1.04.2-1.43.59L10.3 9.45l-7.72 7.72c-.78.78-.78 2.05 0 2.83L4 21.41c.39.39.9.59 1.41.59.51 0 1.02-.2 1.41-.59l7.78-7.78 2.81-2.81c.8-.78.8-2.07 0-2.86zM5.41 20L4 18.59l7.72-7.72 1.47 1.35L5.41 20z\"/>\n",
              "  </svg>\n",
              "      </button>\n",
              "      \n",
              "  <style>\n",
              "    .colab-df-container {\n",
              "      display:flex;\n",
              "      flex-wrap:wrap;\n",
              "      gap: 12px;\n",
              "    }\n",
              "\n",
              "    .colab-df-convert {\n",
              "      background-color: #E8F0FE;\n",
              "      border: none;\n",
              "      border-radius: 50%;\n",
              "      cursor: pointer;\n",
              "      display: none;\n",
              "      fill: #1967D2;\n",
              "      height: 32px;\n",
              "      padding: 0 0 0 0;\n",
              "      width: 32px;\n",
              "    }\n",
              "\n",
              "    .colab-df-convert:hover {\n",
              "      background-color: #E2EBFA;\n",
              "      box-shadow: 0px 1px 2px rgba(60, 64, 67, 0.3), 0px 1px 3px 1px rgba(60, 64, 67, 0.15);\n",
              "      fill: #174EA6;\n",
              "    }\n",
              "\n",
              "    [theme=dark] .colab-df-convert {\n",
              "      background-color: #3B4455;\n",
              "      fill: #D2E3FC;\n",
              "    }\n",
              "\n",
              "    [theme=dark] .colab-df-convert:hover {\n",
              "      background-color: #434B5C;\n",
              "      box-shadow: 0px 1px 3px 1px rgba(0, 0, 0, 0.15);\n",
              "      filter: drop-shadow(0px 1px 2px rgba(0, 0, 0, 0.3));\n",
              "      fill: #FFFFFF;\n",
              "    }\n",
              "  </style>\n",
              "\n",
              "      <script>\n",
              "        const buttonEl =\n",
              "          document.querySelector('#df-d6104cee-5723-47f5-93c5-c5dcefcf9071 button.colab-df-convert');\n",
              "        buttonEl.style.display =\n",
              "          google.colab.kernel.accessAllowed ? 'block' : 'none';\n",
              "\n",
              "        async function convertToInteractive(key) {\n",
              "          const element = document.querySelector('#df-d6104cee-5723-47f5-93c5-c5dcefcf9071');\n",
              "          const dataTable =\n",
              "            await google.colab.kernel.invokeFunction('convertToInteractive',\n",
              "                                                     [key], {});\n",
              "          if (!dataTable) return;\n",
              "\n",
              "          const docLinkHtml = 'Like what you see? Visit the ' +\n",
              "            '<a target=\"_blank\" href=https://colab.research.google.com/notebooks/data_table.ipynb>data table notebook</a>'\n",
              "            + ' to learn more about interactive tables.';\n",
              "          element.innerHTML = '';\n",
              "          dataTable['output_type'] = 'display_data';\n",
              "          await google.colab.output.renderOutput(dataTable, element);\n",
              "          const docLink = document.createElement('div');\n",
              "          docLink.innerHTML = docLinkHtml;\n",
              "          element.appendChild(docLink);\n",
              "        }\n",
              "      </script>\n",
              "    </div>\n",
              "  </div>\n",
              "  "
            ]
          },
          "metadata": {},
          "execution_count": 2
        }
      ],
      "source": [
        "corpus = ['The sky is blue and beautiful.',\n",
        "          'Love this blue and beautiful sky!',\n",
        "          'The quick brown fox jumps over the lazy dog.',\n",
        "          \"A king's breakfast has sausages, ham, bacon, eggs, toast and beans\",\n",
        "          'I love green eggs, ham, sausages and bacon!',\n",
        "          'The brown fox is quick and the blue dog is lazy!',\n",
        "          'The sky is very blue and the sky is very beautiful today',\n",
        "          'The dog is lazy but the brown fox is quick!'    \n",
        "]\n",
        "labels = ['weather', 'weather', 'animals', 'food', 'food', 'animals', 'weather', 'animals']\n",
        "\n",
        "corpus = np.array(corpus)\n",
        "corpus_df = pd.DataFrame({'Document': corpus, \n",
        "                          'Category': labels})\n",
        "corpus_df = corpus_df[['Document', 'Category']]\n",
        "corpus_df"
      ]
    },
    {
      "cell_type": "markdown",
      "metadata": {
        "id": "yGS7sFbh1cWv"
      },
      "source": [
        "# Pre-procesamiento simple\n",
        "\n",
        "---\n",
        "\n"
      ]
    },
    {
      "cell_type": "markdown",
      "source": [
        "Un tipo de preprocesamiento o normalización habitual consiste en eliminar caracteres especiales, pasar a minúsculas y eliminar palabras vacías.\n",
        "Este procesamiento se puede realizar utilizando la librería [nltk](https://www.nltk.org/)"
      ],
      "metadata": {
        "id": "oIyILJAPHfq_"
      }
    },
    {
      "cell_type": "code",
      "execution_count": null,
      "metadata": {
        "colab": {
          "base_uri": "https://localhost:8080/"
        },
        "id": "XO870FqL1cWw",
        "outputId": "ecb592cd-e33d-4887-9861-a17f704e7f99"
      },
      "outputs": [
        {
          "output_type": "stream",
          "name": "stderr",
          "text": [
            "[nltk_data] Downloading package stopwords to /root/nltk_data...\n",
            "[nltk_data]   Unzipping corpora/stopwords.zip.\n"
          ]
        }
      ],
      "source": [
        "wpt = nltk.WordPunctTokenizer()\n",
        "nltk.download('stopwords')\n",
        "stop_words = nltk.corpus.stopwords.words('english')\n",
        "\n",
        "def normalize_document(doc):\n",
        "    # lower case and remove special characters\\whitespaces\n",
        "    doc = re.sub(r'[^a-zA-Z\\s]', '', doc, re.I|re.A)\n",
        "    doc = doc.lower()\n",
        "    doc = doc.strip()\n",
        "    # tokenize document\n",
        "    tokens = wpt.tokenize(doc)\n",
        "    # filter stopwords out of document\n",
        "    filtered_tokens = [token for token in tokens if token not in stop_words]\n",
        "    # re-create document from filtered tokens\n",
        "    doc = ' '.join(filtered_tokens)\n",
        "    return doc\n",
        "\n",
        "normalize_corpus = np.vectorize(normalize_document)"
      ]
    },
    {
      "cell_type": "code",
      "execution_count": null,
      "metadata": {
        "colab": {
          "base_uri": "https://localhost:8080/"
        },
        "id": "Eq9--rEh1cWw",
        "outputId": "d376fbc3-b010-4729-b663-0984ac3afe14"
      },
      "outputs": [
        {
          "output_type": "execute_result",
          "data": {
            "text/plain": [
              "array(['sky blue beautiful', 'love blue beautiful sky',\n",
              "       'quick brown fox jumps lazy dog',\n",
              "       'kings breakfast sausages ham bacon eggs toast beans',\n",
              "       'love green eggs ham sausages bacon',\n",
              "       'brown fox quick blue dog lazy', 'sky blue sky beautiful today',\n",
              "       'dog lazy brown fox quick'], dtype='<U51')"
            ]
          },
          "metadata": {},
          "execution_count": 4
        }
      ],
      "source": [
        "norm_corpus = normalize_corpus(corpus)\n",
        "norm_corpus"
      ]
    },
    {
      "cell_type": "markdown",
      "metadata": {
        "id": "p7CielRvPjtu"
      },
      "source": [
        "# Clasificación de textos mediante bolsa de palabras\n",
        "\n",
        "---\n",
        "\n"
      ]
    },
    {
      "cell_type": "markdown",
      "source": [
        "El primer paso será transformar cada texto en un vector de variables descriptivas y, por tanto, el conjunto de textos pasará a ser una matriz de datos donde por columnas tengamos las variables de entrada y por filas cada uno de los textos del conjunto. Además habrá una columna indicando la clase del texto, es decir, el tema del grupo de noticias al que pertenece el texto.\n",
        "\n",
        "Seguiremos la aproximación de la \"bolsa-de-palabras\". Cada texto, será transformado en un vector de palabras con su frecuencia de aparición en el texto. El orden de aparición deja de ser relevante. Las palabras que no aparecen en dicho texto, pero sí en otros del conjunto de datos, tendrán frecuencia cero."
      ],
      "metadata": {
        "id": "53dK-Wa_G_Sw"
      }
    },
    {
      "cell_type": "markdown",
      "metadata": {
        "id": "pevFW4aKPjuO"
      },
      "source": [
        "\n",
        "\n",
        "En Scikit-learn, podemos construir esa matriz de datos con `CountVectorizer`, que transforma el texto en variables, donde cada variable es una palabra, y cuenta las veces que aparece dicha palabra en el corpus de documentos. Si no le facilitamos un diccionario (en nuestro caso no lo hará), las variables que extraerá serán aquellas palabras encontradas analizando el corpus. Estos son algunos de los parámetros más importantes:\n",
        "- `analyzer`: en nuestro caso usaremos palabras, y por tanto el valor por defecto que es `word`\n",
        "- `lowercase`: valor booleano para indicar se convierten todos los caracteres a minúsculas. Por defecto vale `True`.\n",
        "- `binary`: es un valor booleano que si está a `True` indica que la bolsa de palabras solamente refleja si un término está presente o ausente, mientras que si está a `False` (opción por defecto) indica que se contabilizará la frecuencia de dicho término.\n",
        "- `vocabulary`: le facilita la lista de términos que se van a usar (términos del vector) en forma de diccionario de Python (clave son los términos y el valor, el índice de la matriz) o en forma de un objeto iterable (p.ej. una lista). Si no se da este parámetro, el vocabulario se construye en base a los términos del corpus.\n",
        "- `stop_words`: hay que pasar una lista o el string 'english' que es la única lista de palabras que maneja sklearn (es imperfecta).\n",
        "- `ngram_range`: el rango de los n-gramas que se van a extraer, si queremos solamente monogramas usamos `(1,1)`, que es la opción por defecto.\n",
        "- `max_df` y `min_df`: sirve para ignorar palabras cuya frecuencia en el corpus de documentos sea mayor que el número indicado, es decir, identifica palabras tan frecuentes en el corpus que no discriminan. Por el contario, `min_df` elimina términos muy infrecuentes del corpus para reducir la dimensionalidad.\n",
        "- `max_features`: indica el número de términos máximo que se usará, para ello filtra el top de la lista ordenada de mayor a menor frecuencia.\n",
        "\n",
        "\n",
        "El `CountVectorizer` nos devuelve un vector de términos con valores binarios (indicando la presencia de términos en un documento) o valores enteros positivos indicando su frecuencia (según el parámetro `binary`). \n"
      ]
    },
    {
      "cell_type": "code",
      "execution_count": null,
      "metadata": {
        "colab": {
          "base_uri": "https://localhost:8080/"
        },
        "id": "EiPmk0Fh1cWx",
        "outputId": "e4294e1b-1d5d-4dee-d204-37133fefe070"
      },
      "outputs": [
        {
          "output_type": "execute_result",
          "data": {
            "text/plain": [
              "array([[0, 0, 1, 1, 0, 0, 0, 0, 0, 0, 0, 0, 0, 0, 0, 0, 0, 1, 0, 0],\n",
              "       [0, 0, 1, 1, 0, 0, 0, 0, 0, 0, 0, 0, 0, 0, 1, 0, 0, 1, 0, 0],\n",
              "       [0, 0, 0, 0, 0, 1, 1, 0, 1, 0, 0, 1, 0, 1, 0, 1, 0, 0, 0, 0],\n",
              "       [1, 1, 0, 0, 1, 0, 0, 1, 0, 0, 1, 0, 1, 0, 0, 0, 1, 0, 1, 0],\n",
              "       [1, 0, 0, 0, 0, 0, 0, 1, 0, 1, 1, 0, 0, 0, 1, 0, 1, 0, 0, 0],\n",
              "       [0, 0, 0, 1, 0, 1, 1, 0, 1, 0, 0, 0, 0, 1, 0, 1, 0, 0, 0, 0],\n",
              "       [0, 0, 1, 1, 0, 0, 0, 0, 0, 0, 0, 0, 0, 0, 0, 0, 0, 2, 0, 1],\n",
              "       [0, 0, 0, 0, 0, 1, 1, 0, 1, 0, 0, 0, 0, 1, 0, 1, 0, 0, 0, 0]])"
            ]
          },
          "metadata": {},
          "execution_count": 5
        }
      ],
      "source": [
        "from sklearn.feature_extraction.text import CountVectorizer\n",
        "\n",
        "cv = CountVectorizer()\n",
        "cv_matrix = cv.fit_transform(norm_corpus)\n",
        "cv_matrix = cv_matrix.toarray()\n",
        "cv_matrix"
      ]
    },
    {
      "cell_type": "code",
      "execution_count": null,
      "metadata": {
        "colab": {
          "base_uri": "https://localhost:8080/",
          "height": 300
        },
        "id": "PN3n9D0p1cWy",
        "outputId": "ed998bc8-01df-4671-88a9-1dcdff4e2189"
      },
      "outputs": [
        {
          "output_type": "execute_result",
          "data": {
            "text/plain": [
              "   bacon  beans  beautiful  blue  breakfast  brown  dog  eggs  fox  green  \\\n",
              "0      0      0          1     1          0      0    0     0    0      0   \n",
              "1      0      0          1     1          0      0    0     0    0      0   \n",
              "2      0      0          0     0          0      1    1     0    1      0   \n",
              "3      1      1          0     0          1      0    0     1    0      0   \n",
              "4      1      0          0     0          0      0    0     1    0      1   \n",
              "5      0      0          0     1          0      1    1     0    1      0   \n",
              "6      0      0          1     1          0      0    0     0    0      0   \n",
              "7      0      0          0     0          0      1    1     0    1      0   \n",
              "\n",
              "   ham  jumps  kings  lazy  love  quick  sausages  sky  toast  today  \n",
              "0    0      0      0     0     0      0         0    1      0      0  \n",
              "1    0      0      0     0     1      0         0    1      0      0  \n",
              "2    0      1      0     1     0      1         0    0      0      0  \n",
              "3    1      0      1     0     0      0         1    0      1      0  \n",
              "4    1      0      0     0     1      0         1    0      0      0  \n",
              "5    0      0      0     1     0      1         0    0      0      0  \n",
              "6    0      0      0     0     0      0         0    2      0      1  \n",
              "7    0      0      0     1     0      1         0    0      0      0  "
            ],
            "text/html": [
              "\n",
              "  <div id=\"df-4c117904-35f2-48bf-8e82-d4bfb6080d73\">\n",
              "    <div class=\"colab-df-container\">\n",
              "      <div>\n",
              "<style scoped>\n",
              "    .dataframe tbody tr th:only-of-type {\n",
              "        vertical-align: middle;\n",
              "    }\n",
              "\n",
              "    .dataframe tbody tr th {\n",
              "        vertical-align: top;\n",
              "    }\n",
              "\n",
              "    .dataframe thead th {\n",
              "        text-align: right;\n",
              "    }\n",
              "</style>\n",
              "<table border=\"1\" class=\"dataframe\">\n",
              "  <thead>\n",
              "    <tr style=\"text-align: right;\">\n",
              "      <th></th>\n",
              "      <th>bacon</th>\n",
              "      <th>beans</th>\n",
              "      <th>beautiful</th>\n",
              "      <th>blue</th>\n",
              "      <th>breakfast</th>\n",
              "      <th>brown</th>\n",
              "      <th>dog</th>\n",
              "      <th>eggs</th>\n",
              "      <th>fox</th>\n",
              "      <th>green</th>\n",
              "      <th>ham</th>\n",
              "      <th>jumps</th>\n",
              "      <th>kings</th>\n",
              "      <th>lazy</th>\n",
              "      <th>love</th>\n",
              "      <th>quick</th>\n",
              "      <th>sausages</th>\n",
              "      <th>sky</th>\n",
              "      <th>toast</th>\n",
              "      <th>today</th>\n",
              "    </tr>\n",
              "  </thead>\n",
              "  <tbody>\n",
              "    <tr>\n",
              "      <th>0</th>\n",
              "      <td>0</td>\n",
              "      <td>0</td>\n",
              "      <td>1</td>\n",
              "      <td>1</td>\n",
              "      <td>0</td>\n",
              "      <td>0</td>\n",
              "      <td>0</td>\n",
              "      <td>0</td>\n",
              "      <td>0</td>\n",
              "      <td>0</td>\n",
              "      <td>0</td>\n",
              "      <td>0</td>\n",
              "      <td>0</td>\n",
              "      <td>0</td>\n",
              "      <td>0</td>\n",
              "      <td>0</td>\n",
              "      <td>0</td>\n",
              "      <td>1</td>\n",
              "      <td>0</td>\n",
              "      <td>0</td>\n",
              "    </tr>\n",
              "    <tr>\n",
              "      <th>1</th>\n",
              "      <td>0</td>\n",
              "      <td>0</td>\n",
              "      <td>1</td>\n",
              "      <td>1</td>\n",
              "      <td>0</td>\n",
              "      <td>0</td>\n",
              "      <td>0</td>\n",
              "      <td>0</td>\n",
              "      <td>0</td>\n",
              "      <td>0</td>\n",
              "      <td>0</td>\n",
              "      <td>0</td>\n",
              "      <td>0</td>\n",
              "      <td>0</td>\n",
              "      <td>1</td>\n",
              "      <td>0</td>\n",
              "      <td>0</td>\n",
              "      <td>1</td>\n",
              "      <td>0</td>\n",
              "      <td>0</td>\n",
              "    </tr>\n",
              "    <tr>\n",
              "      <th>2</th>\n",
              "      <td>0</td>\n",
              "      <td>0</td>\n",
              "      <td>0</td>\n",
              "      <td>0</td>\n",
              "      <td>0</td>\n",
              "      <td>1</td>\n",
              "      <td>1</td>\n",
              "      <td>0</td>\n",
              "      <td>1</td>\n",
              "      <td>0</td>\n",
              "      <td>0</td>\n",
              "      <td>1</td>\n",
              "      <td>0</td>\n",
              "      <td>1</td>\n",
              "      <td>0</td>\n",
              "      <td>1</td>\n",
              "      <td>0</td>\n",
              "      <td>0</td>\n",
              "      <td>0</td>\n",
              "      <td>0</td>\n",
              "    </tr>\n",
              "    <tr>\n",
              "      <th>3</th>\n",
              "      <td>1</td>\n",
              "      <td>1</td>\n",
              "      <td>0</td>\n",
              "      <td>0</td>\n",
              "      <td>1</td>\n",
              "      <td>0</td>\n",
              "      <td>0</td>\n",
              "      <td>1</td>\n",
              "      <td>0</td>\n",
              "      <td>0</td>\n",
              "      <td>1</td>\n",
              "      <td>0</td>\n",
              "      <td>1</td>\n",
              "      <td>0</td>\n",
              "      <td>0</td>\n",
              "      <td>0</td>\n",
              "      <td>1</td>\n",
              "      <td>0</td>\n",
              "      <td>1</td>\n",
              "      <td>0</td>\n",
              "    </tr>\n",
              "    <tr>\n",
              "      <th>4</th>\n",
              "      <td>1</td>\n",
              "      <td>0</td>\n",
              "      <td>0</td>\n",
              "      <td>0</td>\n",
              "      <td>0</td>\n",
              "      <td>0</td>\n",
              "      <td>0</td>\n",
              "      <td>1</td>\n",
              "      <td>0</td>\n",
              "      <td>1</td>\n",
              "      <td>1</td>\n",
              "      <td>0</td>\n",
              "      <td>0</td>\n",
              "      <td>0</td>\n",
              "      <td>1</td>\n",
              "      <td>0</td>\n",
              "      <td>1</td>\n",
              "      <td>0</td>\n",
              "      <td>0</td>\n",
              "      <td>0</td>\n",
              "    </tr>\n",
              "    <tr>\n",
              "      <th>5</th>\n",
              "      <td>0</td>\n",
              "      <td>0</td>\n",
              "      <td>0</td>\n",
              "      <td>1</td>\n",
              "      <td>0</td>\n",
              "      <td>1</td>\n",
              "      <td>1</td>\n",
              "      <td>0</td>\n",
              "      <td>1</td>\n",
              "      <td>0</td>\n",
              "      <td>0</td>\n",
              "      <td>0</td>\n",
              "      <td>0</td>\n",
              "      <td>1</td>\n",
              "      <td>0</td>\n",
              "      <td>1</td>\n",
              "      <td>0</td>\n",
              "      <td>0</td>\n",
              "      <td>0</td>\n",
              "      <td>0</td>\n",
              "    </tr>\n",
              "    <tr>\n",
              "      <th>6</th>\n",
              "      <td>0</td>\n",
              "      <td>0</td>\n",
              "      <td>1</td>\n",
              "      <td>1</td>\n",
              "      <td>0</td>\n",
              "      <td>0</td>\n",
              "      <td>0</td>\n",
              "      <td>0</td>\n",
              "      <td>0</td>\n",
              "      <td>0</td>\n",
              "      <td>0</td>\n",
              "      <td>0</td>\n",
              "      <td>0</td>\n",
              "      <td>0</td>\n",
              "      <td>0</td>\n",
              "      <td>0</td>\n",
              "      <td>0</td>\n",
              "      <td>2</td>\n",
              "      <td>0</td>\n",
              "      <td>1</td>\n",
              "    </tr>\n",
              "    <tr>\n",
              "      <th>7</th>\n",
              "      <td>0</td>\n",
              "      <td>0</td>\n",
              "      <td>0</td>\n",
              "      <td>0</td>\n",
              "      <td>0</td>\n",
              "      <td>1</td>\n",
              "      <td>1</td>\n",
              "      <td>0</td>\n",
              "      <td>1</td>\n",
              "      <td>0</td>\n",
              "      <td>0</td>\n",
              "      <td>0</td>\n",
              "      <td>0</td>\n",
              "      <td>1</td>\n",
              "      <td>0</td>\n",
              "      <td>1</td>\n",
              "      <td>0</td>\n",
              "      <td>0</td>\n",
              "      <td>0</td>\n",
              "      <td>0</td>\n",
              "    </tr>\n",
              "  </tbody>\n",
              "</table>\n",
              "</div>\n",
              "      <button class=\"colab-df-convert\" onclick=\"convertToInteractive('df-4c117904-35f2-48bf-8e82-d4bfb6080d73')\"\n",
              "              title=\"Convert this dataframe to an interactive table.\"\n",
              "              style=\"display:none;\">\n",
              "        \n",
              "  <svg xmlns=\"http://www.w3.org/2000/svg\" height=\"24px\"viewBox=\"0 0 24 24\"\n",
              "       width=\"24px\">\n",
              "    <path d=\"M0 0h24v24H0V0z\" fill=\"none\"/>\n",
              "    <path d=\"M18.56 5.44l.94 2.06.94-2.06 2.06-.94-2.06-.94-.94-2.06-.94 2.06-2.06.94zm-11 1L8.5 8.5l.94-2.06 2.06-.94-2.06-.94L8.5 2.5l-.94 2.06-2.06.94zm10 10l.94 2.06.94-2.06 2.06-.94-2.06-.94-.94-2.06-.94 2.06-2.06.94z\"/><path d=\"M17.41 7.96l-1.37-1.37c-.4-.4-.92-.59-1.43-.59-.52 0-1.04.2-1.43.59L10.3 9.45l-7.72 7.72c-.78.78-.78 2.05 0 2.83L4 21.41c.39.39.9.59 1.41.59.51 0 1.02-.2 1.41-.59l7.78-7.78 2.81-2.81c.8-.78.8-2.07 0-2.86zM5.41 20L4 18.59l7.72-7.72 1.47 1.35L5.41 20z\"/>\n",
              "  </svg>\n",
              "      </button>\n",
              "      \n",
              "  <style>\n",
              "    .colab-df-container {\n",
              "      display:flex;\n",
              "      flex-wrap:wrap;\n",
              "      gap: 12px;\n",
              "    }\n",
              "\n",
              "    .colab-df-convert {\n",
              "      background-color: #E8F0FE;\n",
              "      border: none;\n",
              "      border-radius: 50%;\n",
              "      cursor: pointer;\n",
              "      display: none;\n",
              "      fill: #1967D2;\n",
              "      height: 32px;\n",
              "      padding: 0 0 0 0;\n",
              "      width: 32px;\n",
              "    }\n",
              "\n",
              "    .colab-df-convert:hover {\n",
              "      background-color: #E2EBFA;\n",
              "      box-shadow: 0px 1px 2px rgba(60, 64, 67, 0.3), 0px 1px 3px 1px rgba(60, 64, 67, 0.15);\n",
              "      fill: #174EA6;\n",
              "    }\n",
              "\n",
              "    [theme=dark] .colab-df-convert {\n",
              "      background-color: #3B4455;\n",
              "      fill: #D2E3FC;\n",
              "    }\n",
              "\n",
              "    [theme=dark] .colab-df-convert:hover {\n",
              "      background-color: #434B5C;\n",
              "      box-shadow: 0px 1px 3px 1px rgba(0, 0, 0, 0.15);\n",
              "      filter: drop-shadow(0px 1px 2px rgba(0, 0, 0, 0.3));\n",
              "      fill: #FFFFFF;\n",
              "    }\n",
              "  </style>\n",
              "\n",
              "      <script>\n",
              "        const buttonEl =\n",
              "          document.querySelector('#df-4c117904-35f2-48bf-8e82-d4bfb6080d73 button.colab-df-convert');\n",
              "        buttonEl.style.display =\n",
              "          google.colab.kernel.accessAllowed ? 'block' : 'none';\n",
              "\n",
              "        async function convertToInteractive(key) {\n",
              "          const element = document.querySelector('#df-4c117904-35f2-48bf-8e82-d4bfb6080d73');\n",
              "          const dataTable =\n",
              "            await google.colab.kernel.invokeFunction('convertToInteractive',\n",
              "                                                     [key], {});\n",
              "          if (!dataTable) return;\n",
              "\n",
              "          const docLinkHtml = 'Like what you see? Visit the ' +\n",
              "            '<a target=\"_blank\" href=https://colab.research.google.com/notebooks/data_table.ipynb>data table notebook</a>'\n",
              "            + ' to learn more about interactive tables.';\n",
              "          element.innerHTML = '';\n",
              "          dataTable['output_type'] = 'display_data';\n",
              "          await google.colab.output.renderOutput(dataTable, element);\n",
              "          const docLink = document.createElement('div');\n",
              "          docLink.innerHTML = docLinkHtml;\n",
              "          element.appendChild(docLink);\n",
              "        }\n",
              "      </script>\n",
              "    </div>\n",
              "  </div>\n",
              "  "
            ]
          },
          "metadata": {},
          "execution_count": 6
        }
      ],
      "source": [
        "# get all unique words in the corpus\n",
        "vocab = cv.get_feature_names_out()\n",
        "# show document feature vectors\n",
        "pd.DataFrame(cv_matrix, columns=vocab)"
      ]
    },
    {
      "cell_type": "markdown",
      "metadata": {
        "id": "7czIBgBF1cWz"
      },
      "source": [
        "# TF-IDF Model"
      ]
    },
    {
      "cell_type": "markdown",
      "source": [
        "Sin embargo, la frecuencia de un término en un documento puede no ser muy útil ya que contendrá palabras que son muy frecuentes en inglés y no necesariamente stop-words, que las hemos podido eliminar, sino palabras como *like*, *think*, *have*. Estas palabras no tienen un gran poder discriminante, como si lo tendrían en este caso palabras como  *computer* o *hardware*: palabras que son frecuentes en textos de una clase, pero no de otras.  \n",
        "\n",
        "Para matizar la frecuencia de un término según lo específico o general que sea se utiliza el TF-IDF. Esto suele ser más útil que la frecuencia en bruto en contextos de recuperación de información o clasificación. El TF-IDF cuenta el número de veces que una palabra aparece en un texto, divido entre el logaritmo del porcentaje de documentos del corpus que contienen dicho término. Para poder generar estos pesos se puede utilizar `TfidfTransform` sobre el resultado obtenido por un `CountVectorizer`, o utilizar directamente `TfidfVectorizer`."
      ],
      "metadata": {
        "id": "UX-kZDfIItyK"
      }
    },
    {
      "cell_type": "code",
      "execution_count": null,
      "metadata": {
        "colab": {
          "base_uri": "https://localhost:8080/",
          "height": 300
        },
        "id": "CQk77a1K1cWz",
        "outputId": "50356b6b-b8fd-4146-ad3b-a14363e439e0"
      },
      "outputs": [
        {
          "output_type": "execute_result",
          "data": {
            "text/plain": [
              "   bacon  beans  beautiful  blue  breakfast  brown   dog  eggs   fox  green  \\\n",
              "0   0.00   0.00       0.60  0.53       0.00   0.00  0.00  0.00  0.00   0.00   \n",
              "1   0.00   0.00       0.49  0.43       0.00   0.00  0.00  0.00  0.00   0.00   \n",
              "2   0.00   0.00       0.00  0.00       0.00   0.38  0.38  0.00  0.38   0.00   \n",
              "3   0.32   0.38       0.00  0.00       0.38   0.00  0.00  0.32  0.00   0.00   \n",
              "4   0.39   0.00       0.00  0.00       0.00   0.00  0.00  0.39  0.00   0.47   \n",
              "5   0.00   0.00       0.00  0.37       0.00   0.42  0.42  0.00  0.42   0.00   \n",
              "6   0.00   0.00       0.36  0.32       0.00   0.00  0.00  0.00  0.00   0.00   \n",
              "7   0.00   0.00       0.00  0.00       0.00   0.45  0.45  0.00  0.45   0.00   \n",
              "\n",
              "    ham  jumps  kings  lazy  love  quick  sausages   sky  toast  today  \n",
              "0  0.00   0.00   0.00  0.00  0.00   0.00      0.00  0.60   0.00    0.0  \n",
              "1  0.00   0.00   0.00  0.00  0.57   0.00      0.00  0.49   0.00    0.0  \n",
              "2  0.00   0.53   0.00  0.38  0.00   0.38      0.00  0.00   0.00    0.0  \n",
              "3  0.32   0.00   0.38  0.00  0.00   0.00      0.32  0.00   0.38    0.0  \n",
              "4  0.39   0.00   0.00  0.00  0.39   0.00      0.39  0.00   0.00    0.0  \n",
              "5  0.00   0.00   0.00  0.42  0.00   0.42      0.00  0.00   0.00    0.0  \n",
              "6  0.00   0.00   0.00  0.00  0.00   0.00      0.00  0.72   0.00    0.5  \n",
              "7  0.00   0.00   0.00  0.45  0.00   0.45      0.00  0.00   0.00    0.0  "
            ],
            "text/html": [
              "\n",
              "  <div id=\"df-9e9fc31c-4219-49fd-9626-fa308963773c\">\n",
              "    <div class=\"colab-df-container\">\n",
              "      <div>\n",
              "<style scoped>\n",
              "    .dataframe tbody tr th:only-of-type {\n",
              "        vertical-align: middle;\n",
              "    }\n",
              "\n",
              "    .dataframe tbody tr th {\n",
              "        vertical-align: top;\n",
              "    }\n",
              "\n",
              "    .dataframe thead th {\n",
              "        text-align: right;\n",
              "    }\n",
              "</style>\n",
              "<table border=\"1\" class=\"dataframe\">\n",
              "  <thead>\n",
              "    <tr style=\"text-align: right;\">\n",
              "      <th></th>\n",
              "      <th>bacon</th>\n",
              "      <th>beans</th>\n",
              "      <th>beautiful</th>\n",
              "      <th>blue</th>\n",
              "      <th>breakfast</th>\n",
              "      <th>brown</th>\n",
              "      <th>dog</th>\n",
              "      <th>eggs</th>\n",
              "      <th>fox</th>\n",
              "      <th>green</th>\n",
              "      <th>ham</th>\n",
              "      <th>jumps</th>\n",
              "      <th>kings</th>\n",
              "      <th>lazy</th>\n",
              "      <th>love</th>\n",
              "      <th>quick</th>\n",
              "      <th>sausages</th>\n",
              "      <th>sky</th>\n",
              "      <th>toast</th>\n",
              "      <th>today</th>\n",
              "    </tr>\n",
              "  </thead>\n",
              "  <tbody>\n",
              "    <tr>\n",
              "      <th>0</th>\n",
              "      <td>0.00</td>\n",
              "      <td>0.00</td>\n",
              "      <td>0.60</td>\n",
              "      <td>0.53</td>\n",
              "      <td>0.00</td>\n",
              "      <td>0.00</td>\n",
              "      <td>0.00</td>\n",
              "      <td>0.00</td>\n",
              "      <td>0.00</td>\n",
              "      <td>0.00</td>\n",
              "      <td>0.00</td>\n",
              "      <td>0.00</td>\n",
              "      <td>0.00</td>\n",
              "      <td>0.00</td>\n",
              "      <td>0.00</td>\n",
              "      <td>0.00</td>\n",
              "      <td>0.00</td>\n",
              "      <td>0.60</td>\n",
              "      <td>0.00</td>\n",
              "      <td>0.0</td>\n",
              "    </tr>\n",
              "    <tr>\n",
              "      <th>1</th>\n",
              "      <td>0.00</td>\n",
              "      <td>0.00</td>\n",
              "      <td>0.49</td>\n",
              "      <td>0.43</td>\n",
              "      <td>0.00</td>\n",
              "      <td>0.00</td>\n",
              "      <td>0.00</td>\n",
              "      <td>0.00</td>\n",
              "      <td>0.00</td>\n",
              "      <td>0.00</td>\n",
              "      <td>0.00</td>\n",
              "      <td>0.00</td>\n",
              "      <td>0.00</td>\n",
              "      <td>0.00</td>\n",
              "      <td>0.57</td>\n",
              "      <td>0.00</td>\n",
              "      <td>0.00</td>\n",
              "      <td>0.49</td>\n",
              "      <td>0.00</td>\n",
              "      <td>0.0</td>\n",
              "    </tr>\n",
              "    <tr>\n",
              "      <th>2</th>\n",
              "      <td>0.00</td>\n",
              "      <td>0.00</td>\n",
              "      <td>0.00</td>\n",
              "      <td>0.00</td>\n",
              "      <td>0.00</td>\n",
              "      <td>0.38</td>\n",
              "      <td>0.38</td>\n",
              "      <td>0.00</td>\n",
              "      <td>0.38</td>\n",
              "      <td>0.00</td>\n",
              "      <td>0.00</td>\n",
              "      <td>0.53</td>\n",
              "      <td>0.00</td>\n",
              "      <td>0.38</td>\n",
              "      <td>0.00</td>\n",
              "      <td>0.38</td>\n",
              "      <td>0.00</td>\n",
              "      <td>0.00</td>\n",
              "      <td>0.00</td>\n",
              "      <td>0.0</td>\n",
              "    </tr>\n",
              "    <tr>\n",
              "      <th>3</th>\n",
              "      <td>0.32</td>\n",
              "      <td>0.38</td>\n",
              "      <td>0.00</td>\n",
              "      <td>0.00</td>\n",
              "      <td>0.38</td>\n",
              "      <td>0.00</td>\n",
              "      <td>0.00</td>\n",
              "      <td>0.32</td>\n",
              "      <td>0.00</td>\n",
              "      <td>0.00</td>\n",
              "      <td>0.32</td>\n",
              "      <td>0.00</td>\n",
              "      <td>0.38</td>\n",
              "      <td>0.00</td>\n",
              "      <td>0.00</td>\n",
              "      <td>0.00</td>\n",
              "      <td>0.32</td>\n",
              "      <td>0.00</td>\n",
              "      <td>0.38</td>\n",
              "      <td>0.0</td>\n",
              "    </tr>\n",
              "    <tr>\n",
              "      <th>4</th>\n",
              "      <td>0.39</td>\n",
              "      <td>0.00</td>\n",
              "      <td>0.00</td>\n",
              "      <td>0.00</td>\n",
              "      <td>0.00</td>\n",
              "      <td>0.00</td>\n",
              "      <td>0.00</td>\n",
              "      <td>0.39</td>\n",
              "      <td>0.00</td>\n",
              "      <td>0.47</td>\n",
              "      <td>0.39</td>\n",
              "      <td>0.00</td>\n",
              "      <td>0.00</td>\n",
              "      <td>0.00</td>\n",
              "      <td>0.39</td>\n",
              "      <td>0.00</td>\n",
              "      <td>0.39</td>\n",
              "      <td>0.00</td>\n",
              "      <td>0.00</td>\n",
              "      <td>0.0</td>\n",
              "    </tr>\n",
              "    <tr>\n",
              "      <th>5</th>\n",
              "      <td>0.00</td>\n",
              "      <td>0.00</td>\n",
              "      <td>0.00</td>\n",
              "      <td>0.37</td>\n",
              "      <td>0.00</td>\n",
              "      <td>0.42</td>\n",
              "      <td>0.42</td>\n",
              "      <td>0.00</td>\n",
              "      <td>0.42</td>\n",
              "      <td>0.00</td>\n",
              "      <td>0.00</td>\n",
              "      <td>0.00</td>\n",
              "      <td>0.00</td>\n",
              "      <td>0.42</td>\n",
              "      <td>0.00</td>\n",
              "      <td>0.42</td>\n",
              "      <td>0.00</td>\n",
              "      <td>0.00</td>\n",
              "      <td>0.00</td>\n",
              "      <td>0.0</td>\n",
              "    </tr>\n",
              "    <tr>\n",
              "      <th>6</th>\n",
              "      <td>0.00</td>\n",
              "      <td>0.00</td>\n",
              "      <td>0.36</td>\n",
              "      <td>0.32</td>\n",
              "      <td>0.00</td>\n",
              "      <td>0.00</td>\n",
              "      <td>0.00</td>\n",
              "      <td>0.00</td>\n",
              "      <td>0.00</td>\n",
              "      <td>0.00</td>\n",
              "      <td>0.00</td>\n",
              "      <td>0.00</td>\n",
              "      <td>0.00</td>\n",
              "      <td>0.00</td>\n",
              "      <td>0.00</td>\n",
              "      <td>0.00</td>\n",
              "      <td>0.00</td>\n",
              "      <td>0.72</td>\n",
              "      <td>0.00</td>\n",
              "      <td>0.5</td>\n",
              "    </tr>\n",
              "    <tr>\n",
              "      <th>7</th>\n",
              "      <td>0.00</td>\n",
              "      <td>0.00</td>\n",
              "      <td>0.00</td>\n",
              "      <td>0.00</td>\n",
              "      <td>0.00</td>\n",
              "      <td>0.45</td>\n",
              "      <td>0.45</td>\n",
              "      <td>0.00</td>\n",
              "      <td>0.45</td>\n",
              "      <td>0.00</td>\n",
              "      <td>0.00</td>\n",
              "      <td>0.00</td>\n",
              "      <td>0.00</td>\n",
              "      <td>0.45</td>\n",
              "      <td>0.00</td>\n",
              "      <td>0.45</td>\n",
              "      <td>0.00</td>\n",
              "      <td>0.00</td>\n",
              "      <td>0.00</td>\n",
              "      <td>0.0</td>\n",
              "    </tr>\n",
              "  </tbody>\n",
              "</table>\n",
              "</div>\n",
              "      <button class=\"colab-df-convert\" onclick=\"convertToInteractive('df-9e9fc31c-4219-49fd-9626-fa308963773c')\"\n",
              "              title=\"Convert this dataframe to an interactive table.\"\n",
              "              style=\"display:none;\">\n",
              "        \n",
              "  <svg xmlns=\"http://www.w3.org/2000/svg\" height=\"24px\"viewBox=\"0 0 24 24\"\n",
              "       width=\"24px\">\n",
              "    <path d=\"M0 0h24v24H0V0z\" fill=\"none\"/>\n",
              "    <path d=\"M18.56 5.44l.94 2.06.94-2.06 2.06-.94-2.06-.94-.94-2.06-.94 2.06-2.06.94zm-11 1L8.5 8.5l.94-2.06 2.06-.94-2.06-.94L8.5 2.5l-.94 2.06-2.06.94zm10 10l.94 2.06.94-2.06 2.06-.94-2.06-.94-.94-2.06-.94 2.06-2.06.94z\"/><path d=\"M17.41 7.96l-1.37-1.37c-.4-.4-.92-.59-1.43-.59-.52 0-1.04.2-1.43.59L10.3 9.45l-7.72 7.72c-.78.78-.78 2.05 0 2.83L4 21.41c.39.39.9.59 1.41.59.51 0 1.02-.2 1.41-.59l7.78-7.78 2.81-2.81c.8-.78.8-2.07 0-2.86zM5.41 20L4 18.59l7.72-7.72 1.47 1.35L5.41 20z\"/>\n",
              "  </svg>\n",
              "      </button>\n",
              "      \n",
              "  <style>\n",
              "    .colab-df-container {\n",
              "      display:flex;\n",
              "      flex-wrap:wrap;\n",
              "      gap: 12px;\n",
              "    }\n",
              "\n",
              "    .colab-df-convert {\n",
              "      background-color: #E8F0FE;\n",
              "      border: none;\n",
              "      border-radius: 50%;\n",
              "      cursor: pointer;\n",
              "      display: none;\n",
              "      fill: #1967D2;\n",
              "      height: 32px;\n",
              "      padding: 0 0 0 0;\n",
              "      width: 32px;\n",
              "    }\n",
              "\n",
              "    .colab-df-convert:hover {\n",
              "      background-color: #E2EBFA;\n",
              "      box-shadow: 0px 1px 2px rgba(60, 64, 67, 0.3), 0px 1px 3px 1px rgba(60, 64, 67, 0.15);\n",
              "      fill: #174EA6;\n",
              "    }\n",
              "\n",
              "    [theme=dark] .colab-df-convert {\n",
              "      background-color: #3B4455;\n",
              "      fill: #D2E3FC;\n",
              "    }\n",
              "\n",
              "    [theme=dark] .colab-df-convert:hover {\n",
              "      background-color: #434B5C;\n",
              "      box-shadow: 0px 1px 3px 1px rgba(0, 0, 0, 0.15);\n",
              "      filter: drop-shadow(0px 1px 2px rgba(0, 0, 0, 0.3));\n",
              "      fill: #FFFFFF;\n",
              "    }\n",
              "  </style>\n",
              "\n",
              "      <script>\n",
              "        const buttonEl =\n",
              "          document.querySelector('#df-9e9fc31c-4219-49fd-9626-fa308963773c button.colab-df-convert');\n",
              "        buttonEl.style.display =\n",
              "          google.colab.kernel.accessAllowed ? 'block' : 'none';\n",
              "\n",
              "        async function convertToInteractive(key) {\n",
              "          const element = document.querySelector('#df-9e9fc31c-4219-49fd-9626-fa308963773c');\n",
              "          const dataTable =\n",
              "            await google.colab.kernel.invokeFunction('convertToInteractive',\n",
              "                                                     [key], {});\n",
              "          if (!dataTable) return;\n",
              "\n",
              "          const docLinkHtml = 'Like what you see? Visit the ' +\n",
              "            '<a target=\"_blank\" href=https://colab.research.google.com/notebooks/data_table.ipynb>data table notebook</a>'\n",
              "            + ' to learn more about interactive tables.';\n",
              "          element.innerHTML = '';\n",
              "          dataTable['output_type'] = 'display_data';\n",
              "          await google.colab.output.renderOutput(dataTable, element);\n",
              "          const docLink = document.createElement('div');\n",
              "          docLink.innerHTML = docLinkHtml;\n",
              "          element.appendChild(docLink);\n",
              "        }\n",
              "      </script>\n",
              "    </div>\n",
              "  </div>\n",
              "  "
            ]
          },
          "metadata": {},
          "execution_count": 7
        }
      ],
      "source": [
        "from sklearn.feature_extraction.text import TfidfVectorizer\n",
        "\n",
        "tv = TfidfVectorizer()\n",
        "tv_matrix = tv.fit_transform(norm_corpus)\n",
        "tv_matrix = tv_matrix.toarray()\n",
        "\n",
        "vocab = tv.get_feature_names_out()\n",
        "pd.DataFrame(np.round(tv_matrix, 2), columns=vocab)"
      ]
    },
    {
      "cell_type": "markdown",
      "metadata": {
        "id": "3_TCyDKS1cW0"
      },
      "source": [
        "# Similitud entre documentos"
      ]
    },
    {
      "cell_type": "code",
      "execution_count": null,
      "metadata": {
        "colab": {
          "base_uri": "https://localhost:8080/",
          "height": 300
        },
        "id": "R9RdhPLi1cW0",
        "outputId": "9b389c4d-8aa7-4277-8f1a-c754418d4f80"
      },
      "outputs": [
        {
          "output_type": "execute_result",
          "data": {
            "text/plain": [
              "          0         1         2         3         4         5         6  \\\n",
              "0  1.000000  0.820599  0.000000  0.000000  0.000000  0.192353  0.817246   \n",
              "1  0.820599  1.000000  0.000000  0.000000  0.225489  0.157845  0.670631   \n",
              "2  0.000000  0.000000  1.000000  0.000000  0.000000  0.791821  0.000000   \n",
              "3  0.000000  0.000000  0.000000  1.000000  0.506866  0.000000  0.000000   \n",
              "4  0.000000  0.225489  0.000000  0.506866  1.000000  0.000000  0.000000   \n",
              "5  0.192353  0.157845  0.791821  0.000000  0.000000  1.000000  0.115488   \n",
              "6  0.817246  0.670631  0.000000  0.000000  0.000000  0.115488  1.000000   \n",
              "7  0.000000  0.000000  0.850516  0.000000  0.000000  0.930989  0.000000   \n",
              "\n",
              "          7  \n",
              "0  0.000000  \n",
              "1  0.000000  \n",
              "2  0.850516  \n",
              "3  0.000000  \n",
              "4  0.000000  \n",
              "5  0.930989  \n",
              "6  0.000000  \n",
              "7  1.000000  "
            ],
            "text/html": [
              "\n",
              "  <div id=\"df-05bf6933-2074-4412-8dcc-52b7465746f9\">\n",
              "    <div class=\"colab-df-container\">\n",
              "      <div>\n",
              "<style scoped>\n",
              "    .dataframe tbody tr th:only-of-type {\n",
              "        vertical-align: middle;\n",
              "    }\n",
              "\n",
              "    .dataframe tbody tr th {\n",
              "        vertical-align: top;\n",
              "    }\n",
              "\n",
              "    .dataframe thead th {\n",
              "        text-align: right;\n",
              "    }\n",
              "</style>\n",
              "<table border=\"1\" class=\"dataframe\">\n",
              "  <thead>\n",
              "    <tr style=\"text-align: right;\">\n",
              "      <th></th>\n",
              "      <th>0</th>\n",
              "      <th>1</th>\n",
              "      <th>2</th>\n",
              "      <th>3</th>\n",
              "      <th>4</th>\n",
              "      <th>5</th>\n",
              "      <th>6</th>\n",
              "      <th>7</th>\n",
              "    </tr>\n",
              "  </thead>\n",
              "  <tbody>\n",
              "    <tr>\n",
              "      <th>0</th>\n",
              "      <td>1.000000</td>\n",
              "      <td>0.820599</td>\n",
              "      <td>0.000000</td>\n",
              "      <td>0.000000</td>\n",
              "      <td>0.000000</td>\n",
              "      <td>0.192353</td>\n",
              "      <td>0.817246</td>\n",
              "      <td>0.000000</td>\n",
              "    </tr>\n",
              "    <tr>\n",
              "      <th>1</th>\n",
              "      <td>0.820599</td>\n",
              "      <td>1.000000</td>\n",
              "      <td>0.000000</td>\n",
              "      <td>0.000000</td>\n",
              "      <td>0.225489</td>\n",
              "      <td>0.157845</td>\n",
              "      <td>0.670631</td>\n",
              "      <td>0.000000</td>\n",
              "    </tr>\n",
              "    <tr>\n",
              "      <th>2</th>\n",
              "      <td>0.000000</td>\n",
              "      <td>0.000000</td>\n",
              "      <td>1.000000</td>\n",
              "      <td>0.000000</td>\n",
              "      <td>0.000000</td>\n",
              "      <td>0.791821</td>\n",
              "      <td>0.000000</td>\n",
              "      <td>0.850516</td>\n",
              "    </tr>\n",
              "    <tr>\n",
              "      <th>3</th>\n",
              "      <td>0.000000</td>\n",
              "      <td>0.000000</td>\n",
              "      <td>0.000000</td>\n",
              "      <td>1.000000</td>\n",
              "      <td>0.506866</td>\n",
              "      <td>0.000000</td>\n",
              "      <td>0.000000</td>\n",
              "      <td>0.000000</td>\n",
              "    </tr>\n",
              "    <tr>\n",
              "      <th>4</th>\n",
              "      <td>0.000000</td>\n",
              "      <td>0.225489</td>\n",
              "      <td>0.000000</td>\n",
              "      <td>0.506866</td>\n",
              "      <td>1.000000</td>\n",
              "      <td>0.000000</td>\n",
              "      <td>0.000000</td>\n",
              "      <td>0.000000</td>\n",
              "    </tr>\n",
              "    <tr>\n",
              "      <th>5</th>\n",
              "      <td>0.192353</td>\n",
              "      <td>0.157845</td>\n",
              "      <td>0.791821</td>\n",
              "      <td>0.000000</td>\n",
              "      <td>0.000000</td>\n",
              "      <td>1.000000</td>\n",
              "      <td>0.115488</td>\n",
              "      <td>0.930989</td>\n",
              "    </tr>\n",
              "    <tr>\n",
              "      <th>6</th>\n",
              "      <td>0.817246</td>\n",
              "      <td>0.670631</td>\n",
              "      <td>0.000000</td>\n",
              "      <td>0.000000</td>\n",
              "      <td>0.000000</td>\n",
              "      <td>0.115488</td>\n",
              "      <td>1.000000</td>\n",
              "      <td>0.000000</td>\n",
              "    </tr>\n",
              "    <tr>\n",
              "      <th>7</th>\n",
              "      <td>0.000000</td>\n",
              "      <td>0.000000</td>\n",
              "      <td>0.850516</td>\n",
              "      <td>0.000000</td>\n",
              "      <td>0.000000</td>\n",
              "      <td>0.930989</td>\n",
              "      <td>0.000000</td>\n",
              "      <td>1.000000</td>\n",
              "    </tr>\n",
              "  </tbody>\n",
              "</table>\n",
              "</div>\n",
              "      <button class=\"colab-df-convert\" onclick=\"convertToInteractive('df-05bf6933-2074-4412-8dcc-52b7465746f9')\"\n",
              "              title=\"Convert this dataframe to an interactive table.\"\n",
              "              style=\"display:none;\">\n",
              "        \n",
              "  <svg xmlns=\"http://www.w3.org/2000/svg\" height=\"24px\"viewBox=\"0 0 24 24\"\n",
              "       width=\"24px\">\n",
              "    <path d=\"M0 0h24v24H0V0z\" fill=\"none\"/>\n",
              "    <path d=\"M18.56 5.44l.94 2.06.94-2.06 2.06-.94-2.06-.94-.94-2.06-.94 2.06-2.06.94zm-11 1L8.5 8.5l.94-2.06 2.06-.94-2.06-.94L8.5 2.5l-.94 2.06-2.06.94zm10 10l.94 2.06.94-2.06 2.06-.94-2.06-.94-.94-2.06-.94 2.06-2.06.94z\"/><path d=\"M17.41 7.96l-1.37-1.37c-.4-.4-.92-.59-1.43-.59-.52 0-1.04.2-1.43.59L10.3 9.45l-7.72 7.72c-.78.78-.78 2.05 0 2.83L4 21.41c.39.39.9.59 1.41.59.51 0 1.02-.2 1.41-.59l7.78-7.78 2.81-2.81c.8-.78.8-2.07 0-2.86zM5.41 20L4 18.59l7.72-7.72 1.47 1.35L5.41 20z\"/>\n",
              "  </svg>\n",
              "      </button>\n",
              "      \n",
              "  <style>\n",
              "    .colab-df-container {\n",
              "      display:flex;\n",
              "      flex-wrap:wrap;\n",
              "      gap: 12px;\n",
              "    }\n",
              "\n",
              "    .colab-df-convert {\n",
              "      background-color: #E8F0FE;\n",
              "      border: none;\n",
              "      border-radius: 50%;\n",
              "      cursor: pointer;\n",
              "      display: none;\n",
              "      fill: #1967D2;\n",
              "      height: 32px;\n",
              "      padding: 0 0 0 0;\n",
              "      width: 32px;\n",
              "    }\n",
              "\n",
              "    .colab-df-convert:hover {\n",
              "      background-color: #E2EBFA;\n",
              "      box-shadow: 0px 1px 2px rgba(60, 64, 67, 0.3), 0px 1px 3px 1px rgba(60, 64, 67, 0.15);\n",
              "      fill: #174EA6;\n",
              "    }\n",
              "\n",
              "    [theme=dark] .colab-df-convert {\n",
              "      background-color: #3B4455;\n",
              "      fill: #D2E3FC;\n",
              "    }\n",
              "\n",
              "    [theme=dark] .colab-df-convert:hover {\n",
              "      background-color: #434B5C;\n",
              "      box-shadow: 0px 1px 3px 1px rgba(0, 0, 0, 0.15);\n",
              "      filter: drop-shadow(0px 1px 2px rgba(0, 0, 0, 0.3));\n",
              "      fill: #FFFFFF;\n",
              "    }\n",
              "  </style>\n",
              "\n",
              "      <script>\n",
              "        const buttonEl =\n",
              "          document.querySelector('#df-05bf6933-2074-4412-8dcc-52b7465746f9 button.colab-df-convert');\n",
              "        buttonEl.style.display =\n",
              "          google.colab.kernel.accessAllowed ? 'block' : 'none';\n",
              "\n",
              "        async function convertToInteractive(key) {\n",
              "          const element = document.querySelector('#df-05bf6933-2074-4412-8dcc-52b7465746f9');\n",
              "          const dataTable =\n",
              "            await google.colab.kernel.invokeFunction('convertToInteractive',\n",
              "                                                     [key], {});\n",
              "          if (!dataTable) return;\n",
              "\n",
              "          const docLinkHtml = 'Like what you see? Visit the ' +\n",
              "            '<a target=\"_blank\" href=https://colab.research.google.com/notebooks/data_table.ipynb>data table notebook</a>'\n",
              "            + ' to learn more about interactive tables.';\n",
              "          element.innerHTML = '';\n",
              "          dataTable['output_type'] = 'display_data';\n",
              "          await google.colab.output.renderOutput(dataTable, element);\n",
              "          const docLink = document.createElement('div');\n",
              "          docLink.innerHTML = docLinkHtml;\n",
              "          element.appendChild(docLink);\n",
              "        }\n",
              "      </script>\n",
              "    </div>\n",
              "  </div>\n",
              "  "
            ]
          },
          "metadata": {},
          "execution_count": 8
        }
      ],
      "source": [
        "from sklearn.metrics.pairwise import cosine_similarity\n",
        "\n",
        "similarity_matrix = cosine_similarity(tv_matrix)\n",
        "similarity_df = pd.DataFrame(similarity_matrix)\n",
        "similarity_df"
      ]
    },
    {
      "cell_type": "markdown",
      "metadata": {
        "id": "Fy4rsaeePjt3"
      },
      "source": [
        "## Conjunto de datos"
      ]
    },
    {
      "cell_type": "markdown",
      "metadata": {
        "id": "j5IHW9usPjt6"
      },
      "source": [
        "El conjunto de datos que vamos a utilizar es el de [20 Newsgroups](http://qwone.com/~jason/20Newsgroups/), que es usado a menudo como benchmark para modelos de clasificación de textos y que se encuentra disponible en [Scikit-learn](https://scikit-learn.org/stable/modules/generated/sklearn.datasets.fetch_20newsgroups.html). \n",
        "\n",
        "El conjunto consiste en textos sobre diferentes temas, desde hardware hasta religión. Algunos temas están muy relacionados, p.ej. \"IBM PC hardware\" y \"Mac hardware\", mientras que otros son más diversos, p.ej. \"religion\" o \"hockey\"). \n",
        "\n",
        "Está dividido de forma predeterminada en entrenamiento (train) y prueba (test) en porcentajes de 60 y 40, respectivamente. "
      ]
    },
    {
      "cell_type": "code",
      "execution_count": null,
      "metadata": {
        "colab": {
          "base_uri": "https://localhost:8080/"
        },
        "id": "9I0MexOiPjuA",
        "outputId": "a17c33b2-2ed3-4f50-f4b5-832b7686316c"
      },
      "outputs": [
        {
          "output_type": "stream",
          "name": "stdout",
          "text": [
            "Training texts: 11314\n",
            "Test texts: 7532\n",
            "Temas:  ['alt.atheism', 'comp.graphics', 'comp.os.ms-windows.misc', 'comp.sys.ibm.pc.hardware', 'comp.sys.mac.hardware', 'comp.windows.x', 'misc.forsale', 'rec.autos', 'rec.motorcycles', 'rec.sport.baseball', 'rec.sport.hockey', 'sci.crypt', 'sci.electronics', 'sci.med', 'sci.space', 'soc.religion.christian', 'talk.politics.guns', 'talk.politics.mideast', 'talk.politics.misc', 'talk.religion.misc']\n"
          ]
        }
      ],
      "source": [
        "from sklearn.datasets import fetch_20newsgroups\n",
        "\n",
        "train_data = fetch_20newsgroups(subset='train', shuffle=True, random_state=42)\n",
        "test_data = fetch_20newsgroups(subset='test')\n",
        "\n",
        "print(\"Training texts:\", len(train_data.data))\n",
        "print(\"Test texts:\", len(test_data.data))\n",
        "\n",
        "print(\"Temas: \", train_data.target_names)"
      ]
    },
    {
      "cell_type": "markdown",
      "metadata": {
        "id": "7gDzV0ecPjuD"
      },
      "source": [
        "Siempre es adecuado observar el texto de partida con el que vamos a trabajar, ya que nos permite anticipar posibles problemas o limitaciones."
      ]
    },
    {
      "cell_type": "code",
      "execution_count": null,
      "metadata": {
        "colab": {
          "base_uri": "https://localhost:8080/"
        },
        "id": "8WokBH41PjuF",
        "outputId": "134756dd-b41d-4a61-ee33-ac860acad522"
      },
      "outputs": [
        {
          "output_type": "stream",
          "name": "stdout",
          "text": [
            "From: irwin@cmptrc.lonestar.org (Irwin Arnstein)\n",
            "Subject: Re: Recommendation on Duc\n",
            "Summary: What's it worth?\n",
            "Distribution: usa\n",
            "Expires: Sat, 1 May 1993 05:00:00 GMT\n",
            "Organization: CompuTrac Inc., Richardson TX\n",
            "Keywords: Ducati, GTS, How much? \n",
            "Lines: 13\n",
            "\n",
            "I have a line on a Ducati 900GTS 1978 model with 17k on the clock.  Runs\n",
            "very well, paint is the bronze/brown/orange faded out, leaks a bit of oil\n",
            "and pops out of 1st with hard accel.  The shop will fix trans and oil \n",
            "leak.  They sold the bike to the 1 and only owner.  They want $3495, and\n",
            "I am thinking more like $3K.  Any opinions out there?  Please email me.\n",
            "Thanks.  It would be a nice stable mate to the Beemer.  Then I'll get\n",
            "a jap bike and call myself Axis Motors!\n",
            "\n",
            "-- \n",
            "-----------------------------------------------------------------------\n",
            "\"Tuba\" (Irwin)      \"I honk therefore I am\"     CompuTrac-Richardson,Tx\n",
            "irwin@cmptrc.lonestar.org    DoD #0826          (R75/6)\n",
            "-----------------------------------------------------------------------\n",
            "\n",
            "Tema:  rec.motorcycles\n"
          ]
        }
      ],
      "source": [
        "print(train_data.data[10])\n",
        "print(\"Tema: \", train_data.target_names[train_data.target[10]])"
      ]
    },
    {
      "cell_type": "code",
      "execution_count": null,
      "metadata": {
        "colab": {
          "base_uri": "https://localhost:8080/"
        },
        "id": "Yxc08IVRPjuI",
        "outputId": "a1ff96d2-9b28-4789-8766-7c8e3064fe24"
      },
      "outputs": [
        {
          "output_type": "stream",
          "name": "stdout",
          "text": [
            "From: dabl2@nlm.nih.gov (Don A.B. Lindbergh)\n",
            "Subject: Diamond SS24X, Win 3.1, Mouse cursor\n",
            "Organization: National Library of Medicine\n",
            "Lines: 10\n",
            "\n",
            "\n",
            "Anybody seen mouse cursor distortion running the Diamond 1024x768x256 driver?\n",
            "Sorry, don't know the version of the driver (no indication in the menus) but it's a recently\n",
            "delivered Gateway system.  Am going to try the latest drivers from Diamond BBS but wondered\n",
            "if anyone else had seen this.\n",
            "\n",
            "post or email\n",
            "\n",
            "--Don Lindbergh\n",
            "dabl2@lhc.nlm.nih.gov\n",
            "\n",
            "Tema:  comp.os.ms-windows.misc\n"
          ]
        }
      ],
      "source": [
        "print(train_data.data[1000])\n",
        "print(\"Tema: \", train_data.target_names[train_data.target[1000]])"
      ]
    },
    {
      "cell_type": "markdown",
      "metadata": {
        "id": "2-gcM5BgPjuN"
      },
      "source": [
        "## Preprocesado de datos"
      ]
    },
    {
      "cell_type": "markdown",
      "metadata": {
        "id": "qB6c1WSWPjuS"
      },
      "source": [
        "### Ajustando la bolsa de palabras en entrenamiento "
      ]
    },
    {
      "cell_type": "markdown",
      "metadata": {
        "id": "1TDRGg-XPjuS"
      },
      "source": [
        "En primer lugar aplicaremos las transformaciones en el conjunto de entrenamiento. Observa que tanto el diccionario usado, como la frecuencia inversa de aparición de un término en los documentos (es decir, el término IDF), debe ser el mismo en los conjuntos de entrenamiento y de test. Los datos de test son datos que simulan el funcionamiento del algoritmo entrenado, por tanto no son conocidos en tiempo de entrenamiento.\n",
        "\n",
        "\n",
        "Por ello, debemos usar el método `fit_transform` para el conjunto de entrenamiento,  para fijar el diccionario en `CountVectorizer` y el término idf del `TfidfTransformer`, mientras que usaremos simplemente el método `transform` en el conjunto de test (de forma que ambas herramientas usan lo aprendido en el conjunto de entrenamiento).\n",
        "\n",
        "Dicho de otra forma la función `fit_transform` hace dos pasos: primero ajusta `fit` y luego transforma `transform`. En los datos de entrenamiento corresponde hacer los dos pasos."
      ]
    },
    {
      "cell_type": "markdown",
      "metadata": {
        "id": "q_eiqOVbPjuT"
      },
      "source": [
        "#### Intento 1: Obteniendo la frecuencia de los términos de los documentos con un diccionario inferido del conjunto de entrenamiento"
      ]
    },
    {
      "cell_type": "markdown",
      "metadata": {
        "id": "gpG7k0m5PjuV"
      },
      "source": [
        "En primer lugar vamos a generar la bolsa de palabras con TF-IDF.\n",
        "\n",
        "El primer paso es obtener las frecuencias de las palabras con `CountVectorizar` y lo haremos usando el diccionario que se inferirá de los términos de los documentos que se le pasan al `CountVectorizer` (esta opción es el funcionamiento por defecto por tanto no hay que hacer nada).  También queremos usar la lista de palabras que proporciona sklearn para el inglés (parámetro `stop_words` con el valor `english`)."
      ]
    },
    {
      "cell_type": "code",
      "execution_count": null,
      "metadata": {
        "id": "F8fQkxcpPjuY"
      },
      "outputs": [],
      "source": [
        "vectorizer = CountVectorizer(stop_words='english')\n",
        "# Tomamos los textos del conjunto de entrenamiento y los transformamos en \n",
        "# una matriz de datos (palabras) según el diccionario estándar\n",
        "train_vector_data=vectorizer.fit_transform(train_data.data)"
      ]
    },
    {
      "cell_type": "markdown",
      "metadata": {
        "id": "sPcTiOs6PjuZ"
      },
      "source": [
        "Vamos a ver cómo han quedado los términos con los parámetros por defecto y cuántos términos hay.\n"
      ]
    },
    {
      "cell_type": "code",
      "execution_count": null,
      "metadata": {
        "colab": {
          "base_uri": "https://localhost:8080/"
        },
        "id": "mExeZ4LDPjua",
        "outputId": "c29445e9-a585-4540-e4f6-3d29190f51cf"
      },
      "outputs": [
        {
          "output_type": "stream",
          "name": "stdout",
          "text": [
            "129796\n"
          ]
        }
      ],
      "source": [
        "feature_names = vectorizer.get_feature_names_out()\n",
        "\n",
        "print(len(feature_names))"
      ]
    },
    {
      "cell_type": "code",
      "source": [
        "print(feature_names[:100])\n",
        "print(feature_names[-100:])"
      ],
      "metadata": {
        "colab": {
          "base_uri": "https://localhost:8080/"
        },
        "id": "B_PwK38oNEI_",
        "outputId": "b6ad6296-4363-4393-82a6-6667cc0a4977"
      },
      "execution_count": null,
      "outputs": [
        {
          "output_type": "stream",
          "name": "stdout",
          "text": [
            "['00' '000' '0000' '00000' '000000' '00000000' '0000000004' '0000000005'\n",
            " '00000000b' '00000001' '00000001b' '0000000667' '00000010' '00000010b'\n",
            " '00000011' '00000011b' '0000001200' '00000074' '00000093' '000000e5'\n",
            " '00000100' '00000100b' '00000101' '00000101b' '00000110' '00000110b'\n",
            " '00000111' '00000111b' '00000315' '000005102000' '00000510200001'\n",
            " '000007' '00000ee5' '00001000' '00001000b' '00001001' '00001001b'\n",
            " '00001010' '00001010b' '00001011' '00001011b' '000010af' '00001100'\n",
            " '00001100b' '00001101' '00001101b' '00001110' '00001110b' '00001111'\n",
            " '00001111b' '000021' '000042' '000062david42' '000094' '0000vec' '0001'\n",
            " '00010000' '00010000b' '00010001' '00010001b' '00010010' '00010010b'\n",
            " '00010011' '00010011b' '000100255pixel' '00010100' '00010100b' '00010101'\n",
            " '00010101b' '00010110' '00010110b' '00010111' '00010111b' '00011000'\n",
            " '00011000b' '00011001' '00011001b' '00011010' '00011010b' '00011011'\n",
            " '00011011b' '00011100' '00011100b' '00011101' '00011101b' '00011110'\n",
            " '00011110b' '00011111' '00011111b' '00014' '000152' '0001mpc' '0001x7c'\n",
            " '0002' '000246' '000256' '0003' '000359' '0004' '000406']\n",
            "['zwischen' 'zwku9rc5' 'zwl' 'zwl76' 'zwo2bz' 'zwow' 'zwp4q' 'zwr' 'zwrf'\n",
            " 'zwrm' 'zws' 'zwt' 'zwx' 'zx' 'zx0' 'zx3k' 'zx6wre' 'zx8' 'zx900'\n",
            " 'zx900a' 'zxgxrggwf6wp2edst' 'zxl0' 'zxmkr08' 'zxp' 'zxqi' 'zxrm5v'\n",
            " 'zxu_z_a' 'zxw' 'zxxst' 'zxyiss' 'zxz' 'zy' 'zy1' 'zy15' 'zy4' 'zy5'\n",
            " 'zya7hp' 'zyc' 'zycg' 'zyckp' 'zydjepqzl2' 'zye' 'zyeh' 'zyg' 'zygot'\n",
            " 'zyj' 'zyjb6' 'zyklon' 'zymmr' 'zyr' 'zyra' 'zysec' 'zysgm3r' 'zysv'\n",
            " 'zyt' 'zyu' 'zyv' 'zyxel' 'zyxel1496b' 'zz' 'zz20d' 'zz93sigmc120'\n",
            " 'zz_g9q3' 'zzcrm' 'zzd' 'zzg6c' 'zzi776' 'zzneu' 'zznki' 'zznkj' 'zznkjz'\n",
            " 'zznkzz' 'zznp' 'zzo' 'zzr11' 'zzr1100' 'zzrk' 'zzt' 'zztop' 'zzy_3w'\n",
            " 'zzz' 'zzzoh' 'zzzz' 'zzzzzz' 'zzzzzzt' 'ªl' '³ation'\n",
            " 'º_________________________________________________º_____________________º'\n",
            " 'ºnd' 'çait' 'çon' 'ère' 'ée' 'égligent' 'élangea' 'érale' 'ête'\n",
            " 'íålittin' 'ñaustin' 'ýé']\n"
          ]
        }
      ]
    },
    {
      "cell_type": "code",
      "execution_count": null,
      "metadata": {
        "colab": {
          "base_uri": "https://localhost:8080/"
        },
        "id": "tDZEOYc8Pjuc",
        "outputId": "b4f64f78-50f3-4975-e915-a42745ab68e3"
      },
      "outputs": [
        {
          "output_type": "stream",
          "name": "stdout",
          "text": [
            "  (0, 111094)\t1\n",
            "  (0, 90192)\t1\n",
            "  (0, 75888)\t1\n",
            "  (0, 83103)\t1\n",
            "  (0, 114195)\t1\n",
            "  (0, 40419)\t1\n",
            "  (0, 111466)\t1\n",
            "  (0, 72244)\t1\n",
            "  (0, 47916)\t1\n",
            "  (0, 119441)\t1\n",
            "  (0, 33477)\t1\n",
            "  (0, 75863)\t1\n",
            "  (0, 75757)\t1\n",
            "  (0, 89911)\t1\n",
            "  (0, 124791)\t1\n",
            "  (0, 51190)\t1\n",
            "  (0, 76233)\t1\n",
            "  (0, 87002)\t1\n",
            "  (0, 55501)\t1\n",
            "  (0, 61849)\t1\n",
            "  (0, 6475)\t1\n",
            "  (0, 68389)\t4\n",
            "  (0, 40589)\t2\n",
            "  (0, 76537)\t2\n",
            "  (0, 90177)\t2\n",
            "  :\t:\n",
            "  (0, 89369)\t2\n",
            "  (0, 94786)\t1\n",
            "  (0, 8042)\t1\n",
            "  (0, 25566)\t1\n",
            "  (0, 106753)\t1\n",
            "  (0, 115875)\t1\n",
            "  (0, 74886)\t1\n",
            "  (0, 108498)\t1\n",
            "  (0, 33252)\t2\n",
            "  (0, 90996)\t1\n",
            "  (0, 122921)\t1\n",
            "  (0, 11976)\t1\n",
            "  (0, 114453)\t1\n",
            "  (0, 12963)\t1\n",
            "  (0, 109903)\t1\n",
            "  (0, 79638)\t1\n",
            "  (0, 32450)\t1\n",
            "  (0, 69372)\t1\n",
            "  (0, 30836)\t1\n",
            "  (0, 83757)\t1\n",
            "  (0, 116618)\t1\n",
            "  (0, 63785)\t1\n",
            "  (0, 48354)\t1\n",
            "  (0, 1410)\t1\n",
            "  (0, 98627)\t1\n"
          ]
        }
      ],
      "source": [
        "print(train_vector_data[10])"
      ]
    },
    {
      "cell_type": "markdown",
      "metadata": {
        "id": "4el5AtpSPjud"
      },
      "source": [
        "\n",
        "Vamos a ver los términos extraídos para los mensajes de antes."
      ]
    },
    {
      "cell_type": "code",
      "execution_count": null,
      "metadata": {
        "id": "3lr32ZgRPjue"
      },
      "outputs": [],
      "source": [
        "import numpy as np\n",
        "import numpy.ma as ma\n",
        "\n",
        "def write_terms (feature_names, data, vector_data, index):\n",
        "    '''\n",
        "    Escribe los términos presentes en un mensaje representado como bolsa de palabras.\n",
        "    \n",
        "    - feature_names: terminos usados para vectorizar\n",
        "    - data: lista de mensajes original (si data==None no se muestra el mensaje original)\n",
        "    - vector_data: matriz (dispersa) de mensaje vectorizados\n",
        "    - index: posición del mensaje a mostrar\n",
        "    '''\n",
        "    # máscara para seleccionar sólo el mensaje en posición index\n",
        "    mask=vector_data[index,:]>0\n",
        "    \n",
        "    # términos que aparecen en ese mensaje vectorizado\n",
        "    terminos = ma.array(feature_names, mask = ~(mask[0].toarray()))\n",
        "    \n",
        "    # mostrar mensaje original\n",
        "    if data is not None:\n",
        "        print('Mensaje', index, ':', data[index])\n",
        "    \n",
        "    # mostrar términos que aparecen en el mensaje vectorizado\n",
        "    print('Mensaje', index, 'vectorizado:', terminos.compressed(),'\\n')"
      ]
    },
    {
      "cell_type": "code",
      "execution_count": null,
      "metadata": {
        "colab": {
          "base_uri": "https://localhost:8080/"
        },
        "id": "jHpN_FEKPjuh",
        "outputId": "55599fcc-7ea4-4e5a-9529-cd0b1170c337"
      },
      "outputs": [
        {
          "output_type": "stream",
          "name": "stdout",
          "text": [
            "Mensaje 10 vectorizado: ['00' '05' '0826' '13' '17k' '1978' '1993' '1st' '3495' '3k' '900gts'\n",
            " 'accel' 'arnstein' 'axis' 'beemer' 'bike' 'bit' 'bronze' 'brown' 'clock'\n",
            " 'cmptrc' 'computrac' 'distribution' 'dod' 'duc' 'ducati' 'email'\n",
            " 'expires' 'faded' 'fix' 'gmt' 'gts' 'hard' 'honk' 'irwin' 'jap'\n",
            " 'keywords' 'leak' 'leaks' 'like' 'line' 'lines' 'll' 'lonestar' 'mate'\n",
            " 'model' 'motors' 'nice' 'oil' 'opinions' 'orange' 'org' 'organization'\n",
            " 'owner' 'paint' 'pops' 'r75' 'recommendation' 'richardson' 'runs' 'sat'\n",
            " 'shop' 'sold' 'stable' 'subject' 'summary' 'thanks' 'thinking' 'trans'\n",
            " 'tuba' 'tx' 'usa' 'want' 'worth'] \n",
            "\n",
            "Mensaje 1000 vectorizado: ['10' '1024x768x256' 'anybody' 'bbs' 'cursor' 'dabl2' 'delivered'\n",
            " 'diamond' 'distortion' 'don' 'driver' 'drivers' 'email' 'gateway' 'going'\n",
            " 'gov' 'indication' 'know' 'latest' 'lhc' 'library' 'lindbergh' 'lines'\n",
            " 'medicine' 'menus' 'mouse' 'national' 'nih' 'nlm' 'organization' 'post'\n",
            " 'recently' 'running' 'seen' 'sorry' 'ss24x' 'subject' 'try' 'version'\n",
            " 'win' 'wondered'] \n",
            "\n"
          ]
        }
      ],
      "source": [
        "#write_terms(feature_names, train_data.data, train_vector_data, 10)\n",
        "write_terms(feature_names, None, train_vector_data, 10)\n",
        "\n",
        "write_terms(feature_names, None, train_vector_data, 1000)"
      ]
    },
    {
      "cell_type": "markdown",
      "metadata": {
        "id": "cvdEAenRPjui"
      },
      "source": [
        "Como observamos mucho ruido, incluido términos numéricos y alfanuméricos, vamos a probar una opción mucho más restrictiva que sería usar únicamente las palabras de un diccionario.\n",
        "\n",
        "Es posible que esos términos clasifiquen bien, pero no por las razones correctas. Por otro lado, usando otra herramienta más sofisticada que ``CountVectorizer`` podríamos inferir un mejor diccionario. O puliendo la lista de palabras eliminando términos numéricos y alfanuméricos. "
      ]
    },
    {
      "cell_type": "markdown",
      "metadata": {
        "id": "PqTGAk7jPjuk"
      },
      "source": [
        "#### Intento 2: Obteniendo la frecuencia de los términos de los documentos con un diccionario elaborado previamente"
      ]
    },
    {
      "cell_type": "markdown",
      "metadata": {
        "id": "N12HCBD6Pjul"
      },
      "source": [
        "En este segundo intento vamos a usar el diccionario que se encuentra en la siguiente URL y que debéis bajar para usar este notebook.\n",
        "https://github.com/dwyl/english-words/blob/master/words.txt\n",
        "    \n",
        "Al usar un diccionario sucede lo siguiente:\n",
        "- Los términos serán únicamente los presentes en el diccionario por lo que tenemos más control sobre ellos\n",
        "- El diccionario no incluirá términos que pueden aparecer en el texto, y esto puede quitar ruido, pero elimina jerga específica que no figura en el diccionario.\n",
        "    \n",
        "El diccionario será una lista de términos que se le pasará al `CountVectorizer` a través del parámetro `vocabulary`. En este caso volveremos a usar la lista de palabras vacías que proporciona sklearn para el inglés (parámetro `stop_words=english`).\n",
        "\n",
        "Como queremos usar TF-IDF una vez obtenida la frecuencia de los términos para este nuevo diccionario, vamos a usar `TfidfTransformer` para matizarla según lo frecuente que sea ese término en el conjunto de textos de entremiento."
      ]
    },
    {
      "cell_type": "markdown",
      "metadata": {
        "id": "Zim0Po1sPjum"
      },
      "source": [
        "El primer paso es configurar el nuevo `CountVectorizer` con el diccionario del archivo `words.txt`."
      ]
    },
    {
      "cell_type": "code",
      "source": [
        "# acceso a google drive\n",
        "\n",
        "from google.colab import drive\n",
        "drive.mount('/content/drive')"
      ],
      "metadata": {
        "colab": {
          "base_uri": "https://localhost:8080/"
        },
        "id": "HfEx5mazSrp9",
        "outputId": "b6b27c73-c96a-4347-dbcc-6ba853cc0ed2"
      },
      "execution_count": null,
      "outputs": [
        {
          "output_type": "stream",
          "name": "stdout",
          "text": [
            "Mounted at /content/drive\n"
          ]
        }
      ]
    },
    {
      "cell_type": "code",
      "execution_count": null,
      "metadata": {
        "id": "ZTayDGk6Pjun"
      },
      "outputs": [],
      "source": [
        "# Pasamos el fichero a una lista (una línea por item)\n",
        "\n",
        "\n",
        "# with open('/content/drive/MyDrive/IA2/p3/words.txt') as f:\n",
        "#    dictionary = f.read().splitlines()\n",
        "with open('/content/drive/MyDrive/Colab Notebooks/IA2/PLN/words.txt') as f:\n",
        "    dictionary = f.read().splitlines()\n",
        "\n",
        "# El diccionario cargado lo pasamos en el parámetro vocabulary    \n",
        "vectorizer = CountVectorizer(vocabulary=dictionary, stop_words='english')    "
      ]
    },
    {
      "cell_type": "markdown",
      "metadata": {
        "id": "CQ6cXB-APjun"
      },
      "source": [
        "Vamos a ver cuántos términos hay en el diccionario, veremos que hay muchos más términos en un diccionario de propósito general que en uno inferido de un corpus de textos sobre un pequeño subconjunto de temas. \n",
        "\n",
        "Recuerda que esto no quiere decir que el diccionario cargado contenga todos los términos del diccionario inferido porque este puede tener palabras propias (jerga, nombres comerciales, etc) y términos alfanuméricos que también observamos."
      ]
    },
    {
      "cell_type": "code",
      "execution_count": null,
      "metadata": {
        "id": "hYqcgTv0Pjuq",
        "outputId": "bf86d690-252b-4a1e-db33-21b8ecd5dcb5",
        "scrolled": false,
        "colab": {
          "base_uri": "https://localhost:8080/"
        }
      },
      "outputs": [
        {
          "output_type": "stream",
          "name": "stdout",
          "text": [
            "466550\n",
            "['2' '1080' '&c' '10-point' '10th' '11-point' '12-point' '16-point'\n",
            " '18-point' '1st' '2,4,5-t' '2,4-d' '20-point' '2D' '2nd' '30-30' '3D'\n",
            " '3-D' '3M' '3rd' '48-point' '4-D' '4GL' '4H' '4th' '5-point' '5-T' '5th'\n",
            " '6-point' '6th' '7-point' '7th' '8-point' '8th' '9-point' '9th' 'a' \"a'\"\n",
            " 'a-' 'A&M' 'A&P' 'A.' 'A.A.A.' 'A.B.' 'A.B.A.' 'A.C.' 'A.D.' 'A.D.C.'\n",
            " 'A.F.' 'A.F.A.M.' 'A.G.' 'A.H.' 'A.I.' 'A.I.A.' 'A.I.D.' 'A.L.' 'A.L.P.'\n",
            " 'A.M.' 'A.M.A.' 'A.M.D.G.' 'A.N.' 'a.p.' 'a.r.' 'A.R.C.S.' 'A.U.'\n",
            " 'A.U.C.' 'A.V.' 'a.w.' 'A.W.O.L.' 'A/C' 'A/F' 'A/O' 'A/P' 'A/V' 'A1'\n",
            " 'A-1' 'A4' 'A5' 'AA' 'AAA' 'AAAA' 'AAAAAA' 'AAAL' 'AAAS' 'Aaberg'\n",
            " 'Aachen' 'AAE' 'AAEE' 'AAF' 'AAG' 'aah' 'aahed' 'aahing' 'aahs' 'AAII'\n",
            " 'aal' 'Aalborg' 'Aalesund' 'aalii' 'aaliis']\n"
          ]
        }
      ],
      "source": [
        "feature_names = vectorizer.get_feature_names_out()\n",
        "\n",
        "print(len(feature_names))\n",
        "print(feature_names[:100])"
      ]
    },
    {
      "cell_type": "code",
      "execution_count": null,
      "metadata": {
        "id": "VMkKFxI2Pjuq",
        "outputId": "dd7f1347-6ad7-4685-deaa-90af04e4cdb5",
        "colab": {
          "base_uri": "https://localhost:8080/"
        }
      },
      "outputs": [
        {
          "output_type": "stream",
          "name": "stderr",
          "text": [
            "/usr/local/lib/python3.9/dist-packages/sklearn/feature_extraction/text.py:1380: UserWarning: Upper case characters found in vocabulary while 'lowercase' is True. These entries will not be matched with any documents\n",
            "  warnings.warn(\n"
          ]
        },
        {
          "output_type": "stream",
          "name": "stdout",
          "text": [
            "  (0, 9)\t1\n",
            "  (0, 1757)\t1\n",
            "  (0, 41737)\t2\n",
            "  (0, 51946)\t1\n",
            "  (0, 75059)\t1\n",
            "  (0, 110476)\t1\n",
            "  (0, 132559)\t1\n",
            "  (0, 134102)\t1\n",
            "  (0, 140287)\t1\n",
            "  (0, 167355)\t1\n",
            "  (0, 179840)\t1\n",
            "  (0, 205586)\t1\n",
            "  (0, 214232)\t1\n",
            "  (0, 214251)\t1\n",
            "  (0, 217830)\t1\n",
            "  (0, 218698)\t1\n",
            "  (0, 242689)\t1\n",
            "  (0, 246394)\t1\n",
            "  (0, 268031)\t2\n",
            "  (0, 270494)\t1\n",
            "  (0, 271432)\t2\n",
            "  (0, 271492)\t1\n",
            "  (0, 280042)\t1\n",
            "  (0, 281363)\t1\n",
            "  (0, 329668)\t1\n",
            "  (0, 345594)\t1\n",
            "  (0, 363663)\t1\n",
            "  (0, 374159)\t1\n",
            "  (0, 381303)\t1\n",
            "  (0, 389037)\t1\n",
            "  (0, 391936)\t1\n",
            "  (0, 404000)\t1\n",
            "  (0, 405633)\t1\n",
            "  (0, 413750)\t1\n",
            "  (0, 453619)\t1\n"
          ]
        }
      ],
      "source": [
        "train_vector_data = vectorizer.fit_transform(train_data.data)\n",
        "\n",
        "print(train_vector_data[10])"
      ]
    },
    {
      "cell_type": "code",
      "execution_count": null,
      "metadata": {
        "id": "3Pa_Kp20Pjus",
        "outputId": "f89f576f-2c3b-4eae-c818-c2163598c0ae",
        "colab": {
          "base_uri": "https://localhost:8080/"
        }
      },
      "outputs": [
        {
          "output_type": "stream",
          "name": "stdout",
          "text": [
            "  (0, 453619)\t0.08223785040000445\n",
            "  (0, 413750)\t0.20745941264857076\n",
            "  (0, 405633)\t0.12630663204552256\n",
            "  (0, 404000)\t0.08240275224223274\n",
            "  (0, 391936)\t0.11599850260272905\n",
            "  (0, 389037)\t0.028643370882499276\n",
            "  (0, 381303)\t0.17471820508648153\n",
            "  (0, 374159)\t0.14555447227782797\n",
            "  (0, 363663)\t0.16742761175875065\n",
            "  (0, 345594)\t0.1328133263674183\n",
            "  (0, 329668)\t0.2061861643268736\n",
            "  (0, 281363)\t0.16942679765389698\n",
            "  (0, 280042)\t0.15228548086648816\n",
            "  (0, 271492)\t0.02979788741788264\n",
            "  (0, 271432)\t0.21437906522262268\n",
            "  (0, 270494)\t0.10641429257432349\n",
            "  (0, 268031)\t0.31773477293650904\n",
            "  (0, 246394)\t0.19857553000612893\n",
            "  (0, 242689)\t0.13224234325676273\n",
            "  (0, 218698)\t0.02873718805331436\n",
            "  (0, 217830)\t0.06149340719890839\n",
            "  (0, 214251)\t0.21320729780394224\n",
            "  (0, 214232)\t0.2061861643268736\n",
            "  (0, 205586)\t0.09951479425717663\n",
            "  (0, 179840)\t0.23643507274685185\n",
            "  (0, 167355)\t0.10282469952662128\n",
            "  (0, 140287)\t0.15044873822346277\n",
            "  (0, 134102)\t0.24467525704433427\n",
            "  (0, 132559)\t0.15839393154203715\n",
            "  (0, 110476)\t0.07039468372127294\n",
            "  (0, 75059)\t0.14466852420361817\n",
            "  (0, 51946)\t0.22040579018131548\n",
            "  (0, 41737)\t0.2696064986160779\n",
            "  (0, 1757)\t0.2402598619502527\n",
            "  (0, 9)\t0.15465732107697616\n"
          ]
        }
      ],
      "source": [
        "from sklearn.feature_extraction.text import TfidfTransformer\n",
        "\n",
        "# Calculamos el valor TF-IDF \n",
        "\n",
        "tfidfer = TfidfTransformer()\n",
        "train_preprocessed = tfidfer.fit_transform(train_vector_data)\n",
        "\n",
        "print(train_preprocessed[10])"
      ]
    },
    {
      "cell_type": "markdown",
      "metadata": {
        "id": "Hc_RA7UvPjut"
      },
      "source": [
        "Vamos a mostrar los términos presentes en los mensajes de antes\n"
      ]
    },
    {
      "cell_type": "code",
      "execution_count": null,
      "metadata": {
        "id": "phSqEsf5Pjuu",
        "outputId": "46a09fd2-64cc-4823-c924-22851ed9dc33",
        "colab": {
          "base_uri": "https://localhost:8080/"
        }
      },
      "outputs": [
        {
          "output_type": "stream",
          "name": "stdout",
          "text": [
            "Mensaje 10 vectorizado: ['1st' 'accel' 'bike' 'bronze' 'clock' 'distribution' 'expires' 'faded'\n",
            " 'fix' 'hard' 'honk' 'keywords' 'leak' 'leaks' 'like' 'lines' 'model'\n",
            " 'motors' 'oil' 'opinions' 'org' 'organization' 'owner' 'paint'\n",
            " 'recommendation' 'runs' 'shop' 'sold' 'stable' 'subject' 'summary'\n",
            " 'thanks' 'thinking' 'trans' 'want'] \n",
            "\n",
            "Mensaje 1000 vectorizado: ['anybody' 'bbs' 'cursor' 'delivered' 'distortion' 'driver' 'drivers'\n",
            " 'gateway' 'indication' 'know' 'latest' 'library' 'lines' 'medicine'\n",
            " 'menus' 'organization' 'recently' 'running' 'sorry' 'subject' 'try'\n",
            " 'version' 'wondered'] \n",
            "\n"
          ]
        }
      ],
      "source": [
        "#write_terms(feature_names, train_data.data, train_vector_data, 10)\n",
        "write_terms(feature_names, None, train_vector_data, 10)\n",
        "\n",
        "write_terms(feature_names, None, train_vector_data, 1000)"
      ]
    },
    {
      "cell_type": "markdown",
      "metadata": {
        "id": "2LpiTTXQPjuv"
      },
      "source": [
        "Ahora no observamos  ruido en las palabras seleccionadas, aunque hemos perdido palabras de jerga como ``bit``, ``sdk``, ``Ducati`` o ``jap`` (abreviatura de japanese) que podrían ser útiles para discriminar mejor los temas.\n",
        "\n",
        "Por tanto nos quedamos con la bolsa de palabras generada por este segundo intento y será la que usemos para entrenar a nuestros clasificadores."
      ]
    },
    {
      "cell_type": "markdown",
      "metadata": {
        "id": "W-qgFmIsPjuv"
      },
      "source": [
        "Para probar los clasificadores en el conjunto de prueba, debemos transformar también los mensajes en bolsas de palabras con TF/IDF usando el `CountVectorizer` y `TfidfTransformer` ajustados con el conjunto de entrenamiento."
      ]
    },
    {
      "cell_type": "code",
      "execution_count": null,
      "metadata": {
        "id": "U2eZLPs7Pjuw"
      },
      "outputs": [],
      "source": [
        "# Tomamos los textos del conjunto de test y los transformamos en una matriz\n",
        "# de palabras. Al usar \"transform\" toma como referencia únicamente las palabras\n",
        "# encontradas en el conjunto de entrenamiento\n",
        "test_vector_data=vectorizer.transform(test_data.data)\n",
        "# Calculamos el valor TF-IDF \n",
        "# Al usar \"transform\" toma como IDF el del conjunto de entrenamiento \n",
        "test_preprocessed=tfidfer.transform(test_vector_data)"
      ]
    },
    {
      "cell_type": "markdown",
      "metadata": {
        "id": "DGcSmDxvPjux"
      },
      "source": [
        "## Entrenando los modelos de aprendizaje automático"
      ]
    },
    {
      "cell_type": "markdown",
      "metadata": {
        "id": "QMkczT1dPjux"
      },
      "source": [
        "Vamos a probar los clasificadores que ya conocemos en el problema de clasificación de textos.\n",
        "\n",
        "La versión que vamos a usar de los clasificadores es la versión por defecto. Sin embargo, es posible encontrar mejores clasificadores buscando combinaciones de parámetros más adecuadas durante el aprendizaje. "
      ]
    },
    {
      "cell_type": "markdown",
      "metadata": {
        "id": "lVnrN-k5Pjuz"
      },
      "source": [
        "### Árbol de decisión "
      ]
    },
    {
      "cell_type": "code",
      "execution_count": null,
      "metadata": {
        "id": "lPjSuHJcPju0",
        "outputId": "5508cca0-44c3-46a7-de52-94b282076e14",
        "colab": {
          "base_uri": "https://localhost:8080/"
        }
      },
      "outputs": [
        {
          "output_type": "stream",
          "name": "stdout",
          "text": [
            "Árbol, porcentaje de aciertos en entrenamiento: 0.9998232278592893\n",
            "Árbol, porcentaje de aciertos en test: 0.4811471056824217\n"
          ]
        }
      ],
      "source": [
        "from sklearn import tree\n",
        "import numpy as np\n",
        "\n",
        "# Creamos el clasificador con los valores por defecto\n",
        "tree_classifier = tree.DecisionTreeClassifier()\n",
        "tree_classifier.fit(train_preprocessed, train_data.target)\n",
        "\n",
        "tree_train_predictions = tree_classifier.predict(train_preprocessed)\n",
        "tree_test_predictions = tree_classifier.predict(test_preprocessed)\n",
        "\n",
        "print(\"Árbol, porcentaje de aciertos en entrenamiento:\", np.mean(tree_train_predictions == train_data.target))\n",
        "print(\"Árbol, porcentaje de aciertos en test:\", np.mean(tree_test_predictions == test_data.target))"
      ]
    },
    {
      "cell_type": "markdown",
      "metadata": {
        "id": "P4ejrXdrPju1"
      },
      "source": [
        "Podemos ver un fuerte sobre-aprendizaje, por lo que es conveniente mejorar el árbol modificando los parámetros de entrenamiento para que aumente la capacidad de generalización del árbol."
      ]
    },
    {
      "cell_type": "markdown",
      "metadata": {
        "id": "f53omD0WPju2"
      },
      "source": [
        "### k Vecinos Más Cercanos (k-NN)"
      ]
    },
    {
      "cell_type": "markdown",
      "metadata": {
        "id": "L7F3NNr-Pju2"
      },
      "source": [
        "La implementación de sklearn de K-NN no permite usar la disimilaridad del coseno (1-similitud del coseno) porque no es propiamente una distancia. Tampoco podemos usar el coeficiente de Jaccard porque no está implementado para matrices dispersas. Por tanto, usamos la distancia euclídea (por defecto), aunque no sea adecuada para espacios de tantas dimensiones. "
      ]
    },
    {
      "cell_type": "code",
      "execution_count": null,
      "metadata": {
        "id": "GHvSdRK6Pju3",
        "outputId": "8a350f69-6ffe-4259-915c-df212b4ddfe6",
        "colab": {
          "base_uri": "https://localhost:8080/"
        }
      },
      "outputs": [
        {
          "output_type": "stream",
          "name": "stdout",
          "text": [
            "k-NN, porcentaje de aciertos en entrenamiento: 0.8679512108891638\n",
            "k-NN, porcentaje de aciertos en test: 0.6255974508762613\n"
          ]
        }
      ],
      "source": [
        "from sklearn import neighbors\n",
        "\n",
        "knn_classifier = neighbors.KNeighborsClassifier()\n",
        "knn_classifier.fit(train_preprocessed, train_data.target)\n",
        "\n",
        "knn_train_predictions = knn_classifier.predict(train_preprocessed)\n",
        "knn_test_predictions = knn_classifier.predict(test_preprocessed)\n",
        "\n",
        "print(\"k-NN, porcentaje de aciertos en entrenamiento:\", np.mean(knn_train_predictions == train_data.target))\n",
        "print(\"k-NN, porcentaje de aciertos en test:\", np.mean(knn_test_predictions == test_data.target))"
      ]
    },
    {
      "cell_type": "markdown",
      "metadata": {
        "id": "4fsrVYsbPju5"
      },
      "source": [
        "Según los resultados es posible que se pueda encontrar parámetros para que la diferencia entre el error de entrenamiento y test no sea tan acusada.\n",
        "\n",
        "No obstante, el k-NN no es una técnica adecuada para este tipo de problemas donde las variables son del orden de los millares (palabras diferentes en el corpus) ya que sufre de la maldición de la dimensionalidad. Intenta buscar vecinos en un espacio de dimensiones muy elevado y además muy escasamente poblado (*sparsity*). En este caso el problema es muy significativo ya que el número de instancias de entrenamiento (11.314) es incluso menor que el número de dimensiones que se usa para representarlas (466.551)."
      ]
    },
    {
      "cell_type": "markdown",
      "metadata": {
        "id": "r74ufMPTPju-"
      },
      "source": [
        "### Naive Bayes"
      ]
    },
    {
      "cell_type": "markdown",
      "metadata": {
        "id": "FgqYeIqcPju_"
      },
      "source": [
        "El clasificador [Naive Bayes](https://en.wikipedia.org/wiki/Naive_Bayes_classifier) es un clasificador probabilístico muy simple y muy poderoso en este (y otros) contextos. \n",
        "\n",
        "El clasificador se llama \"naive\" es decir \"ingenuo\" porque asume que todas las variables son independientes entre sí. En este caso, que la ocurrencia de una palabra en un texto es independiente del resto de palabras. Esto no es así (en un texto de hardware es probable encontrar palabras como \"CPU\" y \"motherboard\", mientras que en uno de religión encontraremos \"pray\" y \"God\"). Pese a esta gran simplificación de la realidad el clasificador funciona muy bien.\n",
        "\n",
        "El clasificador aprende cómo de frecuente es cada clase y cómo de frecuente es que una palabra ocurra en cada clase. A la hora de clasificar un texto nuevo, el clasificador estima la probabilidad de que pertenezca a cada una de las clases y elige la más alta. \n",
        "Los clasificadores Naive Bayes Classifiers se entrenan muy rápido, pero no son los mejores. Suelen ser utilizados como clasificadores de referencia.\n"
      ]
    },
    {
      "cell_type": "markdown",
      "metadata": {
        "id": "DEuz99NlPju_"
      },
      "source": [
        "Existen tres tipos de Naive Bayes que se suelen utilizar en PLN según el tipo de problema:\n",
        "\n",
        " - __Naive Bayes Multinomial__ que se utiliza cuando las variables son enteras (como el número de apariciones de cada palabra en el documento) pero también se \"traga\" datos con decimales (como el valor TF/IDF). No admite números negativos.\n",
        "     - En algunos problemas, como en el análisis de sentimiento (*sentiment analysis*) de un texto, lo importante puede ser la presencia o ausencia de palabras que indiquen un sentimiento positivo o negativo, y no tanto su frecuencia. En estos casos se puede utilizar una versión binarizada del Naive Bayes Multinomial basada en la representación binarizada de los vectores bolsa de palabras (CountVectorizer con el parámetro binary=True).\n",
        " \n",
        "- __Naive Bayes Gaussiano__ que se utiliza cuando la variable que interesa es continua (por ejemplo TF/IDF). Admite valores positivos y negativos. \n",
        "\n",
        "- __Naive Bayes Bernoulli__ que se utiliza cuando es la ausencia de determinadas palabras la que importa. Por tanto, suele ser adecuado para clasificar documentos cortos (menos variedad de palabras) y para identificar contenido muy específico como SPAM y contenido adulto. "
      ]
    },
    {
      "cell_type": "markdown",
      "metadata": {
        "id": "Vz7ZnIOmPjvA"
      },
      "source": [
        "Vamos a trabajar con el **NB Multinomial**."
      ]
    },
    {
      "cell_type": "code",
      "execution_count": null,
      "metadata": {
        "id": "2SSIiBpgPjvA",
        "outputId": "dc5c9db7-a3e4-4af2-8398-a82f4a30223a",
        "colab": {
          "base_uri": "https://localhost:8080/"
        }
      },
      "outputs": [
        {
          "output_type": "stream",
          "name": "stdout",
          "text": [
            "Multinomial Naive Bayes, porcentaje de aciertos en entrenamiento: 0.9178009545695598\n",
            "Multinomial Naive Bayes, porcentaje de aciertos en test: 0.7412373871481678\n"
          ]
        }
      ],
      "source": [
        "from sklearn.naive_bayes import MultinomialNB\n",
        "\n",
        "mnb_classifier = MultinomialNB()\n",
        "\n",
        "mnb_classifier.fit(train_preprocessed, train_data.target)\n",
        "\n",
        "mnb_train_predictions = mnb_classifier.predict(train_preprocessed)\n",
        "mnb_test_predictions = mnb_classifier.predict(test_preprocessed)\n",
        "\n",
        "print(\"Multinomial Naive Bayes, porcentaje de aciertos en entrenamiento:\", np.mean(mnb_train_predictions == train_data.target))\n",
        "print(\"Multinomial Naive Bayes, porcentaje de aciertos en test:\", np.mean(mnb_test_predictions == test_data.target))"
      ]
    },
    {
      "cell_type": "markdown",
      "metadata": {
        "id": "rWZm07wJPjvH"
      },
      "source": [
        "## Evaluación detallada"
      ]
    },
    {
      "cell_type": "markdown",
      "metadata": {
        "id": "CwDBPcs8PjvI"
      },
      "source": [
        "Vamos a analizar el rendimiento del **Naive Bayes multinomial**.\n",
        "\n",
        "En un problema de clasificación multiclase suele ser muy interesante analizar dos cosas:\n",
        " - El rendimiento de la clasificación en cada una de las clases\n",
        " - La matriz de confusión\n",
        "\n",
        "Lo primero nos permite analizar en qué clases funciona mejor o peor el clasificador, de acuerdo a métricas como la precisión (cuando predice dicha clase cuánto acierta) y la exhaustividad  (cuántos ejemplos de una clase predice correctamente). También podemos ver la media (armònica) entre ambas medidas (F1 score).\n",
        "\n",
        "La matriz nos permite ver qué clases se confunden más entre sí y si dicha confusión es simétrica o no. \n",
        "    "
      ]
    },
    {
      "cell_type": "code",
      "execution_count": null,
      "metadata": {
        "id": "2j9gcgzdPjvI",
        "outputId": "4fdbe7a9-549e-41c1-ddfa-9f7f4c225923",
        "colab": {
          "base_uri": "https://localhost:8080/"
        }
      },
      "outputs": [
        {
          "output_type": "stream",
          "name": "stdout",
          "text": [
            "                          precision    recall  f1-score   support\n",
            "\n",
            "             alt.atheism       0.83      0.44      0.57       319\n",
            "           comp.graphics       0.66      0.69      0.67       389\n",
            " comp.os.ms-windows.misc       0.65      0.63      0.64       394\n",
            "comp.sys.ibm.pc.hardware       0.55      0.72      0.63       392\n",
            "   comp.sys.mac.hardware       0.73      0.59      0.65       385\n",
            "          comp.windows.x       0.75      0.74      0.75       395\n",
            "            misc.forsale       0.88      0.72      0.79       390\n",
            "               rec.autos       0.87      0.86      0.86       396\n",
            "         rec.motorcycles       0.88      0.87      0.87       398\n",
            "      rec.sport.baseball       0.93      0.88      0.91       397\n",
            "        rec.sport.hockey       0.91      0.95      0.93       399\n",
            "               sci.crypt       0.66      0.95      0.78       396\n",
            "         sci.electronics       0.76      0.63      0.69       393\n",
            "                 sci.med       0.92      0.81      0.86       396\n",
            "               sci.space       0.84      0.86      0.85       394\n",
            "  soc.religion.christian       0.50      0.94      0.65       398\n",
            "      talk.politics.guns       0.64      0.86      0.74       364\n",
            "   talk.politics.mideast       0.77      0.86      0.81       376\n",
            "      talk.politics.misc       0.92      0.39      0.55       310\n",
            "      talk.religion.misc       0.86      0.05      0.09       251\n",
            "\n",
            "                accuracy                           0.74      7532\n",
            "               macro avg       0.77      0.72      0.71      7532\n",
            "            weighted avg       0.77      0.74      0.73      7532\n",
            "\n"
          ]
        }
      ],
      "source": [
        "from sklearn.metrics import classification_report, confusion_matrix\n",
        "\n",
        "# NOTA: Aquí elegimos analizar un determinado clasificador y sus predicciones \n",
        "# Por ejemplo el naive bayes\n",
        "#classifier=mnb_classifier\n",
        "predictions = mnb_test_predictions\n",
        "\n",
        "print(classification_report(test_data.target, predictions, target_names=test_data.target_names))"
      ]
    },
    {
      "cell_type": "markdown",
      "metadata": {
        "id": "4Ocg4HwdPjvJ"
      },
      "source": [
        "En el caso del Naive Bayes Multinomial hay clases que se clasifican muy bien, como `rec.sport.hockey`, `rec.sport.baseball` y `rec.motorcycles`.\n",
        "\n",
        "Sin embargo, es interesante que hay clases como `talk.religion.misc` con una precisión muy alta y una exhaustividad muy bajo, y por otro lado clases donde sucede lo contrario, aunque no tan acusado, como en `soc.religion.christian`.\n",
        "\n",
        "La exhaustividad muy baja indica que esos textos tienden a confundirse mucho con otros. Una precisión baja por el contrario quiere decir que el clasificador no ha sido capaz de encontrar rasgos distintivos para dichos textos que los diferencien de otros.\n",
        "\n",
        "Podemos echar un vistazo más a la matriz de confusión para entender mejor este problema."
      ]
    },
    {
      "cell_type": "code",
      "execution_count": null,
      "metadata": {
        "id": "msRdy-TfPjvK",
        "outputId": "aa905a8d-d5bc-4f5c-894e-bdae7e3a5fed",
        "colab": {
          "base_uri": "https://localhost:8080/",
          "height": 1000
        }
      },
      "outputs": [
        {
          "output_type": "execute_result",
          "data": {
            "text/plain": [
              "(array([ 0.5,  1.5,  2.5,  3.5,  4.5,  5.5,  6.5,  7.5,  8.5,  9.5, 10.5,\n",
              "        11.5, 12.5, 13.5, 14.5, 15.5, 16.5, 17.5, 18.5, 19.5]),\n",
              " [Text(0.5, 0, 'alt.atheism'),\n",
              "  Text(1.5, 0, 'comp.graphics'),\n",
              "  Text(2.5, 0, 'comp.os.ms-windows.misc'),\n",
              "  Text(3.5, 0, 'comp.sys.ibm.pc.hardware'),\n",
              "  Text(4.5, 0, 'comp.sys.mac.hardware'),\n",
              "  Text(5.5, 0, 'comp.windows.x'),\n",
              "  Text(6.5, 0, 'misc.forsale'),\n",
              "  Text(7.5, 0, 'rec.autos'),\n",
              "  Text(8.5, 0, 'rec.motorcycles'),\n",
              "  Text(9.5, 0, 'rec.sport.baseball'),\n",
              "  Text(10.5, 0, 'rec.sport.hockey'),\n",
              "  Text(11.5, 0, 'sci.crypt'),\n",
              "  Text(12.5, 0, 'sci.electronics'),\n",
              "  Text(13.5, 0, 'sci.med'),\n",
              "  Text(14.5, 0, 'sci.space'),\n",
              "  Text(15.5, 0, 'soc.religion.christian'),\n",
              "  Text(16.5, 0, 'talk.politics.guns'),\n",
              "  Text(17.5, 0, 'talk.politics.mideast'),\n",
              "  Text(18.5, 0, 'talk.politics.misc'),\n",
              "  Text(19.5, 0, 'talk.religion.misc')])"
            ]
          },
          "metadata": {},
          "execution_count": 30
        },
        {
          "output_type": "display_data",
          "data": {
            "text/plain": [
              "<Figure size 1500x1000 with 2 Axes>"
            ],
            "image/png": "[encoded data removed]"
          },
          "metadata": {}
        }
      ],
      "source": [
        "%matplotlib inline\n",
        "import pandas as pd\n",
        "import seaborn as sn\n",
        "import matplotlib.pyplot as plt\n",
        "\n",
        "conf_matrix = confusion_matrix(test_data.target, predictions)\n",
        "conf_matrix_df = pd.DataFrame(conf_matrix, index=test_data.target_names, columns=test_data.target_names)\n",
        "\n",
        "plt.figure(figsize=(15, 10))\n",
        "sn.heatmap(conf_matrix_df, annot=True, vmin=0, vmax=conf_matrix.max(), fmt='d', cmap=\"YlGnBu\")\n",
        "plt.yticks(rotation=0)\n",
        "plt.xticks(rotation=90)"
      ]
    },
    {
      "cell_type": "markdown",
      "metadata": {
        "id": "uxqPD5s_PjvK"
      },
      "source": [
        "Ahora podemos comprobar la fuente de las confusiones. \n",
        "- Una fila con muchas observaciones fuera de la celda de la diagonal principal, indica una exhaustividad baja. \n",
        "    - Si las observaciones se concentran en alguna celda fuera de la diagonal, indica que son clasificadas (erróneamente) como de la clase a la que pertenezca su fila. Es el caso de las observaciones de `talk.religion.misc` que son clasificadas como `soc.religion.christian`, las de `talk.politics.misc`  ques son clasificadas como `talk.politics.guns` y las de `alt.atheism` que son clasificadas como `soc.religion.christian`. Es interesante que ninguna de estas confusiones es simétrica, lo que quiere decir que, por ejemplo, los textos de `soc.religion.christian` tienen suficientes rasgos distintivos para ser diferenciados de `alt.atheism`.\n",
        "- Una columna con muchas observaciones fuera de la celda de la diagonal principal, indica una una precisión baja, o una contaminación en la precisión del clasificador. \n",
        "    - Es el caso de `soc.religion.christian` (o de `comp.sys.ibm.pc.hardware`) que pese a tener una exhaustividad alta (>90%) tiene una precisión baja, ya que detecta como falsos positivos muchos textos de muchos otros temas."
      ]
    },
    {
      "cell_type": "markdown",
      "metadata": {
        "id": "MpRLng3JPjvM"
      },
      "source": [
        "### Importancia de las variables "
      ]
    },
    {
      "cell_type": "markdown",
      "metadata": {
        "id": "L5o588JcPjvM"
      },
      "source": [
        "Algunos algoritmos de clasificación permiten analizar cuáles son las variables más relevantes para la clasificación. Suele ser una buena idea para entender mejor los resultados analizar esas variables. En el caso de nuestro problema, lo que nos diría sería qué palabras son más útiles para realizar la clasificación. \n",
        "\n",
        "Este tipo de análisis es muy dependiente de la técnica que estemos utilizando, de los fundamentos en los que se base dicha técnica. De hecho, no todas las técnicas permiten hacer estos análisis ya que algunas son más \"caja negra\" que otras. \n",
        "\n",
        "Como información complementaria a lo que veremos en este notebook decir que el paquete **eli5** de Python tiene como objetivo explicar las predicciones de algunos modelos de machine learning."
      ]
    },
    {
      "cell_type": "markdown",
      "metadata": {
        "id": "F3sUgLktPjvN"
      },
      "source": [
        "#### Árboles de decisión"
      ]
    },
    {
      "cell_type": "markdown",
      "metadata": {
        "id": "2tLdy16OPjvN"
      },
      "source": [
        "En el caso de los árboles de decisión podemos obtener las variables con mayor poder de discriminación en el árbol obtenido, es decir, aquellas que mayor reducción de Gini han producido a lo largo del árbol."
      ]
    },
    {
      "cell_type": "code",
      "execution_count": null,
      "metadata": {
        "id": "Jr7L-DxNPjvO"
      },
      "outputs": [],
      "source": [
        "def print_top20_features_in_trees(vectorizer, clf):\n",
        "    \"\"\"Prints features with the highest coefficient values\"\"\"\n",
        "    feature_names = vectorizer.get_feature_names_out()\n",
        "    \n",
        "    top20 = np.argsort(clf.feature_importances_)[-20:]\n",
        "    reversed_top = top20[::-1]\n",
        "    print(\"Top 20 features in the tree\\n\")\n",
        "    print(\"%s\" % ( \" / \".join(feature_names[j] for j in reversed_top)))"
      ]
    },
    {
      "cell_type": "code",
      "execution_count": null,
      "metadata": {
        "id": "-Yb2uj9MPjvO",
        "outputId": "e4e8bb04-46a9-49d3-88b3-c80738939704",
        "colab": {
          "base_uri": "https://localhost:8080/"
        }
      },
      "outputs": [
        {
          "output_type": "stream",
          "name": "stdout",
          "text": [
            "Top 20 features in the tree\n",
            "\n",
            "clipper / windows / bike / hockey / space / baseball / guns / cars / christians / organization / graphics / atheists / lines / subject / posting / writes / turks / window / offer / arabs\n"
          ]
        }
      ],
      "source": [
        "print_top20_features_in_trees(vectorizer,tree_classifier)"
      ]
    },
    {
      "cell_type": "markdown",
      "metadata": {
        "id": "Twk7ZfhRPjvQ"
      },
      "source": [
        "En este caso es muy claro que estamos encontrando palabras que rápidamente nos remiten a alguno de los temas de los que tratan las noticias como es el caso de `clipper` que es un [chip de criptografía](https://www.cryptomuseum.com/crypto/usa/clipper.htm), `windows` que es el sistema operativo, ``bike`` que se refiere a motos, etc."
      ]
    },
    {
      "cell_type": "markdown",
      "metadata": {
        "id": "c2aLQmJrPjvQ"
      },
      "source": [
        "#### Naive Bayes"
      ]
    },
    {
      "cell_type": "markdown",
      "metadata": {
        "id": "qqOBcrfAPjvR"
      },
      "source": [
        "En el caso del Naive Bayes, por cada una de las clases a predecir, podemos obtener aquellas palabras que es más verosímil que aparezcan.  "
      ]
    },
    {
      "cell_type": "code",
      "execution_count": null,
      "metadata": {
        "id": "f5Vc7eMlPjvR"
      },
      "outputs": [],
      "source": [
        "def print_top20_features_per_class_in_NB(vectorizer, clf, class_labels):\n",
        "    \"\"\"Prints features with the highest coefficient values, per class\"\"\"\n",
        "    feature_names = vectorizer.get_feature_names_out()\n",
        "    print(\"Top 20 features per class\\n\")\n",
        "    for i, class_label in enumerate(class_labels):\n",
        "        top20 = np.argsort(clf.feature_log_prob_[i])[-20:]\n",
        "        reversed_top = top20[::-1]\n",
        "        \n",
        "        print(\"%s: %s\" % (class_label,\n",
        "              \" / \".join(feature_names[j] for j in reversed_top)),'\\n')\n",
        "        \n",
        "        #Descomentar para ver el índice de los términos en el diccionario\n",
        "        #print(\"%s \" % (\" / \".join(str(j) for j in reversed_top)),'\\n')"
      ]
    },
    {
      "cell_type": "code",
      "execution_count": null,
      "metadata": {
        "id": "YyVfLw3WPjvS",
        "outputId": "38407fdf-7209-46d7-c3ca-d53a504be449",
        "colab": {
          "base_uri": "https://localhost:8080/"
        }
      },
      "outputs": [
        {
          "output_type": "stream",
          "name": "stdout",
          "text": [
            "Top 20 features per class\n",
            "\n",
            "alt.atheism: atheists / writes / atheism / people / morality / article / think / religion / moral / lines / subject / posting / organization / objective / said / believe / does / mantis / evidence / know \n",
            "\n",
            "comp.graphics: graphics / image / lines / subject / organization / thanks / posting / file / program / ac / polygon / format / images / need / help / windows / version / looking / package / know \n",
            "\n",
            "comp.os.ms-windows.misc: windows / file / driver / drivers / lines / subject / organization / thanks / using / program / problem / version / access / help / know / does / mail / posting / run / article \n",
            "\n",
            "comp.sys.ibm.pc.hardware: drive / ide / controller / thanks / lines / subject / organization / disk / monitor / drives / motherboard / help / floppy / posting / computer / board / does / windows / gateway / problem \n",
            "\n",
            "comp.sys.mac.hardware: quadra / drive / lines / subject / monitor / organization / posting / thanks / does / duo / problem / know / video / computer / article / speed / distribution / like / writes / internal \n",
            "\n",
            "comp.windows.x: window / motif / widget / application / lines / organization / subject / thanks / posting / windows / display / file / code / program / internet / problem / using / running / color / ac \n",
            "\n",
            "misc.forsale: offer / shipping / distribution / subject / lines / organization / condition / posting / asking / interested / mail / drive / computer / software / used / games / wanted / trade / excellent / monitor \n",
            "\n",
            "rec.autos: cars / article / engine / subject / writes / organization / lines / oil / dealer / posting / like / distribution / think / drive / speed / know / reply / auto / automotive / right \n",
            "\n",
            "rec.motorcycles: bike / article / ride / bikes / writes / motorcycle / riding / organization / subject / lines / posting / like / helmet / dog / org / motorcycles / know / right / ed / distribution \n",
            "\n",
            "rec.sport.baseball: baseball / year / players / team / game / games / article / writes / runs / organization / subject / lines / braves / pitching / cubs / hit / posting / think / sox / league \n",
            "\n",
            "rec.sport.hockey: hockey / team / game / play / players / games / leafs / cup / wings / year / teams / rangers / playoff / organization / playoffs / subject / writes / lines / devils / league \n",
            "\n",
            "sci.crypt: clipper / encryption / keys / escrow / government / crypto / security / algorithm / secret / secure / writes / people / privacy / wiretap / encrypted / phone / code / subject / lines / organization \n",
            "\n",
            "sci.electronics: lines / subject / organization / circuit / posting / know / does / phone / need / electronics / like / voltage / thanks / article / writes / number / current / audio / ground / ac \n",
            "\n",
            "sci.med: article / science / food / disease / medical / writes / subject / organization / lines / skepticism / intellect / cadre / know / shameful / reply / patients / people / surrender / medicine / health \n",
            "\n",
            "sci.space: space / orbit / access / launch / article / writes / shuttle / zoo / lunar / subject / organization / lines / like / posting / spacecraft / billion / station / research / solar / zoology \n",
            "\n",
            "soc.religion.christian: christians / people / believe / think / know / subject / does / lines / organization / question / like / writes / true / religion / way / article / group / come / things / eternal \n",
            "\n",
            "talk.politics.guns: guns / people / stratus / firearms / weapons / writes / article / government / control / right / like / posting / think / subject / organization / lines / rights / believe / crime / compound \n",
            "\n",
            "talk.politics.mideast: armenians / people / serdar / turks / writes / arabs / article / org / policy / soldiers / said / government / subject / lines / world / killed / organization / think / genocide / occupied \n",
            "\n",
            "talk.politics.misc: people / writes / article / government / president / tax / drugs / think / men / organization / subject / lines / sexual / homosexual / health / jobs / make / like / money / homosexuals \n",
            "\n",
            "talk.religion.misc: people / morality / writes / article / objective / christians / organization / know / subject / lines / order / religion / think / believe / posting / world / said / like / does / children \n",
            "\n"
          ]
        }
      ],
      "source": [
        "print_top20_features_per_class_in_NB(vectorizer,mnb_classifier,test_data.target_names)       "
      ]
    },
    {
      "cell_type": "markdown",
      "metadata": {
        "id": "Y0-KW91xPjvT"
      },
      "source": [
        "En general, vemos que hay las palabras tienen bastante sentido, aunque existen otras como ``people`` que aparecen en primeras posiciones en todas los grupos de ``talk`` y que aparecen también en otros. O palabras como ``like`` que aunque pueden querer decir gustar, también pueden significar como, y que en cualquier caso parecen palabras casi vacías (otro caso similar es el de ``does`` o el de ``thanks``). "
      ]
    },
    {
      "cell_type": "markdown",
      "metadata": {
        "id": "JkTkkLBmPju6"
      },
      "source": [
        "### Perceptrón multicapa"
      ]
    },
    {
      "cell_type": "markdown",
      "metadata": {
        "id": "afl1KgP9Pju7"
      },
      "source": [
        "El perceptrón multicapa es también un clasificador adecuado. Sin embargo, el entrenamiento es mucho más costoso en tiempo. En este caso vamos a usar la implementación del perceptrón multicapa para problemas de clasificación.\n",
        "\n",
        "**AVISO: Ejecutar la celda siguiente lleva varias horas**"
      ]
    },
    {
      "cell_type": "code",
      "execution_count": null,
      "metadata": {
        "id": "qxpldQHoPju8",
        "outputId": "3b5fa4ed-2070-4a42-98b0-1a35da7ba4e4",
        "colab": {
          "base_uri": "https://localhost:8080/"
        }
      },
      "outputs": [
        {
          "output_type": "stream",
          "name": "stdout",
          "text": [
            "Iteration 1, loss = 2.79739304\n",
            "Iteration 2, loss = 2.00277919\n",
            "Iteration 3, loss = 1.15478677\n",
            "Iteration 4, loss = 0.65897631\n",
            "Iteration 5, loss = 0.41283366\n",
            "Iteration 6, loss = 0.28003240\n",
            "Iteration 7, loss = 0.20053885\n",
            "Iteration 8, loss = 0.14931990\n",
            "Iteration 9, loss = 0.11458703\n",
            "Iteration 10, loss = 0.09028007\n",
            "Iteration 11, loss = 0.07251267\n",
            "Iteration 12, loss = 0.05951144\n",
            "Iteration 13, loss = 0.04971623\n",
            "Iteration 14, loss = 0.04218669\n",
            "Iteration 15, loss = 0.03619733\n",
            "Iteration 16, loss = 0.03157435\n",
            "Iteration 17, loss = 0.02773718\n",
            "Iteration 18, loss = 0.02470043\n",
            "Iteration 19, loss = 0.02224077\n",
            "Iteration 20, loss = 0.02009064\n",
            "Iteration 21, loss = 0.01841235\n",
            "Iteration 22, loss = 0.01688614\n",
            "Iteration 23, loss = 0.01563453\n",
            "Iteration 24, loss = 0.01460113\n",
            "Iteration 25, loss = 0.01363194\n",
            "Iteration 26, loss = 0.01293822\n",
            "Iteration 27, loss = 0.01222759\n",
            "Iteration 28, loss = 0.01160733\n",
            "Iteration 29, loss = 0.01103499\n",
            "Iteration 30, loss = 0.01057824\n",
            "Iteration 31, loss = 0.01020531\n",
            "Iteration 32, loss = 0.00976385\n",
            "Iteration 33, loss = 0.00953485\n",
            "Iteration 34, loss = 0.00907097\n",
            "Iteration 35, loss = 0.00884729\n",
            "Iteration 36, loss = 0.00854263\n",
            "Iteration 37, loss = 0.00843052\n",
            "Iteration 38, loss = 0.00818915\n",
            "Iteration 39, loss = 0.00795447\n",
            "Iteration 40, loss = 0.00780150\n",
            "Iteration 41, loss = 0.00760131\n",
            "Iteration 42, loss = 0.00743688\n",
            "Iteration 43, loss = 0.00723421\n",
            "Iteration 44, loss = 0.00715526\n",
            "Iteration 45, loss = 0.00700024\n",
            "Iteration 46, loss = 0.00685562\n",
            "Iteration 47, loss = 0.00675251\n",
            "Iteration 48, loss = 0.00672592\n",
            "Iteration 49, loss = 0.00655910\n",
            "Iteration 50, loss = 0.00654247\n",
            "Iteration 51, loss = 0.00647184\n",
            "Iteration 52, loss = 0.00630811\n",
            "Iteration 53, loss = 0.00627961\n",
            "Iteration 54, loss = 0.00622631\n",
            "Iteration 55, loss = 0.00614556\n",
            "Iteration 56, loss = 0.00605818\n",
            "Iteration 57, loss = 0.00604236\n",
            "Iteration 58, loss = 0.00601837\n",
            "Iteration 59, loss = 0.00597672\n",
            "Iteration 60, loss = 0.00585054\n",
            "Iteration 61, loss = 0.00578279\n",
            "Iteration 62, loss = 0.00575843\n",
            "Iteration 63, loss = 0.00567809\n",
            "Iteration 64, loss = 0.00549340\n",
            "Iteration 65, loss = 0.00548734\n",
            "Iteration 66, loss = 0.00545700\n",
            "Iteration 67, loss = 0.00550590\n",
            "Iteration 68, loss = 0.00542978\n",
            "Iteration 69, loss = 0.00546073\n",
            "Iteration 70, loss = 0.00552463\n",
            "Iteration 71, loss = 0.00531289\n",
            "Iteration 72, loss = 0.00534297\n",
            "Iteration 73, loss = 0.00527507\n",
            "Iteration 74, loss = 0.00516113\n",
            "Iteration 75, loss = 0.00511431\n",
            "Iteration 76, loss = 0.00509389\n",
            "Iteration 77, loss = 0.00499372\n",
            "Iteration 78, loss = 0.00507695\n",
            "Iteration 79, loss = 0.00497405\n",
            "Iteration 80, loss = 0.00497570\n",
            "Iteration 81, loss = 0.00493170\n",
            "Iteration 82, loss = 0.00487622\n",
            "Iteration 83, loss = 0.00490970\n",
            "Iteration 84, loss = 0.00475121\n",
            "Iteration 85, loss = 0.00477754\n",
            "Iteration 86, loss = 0.00480190\n",
            "Iteration 87, loss = 0.00468836\n",
            "Iteration 88, loss = 0.00473403\n",
            "Iteration 89, loss = 0.00465676\n",
            "Iteration 90, loss = 0.00466272\n",
            "Iteration 91, loss = 0.00471838\n",
            "Iteration 92, loss = 0.00452714\n",
            "Iteration 93, loss = 0.00457925\n",
            "Iteration 94, loss = 0.00451888\n",
            "Iteration 95, loss = 0.00452089\n",
            "Iteration 96, loss = 0.00446434\n",
            "Iteration 97, loss = 0.00435126\n",
            "Iteration 98, loss = 0.00437019\n",
            "Iteration 99, loss = 0.00435726\n",
            "Iteration 100, loss = 0.00439233\n",
            "Iteration 101, loss = 0.00440919\n",
            "Iteration 102, loss = 0.00451611\n",
            "Iteration 103, loss = 0.00421803\n",
            "Iteration 104, loss = 0.00425256\n",
            "Iteration 105, loss = 0.00422496\n",
            "Iteration 106, loss = 0.00414602\n",
            "Iteration 107, loss = 0.00413117\n",
            "Iteration 108, loss = 0.00420897\n",
            "Iteration 109, loss = 0.00411135\n",
            "Iteration 110, loss = 0.00415480\n",
            "Iteration 111, loss = 0.00406137\n",
            "Iteration 112, loss = 0.00409493\n",
            "Iteration 113, loss = 0.00407263\n",
            "Iteration 114, loss = 0.00405939\n",
            "Training loss did not improve more than tol=0.000100 for 10 consecutive epochs. Stopping.\n",
            "Perceptrón, porcentaje de aciertos en entrenamiento: 0.999734841788934\n",
            "Perceptrón, porcentaje de aciertos en test: 0.7550451407328731\n"
          ]
        }
      ],
      "source": [
        "from sklearn.neural_network import MLPClassifier\n",
        "\n",
        "# Creamos el clasificador con los valores por defecto\n",
        "mlp_classifier = MLPClassifier(verbose=True)\n",
        "mlp_classifier.fit(train_preprocessed, train_data.target)\n",
        "\n",
        "mlp_train_predictions = mlp_classifier.predict(train_preprocessed)\n",
        "mlp_test_predictions = mlp_classifier.predict(test_preprocessed)\n",
        "\n",
        "print(\"Perceptrón, porcentaje de aciertos en entrenamiento:\", np.mean(mlp_train_predictions == train_data.target))\n",
        "print(\"Perceptrón, porcentaje de aciertos en test:\", np.mean(mlp_test_predictions == test_data.target))"
      ]
    },
    {
      "cell_type": "markdown",
      "metadata": {
        "id": "mzbfDG3qPjvG"
      },
      "source": [
        "### Otros clasificadores"
      ]
    },
    {
      "cell_type": "markdown",
      "metadata": {
        "id": "W9tBk_jfPjvG"
      },
      "source": [
        "Otro clasificador que se usa en PLN es la [regresión logística](https://en.wikipedia.org/wiki/Logistic_regression) o las más sofisticadas Máquinas de Vectores de Soporte o  [Support Vector Machines](https://en.wikipedia.org/wiki/Support_vector_machine). \n",
        "\n",
        "Por último, mencionar que existen otras corrientes más actuales que usan \"aprendizaje profundo\" o deep learning con aún mejores resultados."
      ]
    }
  ],
  "metadata": {
    "colab": {
      "provenance": []
    },
    "kernelspec": {
      "display_name": "Python 3",
      "language": "python",
      "name": "python3"
    },
    "language_info": {
      "codemirror_mode": {
        "name": "ipython",
        "version": 3
      },
      "file_extension": ".py",
      "mimetype": "text/x-python",
      "name": "python",
      "nbconvert_exporter": "python",
      "pygments_lexer": "ipython3",
      "version": "3.8.12"
    }
  },
  "nbformat": 4,
  "nbformat_minor": 0
}
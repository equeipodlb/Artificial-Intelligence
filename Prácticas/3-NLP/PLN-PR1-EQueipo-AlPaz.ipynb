{
 "cells": [
  {
   "cell_type": "markdown",
   "metadata": {
    "id": "OUBRwgEu3yu1"
   },
   "source": [
    "# Práctica 2: Procesamiento del Lenguaje Natural\n",
    "\n",
    "__Fecha de entrega: 8 de mayo de 2023__\n",
    "\n",
    "El objetivo de esta práctica es aplicar los conceptos teóricos vistos en clase en el módulo de PLN. La práctica consta de 2 notebooks que se entregarán simultáneamente en la tarea de entrega habilitada en el Campus  Virtual.\n",
    "\n",
    "Lo más importante en esta práctica no es el código Python, sino el análisis de los datos y modelos que construyas y las explicaciones razonadas de cada una de las decisiones que tomes. __No se valorarán trozos de código o gráficas sin ningún tipo de contexto o explicación__.\n",
    "\n",
    "Finalmente, recuerda establecer el parámetro `random_state` en todas las funciones que tomen decisiones aleatorias para que los resultados sean reproducibles (los resultados no varíen entre ejecuciones)."
   ]
  },
  {
   "cell_type": "code",
   "execution_count": 1,
   "metadata": {
    "id": "V3YxCTUW3yu9"
   },
   "outputs": [],
   "source": [
    "RANDOM_STATE = 333"
   ]
  },
  {
   "cell_type": "markdown",
   "metadata": {
    "id": "pn_YQLVL3yvA"
   },
   "source": [
    "# Apartado 1: Análisis de sentimientos\n"
   ]
  },
  {
   "cell_type": "markdown",
   "metadata": {
    "id": "de-i8w0s3yvC"
   },
   "source": [
    "__Nombres de los estudiantes: Enrique Queipo de Llano Burgos y Alejandro Paz Olalla__"
   ]
  },
  {
   "cell_type": "markdown",
   "metadata": {
    "id": "yeVD_g2D3yvC"
   },
   "source": [
    "## 1) Carga del conjunto de datos\n",
    "\n",
    "El fichero `IMBD_Dataset.csv` contiene opiniones de películas clasificadas en 2 categorías diferentes (positiva/negativa).\n",
    "\n",
    "Este set de datos se creó utilizando el \"IMDB Dataset of 50K Movie Reviews\", el cual contiene 50,000 reseñas de películas con un sentimiento positivo o negativo adjunto a ellas.\n",
    "\n",
    "Muestra un ejemplo de cada clase.\n",
    "\n",
    "Haz un estudio del conjunto de datos. ¿qué palabras aparecen más veces?, ¿tendría sentido normalizar de alguna manera el corpus?\n",
    "\n",
    "Crea una partición de los datos dejando el 80% para entrenamiento y el 20% restante para test usando la función `train_test_split` de sklearn. Comprueba que la distribución de los ejemplos en las clases es la misma en entrenamiento y test. "
   ]
  },
  {
   "cell_type": "code",
   "execution_count": 2,
   "metadata": {
    "colab": {
     "base_uri": "https://localhost:8080/"
    },
    "id": "5YyPy4BDfzGQ",
    "outputId": "d3637bed-fd90-4b68-9372-ed77292ae301"
   },
   "outputs": [],
   "source": [
    "# acceso a google drive\n",
    "\n",
    "#from google.colab import drive\n",
    "#drive.mount('/content/drive')"
   ]
  },
  {
   "cell_type": "code",
   "execution_count": 3,
   "metadata": {
    "id": "0csu2B8N3yvE"
   },
   "outputs": [],
   "source": [
    "import pandas as pd\n",
    "pd.options.display.max_colwidth = 100\n",
    "import numpy as np\n",
    "from sklearn.model_selection import train_test_split,GridSearchCV,cross_validate\n",
    "%matplotlib inline\n",
    "import matplotlib.pyplot as plt\n",
    "import seaborn as sns\n",
    "from sklearn.feature_extraction.text import CountVectorizer\n",
    "from sklearn.feature_extraction.text import TfidfTransformer\n",
    "import nltk\n",
    "import re\n",
    "from sklearn import tree\n",
    "from sklearn.naive_bayes import MultinomialNB\n",
    "from sklearn.metrics import classification_report, confusion_matrix"
   ]
  },
  {
   "cell_type": "code",
   "execution_count": 4,
   "metadata": {
    "colab": {
     "base_uri": "https://localhost:8080/",
     "height": 206
    },
    "id": "kmcEfPgYf1Fk",
    "outputId": "e7aed290-7b25-478a-8bed-3872fd756c12"
   },
   "outputs": [
    {
     "data": {
      "text/html": [
       "<div>\n",
       "<style scoped>\n",
       "    .dataframe tbody tr th:only-of-type {\n",
       "        vertical-align: middle;\n",
       "    }\n",
       "\n",
       "    .dataframe tbody tr th {\n",
       "        vertical-align: top;\n",
       "    }\n",
       "\n",
       "    .dataframe thead th {\n",
       "        text-align: right;\n",
       "    }\n",
       "</style>\n",
       "<table border=\"1\" class=\"dataframe\">\n",
       "  <thead>\n",
       "    <tr style=\"text-align: right;\">\n",
       "      <th></th>\n",
       "      <th>review</th>\n",
       "      <th>sentiment</th>\n",
       "    </tr>\n",
       "  </thead>\n",
       "  <tbody>\n",
       "    <tr>\n",
       "      <th>0</th>\n",
       "      <td>One of the other reviewers has mentioned that after watching just 1 Oz episode you'll be hooked....</td>\n",
       "      <td>positive</td>\n",
       "    </tr>\n",
       "    <tr>\n",
       "      <th>1</th>\n",
       "      <td>A wonderful little production. &lt;br /&gt;&lt;br /&gt;The filming technique is very unassuming- very old-ti...</td>\n",
       "      <td>positive</td>\n",
       "    </tr>\n",
       "    <tr>\n",
       "      <th>2</th>\n",
       "      <td>I thought this was a wonderful way to spend time on a too hot summer weekend, sitting in the air...</td>\n",
       "      <td>positive</td>\n",
       "    </tr>\n",
       "    <tr>\n",
       "      <th>3</th>\n",
       "      <td>Basically there's a family where a little boy (Jake) thinks there's a zombie in his closet &amp; his...</td>\n",
       "      <td>negative</td>\n",
       "    </tr>\n",
       "    <tr>\n",
       "      <th>4</th>\n",
       "      <td>Petter Mattei's \"Love in the Time of Money\" is a visually stunning film to watch. Mr. Mattei off...</td>\n",
       "      <td>positive</td>\n",
       "    </tr>\n",
       "  </tbody>\n",
       "</table>\n",
       "</div>"
      ],
      "text/plain": [
       "                                                                                                review  \\\n",
       "0  One of the other reviewers has mentioned that after watching just 1 Oz episode you'll be hooked....   \n",
       "1  A wonderful little production. <br /><br />The filming technique is very unassuming- very old-ti...   \n",
       "2  I thought this was a wonderful way to spend time on a too hot summer weekend, sitting in the air...   \n",
       "3  Basically there's a family where a little boy (Jake) thinks there's a zombie in his closet & his...   \n",
       "4  Petter Mattei's \"Love in the Time of Money\" is a visually stunning film to watch. Mr. Mattei off...   \n",
       "\n",
       "  sentiment  \n",
       "0  positive  \n",
       "1  positive  \n",
       "2  positive  \n",
       "3  negative  \n",
       "4  positive  "
      ]
     },
     "execution_count": 4,
     "metadata": {},
     "output_type": "execute_result"
    }
   ],
   "source": [
    "imbd_file = 'IMDB_Dataset.csv'\n",
    "\n",
    "df=pd.read_csv(imbd_file)\n",
    "df.head()"
   ]
  },
  {
   "cell_type": "code",
   "execution_count": 5,
   "metadata": {},
   "outputs": [
    {
     "name": "stdout",
     "output_type": "stream",
     "text": [
      "<class 'pandas.core.frame.DataFrame'>\n",
      "RangeIndex: 50000 entries, 0 to 49999\n",
      "Data columns (total 2 columns):\n",
      " #   Column     Non-Null Count  Dtype \n",
      "---  ------     --------------  ----- \n",
      " 0   review     50000 non-null  object\n",
      " 1   sentiment  50000 non-null  object\n",
      "dtypes: object(2)\n",
      "memory usage: 781.4+ KB\n"
     ]
    }
   ],
   "source": [
    "df.info()"
   ]
  },
  {
   "cell_type": "code",
   "execution_count": 6,
   "metadata": {},
   "outputs": [
    {
     "data": {
      "text/plain": [
       "(50000, 2)"
      ]
     },
     "execution_count": 6,
     "metadata": {},
     "output_type": "execute_result"
    }
   ],
   "source": [
    "df.shape"
   ]
  },
  {
   "cell_type": "code",
   "execution_count": 7,
   "metadata": {},
   "outputs": [
    {
     "name": "stdout",
     "output_type": "stream",
     "text": [
      "Positive review:  [['The minutiae of what\\'s involved in carrying out a robbery is what makes this one of the best of all heist movies. Then there\\'s the robbery itself, a wordless, thirty minute nail-biter that has never been surpassed, followed by what is probably the cinema\\'s most pronounced example of dishonor among thieves as things begin to spectacularly unravel, and we have what is unquestionably the greatest of all heist movies.<br /><br />This was a tough and unsentimental film when it first appeared in 1955 and it is just as tough and unsentimental today. (It displays some of the edgy brutality of Dassin\\'s earlier \"Brute Force\"). There isn\\'t a flabby moment or duff performance in the entire film and Dassin captures the milieu of seedy clubs and Parisian back streets like no-one else and the final drive through Paris by a dying man is one of the most iconic closing sequences of any movie. A classic.'\n",
      "  'positive']]\n",
      "Negative review:  [[\"Crude, some times crass - to me that's the summation of Madhur Bhandarkar's latest work - Page 3. He has no point of view - just shallow, funny digs at stereotypes. What is the movie about?? Is it about reporting a clan of people (so called Page 3 types) who are so busy socializing and progressing their profiles in life - that they have no time for anything else. And you are either in it or out of it. Is it that there is no press at all to report everyday incidents. Madhur Bhandarkar forgets that there is a main newspaper and Page 3 is just a supplement; perhaps an entertainer for checking out who's who and what's what. Don't mix the two. And then there is power play - that would happen in every walk of life. So what have you told at the end of it all - nothing - just a few crude jokes strung together in an otherwise direction less movie.\"\n",
      "  'negative']]\n"
     ]
    }
   ],
   "source": [
    "positive = df[df['sentiment'] == 'positive'].sample(random_state=RANDOM_STATE)\n",
    "positive_index = positive.index.values\n",
    "negative = df[df['sentiment'] == 'negative'].sample(random_state=RANDOM_STATE)\n",
    "negative_index = negative.index.values\n",
    "print('Positive review: ',positive.values)\n",
    "print('Negative review: ',negative.values)"
   ]
  },
  {
   "cell_type": "code",
   "execution_count": 8,
   "metadata": {},
   "outputs": [
    {
     "name": "stdout",
     "output_type": "stream",
     "text": [
      "positive    25000\n",
      "negative    25000\n",
      "Name: sentiment, dtype: int64\n"
     ]
    },
    {
     "data": {
      "text/plain": [
       "<AxesSubplot:xlabel='sentiment', ylabel='count'>"
      ]
     },
     "execution_count": 8,
     "metadata": {},
     "output_type": "execute_result"
    },
    {
     "data": {
      "image/png": "[encoded data removed]",
      "text/plain": [
       "<Figure size 432x288 with 1 Axes>"
      ]
     },
     "metadata": {
      "needs_background": "light"
     },
     "output_type": "display_data"
    }
   ],
   "source": [
    "print(df['sentiment'].value_counts())\n",
    "sns.countplot(x = \"sentiment\", data = df)"
   ]
  },
  {
   "cell_type": "code",
   "execution_count": 9,
   "metadata": {},
   "outputs": [
    {
     "name": "stdout",
     "output_type": "stream",
     "text": [
      "Review  [24285] [\"Kirk and crew land on a lonely planet where the sun is about to explode. They intend to evacuate the inhabitants but find the place deserted except for a Mr. Atoz who operates some sort of high-tech library. Despite trying to get a straight answer from him about everyone's whereabouts, Atoz is indifferent to their questions and insist they must quickly 'make a selection while there is still time'. They have no idea what he's talking about but wander about looking at the hand mirror-like disks on the viewers and they see images of the planet's past. Then, while a disk is in the viewer, Kirk runs through the doorway and is magically transported back in time to what on Earth would look like the time of Louis XIV (the 1660s). When McCoy and Spock follow, a different disk is in the viewer and they are sent to an ice age hell. All too late they realize that the library is a time travel machine and repository.<br /><br />While Kirk's visit is pretty short and not all that exciting, Spock and McCoy's is much more eventful, as Spock falls head over heels for Mariette Hartley--who was sent to this awful place as a punishment. The scenes with Spock are exceptionally interesting and very atypical of the normally logical guy.<br /><br />Spock's departure from the norm, the wildly inventive script and very diverse locales make this an exceptional episode--one well worth seeing.<br /><br />FYI--Ian Wolfe, the excellent character actor, played Mr. Atoz. I am a huge fan of older films and have seen him as a supporting and bit player in countless films in the 30s and 40s and he looked almost exactly like he did in this episode from 1969. Interestingly enough, despite looking ancient, he lived on another 23 years--dying at over 95 years of age!!\"]\n"
     ]
    }
   ],
   "source": [
    "X = df['review']\n",
    "y = df['sentiment']\n",
    "X_train, X_test, y_train, y_test = train_test_split(X, y, test_size=0.2, random_state=RANDOM_STATE)\n",
    "train_sample = X_train.sample(random_state=RANDOM_STATE)\n",
    "train_sample_index = train_sample.index.values\n",
    "print('Review ', train_sample_index, train_sample.values)"
   ]
  },
  {
   "cell_type": "code",
   "execution_count": 10,
   "metadata": {},
   "outputs": [
    {
     "data": {
      "text/plain": [
       "[Text(0.5, 1.0, 'Distribution of the train set')]"
      ]
     },
     "execution_count": 10,
     "metadata": {},
     "output_type": "execute_result"
    },
    {
     "data": {
      "image/png": "[encoded data removed]",
      "text/plain": [
       "<Figure size 432x288 with 1 Axes>"
      ]
     },
     "metadata": {
      "needs_background": "light"
     },
     "output_type": "display_data"
    }
   ],
   "source": [
    "sns.countplot(x=y_train).set(title='Distribution of the train set')"
   ]
  },
  {
   "cell_type": "code",
   "execution_count": 11,
   "metadata": {},
   "outputs": [
    {
     "data": {
      "text/plain": [
       "[Text(0.5, 1.0, 'Distribution of the test set')]"
      ]
     },
     "execution_count": 11,
     "metadata": {},
     "output_type": "execute_result"
    },
    {
     "data": {
      "image/png": "[encoded data removed]",
      "text/plain": [
       "<Figure size 432x288 with 1 Axes>"
      ]
     },
     "metadata": {
      "needs_background": "light"
     },
     "output_type": "display_data"
    }
   ],
   "source": [
    "sns.countplot(x=y_test).set(title='Distribution of the test set')"
   ]
  },
  {
   "cell_type": "markdown",
   "metadata": {},
   "source": [
    "Observamos que las distribuciones en los conjuntos de entrenamiento y prueba son prácticamente iguales y no tenemos class imbalance.\n",
    "\n",
    "A continuación, queremos ver qué palabras son las que más se repiten. Para ello, vectorizaremos el corpus y sumaremos cada fila para calcular cuántas veces aparece cada palabra."
   ]
  },
  {
   "cell_type": "code",
   "execution_count": 12,
   "metadata": {},
   "outputs": [
    {
     "data": {
      "text/plain": [
       "<50000x101895 sparse matrix of type '<class 'numpy.int64'>'\n",
       "\twith 6826529 stored elements in Compressed Sparse Row format>"
      ]
     },
     "execution_count": 12,
     "metadata": {},
     "output_type": "execute_result"
    }
   ],
   "source": [
    "#Primero vectorizamos las reviews\n",
    "cv = CountVectorizer()\n",
    "cv_matrix = cv.fit_transform(df['review'])\n",
    "cv_matrix"
   ]
  },
  {
   "cell_type": "code",
   "execution_count": 13,
   "metadata": {},
   "outputs": [
    {
     "data": {
      "text/plain": [
       "array([ 62917,  64110, 101096,  33226,  13654,  99740,  34443,  60214,\n",
       "         6166,  98149,  90137,  90455,  44763,  46902,  12041,  46765,\n",
       "        91217,  63757,   4541,  90160])"
      ]
     },
     "execution_count": 13,
     "metadata": {},
     "output_type": "execute_result"
    }
   ],
   "source": [
    "# Nº de veces que aparece cada palabra == suma de su correspondiente columna\n",
    "# Sacamos las sumas\n",
    "totales = np.squeeze(np.asarray(np.sum(cv_matrix, axis = 0)))\n",
    "# Ordenamos y nos quedamos con los 20 mejores índices\n",
    "top20 = np.argsort(totales)[-20:]\n",
    "top20"
   ]
  },
  {
   "cell_type": "code",
   "execution_count": 14,
   "metadata": {},
   "outputs": [
    {
     "data": {
      "text/plain": [
       "array(['not', 'on', 'you', 'film', 'but', 'with', 'for', 'movie', 'as',\n",
       "       'was', 'that', 'this', 'in', 'it', 'br', 'is', 'to', 'of', 'and',\n",
       "       'the'], dtype=object)"
      ]
     },
     "execution_count": 14,
     "metadata": {},
     "output_type": "execute_result"
    }
   ],
   "source": [
    "# Enseñamos las 20 palabras más repetidas\n",
    "cv.get_feature_names_out()[top20]"
   ]
  },
  {
   "cell_type": "markdown",
   "metadata": {},
   "source": [
    "Podemos ver que las palabras que más aparecen (como tabmién es de esperar) son preposiciones, pronombres, etc que no aportan mucho a la clasificación del documento, por tanto será importante normalizarlo para eliminar estas stopwords. Este es el caso de palabras como ``this``, ``that``, ``and``, ``you``... o incluso de la notación html para el salto de línea ``br``."
   ]
  },
  {
   "cell_type": "code",
   "execution_count": 15,
   "metadata": {
    "datalore": {
     "hide_input_from_viewers": false,
     "hide_output_from_viewers": false,
     "node_id": "XCSCi12Ut7UkGvGJLt8fS9",
     "report_properties": {
      "rowId": "eVGmQHoecOeCIqwoY4qBbO"
     },
     "type": "CODE"
    }
   },
   "outputs": [
    {
     "name": "stderr",
     "output_type": "stream",
     "text": [
      "[nltk_data] Downloading package stopwords to\n",
      "[nltk_data]     /Users/quiquequeipodellano/nltk_data...\n",
      "[nltk_data]   Package stopwords is already up-to-date!\n"
     ]
    }
   ],
   "source": [
    "wpt = nltk.WordPunctTokenizer()\n",
    "nltk.download('stopwords')\n",
    "stop_words = nltk.corpus.stopwords.words('english')\n",
    "\n",
    "def normalize_document(doc):\n",
    "    # lower case and remove special characters\\whitespaces\n",
    "    doc = re.sub(r'[^a-zA-Z\\s]', '', doc, re.I|re.A)\n",
    "    doc = doc.lower()\n",
    "    doc = doc.strip()\n",
    "    # tokenize document\n",
    "    tokens = wpt.tokenize(doc)\n",
    "    # filter stopwords out of document\n",
    "    filtered_tokens = [token for token in tokens if token not in stop_words]\n",
    "    # re-create document from filtered tokens\n",
    "    doc = ' '.join(filtered_tokens)\n",
    "    return doc\n",
    "\n",
    "normalize_corpus = np.vectorize(normalize_document)"
   ]
  },
  {
   "cell_type": "code",
   "execution_count": 16,
   "metadata": {
    "datalore": {
     "hide_input_from_viewers": false,
     "hide_output_from_viewers": false,
     "node_id": "KHE4fFH811y18qcAhCZ7VB",
     "report_properties": {
      "rowId": "puBTTEPjB3CgjHepQ5spUC"
     },
     "type": "CODE"
    }
   },
   "outputs": [
    {
     "data": {
      "text/plain": [
       "array(['one reviewers mentioned watching oz episode youll hooked right exactly happened mebr br first thing struck oz brutality unflinching scenes violence set right word go trust show faint hearted timid show pulls punches regards drugs sex violence hardcore classic use wordbr br called oz nickname given oswald maximum security state penitentary focuses mainly emerald city experimental section prison cells glass fronts face inwards privacy high agenda em city home manyaryans muslims gangstas latinos christians italians irish moreso scuffles death stares dodgy dealings shady agreements never far awaybr br would say main appeal show due fact goes shows wouldnt dare forget pretty pictures painted mainstream audiences forget charm forget romanceoz doesnt mess around first episode ever saw struck nasty surreal couldnt say ready watched developed taste oz got accustomed high levels graphic violence violence injustice crooked guards wholl sold nickel inmates wholl kill order get away well mannered middle class inmates turned prison bitches due lack street skills prison experience watching oz may become comfortable uncomfortable viewingthats get touch darker side',\n",
       "       'wonderful little production br br filming technique unassuming oldtimebbc fashion gives comforting sometimes discomforting sense realism entire piece br br actors extremely well chosen michael sheen got polari voices pat truly see seamless editing guided references williams diary entries well worth watching terrificly written performed piece masterful production one great masters comedy life br br realism really comes home little things fantasy guard rather use traditional dream techniques remains solid disappears plays knowledge senses particularly scenes concerning orton halliwell sets particularly flat halliwells murals decorating every surface terribly well done',\n",
       "       'thought wonderful way spend time hot summer weekend sitting air conditioned theater watching lighthearted comedy plot simplistic dialogue witty characters likable even well bread suspected serial killer may disappointed realize match point risk addiction thought proof woody allen still fully control style many us grown lovebr br id laughed one woodys comedies years dare say decade ive never impressed scarlet johanson managed tone sexy image jumped right average spirited young womanbr br may crown jewel career wittier devil wears prada interesting superman great comedy go see friends',\n",
       "       ...,\n",
       "       'catholic taught parochial elementary schools nuns taught jesuit priests high school college still practicing catholic would considered good catholic churchs eyes dont believe certain things act certain ways church tells tobr br back movieits bad two people killed nun supposed satire embodiment female religious figurehead comedy satire done well acting diane keaton never saw play different movies may goodbr br first thought gun might fake first shooting plan female lead four former students attempt demonstrate sister marys emotional intellectual bigotry faith turns bullets real story tragedythe tragedy loss life besides two former studentsthe lives aborted babies life students mom tragedy dogmatic authority love people tragedy organized religion replacing true faith god wrong todays islam yesterdays judaism christianity',\n",
       "       'im going disagree previous comment side maltin one second rate excessively vicious western creaks groans trying put across central theme wild west tamed kicked aside steady march time would like tradition butch cassidy sundance kid lacks films poignancy charm andrew mclaglens direction limp final minutes real botch incomprehensible strategy part heroes charlton heston chris mitchum someone give holler explain set hillside fire something callous whole treatment rape scene womans reaction afterwards certainly ring true coburn plenty nasty half breed escaped convict revenge fellow escapees underdeveloped theyre like bowling pins knocked one one story lurches forward michael parks gives one typically shifty lethargic mumbling performances case appropriate modern style sheriff symbolizes complacency technological progress bring',\n",
       "       'one expects star trek movies high art fans expect movie good best episodes unfortunately movie muddled implausible plot left cringing far worst nine far movies even chance watch well known characters interact another movie cant save movie including goofy scenes kirk spock mccoy yosemitebr br would say movie worth rental hardly worth watching however true fan needs see movies renting movie way youll see even cable channels avoid movie'],\n",
       "      dtype='<U9505')"
      ]
     },
     "execution_count": 16,
     "metadata": {},
     "output_type": "execute_result"
    }
   ],
   "source": [
    "norm_corpus = normalize_corpus(df['review'])\n",
    "norm_corpus"
   ]
  },
  {
   "cell_type": "code",
   "execution_count": 17,
   "metadata": {},
   "outputs": [
    {
     "data": {
      "text/plain": [
       "<50000x175583 sparse matrix of type '<class 'numpy.int64'>'\n",
       "\twith 4987630 stored elements in Compressed Sparse Row format>"
      ]
     },
     "execution_count": 17,
     "metadata": {},
     "output_type": "execute_result"
    }
   ],
   "source": [
    "#Primero vectorizamos las reviews\n",
    "cv = CountVectorizer()\n",
    "cv_matrix = cv.fit_transform(norm_corpus)\n",
    "cv_matrix"
   ]
  },
  {
   "cell_type": "code",
   "execution_count": 18,
   "metadata": {},
   "outputs": [
    {
     "data": {
      "text/plain": [
       "array([ 55513, 114935,  10843,   4525,  64488,  61478, 169350, 101915,\n",
       "       148067, 136112, 125769, 156651, 172826,  49868,  63233,  88361,\n",
       "       109560,  54626, 101168,  18449])"
      ]
     },
     "execution_count": 18,
     "metadata": {},
     "output_type": "execute_result"
    }
   ],
   "source": [
    "# Nº de veces que aparece cada palabra == suma de su correspondiente columna\n",
    "# Sacamos las sumas\n",
    "totales = np.squeeze(np.asarray(np.sum(cv_matrix, axis = 0)))\n",
    "# Ordenamos y nos quedamos con los 20 mejores índices\n",
    "top20 = np.argsort(totales)[-20:]\n",
    "top20"
   ]
  },
  {
   "cell_type": "code",
   "execution_count": 19,
   "metadata": {},
   "outputs": [
    {
     "data": {
      "text/plain": [
       "array(['first', 'people', 'bad', 'also', 'great', 'get', 'well', 'much',\n",
       "       'story', 'see', 'really', 'time', 'would', 'even', 'good', 'like',\n",
       "       'one', 'film', 'movie', 'br'], dtype=object)"
      ]
     },
     "execution_count": 19,
     "metadata": {},
     "output_type": "execute_result"
    }
   ],
   "source": [
    "# Enseñamos las 20 palabras más repetidas\n",
    "cv.get_feature_names_out()[top20]"
   ]
  },
  {
   "cell_type": "markdown",
   "metadata": {},
   "source": [
    "Una vez normalizado el documento, vemos que el top20 de palabras más repetidas ha pasado a tener adejtivos y sustantivos que sí proyectan cierto significado, aunque no nos hemos librado del ``br``. En concreto nos interesarán palabras como ``bad`` o ``great`` ya que incluyen el significado positivo/negativo que andamos buscando para la clasificación de los textos del problema."
   ]
  },
  {
   "cell_type": "markdown",
   "metadata": {},
   "source": [
    "\n",
    "\n",
    "## 2) Estudio del efecto de distintas representaciones y distintos algoritmos para resolver la tarea\n",
    "\n",
    "Construye distintas representaciones vectoriales basadas en lo contado en las clases de teoría (bolsas de palabras con 2 configuraciones distintas significativas) y utilízalas con 2 de los algoritmos estudiados (árboles de decisión y naive bayes)\n",
    "\n",
    "Para una única configuración, muestra algún mensaje tanto en su formato de texto original como en la versión vectorizada. ¿Qué palabras se han eliminado y por qué?\n"
   ]
  },
  {
   "cell_type": "markdown",
   "metadata": {
    "datalore": {
     "hide_input_from_viewers": false,
     "hide_output_from_viewers": false,
     "node_id": "zbeFfwTIJdGZrhzHi7En75",
     "report_properties": {
      "rowId": "3nNzP3ESune7i0U7VHsYC2"
     },
     "type": "MD"
    }
   },
   "source": [
    "#### Procederemos como en el tutorial, esto es, generar una bolsa de palabras con TF-IDF  con un vocabulario previamente elaborado y, por otro lado, usaremos un  con una vectorización binaria que infiera el vocabulario.\n",
    "\n",
    "Para ello crearemos dos objetos de tipo `CountVectorizer` distintos. \n",
    "\n",
    "El primero objeto `vectorizer_binary` correpondrá a la opción 1, que será crear la bolsa de palabras y obteniendo el diccionario inferido por `CountVectorizer`. Además, esta opción será de tipo binaria, es decir, contaremos la presencia/ausencia de las palabras en un texto y no su frecuencia. \n",
    "\n",
    "El segundo objeto `vectorizer_dict` correspondrá a la opción 2. Obtendremos las frecuencias de los términos de los documentos con un diccionario elaborado previamente y dado por el fichero ``words.txt``. Utilizaremos TF-IDF para crear la bolsa de palabras y entrenar con ella los modelos.\n",
    "\n",
    "Lo que queremos comprobar con estas configuraciones es si el trabajo (más complejo) de incluir un diccionario con más palabras y usar TF-IDF merecerá la pena frente a una versión más simple como es la binaria. El hecho de que pensemos que la versión binaria pueda ofrecer los mismos resultados con menos trabajo se debe a la naturaleza del problema. Al ser un problema de _sentiment analyisis_ en textos, nos importa conocer la presencia/ausencia de palabras con significado positivo/negativo como ``bad`` o ``great`` más allá que su frecuencia.\n",
    "\n",
    "En ambos casos, entrenaremos los modelos de clasificación de ML `DecisionTreeClassifier` y `NaiveBayes`."
   ]
  },
  {
   "cell_type": "markdown",
   "metadata": {},
   "source": [
    "\n",
    "\n",
    "#### Configuración 1: Obteniendo la presencia/ausencia de términos sin diccionario "
   ]
  },
  {
   "cell_type": "markdown",
   "metadata": {
    "datalore": {
     "hide_input_from_viewers": false,
     "hide_output_from_viewers": false,
     "node_id": "JKaLtDPSwj2kRQtwgKJo5u",
     "report_properties": {
      "rowId": "JRRKcHvwdROEdPBbiyzhy9"
     },
     "type": "MD"
    }
   },
   "source": [
    "El primer paso es obtener la presencia de las palabras con `CountVectorizar` y lo haremos usando el diccionario que se inferirá de los términos de los documentos que se le pasan al `CountVectorizer` (esta opción es el funcionamiento por defecto por tanto no hay que hacer nada).  También queremos usar la lista de palabras que proporciona sklearn para el inglés (parámetro `stop_words` con el valor `english`) y ponemos el parámetro `binary` a `True` para binarizarlo como comentábamos."
   ]
  },
  {
   "cell_type": "code",
   "execution_count": 20,
   "metadata": {},
   "outputs": [],
   "source": [
    "#Hacemos una copia de los conjuntos\n",
    "X_train_copy = X_train.copy()\n",
    "X_test_copy = X_test.copy()"
   ]
  },
  {
   "cell_type": "code",
   "execution_count": 21,
   "metadata": {
    "datalore": {
     "hide_input_from_viewers": false,
     "hide_output_from_viewers": false,
     "node_id": "8QTHbdQI3IwGyXiFqEtgwL",
     "report_properties": {
      "rowId": "jLnDgqh9IAwgNb2bl6U2eP"
     },
     "type": "CODE"
    }
   },
   "outputs": [],
   "source": [
    "vectorizer_binary = CountVectorizer(binary=True, stop_words='english')\n",
    "# Tomamos los textos del conjunto de entrenamiento y los transformamos en \n",
    "# una matriz de datos (palabras) según el diccionario estándar\n",
    "train_vector_data_binary=vectorizer_binary.fit_transform(X_train_copy)"
   ]
  },
  {
   "cell_type": "markdown",
   "metadata": {},
   "source": [
    "Vamos a ver cómo han quedado los términos con los parámetros por defecto y cuántos términos hay."
   ]
  },
  {
   "cell_type": "code",
   "execution_count": 22,
   "metadata": {},
   "outputs": [
    {
     "name": "stdout",
     "output_type": "stream",
     "text": [
      "92510\n",
      "['00' '000' '0000000000001' '00000001' '00001' '00015' '000dm' '000s'\n",
      " '001' '003830' '006' '007' '0079' '007s' '0080' '0083' '009' '0093638'\n",
      " '00am' '00o' '00pm' '00s' '00schneider' '01' '01pm' '02' '020410' '0230'\n",
      " '029' '03' '039' '04' '05' '050' '05nomactr' '06' '0615' '06th' '07'\n",
      " '07b' '08' '087' '08th' '09' '0f' '0ne' '0r' '0s' '0tt' '10' '100' '1000'\n",
      " '10000' '1000000' '10000000000000' '10000th' '1000s' '1000th' '1001'\n",
      " '1004' '100b' '100bt' '100ft' '100ibs' '100k' '100m' '100miles' '100min'\n",
      " '100mins' '100s' '100th' '100x' '100yards' '101' '101st' '102' '102nd'\n",
      " '103' '104' '1040' '1040a' '1040s' '105' '1050' '106' '106min' '107'\n",
      " '108' '1080p' '109' '10_' '10am' '10ft' '10ish' '10k' '10lines' '10min'\n",
      " '10mins' '10minutes' '10pm']\n",
      "['zues' 'zuf' 'zuger' 'zugsmith' 'zugurt' 'zukor' 'zukovic' 'zula'\n",
      " 'zuleika' 'zuleikha' 'zuleta' 'zulu' 'zulus' 'zumhofe' 'zungia' 'zuni'\n",
      " 'zuniga' 'zunz' 'zuotian' 'zurer' 'zurich' 'zurlini' 'zurn' 'zutaut'\n",
      " 'zuucka' 'zvonimir' 'zvyagvatsev' 'zwart' 'zwartboek' 'zwarts' 'zweite'\n",
      " 'zwick' 'zwrite' 'zx81' 'zy' 'zyada' 'zylberstein' 'zyuranger' 'zz'\n",
      " 'zzzz' 'zzzzip' 'zzzzz' 'zzzzzzzz' 'zzzzzzzzz' 'zzzzzzzzzzzz'\n",
      " 'zzzzzzzzzzzzz' 'zzzzzzzzzzzzzzzzzz' 'zzzzzzzzzzzzzzzzzzzzzzzzzzzzzzz'\n",
      " 'zzzzzzzzzzzzzzzzzzzzzzzzzzzzzzzzzzzzzzzzz'\n",
      " 'zzzzzzzzzzzzzzzzzzzzzzzzzzzzzzzzzzzzzzzzzzzz' 'zázvorková' 'zé' 'ªsen'\n",
      " 'álvaro' 'ánd' 'ángel' 'ángela' 'âge' 'âme' 'är' 'ääliöt' 'äänekoski'\n",
      " 'åge' 'åmål' 'æbler' 'æon' 'æsthetic' 'çetin' 'écoffey' 'écran' 'élan'\n",
      " 'éloge' 'émigré' 'émigrés' 'époque' 'était' 'état' 'étc' 'étienne'\n",
      " 'étoile' 'évery' 'être' 'ís' 'ísnt' 'île' 'ïn' 'ïts' 'óli' 'örnek'\n",
      " 'özdemir' 'østbye' 'úber' 'über' 'übermensch' 'überwoman' 'üzümcü' 'ýs'\n",
      " 'þorleifsson' 'יגאל' 'כרמון']\n"
     ]
    }
   ],
   "source": [
    "feature_names_binary = vectorizer_binary.get_feature_names_out()\n",
    "\n",
    "print(len(feature_names_binary))\n",
    "print(feature_names_binary[:100])\n",
    "print(feature_names_binary[-100:])"
   ]
  },
  {
   "cell_type": "markdown",
   "metadata": {},
   "source": [
    "`CountVectorizer` ha inferido un total de 92510 palabras en los textos."
   ]
  },
  {
   "cell_type": "code",
   "execution_count": 23,
   "metadata": {},
   "outputs": [
    {
     "name": "stdout",
     "output_type": "stream",
     "text": [
      "  (0, 34598)\t1\n",
      "  (0, 47897)\t1\n",
      "  (0, 54654)\t1\n",
      "  (0, 22723)\t1\n",
      "  (0, 45543)\t1\n",
      "  (0, 30230)\t1\n",
      "  (0, 73898)\t1\n",
      "  (0, 2100)\t1\n",
      "  (0, 30284)\t1\n",
      "  (0, 71487)\t1\n",
      "  (0, 91173)\t1\n",
      "  (0, 46788)\t1\n",
      "  (0, 37674)\t1\n",
      "  (0, 10070)\t1\n",
      "  (0, 39050)\t1\n",
      "  (0, 20832)\t1\n",
      "  (0, 72040)\t1\n",
      "  (0, 25989)\t1\n",
      "  (0, 11851)\t1\n",
      "  (0, 39201)\t1\n",
      "  (0, 88944)\t1\n",
      "  (0, 47238)\t1\n",
      "  (0, 87030)\t1\n",
      "  (0, 9025)\t1\n",
      "  (0, 13710)\t1\n",
      "  :\t:\n",
      "  (0, 48655)\t1\n",
      "  (0, 107)\t1\n",
      "  (0, 91585)\t1\n",
      "  (0, 15017)\t1\n",
      "  (0, 1101)\t1\n",
      "  (0, 15836)\t1\n",
      "  (0, 23950)\t1\n",
      "  (0, 73839)\t1\n",
      "  (0, 11930)\t1\n",
      "  (0, 60290)\t1\n",
      "  (0, 12737)\t1\n",
      "  (0, 27201)\t1\n",
      "  (0, 40953)\t1\n",
      "  (0, 91189)\t1\n",
      "  (0, 49765)\t1\n",
      "  (0, 79150)\t1\n",
      "  (0, 16946)\t1\n",
      "  (0, 83199)\t1\n",
      "  (0, 26255)\t1\n",
      "  (0, 51231)\t1\n",
      "  (0, 55907)\t1\n",
      "  (0, 60423)\t1\n",
      "  (0, 14285)\t1\n",
      "  (0, 39209)\t1\n",
      "  (0, 61964)\t1\n"
     ]
    }
   ],
   "source": [
    "print(train_vector_data_binary[train_sample_index])"
   ]
  },
  {
   "cell_type": "markdown",
   "metadata": {
    "datalore": {
     "hide_input_from_viewers": false,
     "hide_output_from_viewers": false,
     "node_id": "bzS9D3GVhFZjSQcScRfEGk",
     "report_properties": {
      "rowId": "52FzfLER3j9KhAu3ti8k4S"
     },
     "type": "MD"
    }
   },
   "source": [
    "Vamos a mostrar los términos presentes en los mensajes de antes"
   ]
  },
  {
   "cell_type": "code",
   "execution_count": 24,
   "metadata": {
    "datalore": {
     "hide_input_from_viewers": false,
     "hide_output_from_viewers": false,
     "node_id": "6obJvTHQG7OQ8dDuXuGKeH",
     "report_properties": {
      "rowId": "1FuA59zlvz4mRuPfYdIDeF"
     },
     "type": "CODE"
    }
   },
   "outputs": [],
   "source": [
    "import numpy.ma as ma\n",
    "\n",
    "def write_terms (feature_names, data, vector_data, index):\n",
    "    '''\n",
    "    Escribe los términos presentes en un mensaje representado como bolsa de palabras.\n",
    "    \n",
    "    - feature_names: terminos usados para vectorizar\n",
    "    - data: lista de mensajes original (si data==None no se muestra el mensaje original)\n",
    "    - vector_data: matriz (dispersa) de mensaje vectorizados\n",
    "    - index: posición del mensaje a mostrar\n",
    "    '''\n",
    "    # máscara para seleccionar sólo el mensaje en posición index\n",
    "    mask=vector_data[index,:]>0\n",
    "    \n",
    "    # términos que aparecen en ese mensaje vectorizado\n",
    "    terminos = ma.array(feature_names, mask = ~(mask[0].toarray()))\n",
    "    \n",
    "    # mostrar mensaje original\n",
    "    if data is not None:\n",
    "        print('Mensaje', index, ':', data[index])\n",
    "    \n",
    "    # mostrar términos que aparecen en el mensaje vectorizado\n",
    "    print('Mensaje', index, 'vectorizado:', terminos.compressed(),'\\n')"
   ]
  },
  {
   "cell_type": "code",
   "execution_count": 25,
   "metadata": {
    "datalore": {
     "hide_input_from_viewers": false,
     "hide_output_from_viewers": false,
     "node_id": "sI1MfWZl2PKvbh7qJlv6Wq",
     "report_properties": {
      "rowId": "Cm9CYrXohxp5V4qPCdGOxv"
     },
     "type": "CODE"
    }
   },
   "outputs": [
    {
     "name": "stdout",
     "output_type": "stream",
     "text": [
      "Mensaje [24285] : ['One of the commenter\\'s is wrong. This is not the only Pat Patterson film and he didn\\'t die two years after this was made. He shot a film called the \"Electric Chair\" in Pineville, NC. He shot this a few years after Doctor Gore. Patterson died in the late 70\\'s. I know this because he used my house and he left a cat there!! It sucked also. This was a big deal when the movie came out. No independent horror films were being made in NC. This movie didn\\'t help matters. Patterson used to do gore effects for H. G. Lewis. He was also good at magic. His gore scenes in Body shop were actually well done. The film was shot in a building that also housed a 7/11. You can actually see the tops of the walls in some scenes. The budget was less that $20,000 and the script looked like a child wrote it. Only Patterson could understand it. Still...it\\'s entertainment and it\\'s a classic.']\n",
      "Mensaje [24285] vectorizado: ['000' '11' '20' '70' 'actually' 'big' 'body' 'budget' 'building' 'called'\n",
      " 'came' 'cat' 'chair' 'child' 'classic' 'commenter' 'deal' 'didn' 'die'\n",
      " 'died' 'doctor' 'effects' 'electric' 'entertainment' 'film' 'films'\n",
      " 'good' 'gore' 'help' 'horror' 'house' 'housed' 'independent' 'know'\n",
      " 'late' 'left' 'lewis' 'like' 'looked' 'magic' 'matters' 'movie' 'nc'\n",
      " 'pat' 'patterson' 'pineville' 'scenes' 'script' 'shop' 'shot' 'sucked'\n",
      " 'tops' 'understand' 'used' 'walls' 'wrong' 'wrote' 'years'] \n",
      "\n"
     ]
    }
   ],
   "source": [
    "#write_terms(feature_names, train_data.data, train_vector_data, 10)\n",
    "write_terms(feature_names_binary, X_train_copy.values, train_vector_data_binary, train_sample_index)"
   ]
  },
  {
   "cell_type": "markdown",
   "metadata": {},
   "source": [
    "Observamos cierto ruido con términos alfanúmericos inferidos \"erróneamente\" como puede ser '70' inferido por la referencia a los años setenta (70's en inglés) o la palabra '000' inferida tras la coma de '$ 20,000' y el acrónimo 'nc' (de North Carolina)"
   ]
  },
  {
   "cell_type": "markdown",
   "metadata": {
    "datalore": {
     "hide_input_from_viewers": false,
     "hide_output_from_viewers": false,
     "node_id": "10j4ZVZUvG0XrSXyMsS2Gp",
     "report_properties": {
      "rowId": "Z8s2KwtbF7D0N4lgNgLd9O"
     },
     "type": "MD"
    }
   },
   "source": [
    "Para probar los clasificadores en el conjunto de prueba, debemos transformar también los mensajes en bolsas de palabras `CountVectorizer` ajustado con el conjunto de entrenamiento."
   ]
  },
  {
   "cell_type": "code",
   "execution_count": 26,
   "metadata": {
    "datalore": {
     "hide_input_from_viewers": false,
     "hide_output_from_viewers": false,
     "node_id": "FRzoUE9Sdbrdc3B1xGMnQx",
     "report_properties": {
      "rowId": "lNWDcesMfG1uoViaCjUeAy"
     },
     "type": "CODE"
    }
   },
   "outputs": [],
   "source": [
    "# Tomamos los textos del conjunto de test y los transformamos en una matriz\n",
    "# de palabras. Al usar \"transform\" toma como referencia únicamente las palabras\n",
    "# encontradas en el conjunto de entrenamiento\n",
    "test_vector_data_binary=vectorizer_binary.transform(X_test_copy)"
   ]
  },
  {
   "cell_type": "markdown",
   "metadata": {
    "datalore": {
     "hide_input_from_viewers": false,
     "hide_output_from_viewers": false,
     "node_id": "FkCebJm0xbToAG6F3MJLy5",
     "report_properties": {
      "rowId": "GNKPlAVX5468UbjgzNWfvx"
     },
     "type": "MD"
    }
   },
   "source": [
    "## Entrenando los modelos de aprendizaje automático"
   ]
  },
  {
   "cell_type": "markdown",
   "metadata": {
    "datalore": {
     "hide_input_from_viewers": false,
     "hide_output_from_viewers": false,
     "node_id": "evyia56iPqLzj3R8FN2AqP",
     "report_properties": {
      "rowId": "MbZYRdP1ApeGoy2v0sTRS7"
     },
     "type": "MD"
    }
   },
   "source": [
    "Vamos a probar los clasificadores que ya conocemos en el problema de clasificación de textos.\n",
    "\n",
    "La versión que vamos a usar de los clasificadores es la versión por defecto. Sin embargo, es posible encontrar mejores clasificadores buscando combinaciones de parámetros más adecuadas durante el aprendizaje. "
   ]
  },
  {
   "cell_type": "markdown",
   "metadata": {
    "datalore": {
     "hide_input_from_viewers": false,
     "hide_output_from_viewers": false,
     "node_id": "XKhFqTn3q2vMyscnXGMVfc",
     "report_properties": {
      "rowId": "F4SMzYicRmqdLL7q3n1owM"
     },
     "type": "MD"
    }
   },
   "source": [
    "### Árbol de decisión "
   ]
  },
  {
   "cell_type": "code",
   "execution_count": 27,
   "metadata": {
    "datalore": {
     "hide_input_from_viewers": false,
     "hide_output_from_viewers": false,
     "node_id": "ZnRjqNlCdIWHCTgpFGHxHN",
     "report_properties": {
      "rowId": "hGuk1k0PmyR1tIy1hcVpmU"
     },
     "type": "CODE"
    }
   },
   "outputs": [
    {
     "name": "stdout",
     "output_type": "stream",
     "text": [
      "Árbol, porcentaje de aciertos en entrenamiento: 1.0\n",
      "Árbol, porcentaje de aciertos en test: 0.7201\n"
     ]
    }
   ],
   "source": [
    "# Creamos el clasificador con los valores por defecto\n",
    "# Los parámetros por defecto son : (criterion='gini', max_depth = None, min_samples_split=2,min_samples_leaf=1)\n",
    "tree_classifier = tree.DecisionTreeClassifier()\n",
    "tree_classifier.fit(train_vector_data_binary, y_train)\n",
    "\n",
    "tree_train_predictions = tree_classifier.predict(train_vector_data_binary)\n",
    "tree_test_predictions = tree_classifier.predict(test_vector_data_binary)\n",
    "\n",
    "print(\"Árbol, porcentaje de aciertos en entrenamiento:\", np.mean(tree_train_predictions == y_train))\n",
    "print(\"Árbol, porcentaje de aciertos en test:\", np.mean(tree_test_predictions == y_test))"
   ]
  },
  {
   "cell_type": "markdown",
   "metadata": {
    "datalore": {
     "hide_input_from_viewers": false,
     "hide_output_from_viewers": false,
     "node_id": "5igNPDio45tm8gRVezSU3r",
     "report_properties": {
      "rowId": "NlKgWsMl0wvm2X8lnlAqVE"
     },
     "type": "MD"
    }
   },
   "source": [
    "Podemos ver un fuerte sobre-aprendizaje, con una precisión en entramiento de 1.0 mientras que en test sólo contamos con un 72% de aciertos. Sería conveniente mejorar el árbol modificando los parámetros de entrenamiento para que aumente la capacidad de generalización del árbol."
   ]
  },
  {
   "attachments": {},
   "cell_type": "markdown",
   "metadata": {},
   "source": [
    "Vamos a probar a intentar optmizar el parámetro `max_depth` del árbol. Aunque se espera que sea una tarea un poco costosa en tiempo, nos interesa comprobar si obtenemos mejoras significativas por \"tunear\" este parámetro. **AVISO TARDA UNOS (VARIOS) MINUTOS.**"
   ]
  },
  {
   "cell_type": "code",
   "execution_count": 28,
   "metadata": {},
   "outputs": [
    {
     "data": {
      "text/plain": [
       "([0.6564,\n",
       "  0.6774,\n",
       "  0.6806805555555556,\n",
       "  0.6981555555555555,\n",
       "  0.7096777777777777,\n",
       "  0.7173666666666667,\n",
       "  0.7252666666666667,\n",
       "  0.7321722222222222,\n",
       "  0.7423194444444444],\n",
       " [0.6564000000000001,\n",
       "  0.6773999999999999,\n",
       "  0.6795,\n",
       "  0.6946749999999999,\n",
       "  0.70305,\n",
       "  0.70915,\n",
       "  0.711775,\n",
       "  0.713375,\n",
       "  0.7179])"
      ]
     },
     "execution_count": 28,
     "metadata": {},
     "output_type": "execute_result"
    }
   ],
   "source": [
    "train_accuracy = []\n",
    "test_accuracy = []\n",
    "\n",
    "# Entrenamos y validamos varios árboles con distintas profundidades máximas\n",
    "max_depths = range(2, 11)\n",
    "for md in max_depths: \n",
    "    clf = tree.DecisionTreeClassifier(criterion=\"gini\", max_depth=md, min_samples_split=2, random_state=RANDOM_STATE)\n",
    "    scores = cross_validate(clf, train_vector_data_binary, y_train, scoring='accuracy', cv=10, return_train_score=True)\n",
    "    \n",
    "    train_accuracy.append(np.mean(scores['train_score']))\n",
    "    test_accuracy.append(np.mean(scores['test_score']))\n",
    "    \n",
    "train_accuracy, test_accuracy"
   ]
  },
  {
   "cell_type": "code",
   "execution_count": 29,
   "metadata": {},
   "outputs": [
    {
     "data": {
      "image/png": "[encoded data removed]",
      "text/plain": [
       "<Figure size 432x288 with 1 Axes>"
      ]
     },
     "metadata": {
      "needs_background": "light"
     },
     "output_type": "display_data"
    }
   ],
   "source": [
    "# Draw lines\n",
    "plt.plot(max_depths, train_accuracy, color=\"r\",  label=\"Training\")\n",
    "plt.plot(max_depths, test_accuracy, color=\"g\", label=\"Test\")\n",
    "\n",
    "# Create plot\n",
    "plt.title(\"Curva de aprendizaje\")\n",
    "plt.xlabel(\"Parametro\"), plt.ylabel(\"Accuracy Score\"), plt.legend(loc=\"best\")\n",
    "plt.tight_layout()\n",
    "plt.show()  "
   ]
  },
  {
   "cell_type": "markdown",
   "metadata": {},
   "source": [
    "Observamos que entre los valores 8 y 10 no se mejora mucho en el conjunto de prueba mientras que sí aprende mucho del conjunto de entrenamiento, por lo que nos quedamos con un valor de `max_depth` de 8. Creamos un árbol con este valor."
   ]
  },
  {
   "cell_type": "code",
   "execution_count": 31,
   "metadata": {},
   "outputs": [
    {
     "name": "stdout",
     "output_type": "stream",
     "text": [
      "Árbol, porcentaje de aciertos en entrenamiento: 0.72175\n",
      "Árbol, porcentaje de aciertos en test: 0.7017\n"
     ]
    }
   ],
   "source": [
    "dt = tree.DecisionTreeClassifier(criterion=\"gini\",max_depth=8,min_samples_split=2,random_state = RANDOM_STATE)\n",
    "dt.fit(train_vector_data_binary,y_train)\n",
    "\n",
    "tree_train_predictions = dt.predict(train_vector_data_binary)\n",
    "tree_test_predictions = dt.predict(test_vector_data_binary)\n",
    "\n",
    "print(\"Árbol, porcentaje de aciertos en entrenamiento:\", np.mean(tree_train_predictions == y_train))\n",
    "print(\"Árbol, porcentaje de aciertos en test:\", np.mean(tree_test_predictions == y_test))"
   ]
  },
  {
   "cell_type": "markdown",
   "metadata": {},
   "source": [
    "La mejora no es muy significativa, parece ser parecido en test al clasificador por defecto."
   ]
  },
  {
   "cell_type": "markdown",
   "metadata": {
    "datalore": {
     "hide_input_from_viewers": false,
     "hide_output_from_viewers": false,
     "node_id": "fHOvgChJ4Dy998IsRe2lMg",
     "report_properties": {
      "rowId": "93OKz8kBvSHWLi9Blo2Mfy"
     },
     "type": "MD"
    }
   },
   "source": [
    "### Naive Bayes"
   ]
  },
  {
   "cell_type": "markdown",
   "metadata": {
    "datalore": {
     "hide_input_from_viewers": false,
     "hide_output_from_viewers": false,
     "node_id": "1TpOgZ8758gGW2zm77cYMK",
     "report_properties": {
      "rowId": "LbCXmm4c9IH2eOWyvcxcaE"
     },
     "type": "MD"
    }
   },
   "source": [
    "Vamos a trabajar con el **NB Multinomial**.\n",
    "\n",
    " - __Naive Bayes Multinomial__ que se utiliza cuando las variables son enteras (como el número de apariciones de cada palabra en el documento) pero también se \"traga\" datos con decimales (como el valor TF/IDF). No admite números negativos.\n",
    "     - En algunos problemas, como en el análisis de sentimiento (*sentiment analysis*) de un texto, lo importante puede ser la presencia o ausencia de palabras que indiquen un sentimiento positivo o negativo, y no tanto su frecuencia. En estos casos se puede utilizar una versión binarizada del Naive Bayes Multinomial basada en la representación binarizada de los vectores bolsa de palabras (CountVectorizer con el parámetro binary=True).\n"
   ]
  },
  {
   "cell_type": "code",
   "execution_count": 32,
   "metadata": {
    "datalore": {
     "hide_input_from_viewers": false,
     "hide_output_from_viewers": false,
     "node_id": "SM7QFrBrBUq8tVcWH0mhqT",
     "report_properties": {
      "rowId": "Ocw3ctPAe2jqxUlDow7nV4"
     },
     "type": "CODE"
    }
   },
   "outputs": [
    {
     "name": "stdout",
     "output_type": "stream",
     "text": [
      "Multinomial Naive Bayes, porcentaje de aciertos en entrenamiento: 0.906425\n",
      "Multinomial Naive Bayes, porcentaje de aciertos en test: 0.8582\n"
     ]
    }
   ],
   "source": [
    "mnb_classifier = MultinomialNB()\n",
    "mnb_classifier.fit(train_vector_data_binary, y_train)\n",
    "\n",
    "mnb_train_predictions = mnb_classifier.predict(train_vector_data_binary)\n",
    "mnb_test_predictions = mnb_classifier.predict(test_vector_data_binary)\n",
    "\n",
    "print(\"Multinomial Naive Bayes, porcentaje de aciertos en entrenamiento:\", np.mean(mnb_train_predictions == y_train))\n",
    "print(\"Multinomial Naive Bayes, porcentaje de aciertos en test:\", np.mean(mnb_test_predictions == y_test))"
   ]
  },
  {
   "cell_type": "markdown",
   "metadata": {},
   "source": [
    "A la vista de los resultados, podemos observar que el clasificador Naive Bayes se comporta mejor para esta vectorización, dado que obtenemos un 90% de aciertos en entrenamiento pero también un 86% de aciertos en test, lo cuales son resultados bastante satisfactorios."
   ]
  },
  {
   "cell_type": "markdown",
   "metadata": {},
   "source": [
    "#### Configuración 2: Obteniendo las frecuencias de los documentos con un diccionario previamente elaborado"
   ]
  },
  {
   "cell_type": "code",
   "execution_count": 33,
   "metadata": {},
   "outputs": [],
   "source": [
    "#Hacemos una copia de los conjuntos\n",
    "X_train_copy = X_train.copy()\n",
    "X_test_copy = X_test.copy()"
   ]
  },
  {
   "cell_type": "code",
   "execution_count": 34,
   "metadata": {
    "datalore": {
     "hide_input_from_viewers": false,
     "hide_output_from_viewers": false,
     "node_id": "wJgB18QjoLlxnd2ljZJGXY",
     "report_properties": {
      "rowId": "iPbGzGmlrTi4lTebKLqKM6"
     },
     "type": "CODE"
    }
   },
   "outputs": [],
   "source": [
    "# Pasamos el fichero a una lista (una línea por item)\n",
    "\n",
    "with open('words.txt') as f:\n",
    "    dictionary = f.read().splitlines()\n",
    "\n",
    "# El diccionario cargado lo pasamos en el parámetro vocabulary    \n",
    "vectorizer_dict = CountVectorizer(vocabulary=dictionary, stop_words='english')"
   ]
  },
  {
   "cell_type": "markdown",
   "metadata": {
    "datalore": {
     "hide_input_from_viewers": false,
     "hide_output_from_viewers": false,
     "node_id": "4XiN3qh4zEuiHOM4T7y65K",
     "report_properties": {
      "rowId": "uZTqkQHkrKmaKLZAZwuVlf"
     },
     "type": "MD"
    }
   },
   "source": [
    "Vamos a ver cuántos términos hay en el diccionario, veremos que hay muchos más términos en un diccionario de propósito general que en uno inferido de un corpus de textos sobre un pequeño subconjunto de temas. \n",
    "\n",
    "Recuerda que esto no quiere decir que el diccionario cargado contenga todos los términos del diccionario inferido porque este puede tener palabras propias (jerga, nombres comerciales, etc) y términos alfanuméricos que también observamos."
   ]
  },
  {
   "cell_type": "code",
   "execution_count": 35,
   "metadata": {
    "datalore": {
     "hide_input_from_viewers": false,
     "hide_output_from_viewers": false,
     "node_id": "G0RCVWtdqW80Wfvl1dxnzD",
     "report_properties": {
      "rowId": "mt9ywaIgaS1UV7Rh0ELLZ1"
     },
     "type": "CODE"
    }
   },
   "outputs": [
    {
     "name": "stdout",
     "output_type": "stream",
     "text": [
      "466550\n",
      "['2' '1080' '&c' '10-point' '10th' '11-point' '12-point' '16-point'\n",
      " '18-point' '1st' '2,4,5-t' '2,4-d' '20-point' '2D' '2nd' '30-30' '3D'\n",
      " '3-D' '3M' '3rd' '48-point' '4-D' '4GL' '4H' '4th' '5-point' '5-T' '5th'\n",
      " '6-point' '6th' '7-point' '7th' '8-point' '8th' '9-point' '9th' 'a' \"a'\"\n",
      " 'a-' 'A&M' 'A&P' 'A.' 'A.A.A.' 'A.B.' 'A.B.A.' 'A.C.' 'A.D.' 'A.D.C.'\n",
      " 'A.F.' 'A.F.A.M.' 'A.G.' 'A.H.' 'A.I.' 'A.I.A.' 'A.I.D.' 'A.L.' 'A.L.P.'\n",
      " 'A.M.' 'A.M.A.' 'A.M.D.G.' 'A.N.' 'a.p.' 'a.r.' 'A.R.C.S.' 'A.U.'\n",
      " 'A.U.C.' 'A.V.' 'a.w.' 'A.W.O.L.' 'A/C' 'A/F' 'A/O' 'A/P' 'A/V' 'A1'\n",
      " 'A-1' 'A4' 'A5' 'AA' 'AAA' 'AAAA' 'AAAAAA' 'AAAL' 'AAAS' 'Aaberg'\n",
      " 'Aachen' 'AAE' 'AAEE' 'AAF' 'AAG' 'aah' 'aahed' 'aahing' 'aahs' 'AAII'\n",
      " 'aal' 'Aalborg' 'Aalesund' 'aalii' 'aaliis']\n",
      "['Zsigmondy' 'Zsolway' 'ZST' 'ZT' 'Ztopek' 'Zubeneschamali' 'Zubird'\n",
      " 'Zubkoff' 'zubr' 'Zuccari' 'zuccarino' 'Zuccaro' 'Zucchero' 'zucchetti'\n",
      " 'zucchetto' 'zucchettos' 'zucchini' 'zucchinis' 'zucco' 'zuchetto'\n",
      " 'Zucker' 'Zuckerman' 'zudda' 'zuffolo' 'zufolo' 'Zug' 'zugtierlast'\n",
      " 'zugtierlaster' 'zugzwang' 'Zui' 'Zuian' 'Zuidholland' 'zuisin' 'Zulch'\n",
      " 'Zuleika' 'Zulema' 'Zulhijjah' 'Zulinde' 'Zulkadah' \"Zu'lkadah\"\n",
      " 'Zullinger' 'Zullo' 'Zuloaga' 'Zulu' 'Zuludom' 'Zuluize' 'Zulu-kaffir'\n",
      " 'Zululand' 'Zulus' 'zumatic' 'zumbooruk' 'Zumbrota' 'Zumstein' 'Zumwalt'\n",
      " 'Zungaria' 'Zuni' 'Zunian' 'zunyite' 'zunis' 'zupanate' 'Zupus' 'Zurbar'\n",
      " 'Zurbaran' 'Zurek' 'Zurheide' 'Zurich' 'Zurkow' 'zurlite' 'Zurn' 'Zurvan'\n",
      " 'Zusman' 'Zutugil' 'zuurveldt' 'zuza' 'Zuzana' 'Zu-zu' 'zwanziger'\n",
      " 'Zwart' 'ZWEI' 'Zweig' 'Zwick' 'Zwickau' 'Zwicky' 'Zwieback' 'zwiebacks'\n",
      " 'Zwiebel' 'zwieselite' 'Zwingle' 'Zwingli' 'Zwinglian' 'Zwinglianism'\n",
      " 'Zwinglianist' 'zwitter' 'zwitterion' 'zwitterionic' 'Zwolle' 'Zworykin'\n",
      " 'ZZ' 'zZt' 'ZZZ']\n"
     ]
    }
   ],
   "source": [
    "feature_names = vectorizer_dict.get_feature_names_out()\n",
    "\n",
    "print(len(feature_names))\n",
    "print(feature_names[:100])\n",
    "print(feature_names[-100:])"
   ]
  },
  {
   "cell_type": "markdown",
   "metadata": {},
   "source": [
    "Observamos que el diccionario contiene 466550 términos que son bastantes más que los 92510 inferidos por `CountVectorizer`"
   ]
  },
  {
   "cell_type": "code",
   "execution_count": 36,
   "metadata": {},
   "outputs": [
    {
     "name": "stderr",
     "output_type": "stream",
     "text": [
      "/Users/quiquequeipodellano/.local/lib/python3.9/site-packages/sklearn/feature_extraction/text.py:1379: UserWarning: Upper case characters found in vocabulary while 'lowercase' is True. These entries will not be matched with any documents\n",
      "  warnings.warn(\n"
     ]
    },
    {
     "name": "stdout",
     "output_type": "stream",
     "text": [
      "  (0, 3803)\t2\n",
      "  (0, 41526)\t1\n",
      "  (0, 53315)\t1\n",
      "  (0, 56906)\t1\n",
      "  (0, 65086)\t1\n",
      "  (0, 73885)\t1\n",
      "  (0, 79815)\t1\n",
      "  (0, 96504)\t1\n",
      "  (0, 105262)\t2\n",
      "  (0, 105310)\t1\n",
      "  (0, 118722)\t1\n",
      "  (0, 120032)\t1\n",
      "  (0, 125116)\t1\n",
      "  (0, 138922)\t3\n",
      "  (0, 138962)\t1\n",
      "  (0, 170695)\t1\n",
      "  (0, 180592)\t1\n",
      "  (0, 181233)\t1\n",
      "  (0, 184492)\t2\n",
      "  (0, 208542)\t1\n",
      "  (0, 213042)\t1\n",
      "  (0, 214775)\t1\n",
      "  (0, 217830)\t1\n",
      "  (0, 221809)\t1\n",
      "  (0, 225242)\t1\n",
      "  (0, 230581)\t1\n",
      "  (0, 246767)\t2\n",
      "  (0, 351069)\t2\n",
      "  (0, 363663)\t1\n",
      "  (0, 364006)\t3\n",
      "  (0, 390822)\t1\n",
      "  (0, 428524)\t1\n",
      "  (0, 445153)\t2\n",
      "  (0, 463923)\t1\n",
      "  (0, 463985)\t1\n"
     ]
    }
   ],
   "source": [
    "train_vector_data = vectorizer_dict.fit_transform(X_train_copy)\n",
    "\n",
    "print(train_vector_data[train_sample_index])"
   ]
  },
  {
   "cell_type": "code",
   "execution_count": 37,
   "metadata": {
    "datalore": {
     "hide_input_from_viewers": false,
     "hide_output_from_viewers": false,
     "node_id": "bCc3VhUuc6Pcrbfe0s50q9",
     "report_properties": {
      "rowId": "MSrlYVdAa1mgd9mo3UQR89"
     },
     "type": "CODE"
    }
   },
   "outputs": [
    {
     "name": "stdout",
     "output_type": "stream",
     "text": [
      "  (0, 463985)\t0.15515437446785663\n",
      "  (0, 463923)\t0.11980827419042349\n",
      "  (0, 445153)\t0.23423480271708225\n",
      "  (0, 428524)\t0.12223685060809293\n",
      "  (0, 390822)\t0.18195649724615048\n",
      "  (0, 364006)\t0.3515976796269458\n",
      "  (0, 363663)\t0.18037724371007333\n",
      "  (0, 351069)\t0.18113570598787906\n",
      "  (0, 246767)\t0.0948311172833854\n",
      "  (0, 230581)\t0.1839998569306483\n",
      "  (0, 225242)\t0.16651893085826933\n",
      "  (0, 221809)\t0.13544983735290697\n",
      "  (0, 217830)\t0.056124073930867276\n",
      "  (0, 214775)\t0.11495151669705184\n",
      "  (0, 213042)\t0.1315599228099515\n",
      "  (0, 208542)\t0.08373410570328323\n",
      "  (0, 184492)\t0.18793271856976076\n",
      "  (0, 181233)\t0.2867929167118932\n",
      "  (0, 180592)\t0.11014397256734582\n",
      "  (0, 170695)\t0.11931654074379404\n",
      "  (0, 138962)\t0.08557336265088715\n",
      "  (0, 138922)\t0.15127192111119195\n",
      "  (0, 125116)\t0.1422663462875435\n",
      "  (0, 120032)\t0.21416895329169713\n",
      "  (0, 118722)\t0.11420787983155406\n",
      "  (0, 105310)\t0.15645708287398882\n",
      "  (0, 105262)\t0.18910345841995763\n",
      "  (0, 96504)\t0.14523617258299013\n",
      "  (0, 79815)\t0.25110364223294623\n",
      "  (0, 73885)\t0.12042412861436887\n",
      "  (0, 65086)\t0.19639891446288876\n",
      "  (0, 56906)\t0.1256969797304319\n",
      "  (0, 53315)\t0.1655921389392943\n",
      "  (0, 41526)\t0.10118749503083348\n",
      "  (0, 3803)\t0.18939090345117193\n"
     ]
    }
   ],
   "source": [
    "# Calculamos el valor TF-IDF \n",
    "\n",
    "tfidfer = TfidfTransformer()\n",
    "train_preprocessed = tfidfer.fit_transform(train_vector_data)\n",
    "# Sacamos los valores TF-IDF para el ejemplo que habíamos enseñado antes.\n",
    "print(train_preprocessed[train_sample_index])"
   ]
  },
  {
   "cell_type": "markdown",
   "metadata": {
    "datalore": {
     "hide_input_from_viewers": false,
     "hide_output_from_viewers": false,
     "node_id": "sEBQWh4icyDXNhDDaS251f",
     "report_properties": {
      "rowId": "WCJ1TVW1JzwcZcMTeThxRs"
     },
     "type": "MD"
    }
   },
   "source": [
    "\n",
    "Vamos a ver los términos extraídos para los mensajes de antes."
   ]
  },
  {
   "cell_type": "code",
   "execution_count": 38,
   "metadata": {
    "datalore": {
     "hide_input_from_viewers": false,
     "hide_output_from_viewers": false,
     "node_id": "nIt2rzSqK1byVTEVZr8vn0",
     "report_properties": {
      "rowId": "KdgOephiBtmrNbFBt5cHah"
     },
     "type": "CODE"
    }
   },
   "outputs": [
    {
     "name": "stdout",
     "output_type": "stream",
     "text": [
      "Mensaje [24285] : ['One of the commenter\\'s is wrong. This is not the only Pat Patterson film and he didn\\'t die two years after this was made. He shot a film called the \"Electric Chair\" in Pineville, NC. He shot this a few years after Doctor Gore. Patterson died in the late 70\\'s. I know this because he used my house and he left a cat there!! It sucked also. This was a big deal when the movie came out. No independent horror films were being made in NC. This movie didn\\'t help matters. Patterson used to do gore effects for H. G. Lewis. He was also good at magic. His gore scenes in Body shop were actually well done. The film was shot in a building that also housed a 7/11. You can actually see the tops of the walls in some scenes. The budget was less that $20,000 and the script looked like a child wrote it. Only Patterson could understand it. Still...it\\'s entertainment and it\\'s a classic.']\n",
      "Mensaje [24285] vectorizado: ['actually' 'big' 'building' 'called' 'chair' 'classic' 'commenter' 'deal'\n",
      " 'didn' 'died' 'effects' 'electric' 'entertainment' 'film' 'films' 'help'\n",
      " 'horror' 'housed' 'years' 'know' 'late' 'left' 'like' 'looked' 'magic'\n",
      " 'matters' 'movie' 'scenes' 'shop' 'shot' 'sucked' 'understand' 'used'\n",
      " 'wrong' 'wrote'] \n",
      "\n"
     ]
    }
   ],
   "source": [
    "#write_terms(feature_names, train_data.data, train_vector_data, 10)\n",
    "write_terms(feature_names, X_train_copy.values, train_vector_data, train_sample_index)"
   ]
  },
  {
   "cell_type": "markdown",
   "metadata": {
    "datalore": {
     "hide_input_from_viewers": false,
     "hide_output_from_viewers": false,
     "node_id": "rbxMkMYqEBfrPGLUi0Sga9",
     "report_properties": {
      "rowId": "jdTm8Ucm2K2TPiEuCF6D2t"
     },
     "type": "MD"
    }
   },
   "source": [
    "Ahora no observamos ruido en las palabras seleccionadas (en concreto han desparecido los caracteres númericos que mencionábamos), pero hemos perdido otras palabras como ``budget`` o ``gore`` (que es jerga para escenas violentas o sangrientas) que nos podrían ayudar a clasificar y que no están en el diccionario."
   ]
  },
  {
   "cell_type": "code",
   "execution_count": 39,
   "metadata": {},
   "outputs": [],
   "source": [
    "# Tomamos los textos del conjunto de test y los transformamos en una matriz\n",
    "# de palabras. Al usar \"transform\" toma como referencia únicamente las palabras\n",
    "# encontradas en el conjunto de entrenamiento\n",
    "test_vector_data=vectorizer_dict.transform(X_test_copy)\n",
    "# Calculamos el valor TF-IDF \n",
    "# Al usar \"transform\" toma como IDF el del conjunto de entrenamiento \n",
    "test_preprocessed=tfidfer.transform(test_vector_data)"
   ]
  },
  {
   "cell_type": "markdown",
   "metadata": {
    "datalore": {
     "hide_input_from_viewers": false,
     "hide_output_from_viewers": false,
     "node_id": "FkCebJm0xbToAG6F3MJLy5",
     "report_properties": {
      "rowId": "GNKPlAVX5468UbjgzNWfvx"
     },
     "type": "MD"
    }
   },
   "source": [
    "### Entrenando los modelos de aprendizaje automático. Configuración 2."
   ]
  },
  {
   "cell_type": "markdown",
   "metadata": {
    "datalore": {
     "hide_input_from_viewers": false,
     "hide_output_from_viewers": false,
     "node_id": "evyia56iPqLzj3R8FN2AqP",
     "report_properties": {
      "rowId": "MbZYRdP1ApeGoy2v0sTRS7"
     },
     "type": "MD"
    }
   },
   "source": [
    "Vamos a probar los clasificadores que ya conocemos en el problema de clasificación de textos.\n",
    "\n",
    "La versión que vamos a usar de los clasificadores es la versión por defecto. Sin embargo, es posible encontrar mejores clasificadores buscando combinaciones de parámetros más adecuadas durante el aprendizaje. "
   ]
  },
  {
   "cell_type": "markdown",
   "metadata": {
    "datalore": {
     "hide_input_from_viewers": false,
     "hide_output_from_viewers": false,
     "node_id": "XKhFqTn3q2vMyscnXGMVfc",
     "report_properties": {
      "rowId": "F4SMzYicRmqdLL7q3n1owM"
     },
     "type": "MD"
    }
   },
   "source": [
    "#### Árbol de decisión "
   ]
  },
  {
   "cell_type": "code",
   "execution_count": 40,
   "metadata": {
    "datalore": {
     "hide_input_from_viewers": false,
     "hide_output_from_viewers": false,
     "node_id": "ZnRjqNlCdIWHCTgpFGHxHN",
     "report_properties": {
      "rowId": "hGuk1k0PmyR1tIy1hcVpmU"
     },
     "type": "CODE"
    }
   },
   "outputs": [
    {
     "name": "stdout",
     "output_type": "stream",
     "text": [
      "Árbol, porcentaje de aciertos en entrenamiento: 1.0\n",
      "Árbol, porcentaje de aciertos en test: 0.7213\n"
     ]
    }
   ],
   "source": [
    "# Creamos el clasificador con los valores por defecto\n",
    "# Los parámetros por defecto son : (criterion='gini', max_depth = None, min_samples_split=2,min_samples_leaf=1)\n",
    "tree_classifier = tree.DecisionTreeClassifier()\n",
    "tree_classifier.fit(train_preprocessed, y_train)\n",
    "\n",
    "tree_train_predictions = tree_classifier.predict(train_preprocessed)\n",
    "tree_test_predictions = tree_classifier.predict(test_preprocessed)\n",
    "\n",
    "print(\"Árbol, porcentaje de aciertos en entrenamiento:\", np.mean(tree_train_predictions == y_train))\n",
    "print(\"Árbol, porcentaje de aciertos en test:\", np.mean(tree_test_predictions == y_test))"
   ]
  },
  {
   "cell_type": "markdown",
   "metadata": {
    "datalore": {
     "hide_input_from_viewers": false,
     "hide_output_from_viewers": false,
     "node_id": "5igNPDio45tm8gRVezSU3r",
     "report_properties": {
      "rowId": "NlKgWsMl0wvm2X8lnlAqVE"
     },
     "type": "MD"
    }
   },
   "source": [
    "Podemos ver un fuerte sobre-aprendizaje, con una precisión de 1.0 en entrenamiento mientras que del 72% en test. Sería conveniente mejorar el árbol modificando los parámetros de entrenamiento para que aumente la capacidad de generalización del árbol."
   ]
  },
  {
   "attachments": {},
   "cell_type": "markdown",
   "metadata": {},
   "source": [
    "Vamos a probar a intentar optmizar el parámetro `max_depth` del árobl. Aunque se espera que sea una tarea un poco costosa en tiempo, nos interesa comprobar si obtenemos mejoras significativas por \"tunear\" este parámetro. **AVISO TARDA UNOS (VARIOS) MINUTOS**"
   ]
  },
  {
   "cell_type": "code",
   "execution_count": 41,
   "metadata": {},
   "outputs": [
    {
     "data": {
      "text/plain": [
       "([0.6562722222222223,\n",
       "  0.6802333333333334,\n",
       "  0.6976277777777777,\n",
       "  0.7006166666666667,\n",
       "  0.7122611111111111,\n",
       "  0.7231388888888889,\n",
       "  0.7329,\n",
       "  0.7390722222222224,\n",
       "  0.7476888888888888],\n",
       " [0.6554749999999999,\n",
       "  0.6791499999999999,\n",
       "  0.6956,\n",
       "  0.6970250000000001,\n",
       "  0.7045250000000001,\n",
       "  0.713,\n",
       "  0.721025,\n",
       "  0.7235249999999999,\n",
       "  0.728325])"
      ]
     },
     "execution_count": 41,
     "metadata": {},
     "output_type": "execute_result"
    }
   ],
   "source": [
    "train_accuracy = []\n",
    "test_accuracy = []\n",
    "\n",
    "# Entrenamos y validamos varios árboles con distintas profundidades máximas\n",
    "max_depths = range(2, 11)\n",
    "for md in max_depths: \n",
    "    clf = tree.DecisionTreeClassifier(criterion=\"gini\", max_depth=md, min_samples_split=2, random_state=RANDOM_STATE)\n",
    "    scores = cross_validate(clf, train_preprocessed, y_train, scoring='accuracy', cv=10, return_train_score=True)\n",
    "    \n",
    "    train_accuracy.append(np.mean(scores['train_score']))\n",
    "    test_accuracy.append(np.mean(scores['test_score']))\n",
    "    \n",
    "train_accuracy, test_accuracy"
   ]
  },
  {
   "cell_type": "code",
   "execution_count": 42,
   "metadata": {},
   "outputs": [
    {
     "data": {
      "image/png": "[encoded data removed]",
      "text/plain": [
       "<Figure size 432x288 with 1 Axes>"
      ]
     },
     "metadata": {
      "needs_background": "light"
     },
     "output_type": "display_data"
    }
   ],
   "source": [
    "# Draw lines\n",
    "plt.plot(max_depths, train_accuracy, color=\"r\",  label=\"Training\")\n",
    "plt.plot(max_depths, test_accuracy, color=\"g\", label=\"Test\")\n",
    "\n",
    "# Create plot\n",
    "plt.title(\"Curva de aprendizaje\")\n",
    "plt.xlabel(\"Parametro\"), plt.ylabel(\"Accuracy Score\"), plt.legend(loc=\"best\")\n",
    "plt.tight_layout()\n",
    "plt.show()  "
   ]
  },
  {
   "cell_type": "markdown",
   "metadata": {},
   "source": [
    "Observamos que entre los valores 8 y 10 no se mejora mucho en el conjunto de prueba mientras que sí se mejora en el conjunto de entrenamiento, por lo que nos quedamos con un valor de `max_depth` de 8. Creamos un árbol con este valor."
   ]
  },
  {
   "cell_type": "code",
   "execution_count": 43,
   "metadata": {},
   "outputs": [
    {
     "name": "stdout",
     "output_type": "stream",
     "text": [
      "Árbol, porcentaje de aciertos en entrenamiento: 0.73255\n",
      "Árbol, porcentaje de aciertos en test: 0.7147\n"
     ]
    }
   ],
   "source": [
    "dt = tree.DecisionTreeClassifier(criterion=\"gini\",max_depth=8,min_samples_split=2,random_state = RANDOM_STATE)\n",
    "dt.fit(train_preprocessed,y_train)\n",
    "\n",
    "tree_train_predictions = dt.predict(train_preprocessed)\n",
    "tree_test_predictions = dt.predict(test_preprocessed)\n",
    "\n",
    "print(\"Árbol, porcentaje de aciertos en entrenamiento:\", np.mean(tree_train_predictions == y_train))\n",
    "print(\"Árbol, porcentaje de aciertos en test:\", np.mean(tree_test_predictions == y_test))"
   ]
  },
  {
   "cell_type": "markdown",
   "metadata": {},
   "source": [
    "Observamos que no hemos obtenido ninguna mejora, obtenemos resultados como en el clasificador por defecto."
   ]
  },
  {
   "cell_type": "markdown",
   "metadata": {
    "datalore": {
     "hide_input_from_viewers": false,
     "hide_output_from_viewers": false,
     "node_id": "fHOvgChJ4Dy998IsRe2lMg",
     "report_properties": {
      "rowId": "93OKz8kBvSHWLi9Blo2Mfy"
     },
     "type": "MD"
    }
   },
   "source": [
    "#### Naive Bayes"
   ]
  },
  {
   "cell_type": "code",
   "execution_count": 44,
   "metadata": {
    "datalore": {
     "hide_input_from_viewers": false,
     "hide_output_from_viewers": false,
     "node_id": "SM7QFrBrBUq8tVcWH0mhqT",
     "report_properties": {
      "rowId": "Ocw3ctPAe2jqxUlDow7nV4"
     },
     "type": "CODE"
    }
   },
   "outputs": [
    {
     "name": "stdout",
     "output_type": "stream",
     "text": [
      "Multinomial Naive Bayes, porcentaje de aciertos en entrenamiento: 0.897075\n",
      "Multinomial Naive Bayes, porcentaje de aciertos en test: 0.8567\n"
     ]
    }
   ],
   "source": [
    "mnb_classifier = MultinomialNB()\n",
    "\n",
    "mnb_classifier.fit(train_preprocessed, y_train)\n",
    "\n",
    "mnb_train_predictions = mnb_classifier.predict(train_preprocessed)\n",
    "mnb_test_predictions = mnb_classifier.predict(test_preprocessed)\n",
    "\n",
    "print(\"Multinomial Naive Bayes, porcentaje de aciertos en entrenamiento:\", np.mean(mnb_train_predictions == y_train))\n",
    "print(\"Multinomial Naive Bayes, porcentaje de aciertos en test:\", np.mean(mnb_test_predictions == y_test))"
   ]
  },
  {
   "cell_type": "markdown",
   "metadata": {},
   "source": [
    "Observamos de nuevo lo mismo, el Naive Bayes parece generalizar mejor que el árbol de decisión y arroja mejores resultados, además de ser menos costoso en tiempo. "
   ]
  },
  {
   "cell_type": "markdown",
   "metadata": {},
   "source": [
    "En general, los resultados han variado en +-1% por lo que son bastante parecidos a la otra vectorización, es decir, vectorizar sin diccionario y con binary = True es lo suficientemente bueno para este problema."
   ]
  },
  {
   "cell_type": "markdown",
   "metadata": {
    "id": "XmM1ftJe3yvK"
   },
   "source": [
    "## 3) Análisis comparativo final\n",
    "\n",
    "Se han entrenado varios clasificadores usando vectorizaciones diferentes de los datos. Compara las diferencias entre representaciones para un mismo algoritmo y entre algoritmos. Explica a qué crees que se deben las diferencias.\n",
    "\n",
    "Analiza con detalle el mejor clasificador de cada tipo. Indica las palabras más relevantes. Busca un ejemplo mal clasificado de cada clase, justifica el error ¿se te ocurre alguna forma de solucionarlo?\n"
   ]
  },
  {
   "cell_type": "markdown",
   "metadata": {},
   "source": [
    "Hemos observado en el apartado anterior, que el clasificador `Naive Bayes` se comporta mejor en ambos casos que el árbol de decisión. Además no hemos obtenido una diferencia muy significativa en los comportamientos entre las distintas vectorizaciones. Como el conjunto de datos es grande, es posible que no haya una gran diferencia entre imponer el vocabulario o no, ya que el inferido por CountVectorizer puede ser lo suficientemente bueno. Por otro lado, como hemos visto, realmente para el tipo de problema (_sentiment analysis_) no es realmente necesario utilizar el TF-IDF para obtener prácticamente los mismos resultados, ya que nos ha bastado con hacer `CountVectorizer` con binary = True. Dado que obtienen los mismos resulados, exponemos dichos resultados para uno de los dos. Lo hacemos para el binario"
   ]
  },
  {
   "cell_type": "code",
   "execution_count": 45,
   "metadata": {
    "datalore": {
     "hide_input_from_viewers": false,
     "hide_output_from_viewers": false,
     "node_id": "ZnRjqNlCdIWHCTgpFGHxHN",
     "report_properties": {
      "rowId": "hGuk1k0PmyR1tIy1hcVpmU"
     },
     "type": "CODE"
    }
   },
   "outputs": [
    {
     "name": "stdout",
     "output_type": "stream",
     "text": [
      "Árbol, porcentaje de aciertos en entrenamiento: 1.0\n",
      "Árbol, porcentaje de aciertos en test: 0.7198\n"
     ]
    }
   ],
   "source": [
    "# Creamos el clasificador con los valores por defecto\n",
    "# Los parámetros por defecto son : (criterion='gini', max_depth = None, min_samples_split=2,min_samples_leaf=1)\n",
    "tree_classifier = tree.DecisionTreeClassifier()\n",
    "tree_classifier.fit(train_vector_data_binary, y_train)\n",
    "\n",
    "tree_train_predictions = tree_classifier.predict(train_vector_data_binary)\n",
    "tree_test_predictions = tree_classifier.predict(test_vector_data_binary)\n",
    "\n",
    "print(\"Árbol, porcentaje de aciertos en entrenamiento:\", np.mean(tree_train_predictions == y_train))\n",
    "print(\"Árbol, porcentaje de aciertos en test:\", np.mean(tree_test_predictions == y_test))"
   ]
  },
  {
   "cell_type": "code",
   "execution_count": 46,
   "metadata": {
    "datalore": {
     "hide_input_from_viewers": false,
     "hide_output_from_viewers": false,
     "node_id": "SM7QFrBrBUq8tVcWH0mhqT",
     "report_properties": {
      "rowId": "Ocw3ctPAe2jqxUlDow7nV4"
     },
     "type": "CODE"
    }
   },
   "outputs": [
    {
     "name": "stdout",
     "output_type": "stream",
     "text": [
      "Multinomial Naive Bayes, porcentaje de aciertos en entrenamiento: 0.906425\n",
      "Multinomial Naive Bayes, porcentaje de aciertos en test: 0.8582\n"
     ]
    }
   ],
   "source": [
    "mnb_classifier = MultinomialNB()\n",
    "mnb_classifier.fit(train_vector_data_binary, y_train)\n",
    "\n",
    "mnb_train_predictions = mnb_classifier.predict(train_vector_data_binary)\n",
    "mnb_test_predictions = mnb_classifier.predict(test_vector_data_binary)\n",
    "\n",
    "print(\"Multinomial Naive Bayes, porcentaje de aciertos en entrenamiento:\", np.mean(mnb_train_predictions == y_train))\n",
    "print(\"Multinomial Naive Bayes, porcentaje de aciertos en test:\", np.mean(mnb_test_predictions == y_test))"
   ]
  },
  {
   "cell_type": "code",
   "execution_count": 47,
   "metadata": {},
   "outputs": [
    {
     "name": "stdout",
     "output_type": "stream",
     "text": [
      "              precision    recall  f1-score   support\n",
      "\n",
      "    negative       0.72      0.73      0.72      5082\n",
      "    positive       0.72      0.71      0.71      4918\n",
      "\n",
      "    accuracy                           0.72     10000\n",
      "   macro avg       0.72      0.72      0.72     10000\n",
      "weighted avg       0.72      0.72      0.72     10000\n",
      "\n"
     ]
    }
   ],
   "source": [
    "# NOTA: Aquí elegimos analizar un determinado clasificador y sus predicciones \n",
    "# Por ejemplo el naive bayes\n",
    "#classifier=mnb_classifier\n",
    "predictions_tree = tree_test_predictions\n",
    "\n",
    "print(classification_report(y_test, predictions_tree, target_names=y_test.unique()))"
   ]
  },
  {
   "cell_type": "code",
   "execution_count": 48,
   "metadata": {
    "datalore": {
     "hide_input_from_viewers": false,
     "hide_output_from_viewers": false,
     "node_id": "SHW0PuAh9otITjWiRyxnZL",
     "report_properties": {
      "rowId": "Bu7kSaUgoYEtmpAghuWfhQ"
     },
     "type": "CODE"
    }
   },
   "outputs": [
    {
     "name": "stdout",
     "output_type": "stream",
     "text": [
      "              precision    recall  f1-score   support\n",
      "\n",
      "    negative       0.85      0.88      0.86      5082\n",
      "    positive       0.87      0.84      0.85      4918\n",
      "\n",
      "    accuracy                           0.86     10000\n",
      "   macro avg       0.86      0.86      0.86     10000\n",
      "weighted avg       0.86      0.86      0.86     10000\n",
      "\n"
     ]
    }
   ],
   "source": [
    "# NOTA: Aquí elegimos analizar un determinado clasificador y sus predicciones \n",
    "# Por ejemplo el naive bayes\n",
    "#classifier=mnb_classifier\n",
    "predictions_mnb = mnb_test_predictions\n",
    "\n",
    "print(classification_report(y_test, predictions_mnb, target_names=y_test.unique()))"
   ]
  },
  {
   "cell_type": "markdown",
   "metadata": {
    "datalore": {
     "hide_input_from_viewers": false,
     "hide_output_from_viewers": false,
     "node_id": "C5VqlgiMVBqPZ8xu0pDRgq",
     "report_properties": {
      "rowId": "1t6uhKG5Mo8AEa93pYS4Tc"
     },
     "type": "MD"
    }
   },
   "source": [
    "En el caso del Naive Bayes Multinomial ambas clases se clasifican muy bien con muy buena precisión, exhaustividad y medida F1. Los resultados son en torno al 10% mejores en todas las clases y medidas con respecto al árbol.\n",
    "\n",
    "Podemos echar un vistazo a las matrices de confusión para entender mejor este problema."
   ]
  },
  {
   "cell_type": "code",
   "execution_count": 49,
   "metadata": {},
   "outputs": [
    {
     "data": {
      "text/plain": [
       "(array([0.5, 1.5]), [Text(0.5, 0, 'negative'), Text(1.5, 0, 'positive')])"
      ]
     },
     "execution_count": 49,
     "metadata": {},
     "output_type": "execute_result"
    },
    {
     "data": {
      "image/png": "[encoded data removed]",
      "text/plain": [
       "<Figure size 1080x720 with 2 Axes>"
      ]
     },
     "metadata": {
      "needs_background": "light"
     },
     "output_type": "display_data"
    }
   ],
   "source": [
    "conf_matrix = confusion_matrix(y_test, predictions_tree)\n",
    "conf_matrix_df = pd.DataFrame(conf_matrix, index=y_test.unique(), columns=y_test.unique())\n",
    "\n",
    "plt.figure(figsize=(15, 10))\n",
    "sns.heatmap(conf_matrix_df, annot=True, vmin=0, vmax=conf_matrix.max(), fmt='d', cmap=\"YlGnBu\")\n",
    "plt.yticks(rotation=0)\n",
    "plt.xticks(rotation=90)"
   ]
  },
  {
   "cell_type": "code",
   "execution_count": 50,
   "metadata": {
    "datalore": {
     "hide_input_from_viewers": false,
     "hide_output_from_viewers": false,
     "node_id": "NOJI7ZB3O23BiQJLgP3jRv",
     "report_properties": {
      "rowId": "GlBpsQ09fpdXxwFSJShUNX"
     },
     "type": "CODE"
    },
    "scrolled": false
   },
   "outputs": [
    {
     "data": {
      "text/plain": [
       "(array([0.5, 1.5]), [Text(0.5, 0, 'negative'), Text(1.5, 0, 'positive')])"
      ]
     },
     "execution_count": 50,
     "metadata": {},
     "output_type": "execute_result"
    },
    {
     "data": {
      "image/png": "[encoded data removed]",
      "text/plain": [
       "<Figure size 1080x720 with 2 Axes>"
      ]
     },
     "metadata": {
      "needs_background": "light"
     },
     "output_type": "display_data"
    }
   ],
   "source": [
    "conf_matrix = confusion_matrix(y_test, predictions_mnb)\n",
    "conf_matrix_df = pd.DataFrame(conf_matrix, index=y_test.unique(), columns=y_test.unique())\n",
    "\n",
    "plt.figure(figsize=(15, 10))\n",
    "sns.heatmap(conf_matrix_df, annot=True, vmin=0, vmax=conf_matrix.max(), fmt='d', cmap=\"YlGnBu\")\n",
    "plt.yticks(rotation=0)\n",
    "plt.xticks(rotation=90)"
   ]
  },
  {
   "cell_type": "markdown",
   "metadata": {},
   "source": [
    "Podemos recalcar los buenos resultados del clasificador `Naive Bayes`, sobretodo en la clase ``negative``, que parece clasificar un poco mejor que la ``positive``. El árbol falla en cada clase en torno al doble de ejemplos que el clasificador MNB"
   ]
  },
  {
   "cell_type": "markdown",
   "metadata": {
    "datalore": {
     "hide_input_from_viewers": false,
     "hide_output_from_viewers": false,
     "node_id": "zr7TYOLxgHik0r7Lk2VzY2",
     "report_properties": {
      "rowId": "ThD8cwJlqxjsCSdPCjpwfH"
     },
     "type": "MD"
    }
   },
   "source": [
    "### Importancia de las variables "
   ]
  },
  {
   "cell_type": "markdown",
   "metadata": {
    "datalore": {
     "hide_input_from_viewers": false,
     "hide_output_from_viewers": false,
     "node_id": "FPPSoJmPfKq5UT43YogPtE",
     "report_properties": {
      "rowId": "Ef3BqsykCVJfukT5gLX45X"
     },
     "type": "MD"
    }
   },
   "source": [
    "Algunos algoritmos de clasificación permiten analizar cuáles son las variables más relevantes para la clasificación. Suele ser una buena idea para entender mejor los resultados analizar esas variables. En el caso de nuestro problema, lo que nos diría sería qué palabras son más útiles para realizar la clasificación. \n",
    "\n",
    "Este tipo de análisis es muy dependiente de la técnica que estemos utilizando, de los fundamentos en los que se base dicha técnica. De hecho, no todas las técnicas permiten hacer estos análisis ya que algunas son más \"caja negra\" que otras. "
   ]
  },
  {
   "cell_type": "markdown",
   "metadata": {
    "datalore": {
     "hide_input_from_viewers": false,
     "hide_output_from_viewers": false,
     "node_id": "3s2VcXWWLDvHDOwPUbKPxg",
     "report_properties": {
      "rowId": "xeEu6tnoavctiw6mEbGm7u"
     },
     "type": "MD"
    }
   },
   "source": [
    "#### Árboles de decisión"
   ]
  },
  {
   "cell_type": "markdown",
   "metadata": {
    "datalore": {
     "hide_input_from_viewers": false,
     "hide_output_from_viewers": false,
     "node_id": "1lVzczE241uMzFuTi09pFp",
     "report_properties": {
      "rowId": "KfFylrdSYRGnH5cm0hVbhT"
     },
     "type": "MD"
    }
   },
   "source": [
    "En el caso de los árboles de decisión podemos obtener las variables con mayor poder de discriminación en el árbol obtenido, es decir, aquellas que mayor reducción de Gini han producido a lo largo del árbol."
   ]
  },
  {
   "cell_type": "code",
   "execution_count": 51,
   "metadata": {
    "datalore": {
     "hide_input_from_viewers": false,
     "hide_output_from_viewers": false,
     "node_id": "czTRvw1jbvT0zjs8OwAPd4",
     "report_properties": {
      "rowId": "48846SJcBxL1Kb073XC7HH"
     },
     "type": "CODE"
    }
   },
   "outputs": [],
   "source": [
    "def print_top20_features_in_trees(vectorizer, clf):\n",
    "    \"\"\"Prints features with the highest coefficient values\"\"\"\n",
    "    feature_names = vectorizer.get_feature_names_out()\n",
    "    \n",
    "    top20 = np.argsort(clf.feature_importances_)[-20:]\n",
    "    reversed_top = top20[::-1]\n",
    "    print(\"Top 20 features in the tree\\n\")\n",
    "    print(\"%s\" % ( \" / \".join(feature_names[j] for j in reversed_top)))"
   ]
  },
  {
   "cell_type": "code",
   "execution_count": 52,
   "metadata": {
    "datalore": {
     "hide_input_from_viewers": false,
     "hide_output_from_viewers": false,
     "node_id": "0qPdDOtlRB5J1uJpCn1D9O",
     "report_properties": {
      "rowId": "zYzIHYATvr1cAthhPhkcnX"
     },
     "type": "CODE"
    }
   },
   "outputs": [
    {
     "name": "stdout",
     "output_type": "stream",
     "text": [
      "Top 20 features in the tree\n",
      "\n",
      "bad / worst / great / waste / awful / boring / excellent / best / terrible / wonderful / stupid / poor / supposed / minutes / worse / love / horrible / lame / dull / perfect\n"
     ]
    }
   ],
   "source": [
    "print_top20_features_in_trees(vectorizer_binary,tree_classifier)"
   ]
  },
  {
   "cell_type": "markdown",
   "metadata": {
    "datalore": {
     "hide_input_from_viewers": false,
     "hide_output_from_viewers": false,
     "node_id": "wxiYVrFnpcrPfPHbHulEb5",
     "report_properties": {
      "rowId": "GUOj3XrJjDugL4RR9kWX1r"
     },
     "type": "MD"
    }
   },
   "source": [
    "En este caso es muy claro que estamos encontrando palabras que rápidamente nos remiten a alguno de los dos sentimientos posibles: ``bad``,``worst``,``waste``,``awful``,``boring`` etc son palabras con connotación negativa y que probablemente se encuentren en un texto así clasificado, mientras que lo contrario ocurriría para ``excellent``,``best``,``wonderful``..."
   ]
  },
  {
   "cell_type": "markdown",
   "metadata": {
    "datalore": {
     "hide_input_from_viewers": false,
     "hide_output_from_viewers": false,
     "node_id": "uyAULFHGm7bKIaYGzPxwmT",
     "report_properties": {
      "rowId": "GWZDAJvATt0BiM0mpmQcsP"
     },
     "type": "MD"
    }
   },
   "source": [
    "#### Naive Bayes"
   ]
  },
  {
   "cell_type": "markdown",
   "metadata": {
    "datalore": {
     "hide_input_from_viewers": false,
     "hide_output_from_viewers": false,
     "node_id": "SyCismlN5zLeT0D6S0rJK1",
     "report_properties": {
      "rowId": "noWymDgo9xej9KRlcBEVWJ"
     },
     "type": "MD"
    }
   },
   "source": [
    "En el caso del Naive Bayes, por cada una de las clases a predecir, podemos obtener aquellas palabras que es más verosímil que aparezcan.  "
   ]
  },
  {
   "cell_type": "code",
   "execution_count": 53,
   "metadata": {
    "datalore": {
     "hide_input_from_viewers": false,
     "hide_output_from_viewers": false,
     "node_id": "kRrhitFLUYfaVKahUAH7rI",
     "report_properties": {
      "rowId": "TYlNKtH8P0ccQqVp4lFWFd"
     },
     "type": "CODE"
    }
   },
   "outputs": [],
   "source": [
    "def print_top20_features_per_class_in_NB(vectorizer, clf, class_labels):\n",
    "    \"\"\"Prints features with the highest coefficient values, per class\"\"\"\n",
    "    feature_names = vectorizer.get_feature_names_out()\n",
    "    print(\"Top 20 features per class\\n\")\n",
    "    for i, class_label in enumerate(class_labels):\n",
    "        top20 = np.argsort(clf.feature_log_prob_[i])[-20:]\n",
    "        reversed_top = top20[::-1]\n",
    "        \n",
    "        print(\"%s: %s\" % (class_label,\n",
    "              \" / \".join(feature_names[j] for j in reversed_top)),'\\n')\n",
    "        \n",
    "        #Descomentar para ver el índice de los términos en el diccionario\n",
    "        #print(\"%s \" % (\" / \".join(str(j) for j in reversed_top)),'\\n')"
   ]
  },
  {
   "cell_type": "code",
   "execution_count": 54,
   "metadata": {
    "datalore": {
     "hide_input_from_viewers": false,
     "hide_output_from_viewers": false,
     "node_id": "sn8w6lVRMSC5IJ7qmDXPgh",
     "report_properties": {
      "rowId": "ixRtGPKQENXqoHDE0ESAjc"
     },
     "type": "CODE"
    }
   },
   "outputs": [
    {
     "name": "stdout",
     "output_type": "stream",
     "text": [
      "Top 20 features per class\n",
      "\n",
      "negative: movie / br / film / like / just / good / bad / time / really / don / make / story / acting / people / plot / way / movies / watch / think / better \n",
      "\n",
      "positive: br / film / movie / like / good / just / time / great / story / really / best / people / way / love / seen / life / don / watch / think / make \n",
      "\n"
     ]
    }
   ],
   "source": [
    "print_top20_features_per_class_in_NB(vectorizer_binary,mnb_classifier,y_test.unique())       "
   ]
  },
  {
   "cell_type": "markdown",
   "metadata": {
    "datalore": {
     "hide_input_from_viewers": false,
     "hide_output_from_viewers": false,
     "node_id": "jdBkoMIE15UEfb9DJxoyCa",
     "report_properties": {
      "rowId": "IqTvwa6AZGg6MAWsrxrgI9"
     },
     "type": "MD"
    }
   },
   "source": [
    "En general, vemos que hay las palabras tienen bastante sentido. Independientemente de la clase, las palabras ``movie``, ``film``, ``character(s)`` tienes altas probabilidades de aparecer aunque no nos transmitan información específica sobre la clase (así de nuevo como la notación ``br``de html). Observamos también que la palabra ``bad`` aparece a la hora de clasificar como ``negative`` lo cual tiene mucho sentido ya que uno puede esperar que si el text contiene ``bad`` es muy probable que la review sea ``negative``. O palabras como ``like`` que aunque pueden querer decir gustar, también pueden significar como, y que en cualquier caso parecen palabras casi vacías (otro caso similar es el de ``does`` o el de ``think``). En la clase positive también aparecen palabras como ``great`` o ``love`` (que aunque significa amor, también puede significar que le gustó la película)"
   ]
  },
  {
   "cell_type": "markdown",
   "metadata": {},
   "source": [
    "Vamos ahora a encontrar ejemplos mal clasificados para clase:"
   ]
  },
  {
   "cell_type": "code",
   "execution_count": 100,
   "metadata": {},
   "outputs": [
    {
     "name": "stdout",
     "output_type": "stream",
     "text": [
      "Ejemplo mal clasificado para clase 'positive':  I'm a huge fan of both Emily Watson (Breaking The Waves) and Tom Wilkinson (Normal) and was amused to see them upstaged by Rupert Everett (Dellamorte Dellamore) in this shockingly rather minor movie that had all the ingredients to be so much more. The too brief scenes in which he portrays a languid, infinitely entitled, worthless son of a rich Lord are spot-on and entertaining. But for a love triangle there was remarkably little chemistry to speak of between anyone. The music was annoyingly movie-of-the-week quality, and the voice-over jarring and totally unnecessary. Clearly the work of a first-time director with a small budget who either lacked or didn't sufficiently heed good advice. Too bad.<br /><br />I can appreciate how the people you kind of hate at the beginning are the ones you kind of like at the end, and vice-versa, so there is some sort of character arc, at least in terms of perception. For example, Watson's character, while refreshingly honest to her husband about her feelings for another man, began to grate on me near the end, particularly when she announced to her husband that she simply had absolutely no control over her actions, and later when she simply declared that she would be moving back into their marital flat, with no asking of permission, no apologies offered. And I went from disliking Wilkinson's control freak / moral relativist character to sort of understanding him and not really wanting him to change (unlike his wife).<br /><br />This movie awkwardly morphed from a whodunit to a \"Love Story\" or \"Steel Magnolias\" illness drama without sufficiently informing me of the fact, so I was left distractedly guessing what the next plot twist might be long after they had all been revealed (Was it the Lord driving the car? The Lord's dog?). The scene where the Lord visits Wilkinson and relates how brave Watson is, the bestest nurse any dying boyfriend could ever ask for, Florence Nightingale incarnate, etc. was OK until he started over-the-top sobbing like a baby. Good God! If you ask me she's just another flitty rich person with way too much time on her hands, and so she drives her hard working, well providing spouse crazy with unnecessary drama. Her screwing around was just another way to occupy her empty life; the dying guy thing was an added bonus for her as it somehow made her previous actions completely above reproach.<br /><br />Look, everyone would have been better off if Wilkinson had just left her for his secretary, who seemed to appreciate him for who he was. Instead he acted like an abused dog, his open craving for his wife's affection increasing with every kick she gives him. I'm not anti PC or anything, it just didn't ring true, even after taking into account all of the harsh realities of middle age we all tend to face. The ending for me was (and not the director's intention I am certain) depressing. The movie spent the last 80 minutes convincing me that these two people just don't belong together, so I found no joy in the promise of their relationship continuing. I'm not above wanting my emotions manipulated by a story, it just has to be somewhat plausible and not hackneyed. Is that asking too much?<br /><br />My score: 4/10\n",
      "\n",
      "\n",
      "Ejemplo mal clasificado para clase 'negative':  The 80s were overrun by all those HALLOWEEN/Friday THE 13TH slasher-style horror movies, so this is something of a relief.<br /><br />Ten unbelievably annoying teenagers (would you want to hang out with these jerks?!) decide to throw a Halloween party at a local former funeral parlor called \"Hull House\". During a \"past life séance\" a demon is accidentally released, and each person becomes possessed and kills off the others.<br /><br />This all sounds very EVIL DEAD/DEMONS-ish, but Tenney lends some directorial style to the proceedings, there are some good one-liners, the music is excellent, the Steve Johnson prosthetic make-up FX are scary and Linnea Quigley is quite fun as a boy-crazy bimbo who pokes out eyeballs with her fingers and does an amazing new thing with a tube of lipstick!<br /><br />Great fun on a no-brainer level! After checking out the breakdown of the voting and the other posted reviews, I don't understand how this only received 4 out of 10 (?!)<br /><br />I give it, 8 out of 10.\n"
     ]
    }
   ],
   "source": [
    "#Filtrado de los que cumplen la condicion \"falso positivo\" o \"falso negativo\"\n",
    "wrong_positives = np.where((predictions_mnb == 'positive') & (y_test == 'negative'))[0]\n",
    "wrong_negatives = np.where((predictions_mnb == 'negative') & (y_test == 'positive'))[0]\n",
    "\n",
    "\n",
    "# Mostrar un ejemplo mal clasificado para cada clase\n",
    "print(\"Ejemplo mal clasificado para clase 'positive': \", X_test.iloc[wrong_positives[0]])\n",
    "print('\\n')\n",
    "print(\"Ejemplo mal clasificado para clase 'negative': \", X_test.iloc[wrong_negatives[-1]])"
   ]
  },
  {
   "cell_type": "markdown",
   "metadata": {},
   "source": [
    "Para el primer ejemplo es posible que esté mal clasificado ya que aparecen palabras como ``good`` o , a pesar de que el uso que se les de sea para expresar lo contario: \"didn't sufficiently heed good advice\" o \"Good God!\". Esto puede hacer que se clasifique como ``positive`` a pesar de ser una review claramente ``negative``.\n",
    "\n",
    "El segundo ejemplo puede que esté mal clasificado debido a la presencia de palabras como ``horror`` o ``annoying``, que en el contexto no implican nada negativo sobre la película, ya que hablan dek argumento en sí de la película y no sobre cómo se siente el autor respecto a ella."
   ]
  }
 ],
 "metadata": {
  "colab": {
   "provenance": []
  },
  "kernelspec": {
   "display_name": "Python 3 (ipykernel)",
   "language": "python",
   "name": "python3"
  },
  "language_info": {
   "codemirror_mode": {
    "name": "ipython",
    "version": 3
   },
   "file_extension": ".py",
   "mimetype": "text/x-python",
   "name": "python",
   "nbconvert_exporter": "python",
   "pygments_lexer": "ipython3",
   "version": "3.9.12"
  }
 },
 "nbformat": 4,
 "nbformat_minor": 1
}

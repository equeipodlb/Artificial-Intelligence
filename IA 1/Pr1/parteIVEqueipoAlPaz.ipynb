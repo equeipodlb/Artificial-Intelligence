{
 "cells": [
  {
   "cell_type": "markdown",
   "id": "8c77c990",
   "metadata": {},
   "source": [
    "## Alejandro Paz - Enrique Queipo de Llano\n",
    "## Parte IV"
   ]
  },
  {
   "cell_type": "code",
   "execution_count": 1,
   "id": "58188015",
   "metadata": {},
   "outputs": [],
   "source": [
    "from search import *"
   ]
  },
  {
   "cell_type": "code",
   "execution_count": 111,
   "id": "f66cacde",
   "metadata": {},
   "outputs": [],
   "source": [
    "# APARTADO a)\n",
    "class Muelles(Problem):\n",
    "    \"\"\"Problema de los muelles:\n",
    "    Representaremos los estados como tuplas de 6 pilas, que a su vez serán representadas como tuplas de 1's y 0's,\n",
    "    1 si el contenedor es objetivo y 0 si no lo es, las pilas 0,1,2 son las del muelle 1 y las 3,4,5 las del muelle 2\n",
    "    Ademas las acciones serán representadas como tuplas (i,j) donde i es la pila de donde se coje el contenedor y j donde se \n",
    "    deja. goal_test se podría conseguir en coste logarítmico aplicando búsqueda binaria y cambiando la representación por una en la \n",
    "    que tuviera los identificadores de los contenedores junto a un valor que indique si es objetivo o no, pero consideramos \n",
    "    que no merece la pena complicar tanto la respresentación\"\"\"\n",
    "\n",
    "    def __init__(self,initial):\n",
    "        self.initial = initial\n",
    "        self.numObj = 0\n",
    "        self.alt = 3\n",
    "        #Calcular numero de contenedores objetivo\n",
    "        for i in range (len(initial)):\n",
    "            for j in range(len(initial[i])):\n",
    "                if (initial[i][j] == 1):\n",
    "                    self.numObj +=1\n",
    "        \n",
    "        \n",
    "    def actions(self,estado):\n",
    "        #accs es una lista que inicializamos vacía, comprobaremos las precondiciones y añadiremos en esta lista las acciones aplicables al estado.\n",
    "        accs=list() \n",
    "        # Para cada pila, mover de una pila a otra distinta siempre que no se supere la altura\n",
    "        for i in range(len(estado)):\n",
    "            for j in range(len(estado)):\n",
    "                if (i != j):\n",
    "                    if (len(estado[j]) + 1 <= self.alt):\n",
    "                        accs.append((i,j))\n",
    "        return accs\n",
    "        # se devuelve en accs todas las acciones aplicables\n",
    "\n",
    "    def result(self,estado,accion):\n",
    "        # aplica una acción a un estado (esta función se llamará desde el algoritmo de búsqueda)\n",
    "        desde = accion[0]\n",
    "        hasta = accion[1]\n",
    "        estadoNuevo = []\n",
    "        for i in range(len(estado)):\n",
    "            # Copiar pila antigua\n",
    "            estadoNuevo.append(list(estado[i])) \n",
    "            if (i == desde): # Si muevo, hago pop\n",
    "                estadoNuevo[i].pop(0)\n",
    "            elif (i == hasta): # Si recibe, hago insert\n",
    "                estadoNuevo[i].insert(estado[desde][0],0)\n",
    "        for i in range(len(estadoNuevo)):\n",
    "            estadoNuevo[i] = tuple(estadoNuevo[i])\n",
    "        return tuple(estadoNuevo)\n",
    "\n",
    "\n",
    "    def goal_test(self,estado):\n",
    "        encontrados = 0\n",
    "        # Comprobar que los contenedores objetivo estan disponibles\n",
    "        for i in range(3):\n",
    "            for j in range(1,len(estado[i])):\n",
    "                if (estado[i-1] == 0 and estado[i] == 1):\n",
    "                    return False\n",
    "        #Comprobar que estan todos en el muelle 1 (no me faltan)\n",
    "        for i in range(3):\n",
    "            for j in range(len(estado[i])):\n",
    "                encontrados += estado[i][j]\n",
    "                    \n",
    "        return encontrados == self.numObj\n",
    "    \n",
    "    \n",
    "    def coste_de_aplicar_accion(self, accion):\n",
    "        \"\"\"Respecto a la versiòn original de AIMA hemos incluido está función que devuelve el coste de un único operador. El coste sera\n",
    "        1 si se mueven contendores dentro de un mismo muelle y 3 si son en muelles distintos (coste == numero de maquinas que hay que accionar)\"\"\"\n",
    "        i = accion[0]\n",
    "        j = accion[1]\n",
    "        if ((i <= 2 and j >= 3) or (i >= 3 and j <= 2)):\n",
    "            return 3\n",
    "        else:\n",
    "            return 1\n",
    "        \n",
    "    "
   ]
  },
  {
   "cell_type": "code",
   "execution_count": 112,
   "id": "a6ee6c4d",
   "metadata": {},
   "outputs": [],
   "source": [
    "prueba = Muelles(((1,0),(0,0),(0,),(0,1),(0,1,0),(0,)))"
   ]
  },
  {
   "cell_type": "code",
   "execution_count": 113,
   "id": "af532cb5",
   "metadata": {},
   "outputs": [
    {
     "data": {
      "text/plain": [
       "3"
      ]
     },
     "execution_count": 113,
     "metadata": {},
     "output_type": "execute_result"
    }
   ],
   "source": [
    "prueba.numObj"
   ]
  },
  {
   "cell_type": "code",
   "execution_count": 114,
   "id": "e494aca0",
   "metadata": {},
   "outputs": [
    {
     "data": {
      "text/plain": [
       "[(0, 1),\n",
       " (0, 2),\n",
       " (0, 3),\n",
       " (0, 5),\n",
       " (1, 0),\n",
       " (1, 2),\n",
       " (1, 3),\n",
       " (1, 5),\n",
       " (2, 0),\n",
       " (2, 1),\n",
       " (2, 3),\n",
       " (2, 5),\n",
       " (3, 0),\n",
       " (3, 1),\n",
       " (3, 2),\n",
       " (3, 5),\n",
       " (4, 0),\n",
       " (4, 1),\n",
       " (4, 2),\n",
       " (4, 3),\n",
       " (4, 5),\n",
       " (5, 0),\n",
       " (5, 1),\n",
       " (5, 2),\n",
       " (5, 3)]"
      ]
     },
     "execution_count": 114,
     "metadata": {},
     "output_type": "execute_result"
    }
   ],
   "source": [
    "prueba.actions(prueba.initial)"
   ]
  },
  {
   "cell_type": "code",
   "execution_count": 115,
   "id": "224b8866",
   "metadata": {},
   "outputs": [
    {
     "data": {
      "text/plain": [
       "((0, 1, 0), (0, 0), (), (0, 1), (0, 1, 0), (0,))"
      ]
     },
     "execution_count": 115,
     "metadata": {},
     "output_type": "execute_result"
    }
   ],
   "source": [
    "prueba.result(prueba.initial,(2,0))"
   ]
  },
  {
   "cell_type": "code",
   "execution_count": 104,
   "id": "df8f68e7",
   "metadata": {},
   "outputs": [
    {
     "data": {
      "text/plain": [
       "False"
      ]
     },
     "execution_count": 104,
     "metadata": {},
     "output_type": "execute_result"
    }
   ],
   "source": [
    "prueba.goal_test(prueba.initial)"
   ]
  },
  {
   "cell_type": "code",
   "execution_count": 105,
   "id": "d2a98be4",
   "metadata": {},
   "outputs": [
    {
     "data": {
      "text/plain": [
       "True"
      ]
     },
     "execution_count": 105,
     "metadata": {},
     "output_type": "execute_result"
    }
   ],
   "source": [
    "prueba.goal_test(((1,1,1),(0,),(0,),(0,),(0,),(0,)))"
   ]
  },
  {
   "cell_type": "code",
   "execution_count": 108,
   "id": "53fb9261",
   "metadata": {},
   "outputs": [
    {
     "data": {
      "text/plain": [
       "3"
      ]
     },
     "execution_count": 108,
     "metadata": {},
     "output_type": "execute_result"
    }
   ],
   "source": [
    "prueba.coste_de_aplicar_accion((2,5))"
   ]
  },
  {
   "cell_type": "code",
   "execution_count": 109,
   "id": "5b25ab11",
   "metadata": {},
   "outputs": [
    {
     "data": {
      "text/plain": [
       "1"
      ]
     },
     "execution_count": 109,
     "metadata": {},
     "output_type": "execute_result"
    }
   ],
   "source": [
    "prueba.coste_de_aplicar_accion((2,1))"
   ]
  },
  {
   "cell_type": "markdown",
   "id": "38885062",
   "metadata": {},
   "source": [
    "Apartado b)\n",
    "Salta a la vista rápidamente la existencia de ciclos al hacer distintas acciones, ya que se podrían repetir las acciones (0,1) (1,0) constantemente (p. ej), por este motivo se descartan de primeras los algoritmos tree_search que no controlan ciclos.\n",
    "Además no parece muy razonable tampoco utilizar búsquedas ciegas, por lo que implementaremos una heurística y emplearemos el algoritmo A*"
   ]
  },
  {
   "cell_type": "code",
   "execution_count": 122,
   "id": "a2bffd39",
   "metadata": {},
   "outputs": [],
   "source": [
    "# Heurística contar las cajas objetivo que tengo en el muelle 2\n",
    "def cajasEn2(node):\n",
    "    encontrados = 0\n",
    "    for i in range(3,6):\n",
    "        for j in range(len(node[i])):\n",
    "            encontrados += node[i][j]\n",
    "\n",
    "    return encontrados\n",
    "\n",
    "# Se relaja el problema pensando que se pueden coger las cajas de cualquier posicion de la pila, no solo la cima. Así el coste\n",
    "# de mover cajas objetivo del muelle 2 al 1 será 3*cajasEn2 y el de hacer que las del 1 estén disponibles será 1.\n",
    "def linear(node):\n",
    "    suma = 3*cajasEn2(node)\n",
    "    for i in range(3):\n",
    "        primerCero = False\n",
    "        for j in range(len(node[i])):\n",
    "            if (node[i][j] == 0):\n",
    "                primerCero = True\n",
    "            if (primerCero):\n",
    "                suma += node[i][j]\n",
    "    return suma  "
   ]
  },
  {
   "cell_type": "code",
   "execution_count": 118,
   "id": "04264cbf",
   "metadata": {},
   "outputs": [
    {
     "data": {
      "text/plain": [
       "3"
      ]
     },
     "execution_count": 118,
     "metadata": {},
     "output_type": "execute_result"
    }
   ],
   "source": [
    "cajasEn2(((0,),(0,),(0,),(0,),(0,),(1,1,1)))"
   ]
  },
  {
   "cell_type": "code",
   "execution_count": 124,
   "id": "5a03c5ba",
   "metadata": {},
   "outputs": [
    {
     "data": {
      "text/plain": [
       "4"
      ]
     },
     "execution_count": 124,
     "metadata": {},
     "output_type": "execute_result"
    }
   ],
   "source": [
    "linear(((0,0,1),(0,),(1,0,0),(0,),(0,),(0,1,0)))"
   ]
  },
  {
   "cell_type": "code",
   "execution_count": null,
   "id": "dfde86a5",
   "metadata": {},
   "outputs": [],
   "source": []
  }
 ],
 "metadata": {
  "kernelspec": {
   "display_name": "Python 3 (ipykernel)",
   "language": "python",
   "name": "python3"
  },
  "language_info": {
   "codemirror_mode": {
    "name": "ipython",
    "version": 3
   },
   "file_extension": ".py",
   "mimetype": "text/x-python",
   "name": "python",
   "nbconvert_exporter": "python",
   "pygments_lexer": "ipython3",
   "version": "3.9.12"
  }
 },
 "nbformat": 4,
 "nbformat_minor": 5
}

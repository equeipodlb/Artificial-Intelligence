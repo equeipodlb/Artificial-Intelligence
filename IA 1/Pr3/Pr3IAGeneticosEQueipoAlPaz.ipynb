{
 "cells": [
  {
   "cell_type": "markdown",
   "metadata": {},
   "source": [
    "# Inteligencia Artificial 2022/23\n",
    "## Belén Díaz Agudo -  Facultad de Informática UCM\n",
    "## Búsqueda local\n",
    "En esta primera parte usaremos ejercicios paso a paso para familiarizarnos con la resolución de problemas sencillos de optimización, problemas conocidos que vamos a resolver utilizando algoritmos de búsqueda local. \n",
    "En la segunda parte de la práctica se pide resolver el problema dado en el enunciado."
   ]
  },
  {
   "cell_type": "markdown",
   "metadata": {},
   "source": [
    "## Algoritmo de escalada\n",
    "Hill Climbing es un algoritmo de búsqueda local heurística utilizada para problemas de optimización.\n",
    "Esta solución puede o no ser el óptimo global. El algoritmo es una variante del algoritmo de generación y prueba.\n",
    "<br>\n",
    "En general, el algoritmo funciona de la siguiente manera:\n",
    "- Evaluar el estado inicial.\n",
    "- Si es igual al estado del objetivo, terminamos.\n",
    "- Encuentra un estado vecino al estado actual\n",
    "- Evaluar este estado. Si está más cerca del estado objetivo que antes, reemplace el estado inicial con este estado y repita estos pasos.\n",
    "<br>\n",
    "Usaremos la implementación de AIMA que está en el módulo search.py\n",
    "\n",
    "    def hill_climbing(problem):\n",
    "        \"\"\"From the initial node, keep choosing the neighbor with highest value,\n",
    "        stopping when no neighbor is better. [Figure 4.2]\"\"\"\n",
    "        current = Node(problem.initial)\n",
    "        while True:\n",
    "            neighbors = current.expand(problem)\n",
    "            if not neighbors:\n",
    "                break\n",
    "            neighbor = argmax_random_tie(neighbors,\n",
    "                                     key=lambda node: problem.value(node.state))\n",
    "            if problem.value(neighbor.state) <= problem.value(current.state):\n",
    "                break\n",
    "            current = neighbor\n",
    "        return current.state\n"
   ]
  },
  {
   "cell_type": "code",
   "execution_count": 1,
   "metadata": {},
   "outputs": [],
   "source": [
    "initial = (0, 0)\n",
    "grid = [[3, 7, 2, 8], [5, 2, 9, 1], [5, 3, 3, 16]]\n",
    "from search import *"
   ]
  },
  {
   "cell_type": "code",
   "execution_count": 2,
   "metadata": {},
   "outputs": [],
   "source": [
    "# Pre-defined actions for PeakFindingProblem\n",
    "directions4 = { 'W':(-1, 0), 'N':(0, 1), 'E':(1, 0), 'S':(0, -1) }\n",
    "directions8 = dict(directions4) \n",
    "directions8.update({'NW':(-1, 1), 'NE':(1, 1), 'SE':(1, -1), 'SW':(-1, -1) })\n",
    "\n",
    "class PeakFindingProblem(Problem):\n",
    "    \"\"\"Problem of finding the highest peak in a limited grid\"\"\"\n",
    "\n",
    "    def __init__(self, initial, grid, defined_actions=directions4):\n",
    "        \"\"\"The grid is a 2 dimensional array/list whose state is specified by tuple of indices\"\"\"\n",
    "        Problem.__init__(self, initial)\n",
    "        self.grid = grid\n",
    "        self.defined_actions = defined_actions\n",
    "        self.n = len(grid)\n",
    "        assert self.n > 0\n",
    "        self.m = len(grid[0])\n",
    "        assert self.m > 0\n",
    "\n",
    "    def actions(self, state):\n",
    "        \"\"\"Returns the list of actions which are allowed to be taken from the given state\"\"\"\n",
    "        allowed_actions = []\n",
    "        for action in self.defined_actions:\n",
    "            next_state = vector_add(state, self.defined_actions[action])\n",
    "            if next_state[0] >= 0 and next_state[1] >= 0 and next_state[0] <= self.n - 1 and next_state[1] <= self.m - 1:\n",
    "                allowed_actions.append(action)\n",
    "\n",
    "        return allowed_actions\n",
    "\n",
    "    def result(self, state, action):\n",
    "        \"\"\"Moves in the direction specified by action\"\"\"\n",
    "        return vector_add(state, self.defined_actions[action])\n",
    "\n",
    "    def value(self, state):\n",
    "        \"\"\"Value of a state is the value it is the index to\"\"\"\n",
    "        x, y = state\n",
    "        assert 0 <= x < self.n\n",
    "        assert 0 <= y < self.m\n",
    "        return self.grid[x][y]\n"
   ]
  },
  {
   "cell_type": "code",
   "execution_count": 3,
   "metadata": {},
   "outputs": [],
   "source": [
    "problem = PeakFindingProblem(initial, grid, directions4)"
   ]
  },
  {
   "cell_type": "code",
   "execution_count": 4,
   "metadata": {},
   "outputs": [],
   "source": [
    "def hill_climbing(problem):\n",
    "    \"\"\"From the initial node, keep choosing the neighbor with highest value,\n",
    "    stopping when no neighbor is better. [Figure 4.2]\"\"\"\n",
    "    current = Node(problem.initial)\n",
    "    while True:\n",
    "        neighbors = current.expand(problem)\n",
    "        if not neighbors:\n",
    "            break\n",
    "        neighbor = argmax_random_tie(neighbors,\n",
    "                                     key=lambda node: problem.value(node.state))\n",
    "        if problem.value(neighbor.state) <= problem.value(current.state):\n",
    "            break\n",
    "        current = neighbor\n",
    "    return current.state"
   ]
  },
  {
   "cell_type": "code",
   "execution_count": 5,
   "metadata": {},
   "outputs": [
    {
     "data": {
      "text/plain": [
       "7"
      ]
     },
     "execution_count": 5,
     "metadata": {},
     "output_type": "execute_result"
    }
   ],
   "source": [
    "solution = problem.value(hill_climbing(problem))\n",
    "solution"
   ]
  },
  {
   "cell_type": "code",
   "execution_count": 6,
   "metadata": {},
   "outputs": [
    {
     "data": {
      "text/plain": [
       "16"
      ]
     },
     "execution_count": 6,
     "metadata": {},
     "output_type": "execute_result"
    }
   ],
   "source": [
    "#Probamos tambien con directions 8 para comprobar que se alcanza el vecino con valor máximo 16 en el sureste (16 es vecino de 9 que es vecino de 7 con directions8)\n",
    "problem1 = PeakFindingProblem(initial, grid, directions8)\n",
    "problem.value(hill_climbing(problem1))"
   ]
  },
  {
   "cell_type": "markdown",
   "metadata": {},
   "source": [
    "# Enfriamiento simulado ( simulated annealing) \n",
    "El algoritmo de enfriamiento simulado puede manejar las situaciones de óptimo local o mesetas típicas en algoritmos de escalada.\n",
    "<br>\n",
    "El enfriamiento simulado es bastante similar a la escalada pero en lugar de elegir el mejor movimiento en cada iteración, elige un movimiento aleatorio. Si este movimiento aleatorio nos acerca al óptimo global, será aceptado,\n",
    "pero si no lo hace, el algoritmo puede aceptar o rechazar el movimiento en función de una probabilidad dictada por la temperatura.  Cuando la `temperatura` es alta, es más probable que el algoritmo acepte un movimiento aleatorio incluso si es malo. A bajas temperaturas, solo se aceptan buenos movimientos, con alguna excepción ocasional.\n",
    "Esto permite la exploración del espacio de estado y evita que el algoritmo se atasque en el óptimo local.\n",
    "\n",
    "    Usaremos la implementación de AIMA del modulo search.py\n",
    "    \n",
    "    def simulated_annealing(problem, schedule=exp_schedule()):\n",
    "    \"\"\"[Figure 4.5] CAUTION: This differs from the pseudocode as it\n",
    "    returns a state instead of a Node.\"\"\"\n",
    "    current = Node(problem.initial)\n",
    "    for t in range(sys.maxsize):\n",
    "        T = schedule(t)\n",
    "        if T == 0:\n",
    "            return current.state\n",
    "        neighbors = current.expand(problem)\n",
    "        if not neighbors:\n",
    "            return current.state\n",
    "        next_choice = random.choice(neighbors)\n",
    "        delta_e = problem.value(next_choice.state) - problem.value(current.state)\n",
    "        if delta_e > 0 or probability(math.exp(delta_e / T)):\n",
    "            current = next_choice"
   ]
  },
  {
   "cell_type": "markdown",
   "metadata": {},
   "source": [
    "Como hemos visto en clase hay varios métodos de enfriamiento (scheduling routine) Se puede variar el método de enfriamiento. En la implementación actual estamos usando el método de enfriamiento exponencial (que se pasa como parámetro).\n",
    "\n",
    "    def exp_schedule(k=20, lam=0.005, limit=100):\n",
    "        \"\"\"One possible schedule function for simulated annealing\"\"\"\n",
    "        return lambda t: (k * math.exp(-lam * t) if t < limit else 0)"
   ]
  },
  {
   "cell_type": "code",
   "execution_count": 7,
   "metadata": {},
   "outputs": [
    {
     "data": {
      "text/plain": [
       "16"
      ]
     },
     "execution_count": 7,
     "metadata": {},
     "output_type": "execute_result"
    }
   ],
   "source": [
    "#Resolvemos el problema del máximo en una rejilla con enfriamiento simulado\n",
    "\n",
    "solutions = {problem.value(simulated_annealing(problem)) for i in range(100)}\n",
    "max(solutions)"
   ]
  },
  {
   "cell_type": "markdown",
   "metadata": {},
   "source": [
    "Con el enfriamento simulado alcanzamos la solución óptima incluso para el caso en el que solo tenemos 4 direcciones ya que las elecciones aleatorias nos permiten llegar al 16 y no quedarnos en el máximo local 7."
   ]
  },
  {
   "cell_type": "markdown",
   "metadata": {},
   "source": [
    "### Ejercicio 1.  Resuelve el problema anterior de encontrar el punto máximo en una rejilla. Comenta brevemente  los resultados obtenidos en distintas rejillas con el algoritmo de escalada por máxima pendiente y enfriamiento simulado. \n",
    "Observa las características de la rejilla y la posición del máximo. \n",
    "Ejemplo de rejilla para pruebas en el que el máximo es 11.2 (lo usamos para calcular el % de éxitos)\n"
   ]
  },
  {
   "cell_type": "code",
   "execution_count": 8,
   "metadata": {},
   "outputs": [
    {
     "name": "stdout",
     "output_type": "stream",
     "text": [
      "89.81481481481481%\n"
     ]
    }
   ],
   "source": [
    "import random\n",
    "grid = [[0.00, 1.00, 0.00, 0.00, 0.00, 0.00, 0.00, 0.00, 0.00],\n",
    "        [1.00, 1.80, 1.90, 1.90, 1.80, 1.70, 1.60, 1.50, 0.00],\n",
    "        [0.00, 1.90, 1.95, 0.40, 0.40, 0.00, 1.65, 0.00, 0.00],\n",
    "        [0.00, 0.00, 0.00, 2.00, 0.00, 0.00, 2.00, 0.70, 1.40],\n",
    "        [2.20, 1.80, 0.70, 0.00, 3.00, 0.00, 3.00, 0.00, 0.00],\n",
    "        [2.20, 1.80, 4.70, 6.50, 4.30, 7.00, 0.70, 0.00, 0.00],\n",
    "        [0.00, 0.00, 0.00, 0.00, 0.00, 7.00, 11.2, 0.70, 1.40],\n",
    "        [2.20, 1.80, 0.70, 0.00, 0.00, 9.00, 0.00, 0.00, 0.00],\n",
    "        [2.20, 1.80, 4.70, 6.50, 4.30, 1.80, 0.70, 0.00, 0.00],\n",
    "        [0.00, 0.25, 0.00, 0.00, 0.00, 0.00, 0.00, 0.70, 1.40],\n",
    "        [2.20, 1.80, 0.70, 0.00, 0.00, 0.00, 0.00, 0.00, 0.00],\n",
    "        [2.20, 1.80, 4.70, 8.50, 4.30, 1.80, 0.70, 0.00, 0.00]]\n",
    "veces_optimo=0\n",
    "for i in range(12):\n",
    "    for j in range(9):\n",
    "        initial = (i, j)\n",
    "        problem = PeakFindingProblem(initial, grid, directions4)\n",
    "        #solution = problem.value(hill_climbing(problem))\n",
    "        solutions = {problem.value(simulated_annealing(problem)) for i in range(100)}\n",
    "        solution=max(solutions)\n",
    "        if solution==11.2:\n",
    "            veces_optimo+=1\n",
    "print(f\"{veces_optimo*100/(9*12)}%\")"
   ]
  },
  {
   "cell_type": "markdown",
   "metadata": {},
   "source": [
    "RESULTADOS: Esta rejilla es mala porque la cima (11.2) se halla en un valle rodeado de valores no muy buenos por lo que el enfriamiento simulado no siempre llegará por allí.\n",
    "\n",
    "-Hill Climbing: 50.0%. De forma determinista, para la mitad de los puntos iniciales hay un camino de direcciones de nos lleva hasta el 11.2. Con sólo 4 direcciones, este valor se reduce bastante (hasta el 7%) ya que baja el número de vecinos de cada punto.\n",
    "\n",
    "-Enfriamiento Simulado: En 3 ejecuciones: 94,4%, 90% y 87% de veces se alcanza el óptimo. Esto se debe a lo que hemos explicado de la rejilla previamente."
   ]
  },
  {
   "cell_type": "markdown",
   "metadata": {},
   "source": [
    "##  Algoritmos genéticos\n"
   ]
  },
  {
   "cell_type": "markdown",
   "metadata": {},
   "source": [
    "Se define una clase ProblemaGenetico que incluye los elementos necesarios para la representación de un problema de optimización que se va a resolver con un algoritmo genético. Los elementos son los que hemos visto en clase:\n",
    "\n",
    " - genes: lista de genes usados en el genotipo de los estados.\n",
    " - longitud_individuos: longitud de los cromosomas\n",
    " - decodifica: función de obtiene el fenotipo a partir del genotipo.\n",
    " - fitness: función de valoración.\n",
    " - muta: función de mutación de un cromosoma \n",
    " - cruza: función de cruce de un par de cromosomas"
   ]
  },
  {
   "cell_type": "code",
   "execution_count": 9,
   "metadata": {},
   "outputs": [],
   "source": [
    "import random"
   ]
  },
  {
   "cell_type": "code",
   "execution_count": 10,
   "metadata": {},
   "outputs": [],
   "source": [
    "class ProblemaGenetico(object):\n",
    "        def __init__(self, genes,fun_dec,fun_muta , fun_cruza, fun_fitness,longitud_individuos):\n",
    "            self.genes = genes\n",
    "            self.fun_dec = fun_dec\n",
    "            self.fun_cruza = fun_cruza\n",
    "            self.fun_muta = fun_muta\n",
    "            self.fun_fitness = fun_fitness\n",
    "            self.longitud_individuos = longitud_individuos\n",
    "            \"\"\"Constructor de la clase\"\"\"\n",
    "                \n",
    "        def decodifica(self, genotipo):\n",
    "            \"\"\"Devuelve el fenotipo a partir del genotipo\"\"\"\n",
    "            fenotipo = self.fun_dec(genotipo)\n",
    "            return fenotipo\n",
    "        def muta(self, cromosoma,prob):\n",
    "            \"\"\"Devuelve el cromosoma mutado\"\"\"   \n",
    "            mutante = self.fun_muta(cromosoma,prob)\n",
    "            return mutante\n",
    "        def cruza(self, cromosoma1, cromosoma2):         \n",
    "            \"\"\"Devuelve el cruce de un par de cromosomas\"\"\"\n",
    "            cruce = self.fun_cruza(cromosoma1,cromosoma2)\n",
    "            return cruce \n",
    "        def fitness(self, cromosoma):    \n",
    "            \"\"\"Función de valoración\"\"\"\n",
    "            valoracion = self.fun_fitness(cromosoma)\n",
    "            return valoracion"
   ]
  },
  {
   "cell_type": "markdown",
   "metadata": {},
   "source": [
    "**Problema a resolver: encontrar el valor X que optimice una función**\n",
    "\n",
    "En primer lugar vamos a definir una instancia de la clase anterior correspondiente al problema de optimizar (maximizar o minimizar) \n",
    "Vamos a usar como ejemplo trivial la función cuadrado x^2 en el conjunto de los números naturales menores que 2^{10}. \n",
    "Se usa este ejemplo trivial (del que sabemos la solución) para ver todos los elementos y poder observar el comportamiento del algoritmo genético.  Después deberás probar con otra función más compleja de tu elección. \n"
   ]
  },
  {
   "cell_type": "code",
   "execution_count": 11,
   "metadata": {},
   "outputs": [],
   "source": [
    "# Será necesaria la siguiente función que interpreta una lista de 0's y 1's como un número natural:  \n",
    "# La siguiente función que interpreta una lista de 0's y 1's como\n",
    "# un número natural:  \n",
    "\n",
    "def binario_a_decimal(x):\n",
    "    x=x[::-1]\n",
    "    return sum(b*(2**i) for (i,b) in enumerate(x)) "
   ]
  },
  {
   "cell_type": "code",
   "execution_count": 12,
   "metadata": {},
   "outputs": [
    {
     "data": {
      "text/plain": [
       "14"
      ]
     },
     "execution_count": 12,
     "metadata": {},
     "output_type": "execute_result"
    }
   ],
   "source": [
    "binario_a_decimal((1,1,1,0))"
   ]
  },
  {
   "cell_type": "code",
   "execution_count": 13,
   "metadata": {},
   "outputs": [],
   "source": [
    "# En primer lugar usaremos la clase anterior para representar el problema de optimizar (maximizar o minimizar)\n",
    "# la función cuadrado en el conjunto de los números naturales menores que\n",
    "# 2^{10}. \n",
    "\n",
    "# Vamos a definir funciones de cruce, mutación y fitness para este problema.\n",
    "\n",
    "def fun_cruzar(cromosoma1, cromosoma2):\n",
    "    \"\"\"Cruza los cromosomas por la mitad (podemos cambiar la función de cruce eligiendo otro punto de cruce al azar)\"\"\"\n",
    "    l1 = len(cromosoma1)\n",
    "    l2 = len(cromosoma2)\n",
    "    cruce1 = cromosoma1[0:l1//2]+cromosoma2[l1//2:l2]\n",
    "    cruce2 = cromosoma2[0:l2//2]+cromosoma1[l2//2:l1]\n",
    "    return [cruce1,cruce2]\n",
    "\n",
    "def fun_mutar(cromosoma,prob):\n",
    "    \"\"\"Elige un elemento al azar del cromosoma y lo modifica con una probabilidad igual a prob\"\"\"\n",
    "    l = len(cromosoma)\n",
    "    p = random.randint(0,l-1)\n",
    "    if prob > random.uniform(0,1):\n",
    "        cromosoma[p] =  (cromosoma[p]+1)%2\n",
    "    return cromosoma\n",
    "\n",
    "def fun_fitness_cuad(cromosoma):\n",
    "    \"\"\"Función de valoración que eleva al cuadrado el número recibido en binario\"\"\"\n",
    "    n = binario_a_decimal(cromosoma)**2\n",
    "    return n\n",
    "\n",
    "cuadrados = ProblemaGenetico([0,1],binario_a_decimal,fun_mutar, fun_cruzar, fun_fitness_cuad,10)"
   ]
  },
  {
   "cell_type": "markdown",
   "metadata": {},
   "source": [
    "Una vez definida la instancia cuadrados que representa el problema genético, probar alguna de las funciones definidas en la clase anterior, para esta instancia concreta. Por ejemplo:"
   ]
  },
  {
   "cell_type": "code",
   "execution_count": 14,
   "metadata": {},
   "outputs": [
    {
     "data": {
      "text/plain": [
       "1125"
      ]
     },
     "execution_count": 14,
     "metadata": {},
     "output_type": "execute_result"
    }
   ],
   "source": [
    "cuadrados.decodifica([1,0,0,0,1,1,0,0,1,0,1])\n",
    "# Salida esperada: 1125"
   ]
  },
  {
   "cell_type": "code",
   "execution_count": 15,
   "metadata": {},
   "outputs": [
    {
     "data": {
      "text/plain": [
       "1265625"
      ]
     },
     "execution_count": 15,
     "metadata": {},
     "output_type": "execute_result"
    }
   ],
   "source": [
    "cuadrados.fitness([1,0,0,0,1,1,0,0,1,0,1])\n",
    "# Salida esperada: 1265625"
   ]
  },
  {
   "cell_type": "code",
   "execution_count": 85,
   "metadata": {},
   "outputs": [
    {
     "data": {
      "text/plain": [
       "[1, 0, 0, 0, 1, 1, 0, 0, 1, 0, 1]"
      ]
     },
     "execution_count": 85,
     "metadata": {},
     "output_type": "execute_result"
    }
   ],
   "source": [
    "cuadrados.muta([1,0,0,0,1,1,0,0,1,0,1],0.1)\n",
    "# Posible salida: [1, 0, 0, 0, 1, 1, 0, 0, 1, 0, 1]"
   ]
  },
  {
   "cell_type": "code",
   "execution_count": 86,
   "metadata": {},
   "outputs": [
    {
     "data": {
      "text/plain": [
       "[1, 0, 0, 0, 1, 1, 0, 0, 1, 0, 1]"
      ]
     },
     "execution_count": 86,
     "metadata": {},
     "output_type": "execute_result"
    }
   ],
   "source": [
    "cuadrados.muta([1,0,0,0,1,1,0,0,1,0,1],0.1)\n",
    "# Posible salida: [0, 0, 0, 0, 1, 1, 0, 0, 1, 0, 1]"
   ]
  },
  {
   "cell_type": "code",
   "execution_count": 87,
   "metadata": {},
   "outputs": [
    {
     "data": {
      "text/plain": [
       "[[1, 0, 0, 0, 1, 0, 0, 1, 1, 1], [0, 1, 1, 0, 1, 1, 0, 0, 1, 0, 1]]"
      ]
     },
     "execution_count": 87,
     "metadata": {},
     "output_type": "execute_result"
    }
   ],
   "source": [
    "cuadrados.cruza([1,0,0,0,1,1,0,0,1,0,1],[0,1,1,0,1,0,0,1,1,1])\n",
    "# Posible salida: [[1, 0, 0, 0, 1, 0, 0, 1, 1, 1], [0, 1, 1, 0, 1, 1, 0, 0, 1, 0, 1]]"
   ]
  },
  {
   "attachments": {
    "image.png": {
     "image/png": "[encoded data removed]"
    }
   },
   "cell_type": "markdown",
   "metadata": {},
   "source": [
    "Vamos a probar a optimizar la funcion |x^2* sin(x)| en los numeros naturales menores que 2^7 = 128. La función |x^2*sin(x)|  crece y decrece mucho muy rápido por culpa del seno. Según el análisis hecho en la calculadora gráfica de desmos que incluimos a continuación, el maximo debería dar 15687.55 en el punto x = 127 (teniendo en cuenta que lo hacemos solo sobre los naturales).\n",
    "\n",
    "![image.png](attachment:image.png)"
   ]
  },
  {
   "cell_type": "markdown",
   "metadata": {},
   "source": [
    "Escribimos la función fitness para nuestro problema. En este caso será, naturalmente, la función a maximizar/minimizar, que es f(x) = x^2*abs(sin(x)). Pasamos el número a decimal y lo pasamos por la función."
   ]
  },
  {
   "cell_type": "code",
   "execution_count": 16,
   "metadata": {},
   "outputs": [],
   "source": [
    "import math\n",
    "def fun_fitness_cuadSin(cromosoma):\n",
    "    \"\"\"Función de valoración que eleva al cuadrado el número recibido en binario\"\"\"\n",
    "    x = binario_a_decimal(cromosoma)\n",
    "    n = abs(x**2 *math.sin(x))\n",
    "    return n"
   ]
  },
  {
   "cell_type": "code",
   "execution_count": 17,
   "metadata": {},
   "outputs": [
    {
     "data": {
      "text/plain": [
       "15687.550354552799"
      ]
     },
     "execution_count": 17,
     "metadata": {},
     "output_type": "execute_result"
    }
   ],
   "source": [
    "fun_fitness_cuadSin((1,1,1,1,1,1,1)) #Probamos el fitness"
   ]
  },
  {
   "cell_type": "code",
   "execution_count": 18,
   "metadata": {},
   "outputs": [],
   "source": [
    "cuadradoSeno = ProblemaGenetico([0,1],binario_a_decimal,fun_mutar, fun_cruzar, fun_fitness_cuadSin,7)"
   ]
  },
  {
   "cell_type": "markdown",
   "metadata": {},
   "source": [
    "### Ejercicio 2\n",
    "\n",
    "   - Os doy hecha una función poblacion_inicial(problema_genetico,tamaño), para definir una población inicial de un tamaño dado, para una instancia dada de la clase anterior ProblemaGenetico\n",
    "\n",
    "sugerencia: usar random.choice\n",
    "\n",
    "   - Os doy hecha una función de cruce que recibe una instancia de Problema_Genetico y una población de padres (supondremos que hay un número par de padres), obtiene la población resultante de cruzarlos de dos en dos (en el orden en que aparecen)\n",
    "\n",
    "cruza_padres(problema_genetico,padres)\n",
    "\n",
    "   - Definir la función de mutación que recibe una instancia de Problema_Genetico, una población y una probabilidad de mutación, obtiene la población resultante de aplicar operaciones de mutación a cada individuo llamando a la función muta definida para el problema genético.\n",
    "muta_individuos(problema_genetico, poblacion, prob)"
   ]
  },
  {
   "cell_type": "code",
   "execution_count": 19,
   "metadata": {},
   "outputs": [],
   "source": [
    "def poblacion_inicial(problema_genetico, size):\n",
    "    l=[] # población inicial\n",
    "    for i in range(size): # añadimos a la población size individuos\n",
    "        x=[]\n",
    "        for j in range(problema_genetico.longitud_individuos): # los individuos se generan eligiendo sus genes\n",
    "                                                               # de manera eleatoria de entre los genes posibles\n",
    "            x.append(random.choice(problema_genetico.genes))\n",
    "        l.append(x) \n",
    "    return l"
   ]
  },
  {
   "cell_type": "code",
   "execution_count": 20,
   "metadata": {},
   "outputs": [
    {
     "data": {
      "text/plain": [
       "[[1, 0, 0, 0, 1, 1, 1, 0, 0, 0],\n",
       " [0, 1, 0, 1, 1, 1, 1, 0, 0, 1],\n",
       " [0, 1, 1, 1, 0, 1, 0, 1, 1, 0],\n",
       " [1, 1, 0, 0, 1, 1, 1, 0, 0, 0],\n",
       " [0, 1, 0, 0, 1, 1, 0, 0, 0, 0],\n",
       " [1, 1, 0, 1, 1, 1, 0, 1, 0, 0],\n",
       " [1, 1, 1, 0, 1, 0, 1, 1, 1, 0],\n",
       " [0, 1, 1, 0, 1, 1, 1, 0, 0, 1],\n",
       " [1, 0, 0, 1, 1, 1, 0, 0, 0, 1],\n",
       " [0, 1, 0, 1, 0, 1, 0, 1, 0, 0]]"
      ]
     },
     "execution_count": 20,
     "metadata": {},
     "output_type": "execute_result"
    }
   ],
   "source": [
    "poblacion_inicial(cuadrados,10)"
   ]
  },
  {
   "cell_type": "code",
   "execution_count": 96,
   "metadata": {},
   "outputs": [],
   "source": [
    "def cruza_padres(problema_genetico,padres):\n",
    "    l = []\n",
    "    for i in range(len(padres)//2):# asumimos que la población de la que partimos tiene tamaño par\n",
    "        desc = problema_genetico.fun_cruza(padres[2*i],padres[2*i+1]) # El cruce se realiza con la función de cruce  \n",
    "                                                                     # proporcionada por el propio problema genético\n",
    "        l.append(desc[0]) # La población resultante se obtiene de cruzar el padre[0] con padre[1], padre[2] con padre[3]...\n",
    "        l.append(desc[1]) # y añadir cada par de descendientes a la nueva población\n",
    "    return l"
   ]
  },
  {
   "cell_type": "code",
   "execution_count": 97,
   "metadata": {},
   "outputs": [
    {
     "data": {
      "text/plain": [
       "[[1, 1, 0, 1, 0, 0, 1, 0, 1, 1],\n",
       " [0, 1, 0, 1, 0, 1, 0, 0, 0, 1],\n",
       " [0, 0, 1, 0, 0, 1, 1, 1, 1, 0],\n",
       " [0, 0, 1, 1, 1, 0, 1, 1, 1, 0],\n",
       " [0, 1, 1, 0, 0, 0, 1, 1, 0, 1],\n",
       " [1, 0, 1, 1, 1, 0, 0, 0, 0, 0]]"
      ]
     },
     "execution_count": 97,
     "metadata": {},
     "output_type": "execute_result"
    }
   ],
   "source": [
    "p1 = [[1, 1, 0, 1, 0, 1, 0, 0, 0, 1],\n",
    "      [0, 1, 0, 1, 0, 0, 1, 0, 1, 1],\n",
    "      [0, 0, 1, 0, 0, 0, 1, 1, 1, 0],\n",
    "      [0, 0, 1, 1, 1, 1, 1, 1, 1, 0],\n",
    "      [0, 1, 1, 0, 0, 0, 0, 0, 0, 0],\n",
    "      [1, 0, 1, 1, 1, 0, 1, 1, 0, 1]]\n",
    "\n",
    "cruza_padres(cuadrados,p1)\n",
    "# Posible salida\n",
    "# [[1, 1, 0, 1, 0, 0, 1, 0, 1, 1],\n",
    "#  [0, 1, 0, 1, 0, 1, 0, 0, 0, 1],\n",
    "#  [0, 0, 1, 1, 1, 1, 1, 1, 1, 0],\n",
    "#  [0, 0, 1, 0, 0, 0, 1, 1, 1, 0],\n",
    "#  [0, 1, 1, 1, 1, 0, 1, 1, 0, 1],\n",
    "#  [1, 0, 1, 0, 0, 0, 0, 0, 0, 0]]"
   ]
  },
  {
   "cell_type": "code",
   "execution_count": 102,
   "metadata": {},
   "outputs": [],
   "source": [
    "def muta_individuos(problema_genetico, poblacion, prob):\n",
    "    l = []\n",
    "    for individuo in poblacion:\n",
    "        mutado = problema_genetico.muta(individuo,prob)\n",
    "        l.append(mutado)\n",
    "    return l\n",
    "    # IMPLEMENTA TU ESTA FUNCIÓN. \n",
    "    # hay que llamar a  problema_genetico.muta(x,prob) para todos los individuos de la poblacion."
   ]
  },
  {
   "cell_type": "code",
   "execution_count": 103,
   "metadata": {
    "scrolled": true
   },
   "outputs": [
    {
     "data": {
      "text/plain": [
       "[[1, 1, 0, 1, 0, 1, 0, 0, 0, 1],\n",
       " [1, 1, 0, 1, 0, 0, 1, 0, 1, 1],\n",
       " [0, 0, 1, 0, 1, 0, 1, 1, 1, 0],\n",
       " [1, 0, 0, 1, 1, 1, 1, 1, 1, 0],\n",
       " [1, 1, 1, 0, 0, 1, 0, 0, 0, 0],\n",
       " [1, 0, 1, 1, 1, 1, 1, 1, 0, 1]]"
      ]
     },
     "execution_count": 103,
     "metadata": {},
     "output_type": "execute_result"
    }
   ],
   "source": [
    "muta_individuos(cuadrados,p1,0.5)\n",
    "# Posible salida:\n",
    "#  [[1, 1, 0, 1, 0, 1, 0, 0, 0, 1],\n",
    "#   [0, 1, 0, 1, 0, 0, 1, 0, 0, 1],\n",
    "#   [0, 0, 1, 0, 0, 0, 1, 0, 1, 0],\n",
    "#   [0, 0, 1, 1, 1, 1, 1, 1, 1, 0],\n",
    "#   [0, 1, 0, 0, 0, 0, 0, 0, 0, 0],\n",
    "#   [1, 0, 1, 1, 1, 0, 1, 1, 0, 1]]"
   ]
  },
  {
   "cell_type": "code",
   "execution_count": 104,
   "metadata": {},
   "outputs": [],
   "source": [
    "p1 = [[1, 1, 0, 1, 0, 1, 0, 0, 0, 1],\n",
    "      [0, 1, 0, 1, 0, 0, 1, 0, 1, 1],\n",
    "      [0, 0, 1, 0, 0, 0, 1, 1, 1, 0],\n",
    "      [0, 0, 1, 1, 1, 1, 1, 1, 1, 0],\n",
    "      [0, 1, 1, 0, 0, 0, 0, 0, 0, 0],\n",
    "      [1, 0, 1, 1, 1, 0, 1, 1, 0, 1]]"
   ]
  },
  {
   "cell_type": "code",
   "execution_count": 105,
   "metadata": {},
   "outputs": [
    {
     "data": {
      "text/plain": [
       "[[1, 1, 0, 0, 0, 1, 0, 0, 0, 1],\n",
       " [0, 1, 0, 1, 0, 0, 1, 0, 1, 1],\n",
       " [0, 0, 1, 0, 1, 0, 1, 1, 1, 0],\n",
       " [0, 0, 1, 1, 1, 0, 1, 1, 1, 0],\n",
       " [0, 1, 1, 0, 0, 0, 0, 0, 0, 0],\n",
       " [1, 0, 1, 1, 1, 0, 1, 1, 0, 1]]"
      ]
     },
     "execution_count": 105,
     "metadata": {},
     "output_type": "execute_result"
    }
   ],
   "source": [
    "muta_individuos(cuadrados,p1,0.5)"
   ]
  },
  {
   "cell_type": "markdown",
   "metadata": {},
   "source": [
    "Vamos a definir una función de selección mediante torneo de n individuos de una población.  \n",
    "La función recibe como entrada:\n",
    " - una instancia de la clase ProblemaGenetico\n",
    " - una población\n",
    " - el número n de individuos que vamos a seleccionar\n",
    " - el número k de participantes en el torneo\n",
    " - un valor opt que puede ser o la función max o la función min (dependiendo de si el problema es de maximización o de minimización, resp.).\n",
    "\n",
    "seleccion\\_por\\_torneo(problema_genetico,poblacion,n,k,opt) \n",
    "\n",
    "Usar random.sample para seleccionar k elementos de una secuencia. \n",
    "Por ejemplo, random.sample(population=[2,5,7,8,9], k=3) devuelve [7,5,8]. "
   ]
  },
  {
   "cell_type": "code",
   "execution_count": 106,
   "metadata": {},
   "outputs": [],
   "source": [
    "def seleccion_por_torneo(problema_genetico, poblacion, n, k, opt):\n",
    "    \"\"\"Selección por torneo de n individuos de una población. Siendo k el nº de participantes\n",
    "        y opt la función max o min.\"\"\"\n",
    "    seleccionados = []\n",
    "    for i in range(n):\n",
    "        participantes = random.sample(poblacion,k)\n",
    "        seleccionado = opt(participantes, key=problema_genetico.fitness)\n",
    "        opt(poblacion, key=problema_genetico.fitness)\n",
    "        seleccionados.append(seleccionado)\n",
    "        # poblacion.remove(seleccionado)\n",
    "    return seleccionados  "
   ]
  },
  {
   "cell_type": "code",
   "execution_count": 107,
   "metadata": {},
   "outputs": [
    {
     "data": {
      "text/plain": [
       "[[1, 1, 1, 1, 0, 0, 1, 1, 0, 1],\n",
       " [1, 1, 1, 1, 0, 0, 1, 1, 0, 1],\n",
       " [1, 1, 1, 1, 0, 0, 1, 1, 0, 1]]"
      ]
     },
     "execution_count": 107,
     "metadata": {},
     "output_type": "execute_result"
    }
   ],
   "source": [
    "#Ejemplo\n",
    "seleccion_por_torneo(cuadrados, poblacion_inicial(cuadrados,8),3,6,max)\n",
    "# Posible salida: [[1, 1, 1, 1, 1, 0, 0, 0, 1, 1], [1, 0, 0, 1, 1, 1, 0, 1, 0, 1], [1, 1, 1, 1, 0, 1, 1, 1, 0, 1]]\n"
   ]
  },
  {
   "cell_type": "code",
   "execution_count": 108,
   "metadata": {},
   "outputs": [
    {
     "data": {
      "text/plain": [
       "[[0, 0, 0, 1, 1, 1, 1, 0, 1, 0],\n",
       " [0, 0, 0, 0, 1, 0, 1, 1, 0, 0],\n",
       " [0, 0, 0, 0, 1, 0, 1, 1, 0, 0]]"
      ]
     },
     "execution_count": 108,
     "metadata": {},
     "output_type": "execute_result"
    }
   ],
   "source": [
    "seleccion_por_torneo(cuadrados, poblacion_inicial(cuadrados,8),3,6,min)\n",
    "# [[0, 0, 1, 1, 0, 1, 1, 0, 0, 0], [1, 0, 1, 0, 1, 1, 1, 0, 0, 0], [1, 1, 0, 1, 0, 0, 1, 0, 1, 0]]"
   ]
  },
  {
   "cell_type": "code",
   "execution_count": 1,
   "metadata": {},
   "outputs": [],
   "source": [
    "# La siguiente función implementa una posibilidad para el algoritmo genético completo: \n",
    "# inicializa t = 0 \n",
    "# Generar y evaluar la Población P(t)\n",
    "# Mientras no hemos llegado al número de generaciones fijado:  t < nGen\n",
    "#    P1 = Selección por torneo de (1-size)·p individuos de P(t)\n",
    "#    P2 = Selección por torneo de (size·p) individuos de P(t)\n",
    "#    Aplicar cruce en la población P2\n",
    "#    P4 = Union de P1 y P3\n",
    "#    P(t+1) := Aplicar mutación P4 \n",
    "#    Evalua la población P(t+1) \n",
    "#    t:= t+1\n",
    "        \n",
    "# Sus argumentos son:\n",
    "# problema_genetico: una instancia de la clase ProblemaGenetico con la representación adecuada del problema de optimización \n",
    "# que se quiere resolver.\n",
    "# k: número de participantes en los torneos de selección.\n",
    "# opt: max ó min, dependiendo si el problema es de maximización o de minimización. \n",
    "# nGen: número de generaciones (que se usa como condición de terminación)\n",
    "# size: número de individuos en cada generación\n",
    "# prop_cruce: proporción del total de la población que serán padres. \n",
    "# prob_mutación: probabilidad de realizar una mutación de un gen.\n",
    "\n",
    "def algoritmo_genetico(problema_genetico,k,opt,ngen,size,prop_cruces,prob_mutar):\n",
    "    poblacion= poblacion_inicial(problema_genetico,size)\n",
    "    n_padres=round(size*prop_cruces)\n",
    "    n_padres= int (n_padres if n_padres%2==0 else n_padres-1)\n",
    "    n_directos = size-n_padres\n",
    "    for _ in range(ngen):\n",
    "        poblacion= nueva_generacion(problema_genetico,k,opt,poblacion,n_padres, n_directos,prob_mutar)\n",
    "\n",
    "    mejor_cr= opt(poblacion, key=problema_genetico.fitness)\n",
    "    mejor=problema_genetico.decodifica(mejor_cr)\n",
    "    return (mejor,problema_genetico.fitness(mejor_cr)) \n"
   ]
  },
  {
   "cell_type": "markdown",
   "metadata": {},
   "source": [
    "Necesitarás definir la función auxiliar nueva_generacion(problema_genetico,poblacion,n_padres,n_directos,prob_mutar) que dada una población calcula la siguiente generación."
   ]
  },
  {
   "cell_type": "code",
   "execution_count": 2,
   "metadata": {},
   "outputs": [],
   "source": [
    "#Definir la función nueva_generacion\n",
    "def nueva_generacion(problema_genetico, k,opt, poblacion, n_padres, n_directos, prob_mutar):\n",
    "    padres2 = seleccion_por_torneo(problema_genetico, poblacion, n_directos, k,opt) \n",
    "    padres1 = seleccion_por_torneo(problema_genetico, poblacion, n_padres , k, opt)\n",
    "    cruces =  cruza_padres(problema_genetico,padres1)\n",
    "    generacion = padres2+cruces\n",
    "    resultado_mutaciones = muta_individuos(problema_genetico, generacion, prob_mutar)\n",
    "    return resultado_mutaciones"
   ]
  },
  {
   "cell_type": "markdown",
   "metadata": {},
   "source": [
    "### Ejercicio 3.  Ejecutar el algoritmo genético anterior, para resolver el problema anterior (tanto en minimización como en maximización) para la función cuadrado y para otra función. \n",
    "\n",
    "Se puede comenzar probarndo los resultados y comportamiento del algorimto para la función X^2 ya que sabemos la solución. \n",
    "Después hacer una valoración de resultados y comentarios sobre el comportamiento del algoritmmo para otra función. \n",
    "Puedes elegir cualquier otra función.\n",
    "f(x) = |(x-12)/(2+sen(x)|  entre X=-5 y X=25\n",
    "\n",
    "En la resolución del problema hay que tener en cuenta que el algoritmo genético devuelve un par con el mejor fenotipo encontrado y su valoración.\n",
    "\n",
    "Se puede calcular el número de veces que el algoritmo alcanza la solución óptima modificando parámetros como:\n",
    "\n",
    "-k=número de participantes del torneo\n",
    "-ngen=número de generaciones\n",
    "-size=tamaño de la población\n",
    "-prob_cruce=probabilidad de cruce\n",
    "-prob_mutacion=probabilidad de mutacion\n",
    "\n",
    "Realizar pruebas para un número suficiente de ejecuciones para las cuales queremos estudiar cual es el porcentaje de optimalidad del algoritmo para los distintos parámetros y de ahí sacar conclusiones. Para determinar el número de veces que una solución es éxitosa se pueden considerar soluciones aproximadas, por ejemplo, que para el problema de minimización es exitosa si la solución es menor que 23 y para el problema de maximización una solución será exitosa si es mayor que 1000."
   ]
  },
  {
   "cell_type": "code",
   "execution_count": 111,
   "metadata": {},
   "outputs": [
    {
     "data": {
      "text/plain": [
       "(0, 0)"
      ]
     },
     "execution_count": 111,
     "metadata": {},
     "output_type": "execute_result"
    }
   ],
   "source": [
    "algoritmo_genetico(cuadrados,3,min,20,10,0.7,0.1)\n",
    "# Salida esperada: (0, 0)"
   ]
  },
  {
   "cell_type": "code",
   "execution_count": 114,
   "metadata": {},
   "outputs": [
    {
     "data": {
      "text/plain": [
       "(1023, 1046529)"
      ]
     },
     "execution_count": 114,
     "metadata": {},
     "output_type": "execute_result"
    }
   ],
   "source": [
    "algoritmo_genetico(cuadrados,3,max,20,10,0.7,0.1)\n",
    "# Salida esperada: (1023, 1046529)"
   ]
  },
  {
   "cell_type": "code",
   "execution_count": 121,
   "metadata": {},
   "outputs": [
    {
     "data": {
      "text/plain": [
       "(127, 15687.550354552799)"
      ]
     },
     "execution_count": 121,
     "metadata": {},
     "output_type": "execute_result"
    }
   ],
   "source": [
    "#Probamos nuestro problema con 20 generaciones: Ha alcanzado el máximo, pero no siempre.\n",
    "algoritmo_genetico(cuadradoSeno,3,max,20,10,0.7,0.1)"
   ]
  },
  {
   "cell_type": "code",
   "execution_count": 143,
   "metadata": {},
   "outputs": [
    {
     "data": {
      "text/plain": [
       "(0, 0.0)"
      ]
     },
     "execution_count": 143,
     "metadata": {},
     "output_type": "execute_result"
    }
   ],
   "source": [
    "#Probamos el mismo problema para minimización: Salida esperada: (k*pi,0) que solo es entero si k = 0, por lo que en realidad esperamos (0,0)\n",
    "# y otras veces (menos) devolverá 3 que es cercano al 3.14 donde también vale 0. Será muy raro que de valores cercanos a cualquier\n",
    "# otro múltiplo de pi debido a que x^2 hace que cuanto más grande sea x, más lejos esté f(x) de 0 que es el mínimo real de la función.\n",
    "algoritmo_genetico(cuadradoSeno,3,min,20,10,0.7,0.1)"
   ]
  },
  {
   "cell_type": "markdown",
   "metadata": {},
   "source": [
    "A continuación, incluimos celdas para hacer un análisis estadístico de la solución, contando cuántas veces se alcanza el óptimo y para valorar la efectividad media de la implementación. Esto es importante por si se quisiera usar en el mundo real, debemos saber cómo de cerca/lejos está la solución media arrojada por el algoritmo del verdadero óptimo. En nuestro caso, vemos que se alcanza el máximo en torno a un 25% de las veces (depende de la ejecución) y que, en estos casos, el valor medio de los puntos en los que se alcanza es 120(~ ~127) y el valor de los máximos 14193(que no se acerca tanto a 15687). Dependerá del contexto decidir si esta solucion es suficientemente buena para lo que se pretenda o no. Además, notar que, por la natureleza de la función elegida (aún siendo continua), aunque los valores de x sean aparentemente cercanos, los de f(x) diferirán en mayor medida. "
   ]
  },
  {
   "cell_type": "code",
   "execution_count": 140,
   "metadata": {},
   "outputs": [
    {
     "name": "stdout",
     "output_type": "stream",
     "text": [
      "23% se alcanza el maximo real que es (127, 15687.550354552799)\n",
      "Valor medio de los puntos en los que se alcanza el maximo devuelto 120.28\n",
      "Valor medio de los maximos devueltos 14193.140875040459\n"
     ]
    }
   ],
   "source": [
    "veces_optimo = 0\n",
    "accX = 0\n",
    "accM = 0\n",
    "for i in range(100):\n",
    "    sol = algoritmo_genetico(cuadradoSeno,3,max,20,10,0.7,0.1)\n",
    "    accX+=sol[0]\n",
    "    accM+=sol[1] \n",
    "    if (sol[0]==127):\n",
    "        veces_optimo+=1\n",
    "mediaX = accX/100\n",
    "mediaM = accM/100\n",
    "print(f\"{veces_optimo}% se alcanza el maximo real que es (127, 15687.550354552799)\")\n",
    "print(f\"Valor medio de los puntos en los que se alcanza el maximo devuelto {mediaX}\")\n",
    "print(f\"Valor medio de los maximos devueltos {mediaM}\")\n"
   ]
  },
  {
   "cell_type": "markdown",
   "metadata": {},
   "source": [
    "Lo mismo hacemos para el cálculo de los mínimos, pero observando mejores resultados por lo explicado anteriormente. La mayoría de las veces se alcanza el mínimo real y muchas de las otras se alcanza un valor cercano, ya que f(x) aún no ha 'crecido' lo suficiente."
   ]
  },
  {
   "cell_type": "code",
   "execution_count": 142,
   "metadata": {},
   "outputs": [
    {
     "name": "stdout",
     "output_type": "stream",
     "text": [
      "65% se alcanza el minimo real en programacion entera que es (0, 0)\n",
      "Valor medio de los puntos en los que se alcanza el minimo devuelto 3.51\n",
      "Valor medio de los minimos devueltos 2.9410525357678057\n"
     ]
    }
   ],
   "source": [
    "veces_optimo = 0\n",
    "accX = 0\n",
    "accM = 0\n",
    "for i in range(100):\n",
    "    sol = algoritmo_genetico(cuadradoSeno,3,min,20,10,0.7,0.1)\n",
    "    accX+=sol[0]\n",
    "    accM+=sol[1] \n",
    "    if (sol[0]==0):#de los posibles valores de x en los que se alcanza el minimo (0), el único entero es x = 0\n",
    "        veces_optimo+=1\n",
    "mediaX = accX/100\n",
    "mediaM = accM/100\n",
    "print(f\"{veces_optimo}% se alcanza el minimo real en programacion entera que es (0, 0)\")\n",
    "print(f\"Valor medio de los puntos en los que se alcanza el minimo devuelto {mediaX}\")\n",
    "print(f\"Valor medio de los minimos devueltos {mediaM}\")\n"
   ]
  },
  {
   "cell_type": "markdown",
   "metadata": {},
   "source": [
    "### Ejercicio 4 (opcional)\n",
    "Resolver mediante una configuración de un algoritmo genético el problema de los Ocho Consecutivos que distribuye los números 1 \n",
    "al 8 en las ocho casillas de la figura, con la condición de que no puede haber dos números consecutivos en casillas adyacentes. Se consideran casillas adyacentes aquéllas que comparten un lado o una esquina.\n",
    "\n",
    "La siguiente configuración representa una solución al problema:\n",
    "    \n",
    "    2 6 8 5 \n",
    "    7 4 1 4\n",
    "    \n",
    "Comenta el resultado y el rendimiento del algoritmo para distintos parámetros.   \n",
    "    "
   ]
  },
  {
   "cell_type": "markdown",
   "metadata": {},
   "source": [
    "### Ejercicio 5: RESOLUCION DE UN NONOGRAMA MEDIANTE UN ALGORITMO GENÉTICO"
   ]
  },
  {
   "cell_type": "markdown",
   "metadata": {},
   "source": [
    "Procedemos a la implementación de un algoritmo genético para resolver Nonogramas. Comenzamos planteando las partes más importantes de dicho algoritmo: \n",
    "\n",
    "Representación del Nonograma: Optamos por usar una matriz NxN de 0's y 1's de modo que 0 representa que la casilla está en blanco y 1 representa que la casilla está coloreada.\n",
    "\n",
    "-Representación de las restricciones: En este caso usamos una lista tridimensional. En la primera dimensión encontramos 2 elementos, la posición 0 representa las restricciones de las filas y la posición 1 la de las columnas. En la dimensión 2 encontramos N elementos de modo que el elemento de la posición i nos da las restricciones de la linea i (fila si estamos en 0 y columna si estamos en 1). Por último, con la tercera dimensión accedemos a los valores concretos de la restricción. Por ejemplo, para acceder a la restricción de la tercera fila del nonograma, usariamos Restricciones[0][3] y esto nos devolverá una lista, digamos [2 1] con las restricciones que buscabamos. \n",
    "\n",
    "-Función Fitness: Quizá esta función es el elemento tanto más importante como más complicado del algoritmo. Es por esto por lo que nos hemos visto obligados a probar diferentes funciones fitness hasta encontrar una que nos diera resultados lo suficientemente satisfactorios. A continuacion mostramos las 4 funciones que hemos pensado: \n",
    "\n",
    "   -Número de filas y columnas que satisfacen la totalidad de sus restricciones:En un primer momento, y sin mucho acierto como    comprobamos posteriormente, implementamos una función fitness que sumaba 1 por cada linea que cumpliera la totalidad de las    restricciones. Después, nos dimos cuenta de que esta función no es buena puesto que hay individuos que casi cumplen las        restricciones de todas sus lineas y por tanto son muy buenos, pues son realmente cercanos a la solución óptima, y sin          embargo tienen fitness 0 (pues realmente ninguna linea cumple al completo las restricciones). Esto hacía que estas              soluciones \"casi óptimas\" fueran descartadas y por tanto nos quedabamos sin buenos candidatos en nuestra población. Al fin y    al cabo, había muchisima aleatoriedad (pues todos los individuos eran prácticamente igual de susceptibles de ser                descartados) y se obtenían resultados nefastos (fitness de 4 sobre 17 en los mejores casos y tras muchas generaciones con      muchos individuos).\n",
    "   \n",
    "   -Número de subrestricciones que se satisfacen: Una subrestricción es uno de los numeros que tienen las restricciones de        lineas en su lista. Por ejemplo, las subrestricciones de la resticción [1,2] son 1 y 2. Para acabar con el problema            anterior, implementamos esta función fitness. Ahora, si un individuo tiene sus  lineas muy cerca de cumplir la totalidad de    sus restricciones, su fitness será mucho mayor que el de otro individuo que es muy malo para las restricciones dadas. \n",
    "   Decidimos trabajar en escala 100 en lugar de escala 1 (es decir, multiplicar todos los valores por 100) porque es más          agradable trabajar con números en esta escala. Con esta función obtubimos resultados que hemos considerado lo suficientmente    satisfactorios y que estudiaremos posteriormente. \n",
    "   \n",
    "   -Pequeña modificación sobre la función fitness anterior: Seguidamente, explotamos aun más el hecho que nos llevo a la           implementación de la segunda función fitness y ahora añadimos \"un castigo\" por cada subrestricción que no se cumpla. Este       \"castigo\" consiste en restar 50 al valor de la función fitness por cada subrestricción no satisfecha. Con esta modificación     obserbamos resultados levemente mejores (en general), puesto que de este modo se evita aun más el estancamiento en máximos     locales, y, por tanto, decidimos quedar la modificación en el código que se muestra en páginas posteriores. \n",
    "   \n",
    "   -Diferencia entre subrestricciones e individuo: Aunque no implementamos esta función fitness (realmente no lo hicimos por      falta de tiempo, pues tiene muy buenas características), se nos ocurrió que podría ser interesante minimizar el valor de la    diferencia entre las subrestricciones que un individuo queremos que cumpla y las que actualmente cumple.\n",
    "   \n",
    "   A continuacion vemos un ejemplo: \n",
    "   \n",
    "  Restricciones:  [[[5],[2],[4],[2,1],[2,1]],[[2,1],[5],[1,1,1],[1,1],[1,3]]]\n",
    "\n",
    "  Individuo(por filas): [[1, 1, 1, 1, 1],[1, 1, 0, 0, 0],[1, 1, 1, 1, 0],[1, 1, 0, 0, 1],[0, 1, 1, 0, 1]]\n",
    "  \n",
    "Fitness1 = 5(filas) + 3(columnas) = 8 (optimo 10). Observar que modicando un único bit en cada fila (posiblemente por una mutación) podemos pasar a fitness 0 y por tanto este individuo, que sigue siendo bastante bueno, pasa a ser muy susceptible de perder en el torneo y por tanto de ser descartado. \n",
    "\n",
    "Fitness2 = 7*100 (filas) + 7*100(columnas) = 1400 (optimo 1700). En este caso, además de que el individuo tiene más margen de mejora a pesar de ser realmente buena, observamos que mutaciones dispersas en sus filas (o columnas) no se traducen en un decremento del fitness hasta 0, como era el caso anterior. Esto hace que esta función sea mucho mejor que la 1. \n",
    "\n",
    "Fitness3 = 7*100 (filas) + 7*100 (columnas) - 50*3(subrestricciones que no se cumplen en columnas)(optimo 1700). Esta función da aun más margen de mejora (refiriéndonos con esto a que la misma solución está aparentemente más lejos de ser óptima y por tanto es más susceptible de mejorar).\n",
    "\n",
    "Fitness4 = 0 (filas) + (1+1)(primera columna) + 2(penultima columna) = 4 (optimo 0). De nuevo, observamos que el individuo es realmente bueno, sigue siendo susceptible de mejorar, y pequeñas mutaciones de los genes no producen diferencias importantes en el valor de la función fitness. \n",
    "\n",
    "-Mutación y Cruce: optamos por mutación y cruce sencillos para no complicar demasiado el algoritmo, puesto que damos casi toda la importancia a la función fitness. La mutación consiste en cambiar un 0 por un 1 o viceversa de un individuo con cierta probabilidad (generalmente pequeña para evitar comportamientos raros). Con respecto al cruzamiento, cruzamiento sencillo por el punto intermedio heredando en cada mitad los genes de uno de sus progenitores. \n",
    "\n",
    "-Población Inicial: Hemos probado a ejecutar el algoritmo genético con una población inicial totalmente aleatoria y con una población inicial ligeramente preparada. Esta preparación consiste en imponer que se cumplan las restricciones que solamente se pueden satisfacer con una única configuración de los bits, por ejemplo, si en el caso de un nonograma de tamaño 5x5 la primera fila tiene restricción 5 y la segunda 0,  en la primera fila todos los individuos tendran 5 unos y en la segunda todos los individuos tendrán 5 ceros. Esta ligera modificación afecta considerablemente a la evolución de las generaciones (y sus coste es realmente rentable en términos tanto de tiempo como de complejidad) y por tanto optamos por incluirla en el código. \n",
    "\n",
    "A continuación se muestra el código del algoritmo genético implementado:"
   ]
  },
  {
   "cell_type": "code",
   "execution_count": 15,
   "metadata": {},
   "outputs": [],
   "source": [
    "import numpy as np\n",
    "import random\n",
    "class ProblemaGenetico(object):\n",
    "        def __init__(self, genes,fun_muta , fun_cruza, fun_fitness,longitud_individuos,rest):\n",
    "            self.genes = genes\n",
    "            self.fun_cruza = fun_cruza\n",
    "            self.fun_muta = fun_muta\n",
    "            self.fun_fitness = fun_fitness\n",
    "            self.longitud_individuos = longitud_individuos\n",
    "            self.rest = rest\n",
    "            \"\"\"Constructor de la clase\"\"\"\n",
    "                \n",
    "        def muta(self, cromosoma,prob):\n",
    "            \"\"\"Devuelve el cromosoma mutado\"\"\"   \n",
    "            mutante = self.fun_muta(cromosoma,prob)\n",
    "            return mutante\n",
    "        def cruza(self, cromosoma1, cromosoma2):         \n",
    "            \"\"\"Devuelve el cruce de un par de cromosomas\"\"\"\n",
    "            cruce = self.fun_cruza(cromosoma1,cromosoma2)\n",
    "            return cruce \n",
    "        def fitness(self, cromosoma):    \n",
    "            \"\"\"Función de valoración\"\"\"\n",
    "            valoracion = self.fun_fitness(cromosoma,self.rest[0]) + self.fun_fitness(np.transpose(cromosoma),self.rest[1])\n",
    "            return valoracion"
   ]
  },
  {
   "cell_type": "code",
   "execution_count": 16,
   "metadata": {
    "scrolled": true
   },
   "outputs": [],
   "source": [
    "def fun_cruzar(cromosoma1, cromosoma2):\n",
    "    \"\"\"Cruza los cromosomas por la mitad (podemos cambiar la función de cruce eligiendo otro punto de cruce al azar)\"\"\"\n",
    "    l1 = len(cromosoma1)\n",
    "    l2 = len(cromosoma2)\n",
    "    r = random.randint(1,l1-1)\n",
    "    #cruce1 = cromosoma1[0:l1//2]+cromosoma2[l1//2:l2]\n",
    "    #cruce2 = cromosoma2[0:l2//2]+cromosoma1[l2//2:l1]\n",
    "    cruce1 = cromosoma1[0:l1//r]+cromosoma2[l1//r:l2]\n",
    "    cruce2 = cromosoma2[0:l2//r]+cromosoma1[l2//r:l1]\n",
    "    return [cruce1,cruce2]\n",
    "\n",
    "def fun_mutar(cromosoma,prob):\n",
    "    \"\"\"Elige un elemento al azar del cromosoma y lo modifica con una probabilidad igual a prob\"\"\"\n",
    "    c = cromosoma.copy()\n",
    "    l = len(cromosoma)\n",
    "    l1 = len(cromosoma[0])\n",
    "    p = random.randint(0,l-1)\n",
    "    r = random.randint(0,l1-1)\n",
    "    if prob > random.uniform(0,1):\n",
    "        c[p][r] = (c[p][r]+1)%2\n",
    "    return c\n",
    "\n",
    "def fun_fitness_nonogram(cromosoma,restricciones):\n",
    "    \"\"\"Función de valoración que cuenta en cuantas filas y columnas se satisfacen las restricciones\"\"\"\n",
    "    suma = 0 # Cuenta cuantas lineas y colns satisfacen las restrs\n",
    "    \n",
    "    \n",
    "    #filas\n",
    "    for i in range(len(cromosoma)):\n",
    "        size = len(restricciones[i]) #numero de restricciones que debe satisfaces la fila i\n",
    "        numUnos = 0 #numero de unos que llevo contados sin ceros entre medias\n",
    "        restActual = 0 #restriccion que estoy comprobando ahora\n",
    "        restSat = 0 #numero de restricciones que van cumplidas en la fila i\n",
    "        noMasUnos = False\n",
    "        for j in range(len(cromosoma[i])):\n",
    "            if(cromosoma[i][j] == 1): #si me encuentro un uno\n",
    "                numUnos += 1 #aumento el número de unos en la secuencia\n",
    "                if(noMasUnos):\n",
    "                    restSat -=1\n",
    "                    suma +=100*restSat-50\n",
    "                    #print(restSat)\n",
    "                    break\n",
    "                if(j == len(cromosoma[i])-1 and numUnos == restricciones[i][restActual]):\n",
    "                    restSat +=1\n",
    "            if(cromosoma[i][j] == 0):\n",
    "                if(numUnos > 0 and numUnos == restricciones[i][restActual]):\n",
    "                    restSat +=1\n",
    "                    restActual +=1\n",
    "                    if(restSat == size ):\n",
    "                        noMasUnos = True\n",
    "                numUnos = 0\n",
    "            if(j == len(cromosoma[i])-1):\n",
    "                suma +=100*restSat-(50*(size-restSat))\n",
    "                #print(restSat)\n",
    "    \n",
    "    #print(suma)\n",
    "    return suma\n",
    "\n",
    "nonogram = ProblemaGenetico([0,1],fun_mutar, fun_cruzar, fun_fitness_nonogram,5,[[[5],[2],[4],[2,1],[2,1]],[[2,1],[5],[1,1,1],[1,1],[1,3]]])"
   ]
  },
  {
   "cell_type": "code",
   "execution_count": 17,
   "metadata": {
    "scrolled": false
   },
   "outputs": [],
   "source": [
    "\n",
    "\n",
    "def poblacion_inicial(problema_genetico, size,restFilas):\n",
    "    l=[] # población inicial\n",
    "    for i in range(size): # añadimos a la población size individuos\n",
    "        x=[] #individuo\n",
    "        for j in range(problema_genetico.longitud_individuos): # los individuos se generan eligiendo sus genes de manera eleatoria de entre los genes posibles\n",
    "            y = []\n",
    "            if(len(restFilas[j])==1):\n",
    "                aux = restFilas[j][0]\n",
    "                for k in range(aux):\n",
    "                    y.append(1)\n",
    "                for k in range(aux,problema_genetico.longitud_individuos,1):\n",
    "                    y.append(0)\n",
    "            else:\n",
    "                for k in range(problema_genetico.longitud_individuos): \n",
    "                    y.append(random.choice(problema_genetico.genes))\n",
    "            x.append(y)\n",
    "        l.append(x) \n",
    "    return l"
   ]
  },
  {
   "cell_type": "code",
   "execution_count": 8,
   "metadata": {},
   "outputs": [],
   "source": [
    "def seleccion_por_torneo(problema_genetico, poblacion, n, k):\n",
    "    \"\"\"Selección por torneo de n individuos de una población. Siendo k el nº de participantes\n",
    "        y opt la función max o min.\"\"\"\n",
    "    seleccionados = []\n",
    "    for i in range(n):\n",
    "        participantes = random.sample(poblacion,k)\n",
    "        seleccionado = max(participantes, key=problema_genetico.fitness)\n",
    "        max(poblacion, key=problema_genetico.fitness)\n",
    "        seleccionados.append(seleccionado)\n",
    "        # poblacion.remove(seleccionado)\n",
    "    return seleccionados  "
   ]
  },
  {
   "cell_type": "markdown",
   "metadata": {},
   "source": [
    "Con respecto al método de selección, obtamos también por un método de selección sencillo por torneo en el que cuanto mejor\n",
    "es un individuo, más probable es que perviva. "
   ]
  },
  {
   "cell_type": "code",
   "execution_count": 18,
   "metadata": {},
   "outputs": [],
   "source": [
    "def cruza_padres(problema_genetico,padres):\n",
    "    l = []\n",
    "    for i in range(len(padres)//2):# asumimos que la población de la que partimos tiene tamaño par\n",
    "        desc = problema_genetico.fun_cruza(padres[2*i],padres[2*i+1]) # El cruce se realiza con la función de cruce  \n",
    "                                                                     # proporcionada por el propio problema genético\n",
    "        l.append(desc[0]) # La población resultante se obtiene de cruzar el padre[0] con padre[1], padre[2] con padre[3]...\n",
    "        l.append(desc[1]) # y añadir cada par de descendientes a la nueva población\n",
    "    return l"
   ]
  },
  {
   "cell_type": "code",
   "execution_count": 19,
   "metadata": {},
   "outputs": [],
   "source": [
    "def muta_individuos(problema_genetico, poblacion, prob):\n",
    "    l = []\n",
    "    for individuo in poblacion:\n",
    "        mutado = problema_genetico.muta(individuo,prob)\n",
    "        l.append(mutado)\n",
    "    return l"
   ]
  },
  {
   "cell_type": "code",
   "execution_count": 20,
   "metadata": {},
   "outputs": [],
   "source": [
    "# La siguiente función implementa una posibilidad para el algoritmo genético completo: \n",
    "# inicializa t = 0 \n",
    "# Generar y evaluar la Población P(t)\n",
    "# Mientras no hemos llegado al número de generaciones fijado:  t < nGen\n",
    "#    P1 = Selección por torneo de (1-size)·p individuos de P(t)\n",
    "#    P2 = Selección por torneo de (size·p) individuos de P(t)\n",
    "#    Aplicar cruce en la población P2\n",
    "#    P4 = Union de P1 y P3\n",
    "#    P(t+1) := Aplicar mutación P4 \n",
    "#    Evalua la población P(t+1) \n",
    "#    t:= t+1\n",
    "        \n",
    "# Sus argumentos son:\n",
    "# problema_genetico: una instancia de la clase ProblemaGenetico con la representación adecuada del problema de optimización \n",
    "# que se quiere resolver.\n",
    "# k: número de participantes en los torneos de selección.\n",
    "# nGen: número de generaciones (que se usa como condición de terminación)\n",
    "# size: número de individuos en cada generación\n",
    "# prop_cruce: proporción del total de la población que serán padres. \n",
    "# prob_mutación: probabilidad de realizar una mutación de un gen.\n",
    "\n",
    "def algoritmo_genetico(problema_genetico,k,ngen,size,prop_cruces,prob_mutar,nueva,pob,opt):\n",
    "    if(nueva == 0):\n",
    "        poblacion= poblacion_inicial(problema_genetico,size,problema_genetico.rest[0])\n",
    "    else:\n",
    "        aux = int(size/2) -1\n",
    "        poblacion = pob[0:aux] + [opt] + poblacion_inicial(problema_genetico,int(size/2),problema_genetico.rest[0])\n",
    "    n_padres=round(size*prop_cruces)\n",
    "    n_padres= int (n_padres if n_padres%2==0 else n_padres-1)\n",
    "    n_directos = size-n_padres\n",
    "    for _ in range(ngen):\n",
    "        poblacion= nueva_generacion(problema_genetico,k,poblacion,n_padres, n_directos,prob_mutar,opt)\n",
    "       \n",
    "    mejor= max(poblacion, key=problema_genetico.fitness).copy()\n",
    "    return (mejor,problema_genetico.fitness(mejor),poblacion) \n"
   ]
  },
  {
   "cell_type": "code",
   "execution_count": 12,
   "metadata": {},
   "outputs": [],
   "source": [
    "#Definir la función nueva_generacion\n",
    "def nueva_generacion(problema_genetico, k, poblacion, n_padres, n_directos, prob_mutar,opt):\n",
    "    padres2 = seleccion_por_torneo(problema_genetico, poblacion, n_directos, k) \n",
    "    padres1 = seleccion_por_torneo(problema_genetico, poblacion, n_padres , k)\n",
    "    cruces =  cruza_padres(problema_genetico,padres1)\n",
    "    generacion = padres2+cruces\n",
    "    resultado_mutaciones = muta_individuos(problema_genetico, generacion, prob_mutar)\n",
    "    poblacion =  resultado_mutaciones[0:(len(resultado_mutaciones)-1)] + [opt]\n",
    "    return resultado_mutaciones\n",
    "   \n"
   ]
  },
  {
   "cell_type": "markdown",
   "metadata": {},
   "source": [
    "En el siguiente fragmento de código, se ejecuta el algoritmo genético 100 veces y para 50 generaciones grandes de modo que se muestra la evolución que la población experimenta. \n",
    "El objetivo es encontrar una solución óptima para las restricciones: \n",
    "[[[5],[2],[4],[2,1],[2,1]],[[2,1],[5],[1,1,1],[1,1],[1,3]]]"
   ]
  },
  {
   "cell_type": "code",
   "execution_count": 14,
   "metadata": {},
   "outputs": [
    {
     "name": "stdout",
     "output_type": "stream",
     "text": [
      "0 950 [[1, 1, 1, 1, 1], [1, 1, 0, 0, 0], [1, 1, 1, 1, 0], [0, 1, 0, 0, 1], [0, 1, 1, 0, 1]]\n",
      "0 950 [[1, 1, 1, 1, 1], [1, 1, 0, 0, 0], [1, 1, 1, 1, 0], [0, 1, 0, 0, 1], [0, 1, 1, 0, 1]]\n",
      "0 950 [[1, 1, 1, 1, 1], [1, 1, 0, 0, 0], [1, 1, 1, 1, 0], [0, 1, 0, 0, 1], [0, 1, 1, 0, 1]]\n",
      "1 950 [[1, 1, 1, 1, 1], [1, 1, 0, 0, 0], [1, 1, 1, 1, 0], [0, 1, 0, 0, 1], [0, 1, 1, 0, 1]]\n",
      "1 950 [[1, 1, 1, 1, 1], [1, 1, 0, 0, 0], [1, 1, 1, 1, 0], [0, 1, 0, 0, 1], [0, 1, 1, 0, 1]]\n",
      "2 950 [[1, 1, 1, 1, 1], [1, 1, 0, 0, 0], [1, 1, 1, 1, 0], [0, 1, 0, 0, 1], [0, 1, 1, 0, 1]]\n",
      "2 950 [[1, 1, 1, 1, 1], [1, 1, 0, 0, 0], [1, 1, 1, 1, 0], [0, 1, 0, 0, 1], [0, 1, 1, 0, 1]]\n",
      "3 950 [[1, 1, 1, 1, 1], [1, 1, 0, 0, 0], [1, 1, 1, 1, 0], [0, 1, 0, 0, 1], [0, 1, 1, 0, 1]]\n",
      "3 950 [[1, 1, 1, 1, 1], [1, 1, 0, 0, 0], [1, 1, 1, 1, 0], [0, 1, 0, 0, 1], [0, 1, 1, 0, 1]]\n",
      "4 950 [[1, 1, 1, 1, 1], [1, 1, 0, 0, 0], [1, 1, 1, 1, 0], [0, 1, 0, 0, 1], [0, 1, 1, 0, 1]]\n",
      "4 950 [[1, 1, 1, 1, 1], [1, 1, 0, 0, 0], [1, 1, 1, 1, 0], [0, 1, 0, 0, 1], [0, 1, 1, 0, 1]]\n",
      "5 950 [[1, 1, 1, 1, 1], [1, 1, 0, 0, 0], [1, 1, 1, 1, 0], [1, 1, 0, 1, 0], [0, 1, 1, 0, 0]]\n",
      "5 950 [[1, 1, 1, 1, 1], [1, 1, 0, 0, 0], [1, 1, 1, 1, 0], [0, 1, 0, 0, 1], [0, 1, 1, 0, 1]]\n",
      "6 950 [[1, 1, 1, 1, 1], [1, 1, 0, 0, 0], [1, 1, 1, 1, 0], [0, 1, 0, 0, 1], [0, 1, 1, 0, 1]]\n",
      "6 950 [[1, 1, 1, 1, 1], [1, 1, 0, 0, 0], [1, 1, 1, 1, 0], [0, 1, 0, 0, 1], [0, 1, 1, 0, 1]]\n",
      "7 950 [[1, 1, 1, 1, 1], [1, 1, 0, 0, 0], [1, 1, 1, 1, 0], [0, 1, 0, 0, 1], [0, 1, 1, 0, 1]]\n",
      "7 950 [[1, 1, 1, 1, 1], [1, 1, 0, 0, 0], [1, 1, 1, 1, 0], [0, 1, 0, 0, 1], [0, 1, 1, 0, 1]]\n",
      "8 950 [[1, 1, 1, 1, 1], [1, 1, 0, 0, 0], [1, 1, 1, 1, 0], [0, 1, 0, 0, 1], [0, 1, 1, 0, 1]]\n",
      "8 950 [[1, 1, 1, 1, 1], [1, 1, 0, 0, 0], [1, 1, 1, 1, 0], [0, 1, 0, 0, 1], [0, 1, 1, 0, 1]]\n",
      "9 950 [[1, 1, 1, 1, 1], [1, 1, 0, 0, 0], [1, 1, 1, 1, 0], [0, 1, 0, 0, 1], [0, 1, 1, 0, 1]]\n",
      "9 950 [[1, 1, 1, 1, 1], [1, 1, 0, 0, 0], [1, 1, 1, 1, 0], [0, 1, 0, 0, 1], [0, 1, 1, 0, 1]]\n",
      "10 1100 [[1, 1, 1, 1, 1], [1, 1, 0, 0, 0], [1, 1, 1, 1, 0], [1, 1, 0, 0, 1], [0, 1, 1, 0, 0]]\n",
      "10 1100 [[1, 1, 1, 1, 1], [1, 1, 0, 0, 0], [1, 1, 1, 1, 0], [1, 1, 0, 0, 1], [0, 1, 1, 0, 0]]\n",
      "11 1100 [[1, 1, 1, 1, 1], [1, 1, 0, 0, 0], [1, 1, 1, 1, 0], [1, 1, 0, 0, 1], [0, 1, 1, 0, 0]]\n",
      "11 1100 [[1, 1, 1, 1, 1], [1, 1, 0, 0, 0], [1, 1, 1, 1, 0], [1, 1, 0, 0, 1], [0, 1, 1, 0, 0]]\n",
      "12 1100 [[1, 1, 1, 1, 1], [1, 1, 0, 0, 0], [1, 1, 1, 1, 0], [1, 1, 0, 0, 1], [0, 1, 1, 0, 0]]\n",
      "12 1100 [[1, 1, 1, 1, 1], [1, 1, 0, 0, 0], [1, 1, 1, 1, 0], [1, 1, 0, 0, 1], [0, 1, 1, 0, 0]]\n",
      "13 1100 [[1, 1, 1, 1, 1], [1, 1, 0, 0, 0], [1, 1, 1, 1, 0], [1, 1, 0, 0, 1], [0, 1, 1, 0, 0]]\n",
      "13 1100 [[1, 1, 1, 1, 1], [1, 1, 0, 0, 0], [1, 1, 1, 1, 0], [1, 1, 0, 0, 1], [0, 1, 1, 0, 0]]\n",
      "14 1100 [[1, 1, 1, 1, 1], [1, 1, 0, 0, 0], [1, 1, 1, 1, 0], [1, 1, 0, 0, 1], [0, 1, 1, 0, 0]]\n",
      "14 1100 [[1, 1, 1, 1, 1], [1, 1, 0, 0, 0], [1, 1, 1, 1, 0], [1, 1, 0, 0, 1], [0, 1, 1, 0, 0]]\n",
      "15 1100 [[1, 1, 1, 1, 1], [1, 1, 0, 0, 0], [1, 1, 1, 1, 0], [1, 1, 0, 0, 1], [0, 1, 1, 0, 0]]\n",
      "15 1100 [[1, 1, 1, 1, 1], [1, 1, 0, 0, 0], [1, 1, 1, 1, 0], [1, 1, 0, 0, 1], [0, 1, 1, 0, 0]]\n",
      "16 1100 [[1, 1, 1, 1, 1], [1, 1, 0, 0, 0], [1, 1, 1, 1, 0], [1, 1, 0, 0, 1], [0, 1, 1, 0, 0]]\n",
      "16 1100 [[1, 1, 1, 1, 1], [1, 1, 0, 0, 0], [1, 1, 1, 1, 0], [1, 1, 0, 0, 1], [0, 1, 1, 0, 0]]\n",
      "17 1100 [[1, 1, 1, 1, 1], [1, 1, 0, 0, 0], [1, 1, 1, 1, 0], [1, 1, 0, 0, 1], [0, 1, 1, 0, 0]]\n",
      "17 1100 [[1, 1, 1, 1, 1], [1, 1, 0, 0, 0], [1, 1, 1, 1, 0], [1, 1, 0, 0, 1], [0, 1, 1, 0, 0]]\n",
      "18 1100 [[1, 1, 1, 1, 1], [1, 1, 0, 0, 0], [1, 1, 1, 1, 0], [1, 1, 0, 0, 1], [0, 1, 1, 0, 0]]\n",
      "18 1100 [[1, 1, 1, 1, 1], [1, 1, 0, 0, 0], [1, 1, 1, 1, 0], [1, 1, 0, 0, 1], [0, 1, 1, 0, 0]]\n",
      "19 1100 [[1, 1, 1, 1, 1], [1, 1, 0, 0, 0], [1, 1, 1, 1, 0], [1, 1, 0, 0, 1], [0, 1, 1, 0, 0]]\n",
      "19 1100 [[1, 1, 1, 1, 1], [1, 1, 0, 0, 0], [1, 1, 1, 1, 0], [1, 1, 0, 0, 1], [0, 1, 1, 0, 0]]\n",
      "20 1100 [[1, 1, 1, 1, 1], [1, 1, 0, 0, 0], [1, 1, 1, 1, 0], [1, 1, 0, 0, 1], [0, 1, 1, 0, 0]]\n",
      "20 1100 [[1, 1, 1, 1, 1], [1, 1, 0, 0, 0], [1, 1, 1, 1, 0], [1, 1, 0, 0, 1], [0, 1, 1, 0, 0]]\n",
      "21 1100 [[1, 1, 1, 1, 1], [1, 1, 0, 0, 0], [1, 1, 1, 1, 0], [1, 1, 0, 0, 1], [0, 1, 1, 0, 0]]\n",
      "21 1100 [[1, 1, 1, 1, 1], [1, 1, 0, 0, 0], [1, 1, 1, 1, 0], [1, 1, 0, 0, 1], [0, 1, 1, 0, 0]]\n",
      "22 1100 [[1, 1, 1, 1, 1], [1, 1, 0, 0, 0], [1, 1, 1, 1, 0], [1, 1, 0, 0, 1], [0, 1, 1, 0, 0]]\n",
      "22 1100 [[1, 1, 1, 1, 1], [1, 1, 0, 0, 0], [1, 1, 1, 1, 0], [1, 1, 0, 0, 1], [0, 1, 1, 0, 0]]\n",
      "23 1100 [[1, 1, 1, 1, 1], [1, 1, 0, 0, 0], [1, 1, 1, 1, 0], [1, 1, 0, 0, 1], [0, 1, 1, 0, 0]]\n",
      "23 1100 [[1, 1, 1, 1, 1], [1, 1, 0, 0, 0], [1, 1, 1, 1, 0], [1, 1, 0, 0, 1], [0, 1, 1, 0, 0]]\n",
      "24 1100 [[1, 1, 1, 1, 1], [1, 1, 0, 0, 0], [1, 1, 1, 1, 0], [1, 1, 0, 0, 1], [0, 1, 1, 0, 0]]\n",
      "24 1100 [[1, 1, 1, 1, 1], [1, 1, 0, 0, 0], [1, 1, 1, 1, 0], [1, 1, 0, 0, 1], [0, 1, 1, 0, 0]]\n",
      "25 1100 [[1, 1, 1, 1, 1], [1, 1, 0, 0, 0], [1, 1, 1, 1, 0], [1, 1, 0, 0, 1], [0, 1, 1, 0, 0]]\n",
      "25 1100 [[1, 1, 1, 1, 1], [1, 1, 0, 0, 0], [1, 1, 1, 1, 0], [1, 1, 0, 0, 1], [0, 1, 1, 0, 0]]\n",
      "26 1100 [[1, 1, 1, 1, 1], [1, 1, 0, 0, 0], [1, 1, 1, 1, 0], [1, 1, 0, 0, 1], [0, 1, 1, 0, 0]]\n",
      "26 1100 [[1, 1, 1, 1, 1], [1, 1, 0, 0, 0], [1, 1, 1, 1, 0], [1, 1, 0, 0, 1], [0, 1, 1, 0, 0]]\n",
      "27 1100 [[1, 1, 1, 1, 1], [1, 1, 0, 0, 0], [1, 1, 1, 1, 0], [1, 1, 0, 0, 1], [0, 1, 1, 0, 0]]\n",
      "27 1100 [[1, 1, 1, 1, 1], [1, 1, 0, 0, 0], [1, 1, 1, 1, 0], [1, 1, 0, 0, 1], [0, 1, 1, 0, 0]]\n",
      "28 1100 [[1, 1, 1, 1, 1], [1, 1, 0, 0, 0], [1, 1, 1, 1, 0], [1, 1, 0, 0, 1], [0, 1, 1, 0, 0]]\n",
      "28 1100 [[1, 1, 1, 1, 1], [1, 1, 0, 0, 0], [1, 1, 1, 1, 0], [1, 1, 0, 0, 1], [0, 1, 1, 0, 0]]\n",
      "29 1100 [[1, 1, 1, 1, 1], [1, 1, 0, 0, 0], [1, 1, 1, 1, 0], [1, 1, 0, 0, 1], [0, 1, 1, 0, 0]]\n",
      "29 1100 [[1, 1, 1, 1, 1], [1, 1, 0, 0, 0], [1, 1, 1, 1, 0], [1, 1, 0, 0, 1], [0, 1, 1, 0, 0]]\n",
      "30 1100 [[1, 1, 1, 1, 1], [1, 1, 0, 0, 0], [1, 1, 1, 1, 0], [1, 1, 0, 0, 1], [0, 1, 1, 0, 0]]\n",
      "30 1100 [[1, 1, 1, 1, 1], [1, 1, 0, 0, 0], [1, 1, 1, 1, 0], [1, 1, 0, 0, 1], [0, 1, 1, 0, 0]]\n",
      "31 1100 [[1, 1, 1, 1, 1], [1, 1, 0, 0, 0], [1, 1, 1, 1, 0], [1, 1, 0, 0, 1], [0, 1, 1, 0, 0]]\n",
      "31 1100 [[1, 1, 1, 1, 1], [1, 1, 0, 0, 0], [1, 1, 1, 1, 0], [1, 1, 0, 0, 1], [0, 1, 1, 0, 0]]\n",
      "32 1250 [[1, 1, 1, 1, 1], [1, 1, 0, 0, 0], [1, 1, 1, 1, 0], [1, 1, 0, 0, 1], [0, 1, 1, 0, 1]]\n",
      "32 1250 [[1, 1, 1, 1, 1], [1, 1, 0, 0, 0], [1, 1, 1, 1, 0], [1, 1, 0, 0, 1], [0, 1, 1, 0, 1]]\n",
      "33 1250 [[1, 1, 1, 1, 1], [1, 1, 0, 0, 0], [1, 1, 1, 1, 0], [1, 1, 0, 0, 1], [0, 1, 1, 0, 1]]\n",
      "33 1250 [[1, 1, 1, 1, 1], [1, 1, 0, 0, 0], [1, 1, 1, 1, 0], [1, 1, 0, 0, 1], [0, 1, 1, 0, 1]]\n",
      "34 1250 [[1, 1, 1, 1, 1], [1, 1, 0, 0, 0], [1, 1, 1, 1, 0], [1, 1, 0, 0, 1], [0, 1, 1, 0, 1]]\n",
      "34 1250 [[1, 1, 1, 1, 1], [1, 1, 0, 0, 0], [1, 1, 1, 1, 0], [1, 1, 0, 0, 1], [0, 1, 1, 0, 1]]\n",
      "35 1250 [[1, 1, 1, 1, 1], [1, 1, 0, 0, 0], [1, 1, 1, 1, 0], [1, 1, 0, 0, 1], [0, 1, 1, 0, 1]]\n",
      "35 1250 [[1, 1, 1, 1, 1], [1, 1, 0, 0, 0], [1, 1, 1, 1, 0], [1, 1, 0, 0, 1], [0, 1, 1, 0, 1]]\n",
      "36 1250 [[1, 1, 1, 1, 1], [1, 1, 0, 0, 0], [1, 1, 1, 1, 0], [1, 1, 0, 0, 1], [0, 1, 1, 0, 1]]\n",
      "36 1250 [[1, 1, 1, 1, 1], [1, 1, 0, 0, 0], [1, 1, 1, 1, 0], [1, 1, 0, 0, 1], [0, 1, 1, 0, 1]]\n",
      "37 1250 [[1, 1, 1, 1, 1], [1, 1, 0, 0, 0], [1, 1, 1, 1, 0], [1, 1, 0, 0, 1], [0, 1, 1, 0, 1]]\n",
      "37 1250 [[1, 1, 1, 1, 1], [1, 1, 0, 0, 0], [1, 1, 1, 1, 0], [1, 1, 0, 0, 1], [0, 1, 1, 0, 1]]\n",
      "38 1250 [[1, 1, 1, 1, 1], [1, 1, 0, 0, 0], [1, 1, 1, 1, 0], [1, 1, 0, 0, 1], [0, 1, 1, 0, 1]]\n",
      "38 1250 [[1, 1, 1, 1, 1], [1, 1, 0, 0, 0], [1, 1, 1, 1, 0], [1, 1, 0, 0, 1], [0, 1, 1, 0, 1]]\n",
      "39 1250 [[1, 1, 1, 1, 1], [1, 1, 0, 0, 0], [1, 1, 1, 1, 0], [1, 1, 0, 0, 1], [0, 1, 1, 0, 1]]\n",
      "39 1250 [[1, 1, 1, 1, 1], [1, 1, 0, 0, 0], [1, 1, 1, 1, 0], [1, 1, 0, 0, 1], [0, 1, 1, 0, 1]]\n",
      "40 1250 [[1, 1, 1, 1, 1], [1, 1, 0, 0, 0], [1, 1, 1, 1, 0], [1, 1, 0, 0, 1], [0, 1, 1, 0, 1]]\n",
      "40 1250 [[1, 1, 1, 1, 1], [1, 1, 0, 0, 0], [1, 1, 1, 1, 0], [1, 1, 0, 0, 1], [0, 1, 1, 0, 1]]\n",
      "41 1250 [[1, 1, 1, 1, 1], [1, 1, 0, 0, 0], [1, 1, 1, 1, 0], [1, 1, 0, 0, 1], [0, 1, 1, 0, 1]]\n",
      "41 1250 [[1, 1, 1, 1, 1], [1, 1, 0, 0, 0], [1, 1, 1, 1, 0], [1, 1, 0, 0, 1], [0, 1, 1, 0, 1]]\n",
      "42 1250 [[1, 1, 1, 1, 1], [1, 1, 0, 0, 0], [1, 1, 1, 1, 0], [1, 1, 0, 0, 1], [0, 1, 1, 0, 1]]\n",
      "42 1250 [[1, 1, 1, 1, 1], [1, 1, 0, 0, 0], [1, 1, 1, 1, 0], [1, 1, 0, 0, 1], [0, 1, 1, 0, 1]]\n",
      "43 1250 [[1, 1, 1, 1, 1], [1, 1, 0, 0, 0], [1, 1, 1, 1, 0], [1, 1, 0, 0, 1], [0, 1, 1, 0, 1]]\n",
      "43 1250 [[1, 1, 1, 1, 1], [1, 1, 0, 0, 0], [1, 1, 1, 1, 0], [1, 1, 0, 0, 1], [0, 1, 1, 0, 1]]\n",
      "44 1250 [[1, 1, 1, 1, 1], [1, 1, 0, 0, 0], [1, 1, 1, 1, 0], [1, 1, 0, 0, 1], [0, 1, 1, 0, 1]]\n",
      "44 1250 [[1, 1, 1, 1, 1], [1, 1, 0, 0, 0], [1, 1, 1, 1, 0], [1, 1, 0, 0, 1], [0, 1, 1, 0, 1]]\n",
      "45 1250 [[1, 1, 1, 1, 1], [1, 1, 0, 0, 0], [1, 1, 1, 1, 0], [1, 1, 0, 0, 1], [0, 1, 1, 0, 1]]\n",
      "45 1250 [[1, 1, 1, 1, 1], [1, 1, 0, 0, 0], [1, 1, 1, 1, 0], [1, 1, 0, 0, 1], [0, 1, 1, 0, 1]]\n",
      "46 1250 [[1, 1, 1, 1, 1], [1, 1, 0, 0, 0], [1, 1, 1, 1, 0], [1, 1, 0, 0, 1], [0, 1, 1, 0, 1]]\n",
      "46 1250 [[1, 1, 1, 1, 1], [1, 1, 0, 0, 0], [1, 1, 1, 1, 0], [1, 1, 0, 0, 1], [0, 1, 1, 0, 1]]\n",
      "47 1250 [[1, 1, 1, 1, 1], [1, 1, 0, 0, 0], [1, 1, 1, 1, 0], [1, 1, 0, 0, 1], [0, 1, 1, 0, 1]]\n",
      "47 1250 [[1, 1, 1, 1, 1], [1, 1, 0, 0, 0], [1, 1, 1, 1, 0], [1, 1, 0, 0, 1], [0, 1, 1, 0, 1]]\n",
      "48 1250 [[1, 1, 1, 1, 1], [1, 1, 0, 0, 0], [1, 1, 1, 1, 0], [1, 1, 0, 0, 1], [0, 1, 1, 0, 1]]\n",
      "48 1250 [[1, 1, 1, 1, 1], [1, 1, 0, 0, 0], [1, 1, 1, 1, 0], [1, 1, 0, 0, 1], [0, 1, 1, 0, 1]]\n",
      "49 1250 [[1, 1, 1, 1, 1], [1, 1, 0, 0, 0], [1, 1, 1, 1, 0], [1, 1, 0, 0, 1], [0, 1, 1, 0, 1]]\n",
      "49 1250 [[1, 1, 1, 1, 1], [1, 1, 0, 0, 0], [1, 1, 1, 1, 0], [1, 1, 0, 0, 1], [0, 1, 1, 0, 1]]\n",
      "50 1250 [[1, 1, 1, 1, 1], [1, 1, 0, 0, 0], [1, 1, 1, 1, 0], [1, 1, 0, 0, 1], [0, 1, 1, 0, 1]]\n",
      "50 1250 [[1, 1, 1, 1, 1], [1, 1, 0, 0, 0], [1, 1, 1, 1, 0], [1, 1, 0, 0, 1], [0, 1, 1, 0, 1]]\n",
      "51 1250 [[1, 1, 1, 1, 1], [1, 1, 0, 0, 0], [1, 1, 1, 1, 0], [1, 1, 0, 0, 1], [0, 1, 1, 0, 1]]\n",
      "51 1250 [[1, 1, 1, 1, 1], [1, 1, 0, 0, 0], [1, 1, 1, 1, 0], [1, 1, 0, 0, 1], [0, 1, 1, 0, 1]]\n",
      "52 1250 [[1, 1, 1, 1, 1], [1, 1, 0, 0, 0], [1, 1, 1, 1, 0], [1, 1, 0, 0, 1], [0, 1, 1, 0, 1]]\n",
      "52 1250 [[1, 1, 1, 1, 1], [1, 1, 0, 0, 0], [1, 1, 1, 1, 0], [1, 1, 0, 0, 1], [0, 1, 1, 0, 1]]\n",
      "53 1250 [[1, 1, 1, 1, 1], [1, 1, 0, 0, 0], [1, 1, 1, 1, 0], [1, 1, 0, 0, 1], [0, 1, 1, 0, 1]]\n",
      "53 1250 [[1, 1, 1, 1, 1], [1, 1, 0, 0, 0], [1, 1, 1, 1, 0], [1, 1, 0, 0, 1], [0, 1, 1, 0, 1]]\n",
      "54 1250 [[1, 1, 1, 1, 1], [1, 1, 0, 0, 0], [1, 1, 1, 1, 0], [1, 1, 0, 0, 1], [0, 1, 1, 0, 1]]\n",
      "54 1250 [[1, 1, 1, 1, 1], [1, 1, 0, 0, 0], [1, 1, 1, 1, 0], [1, 1, 0, 0, 1], [0, 1, 1, 0, 1]]\n",
      "55 1250 [[1, 1, 1, 1, 1], [1, 1, 0, 0, 0], [1, 1, 1, 1, 0], [1, 1, 0, 0, 1], [0, 1, 1, 0, 1]]\n",
      "55 1250 [[1, 1, 1, 1, 1], [1, 1, 0, 0, 0], [1, 1, 1, 1, 0], [1, 1, 0, 0, 1], [0, 1, 1, 0, 1]]\n",
      "56 1250 [[1, 1, 1, 1, 1], [1, 1, 0, 0, 0], [1, 1, 1, 1, 0], [1, 1, 0, 0, 1], [0, 1, 1, 0, 1]]\n",
      "56 1250 [[1, 1, 1, 1, 1], [1, 1, 0, 0, 0], [1, 1, 1, 1, 0], [1, 1, 0, 0, 1], [0, 1, 1, 0, 1]]\n",
      "57 1250 [[1, 1, 1, 1, 1], [1, 1, 0, 0, 0], [1, 1, 1, 1, 0], [1, 1, 0, 0, 1], [0, 1, 1, 0, 1]]\n",
      "57 1250 [[1, 1, 1, 1, 1], [1, 1, 0, 0, 0], [1, 1, 1, 1, 0], [1, 1, 0, 0, 1], [0, 1, 1, 0, 1]]\n",
      "58 1250 [[1, 1, 1, 1, 1], [1, 1, 0, 0, 0], [1, 1, 1, 1, 0], [1, 1, 0, 0, 1], [0, 1, 1, 0, 1]]\n",
      "58 1250 [[1, 1, 1, 1, 1], [1, 1, 0, 0, 0], [1, 1, 1, 1, 0], [1, 1, 0, 0, 1], [0, 1, 1, 0, 1]]\n",
      "59 1250 [[1, 1, 1, 1, 1], [1, 1, 0, 0, 0], [1, 1, 1, 1, 0], [1, 1, 0, 0, 1], [0, 1, 1, 0, 1]]\n",
      "59 1250 [[1, 1, 1, 1, 1], [1, 1, 0, 0, 0], [1, 1, 1, 1, 0], [1, 1, 0, 0, 1], [0, 1, 1, 0, 1]]\n",
      "60 1250 [[1, 1, 1, 1, 1], [1, 1, 0, 0, 0], [1, 1, 1, 1, 0], [1, 1, 0, 0, 1], [0, 1, 1, 0, 1]]\n",
      "60 1250 [[1, 1, 1, 1, 1], [1, 1, 0, 0, 0], [1, 1, 1, 1, 0], [1, 1, 0, 0, 1], [0, 1, 1, 0, 1]]\n",
      "61 1250 [[1, 1, 1, 1, 1], [1, 1, 0, 0, 0], [1, 1, 1, 1, 0], [1, 1, 0, 0, 1], [0, 1, 1, 0, 1]]\n",
      "61 1250 [[1, 1, 1, 1, 1], [1, 1, 0, 0, 0], [1, 1, 1, 1, 0], [1, 1, 0, 0, 1], [0, 1, 1, 0, 1]]\n",
      "62 1250 [[1, 1, 1, 1, 1], [1, 1, 0, 0, 0], [1, 1, 1, 1, 0], [1, 1, 0, 0, 1], [0, 1, 1, 0, 1]]\n",
      "62 1250 [[1, 1, 1, 1, 1], [1, 1, 0, 0, 0], [1, 1, 1, 1, 0], [1, 1, 0, 0, 1], [0, 1, 1, 0, 1]]\n",
      "63 1250 [[1, 1, 1, 1, 1], [1, 1, 0, 0, 0], [1, 1, 1, 1, 0], [1, 1, 0, 0, 1], [0, 1, 1, 0, 1]]\n",
      "63 1250 [[1, 1, 1, 1, 1], [1, 1, 0, 0, 0], [1, 1, 1, 1, 0], [1, 1, 0, 0, 1], [0, 1, 1, 0, 1]]\n",
      "64 1250 [[1, 1, 1, 1, 1], [1, 1, 0, 0, 0], [1, 1, 1, 1, 0], [1, 1, 0, 0, 1], [0, 1, 1, 0, 1]]\n",
      "64 1250 [[1, 1, 1, 1, 1], [1, 1, 0, 0, 0], [1, 1, 1, 1, 0], [1, 1, 0, 0, 1], [0, 1, 1, 0, 1]]\n",
      "65 1250 [[1, 1, 1, 1, 1], [1, 1, 0, 0, 0], [1, 1, 1, 1, 0], [1, 1, 0, 0, 1], [0, 1, 1, 0, 1]]\n",
      "65 1250 [[1, 1, 1, 1, 1], [1, 1, 0, 0, 0], [1, 1, 1, 1, 0], [1, 1, 0, 0, 1], [0, 1, 1, 0, 1]]\n",
      "66 1250 [[1, 1, 1, 1, 1], [1, 1, 0, 0, 0], [1, 1, 1, 1, 0], [1, 1, 0, 0, 1], [0, 1, 1, 0, 1]]\n",
      "66 1250 [[1, 1, 1, 1, 1], [1, 1, 0, 0, 0], [1, 1, 1, 1, 0], [1, 1, 0, 0, 1], [0, 1, 1, 0, 1]]\n",
      "67 1250 [[1, 1, 1, 1, 1], [1, 1, 0, 0, 0], [1, 1, 1, 1, 0], [1, 1, 0, 0, 1], [0, 1, 1, 0, 1]]\n",
      "67 1250 [[1, 1, 1, 1, 1], [1, 1, 0, 0, 0], [1, 1, 1, 1, 0], [1, 1, 0, 0, 1], [0, 1, 1, 0, 1]]\n",
      "68 1250 [[1, 1, 1, 1, 1], [1, 1, 0, 0, 0], [1, 1, 1, 1, 0], [1, 1, 0, 0, 1], [0, 1, 1, 0, 1]]\n",
      "68 1250 [[1, 1, 1, 1, 1], [1, 1, 0, 0, 0], [1, 1, 1, 1, 0], [1, 1, 0, 0, 1], [0, 1, 1, 0, 1]]\n",
      "69 1250 [[1, 1, 1, 1, 1], [1, 1, 0, 0, 0], [1, 1, 1, 1, 0], [1, 1, 0, 0, 1], [0, 1, 1, 0, 1]]\n",
      "69 1250 [[1, 1, 1, 1, 1], [1, 1, 0, 0, 0], [1, 1, 1, 1, 0], [1, 1, 0, 0, 1], [0, 1, 1, 0, 1]]\n",
      "70 1250 [[1, 1, 1, 1, 1], [1, 1, 0, 0, 0], [1, 1, 1, 1, 0], [1, 1, 0, 0, 1], [0, 1, 1, 0, 1]]\n",
      "70 1250 [[1, 1, 1, 1, 1], [1, 1, 0, 0, 0], [1, 1, 1, 1, 0], [1, 1, 0, 0, 1], [0, 1, 1, 0, 1]]\n",
      "71 1250 [[1, 1, 1, 1, 1], [1, 1, 0, 0, 0], [1, 1, 1, 1, 0], [1, 1, 0, 0, 1], [0, 1, 1, 0, 1]]\n",
      "71 1250 [[1, 1, 1, 1, 1], [1, 1, 0, 0, 0], [1, 1, 1, 1, 0], [1, 1, 0, 0, 1], [0, 1, 1, 0, 1]]\n",
      "72 1250 [[1, 1, 1, 1, 1], [1, 1, 0, 0, 0], [1, 1, 1, 1, 0], [1, 1, 0, 0, 1], [0, 1, 1, 0, 1]]\n",
      "72 1250 [[1, 1, 1, 1, 1], [1, 1, 0, 0, 0], [1, 1, 1, 1, 0], [1, 1, 0, 0, 1], [0, 1, 1, 0, 1]]\n",
      "73 1250 [[1, 1, 1, 1, 1], [1, 1, 0, 0, 0], [1, 1, 1, 1, 0], [1, 1, 0, 0, 1], [0, 1, 1, 0, 1]]\n",
      "73 1250 [[1, 1, 1, 1, 1], [1, 1, 0, 0, 0], [1, 1, 1, 1, 0], [1, 1, 0, 0, 1], [0, 1, 1, 0, 1]]\n",
      "74 1250 [[1, 1, 1, 1, 1], [1, 1, 0, 0, 0], [1, 1, 1, 1, 0], [1, 1, 0, 0, 1], [0, 1, 1, 0, 1]]\n",
      "74 1250 [[1, 1, 1, 1, 1], [1, 1, 0, 0, 0], [1, 1, 1, 1, 0], [1, 1, 0, 0, 1], [0, 1, 1, 0, 1]]\n",
      "75 1250 [[1, 1, 1, 1, 1], [1, 1, 0, 0, 0], [1, 1, 1, 1, 0], [1, 1, 0, 0, 1], [0, 1, 1, 0, 1]]\n",
      "75 1250 [[1, 1, 1, 1, 1], [1, 1, 0, 0, 0], [1, 1, 1, 1, 0], [1, 1, 0, 0, 1], [0, 1, 1, 0, 1]]\n",
      "76 1250 [[1, 1, 1, 1, 1], [1, 1, 0, 0, 0], [1, 1, 1, 1, 0], [1, 1, 0, 0, 1], [0, 1, 1, 0, 1]]\n",
      "76 1250 [[1, 1, 1, 1, 1], [1, 1, 0, 0, 0], [1, 1, 1, 1, 0], [1, 1, 0, 0, 1], [0, 1, 1, 0, 1]]\n",
      "77 1250 [[1, 1, 1, 1, 1], [1, 1, 0, 0, 0], [1, 1, 1, 1, 0], [1, 1, 0, 0, 1], [0, 1, 1, 0, 1]]\n",
      "77 1250 [[1, 1, 1, 1, 1], [1, 1, 0, 0, 0], [1, 1, 1, 1, 0], [1, 1, 0, 0, 1], [0, 1, 1, 0, 1]]\n",
      "78 1250 [[1, 1, 1, 1, 1], [1, 1, 0, 0, 0], [1, 1, 1, 1, 0], [1, 1, 0, 0, 1], [0, 1, 1, 0, 1]]\n",
      "78 1250 [[1, 1, 1, 1, 1], [1, 1, 0, 0, 0], [1, 1, 1, 1, 0], [1, 1, 0, 0, 1], [0, 1, 1, 0, 1]]\n",
      "79 1250 [[1, 1, 1, 1, 1], [1, 1, 0, 0, 0], [1, 1, 1, 1, 0], [1, 1, 0, 0, 1], [0, 1, 1, 0, 1]]\n",
      "79 1250 [[1, 1, 1, 1, 1], [1, 1, 0, 0, 0], [1, 1, 1, 1, 0], [1, 1, 0, 0, 1], [0, 1, 1, 0, 1]]\n",
      "80 1250 [[1, 1, 1, 1, 1], [1, 1, 0, 0, 0], [1, 1, 1, 1, 0], [1, 1, 0, 0, 1], [0, 1, 1, 0, 1]]\n",
      "80 1250 [[1, 1, 1, 1, 1], [1, 1, 0, 0, 0], [1, 1, 1, 1, 0], [1, 1, 0, 0, 1], [0, 1, 1, 0, 1]]\n",
      "81 1250 [[1, 1, 1, 1, 1], [1, 1, 0, 0, 0], [1, 1, 1, 1, 0], [1, 1, 0, 0, 1], [0, 1, 1, 0, 1]]\n",
      "81 1250 [[1, 1, 1, 1, 1], [1, 1, 0, 0, 0], [1, 1, 1, 1, 0], [1, 1, 0, 0, 1], [0, 1, 1, 0, 1]]\n",
      "82 1250 [[1, 1, 1, 1, 1], [1, 1, 0, 0, 0], [1, 1, 1, 1, 0], [1, 1, 0, 0, 1], [0, 1, 1, 0, 1]]\n",
      "82 1250 [[1, 1, 1, 1, 1], [1, 1, 0, 0, 0], [1, 1, 1, 1, 0], [1, 1, 0, 0, 1], [0, 1, 1, 0, 1]]\n",
      "83 1250 [[1, 1, 1, 1, 1], [1, 1, 0, 0, 0], [1, 1, 1, 1, 0], [1, 1, 0, 0, 1], [0, 1, 1, 0, 1]]\n",
      "83 1250 [[1, 1, 1, 1, 1], [1, 1, 0, 0, 0], [1, 1, 1, 1, 0], [1, 1, 0, 0, 1], [0, 1, 1, 0, 1]]\n",
      "84 1250 [[1, 1, 1, 1, 1], [1, 1, 0, 0, 0], [1, 1, 1, 1, 0], [1, 1, 0, 0, 1], [0, 1, 1, 0, 1]]\n",
      "84 1250 [[1, 1, 1, 1, 1], [1, 1, 0, 0, 0], [1, 1, 1, 1, 0], [1, 1, 0, 0, 1], [0, 1, 1, 0, 1]]\n",
      "85 1250 [[1, 1, 1, 1, 1], [1, 1, 0, 0, 0], [1, 1, 1, 1, 0], [1, 1, 0, 0, 1], [0, 1, 1, 0, 1]]\n",
      "85 1250 [[1, 1, 1, 1, 1], [1, 1, 0, 0, 0], [1, 1, 1, 1, 0], [1, 1, 0, 0, 1], [0, 1, 1, 0, 1]]\n",
      "86 1250 [[1, 1, 1, 1, 1], [1, 1, 0, 0, 0], [1, 1, 1, 1, 0], [1, 1, 0, 0, 1], [0, 1, 1, 0, 1]]\n",
      "86 1250 [[1, 1, 1, 1, 1], [1, 1, 0, 0, 0], [1, 1, 1, 1, 0], [1, 1, 0, 0, 1], [0, 1, 1, 0, 1]]\n",
      "87 1250 [[1, 1, 1, 1, 1], [1, 1, 0, 0, 0], [1, 1, 1, 1, 0], [1, 1, 0, 0, 1], [0, 1, 1, 0, 1]]\n",
      "87 1250 [[1, 1, 1, 1, 1], [1, 1, 0, 0, 0], [1, 1, 1, 1, 0], [1, 1, 0, 0, 1], [0, 1, 1, 0, 1]]\n",
      "88 1250 [[1, 1, 1, 1, 1], [1, 1, 0, 0, 0], [1, 1, 1, 1, 0], [1, 1, 0, 0, 1], [0, 1, 1, 0, 1]]\n",
      "88 1250 [[1, 1, 1, 1, 1], [1, 1, 0, 0, 0], [1, 1, 1, 1, 0], [1, 1, 0, 0, 1], [0, 1, 1, 0, 1]]\n",
      "89 1250 [[1, 1, 1, 1, 1], [1, 1, 0, 0, 0], [1, 1, 1, 1, 0], [1, 1, 0, 0, 1], [0, 1, 1, 0, 1]]\n",
      "89 1250 [[1, 1, 1, 1, 1], [1, 1, 0, 0, 0], [1, 1, 1, 1, 0], [1, 1, 0, 0, 1], [0, 1, 1, 0, 1]]\n",
      "90 1250 [[1, 1, 1, 1, 1], [1, 1, 0, 0, 0], [1, 1, 1, 1, 0], [1, 1, 0, 0, 1], [0, 1, 1, 0, 1]]\n",
      "90 1250 [[1, 1, 1, 1, 1], [1, 1, 0, 0, 0], [1, 1, 1, 1, 0], [1, 1, 0, 0, 1], [0, 1, 1, 0, 1]]\n",
      "91 1250 [[1, 1, 1, 1, 1], [1, 1, 0, 0, 0], [1, 1, 1, 1, 0], [1, 1, 0, 0, 1], [0, 1, 1, 0, 1]]\n",
      "91 1250 [[1, 1, 1, 1, 1], [1, 1, 0, 0, 0], [1, 1, 1, 1, 0], [1, 1, 0, 0, 1], [0, 1, 1, 0, 1]]\n",
      "92 1250 [[1, 1, 1, 1, 1], [1, 1, 0, 0, 0], [1, 1, 1, 1, 0], [1, 1, 0, 0, 1], [0, 1, 1, 0, 1]]\n",
      "92 1250 [[1, 1, 1, 1, 1], [1, 1, 0, 0, 0], [1, 1, 1, 1, 0], [1, 1, 0, 0, 1], [0, 1, 1, 0, 1]]\n",
      "93 1250 [[1, 1, 1, 1, 1], [1, 1, 0, 0, 0], [1, 1, 1, 1, 0], [1, 1, 0, 0, 1], [0, 1, 1, 0, 1]]\n",
      "93 1250 [[1, 1, 1, 1, 1], [1, 1, 0, 0, 0], [1, 1, 1, 1, 0], [1, 1, 0, 0, 1], [0, 1, 1, 0, 1]]\n",
      "94 1250 [[1, 1, 1, 1, 1], [1, 1, 0, 0, 0], [1, 1, 1, 1, 0], [1, 1, 0, 0, 1], [0, 1, 1, 0, 1]]\n",
      "94 1250 [[1, 1, 1, 1, 1], [1, 1, 0, 0, 0], [1, 1, 1, 1, 0], [1, 1, 0, 0, 1], [0, 1, 1, 0, 1]]\n",
      "95 1250 [[1, 1, 1, 1, 1], [1, 1, 0, 0, 0], [1, 1, 1, 1, 0], [1, 1, 0, 0, 1], [0, 1, 1, 0, 1]]\n",
      "95 1250 [[1, 1, 1, 1, 1], [1, 1, 0, 0, 0], [1, 1, 1, 1, 0], [1, 1, 0, 0, 1], [0, 1, 1, 0, 1]]\n",
      "96 1250 [[1, 1, 1, 1, 1], [1, 1, 0, 0, 0], [1, 1, 1, 1, 0], [1, 1, 0, 0, 1], [0, 1, 1, 0, 1]]\n",
      "96 1250 [[1, 1, 1, 1, 1], [1, 1, 0, 0, 0], [1, 1, 1, 1, 0], [1, 1, 0, 0, 1], [0, 1, 1, 0, 1]]\n",
      "97 1250 [[1, 1, 1, 1, 1], [1, 1, 0, 0, 0], [1, 1, 1, 1, 0], [1, 1, 0, 0, 1], [0, 1, 1, 0, 1]]\n",
      "97 1250 [[1, 1, 1, 1, 1], [1, 1, 0, 0, 0], [1, 1, 1, 1, 0], [1, 1, 0, 0, 1], [0, 1, 1, 0, 1]]\n",
      "98 1250 [[1, 1, 1, 1, 1], [1, 1, 0, 0, 0], [1, 1, 1, 1, 0], [1, 1, 0, 0, 1], [0, 1, 1, 0, 1]]\n",
      "98 1250 [[1, 1, 1, 1, 1], [1, 1, 0, 0, 0], [1, 1, 1, 1, 0], [1, 1, 0, 0, 1], [0, 1, 1, 0, 1]]\n",
      "99 1250 [[1, 1, 1, 1, 1], [1, 1, 0, 0, 0], [1, 1, 1, 1, 0], [1, 1, 0, 0, 1], [0, 1, 1, 0, 1]]\n",
      "99 1250 [[1, 1, 1, 1, 1], [1, 1, 0, 0, 0], [1, 1, 1, 1, 0], [1, 1, 0, 0, 1], [0, 1, 1, 0, 1]]\n",
      "1250\n",
      "[[1, 1, 1, 1, 1], [1, 1, 0, 0, 0], [1, 1, 1, 1, 0], [1, 1, 0, 0, 1], [0, 1, 1, 0, 1]]\n"
     ]
    }
   ],
   "source": [
    "\n",
    "n = 1700\n",
    "aux = algoritmo_genetico(nonogram,5,30,50,0.7,0.0,0,0,0)\n",
    "i = 0\n",
    "optimoFitness =  aux[1]\n",
    "optimoInd = aux[0]\n",
    "print(str(i) + \" \" + str(aux[1])+ \" \" + str(aux[0]))\n",
    "#sol= [(optimoFitness,optimoInd)]\n",
    "while(not(optimoFitness==n) and i < 100):\n",
    "    aux = algoritmo_genetico(nonogram,5,30,50,0.7,0.0,1,aux[2],aux[0])\n",
    "    print(str(i) + \" \" + str(aux[1])+ \" \" + str(aux[0]))\n",
    "    if(optimoFitness < aux[1]):\n",
    "        optimoFitness = aux[1]\n",
    "        optimoInd = aux[0]\n",
    "       # sol.append((optimoFitness,optimoInd))\n",
    "    #print(sol)\n",
    "    print(str(i) + \" \" + str(optimoFitness)+ \" \" + str(optimoInd))\n",
    "    i = i+1\n",
    "print(optimoFitness)\n",
    "print(optimoInd)"
   ]
  },
  {
   "cell_type": "markdown",
   "metadata": {},
   "source": [
    "A continuación, mostramos algunos resultados obtenido al ejecutar nuestro algoritmo: (de la forma (Nºgeneración, mejor fitness, mejor individuo))\n",
    "      \n",
    "0 950 [[1, 1, 1, 1, 1], [1, 1, 0, 0, 0], [1, 1, 1, 1, 0], [0, 1, 0, 0, 1], [0, 1, 1, 0, 1]]\n",
    "\n",
    "...\n",
    "\n",
    "9 950 [[1, 1, 1, 1, 1], [1, 1, 0, 0, 0], [1, 1, 1, 1, 0], [0, 1, 0, 0, 1], [0, 1, 1, 0, 1]]\n",
    "\n",
    "10 1100 [[1, 1, 1, 1, 1], [1, 1, 0, 0, 0], [1, 1, 1, 1, 0], [1, 1, 0, 0, 1], [0, 1, 1, 0, 0]]\n",
    "\n",
    "...\n",
    "\n",
    "31 1100 [[1, 1, 1, 1, 1], [1, 1, 0, 0, 0], [1, 1, 1, 1, 0], [1, 1, 0, 0, 1], [0, 1, 1, 0, 0]]\n",
    "\n",
    "32 1250 [[1, 1, 1, 1, 1], [1, 1, 0, 0, 0], [1, 1, 1, 1, 0], [1, 1, 0, 0, 1], [0, 1, 1, 0, 1]]\n",
    "\n",
    "...\n",
    "\n",
    "49 1250 [[1, 1, 1, 1, 1], [1, 1, 0, 0, 0], [1, 1, 1, 1, 0], [1, 1, 0, 0, 1], [0, 1, 1, 0, 1]]\n",
    "\n",
    "50 1250 [[1, 1, 1, 1, 1], [1, 1, 0, 0, 0], [1, 1, 1, 1, 0], [1, 1, 0, 0, 1], [0, 1, 1, 0, 1]]\n",
    "\n",
    "    \n",
    "Se evoluciona en 3 ocaciones a un individo mejor y al final se alcanza uno que solo difiere del óptimo en 3 bits. (fitness 1250 sobre 1700).\n",
    "\n",
    "También probamos para tamaños menores, como 3x3 y en estos casos se alcanza la solución óptima y el algoritmo tarda relmente menos:\n",
    "Para las resticciones [[[1,1],[2],[1,1]],[[3],[1],[1,1]]] se alcanzo el óptimo ([[1, 0, 1], [1, 1, 0], [1, 0, 1]], 900) trás 44 generaciones."
   ]
  }
 ],
 "metadata": {
  "kernelspec": {
   "display_name": "Python 3 (ipykernel)",
   "language": "python",
   "name": "python3"
  },
  "language_info": {
   "codemirror_mode": {
    "name": "ipython",
    "version": 3
   },
   "file_extension": ".py",
   "mimetype": "text/x-python",
   "name": "python",
   "nbconvert_exporter": "python",
   "pygments_lexer": "ipython3",
   "version": "3.9.12"
  }
 },
 "nbformat": 4,
 "nbformat_minor": 2
}
